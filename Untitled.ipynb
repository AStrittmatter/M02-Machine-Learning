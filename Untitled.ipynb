{
 "cells": [
  {
   "cell_type": "markdown",
   "id": "20615eba-4e9c-4172-90cd-a5a767aa39eb",
   "metadata": {},
   "source": [
    "# R Exercises to Begin Module M02: Machine Learning"
   ]
  },
  {
   "cell_type": "markdown",
   "id": "a8ad4882-33d7-40d4-9dab-49f0320a619f",
   "metadata": {},
   "source": [
    "As an integral component of our machine learning curriculum, grasping the fundamentals of data analysis and visualization is paramount. This exercise serves as a practical introduction, leveraging the nycflights13 package to analyze data on all flights to and from New York City airports in 2013. Such hands-on experience is crucial for developing the skills necessary to tackle real-world data science challenges. The insights gained here, especially in data transformation and visualization, are foundational elements introduced in Chapters 3 and 5 of the \"R for Data Science\" (R4DS) book.\n"
   ]
  },
  {
   "cell_type": "code",
   "execution_count": null,
   "id": "79383196-cb6b-4a12-9ec4-8b2e8426f45a",
   "metadata": {},
   "outputs": [],
   "source": [
    "## Installing Packages\n",
    "\n",
    "sudo R\n",
    "install.packages('IRkernel')\n",
    "IRkernel::installspec(user = FALSE)"
   ]
  },
  {
   "cell_type": "code",
   "execution_count": 11,
   "id": "607a066e-880d-4091-a5c9-2d2c8a056bd9",
   "metadata": {},
   "outputs": [
    {
     "ename": "ERROR",
     "evalue": "Error in parse(text = x, srcfile = src): <text>:1:7: unexpected symbol\n1: !sudo Rscript\n          ^\n",
     "output_type": "error",
     "traceback": [
      "Error in parse(text = x, srcfile = src): <text>:1:7: unexpected symbol\n1: !sudo Rscript\n          ^\nTraceback:\n"
     ]
    }
   ],
   "source": [
    "!sudo Rscript -e \"install.packages('IRkernel', repos='http://cran.rstudio.com/')\"\n"
   ]
  },
  {
   "cell_type": "code",
   "execution_count": 14,
   "id": "0f5a061b-9899-4390-be5a-944f7a20d99b",
   "metadata": {},
   "outputs": [
    {
     "ename": "ERROR",
     "evalue": "Error in library(gapminder): there is no package called ‘gapminder’\n",
     "output_type": "error",
     "traceback": [
      "Error in library(gapminder): there is no package called ‘gapminder’\nTraceback:\n",
      "1. library(gapminder)"
     ]
    }
   ],
   "source": [
    "library(gapminder)"
   ]
  },
  {
   "cell_type": "code",
   "execution_count": 2,
   "id": "2e382a7b-4169-49f5-ac42-e96df6086881",
   "metadata": {},
   "outputs": [
    {
     "ename": "ERROR",
     "evalue": "Error in parse(text = x, srcfile = src): <text>:1:7: unexpected symbol\n1: !sudo R\n          ^\n",
     "output_type": "error",
     "traceback": [
      "Error in parse(text = x, srcfile = src): <text>:1:7: unexpected symbol\n1: !sudo R\n          ^\nTraceback:\n"
     ]
    }
   ],
   "source": [
    "!sudo R"
   ]
  },
  {
   "cell_type": "code",
   "execution_count": 7,
   "id": "9ca9fb4a-d9a1-4017-8fb4-25cba9a37c7b",
   "metadata": {},
   "outputs": [
    {
     "name": "stderr",
     "output_type": "stream",
     "text": [
      "Warning message in install.packages(\"ggplot2\"):\n",
      "“'lib = \"/opt/tljh/user/lib/R/library\"' is not writable”\n"
     ]
    },
    {
     "ename": "ERROR",
     "evalue": "Error in install.packages(\"ggplot2\"): unable to install packages\n",
     "output_type": "error",
     "traceback": [
      "Error in install.packages(\"ggplot2\"): unable to install packages\nTraceback:\n",
      "1. install.packages(\"ggplot2\")",
      "2. stop(\"unable to install packages\")"
     ]
    }
   ],
   "source": [
    "install.packages(\"ggplot2\")\n"
   ]
  },
  {
   "cell_type": "code",
   "execution_count": 4,
   "id": "85e04ea3-f52b-438d-9af8-bd6f4697de0c",
   "metadata": {},
   "outputs": [],
   "source": [
    "IRkernel::installspec(user = FALSE) "
   ]
  },
  {
   "cell_type": "code",
   "execution_count": 19,
   "id": "6673b7f8-d84d-485c-af34-b9c83feb244e",
   "metadata": {},
   "outputs": [
    {
     "ename": "ERROR",
     "evalue": "Error in parse(text = x, srcfile = src): <text>:1:13: unexpected string constant\n1: !Rscript -e \"install.packages(c('ggplot2', 'dplyr', 'tidyr'), repos='http://cran.rstudio.com/')\"\n                ^\n",
     "output_type": "error",
     "traceback": [
      "Error in parse(text = x, srcfile = src): <text>:1:13: unexpected string constant\n1: !Rscript -e \"install.packages(c('ggplot2', 'dplyr', 'tidyr'), repos='http://cran.rstudio.com/')\"\n                ^\nTraceback:\n"
     ]
    }
   ],
   "source": []
  },
  {
   "cell_type": "code",
   "execution_count": 5,
   "id": "66e16cbd-6a77-47c7-9da2-5a4f1c1ed023",
   "metadata": {},
   "outputs": [
    {
     "name": "stderr",
     "output_type": "stream",
     "text": [
      "Warning message in install.packages(c(\"ggplot2\", \"dplyr\", \"tidyr\")):\n",
      "“'lib = \"/opt/tljh/user/lib/R/library\"' is not writable”\n"
     ]
    },
    {
     "ename": "ERROR",
     "evalue": "Error in install.packages(c(\"ggplot2\", \"dplyr\", \"tidyr\")): unable to install packages\n",
     "output_type": "error",
     "traceback": [
      "Error in install.packages(c(\"ggplot2\", \"dplyr\", \"tidyr\")): unable to install packages\nTraceback:\n",
      "1. install.packages(c(\"ggplot2\", \"dplyr\", \"tidyr\"))",
      "2. stop(\"unable to install packages\")"
     ]
    }
   ],
   "source": [
    "install.packages(c(\"ggplot2\", \"dplyr\", \"tidyr\"))"
   ]
  },
  {
   "cell_type": "code",
   "execution_count": 6,
   "id": "b151d9c6-c3e1-4441-a561-bcd291aa776a",
   "metadata": {},
   "outputs": [
    {
     "name": "stderr",
     "output_type": "stream",
     "text": [
      "Warning message in install.packages(\"IRkernel\"):\n",
      "“'lib = \"/opt/tljh/user/lib/R/library\"' is not writable”\n"
     ]
    },
    {
     "ename": "ERROR",
     "evalue": "Error in install.packages(\"IRkernel\"): unable to install packages\n",
     "output_type": "error",
     "traceback": [
      "Error in install.packages(\"IRkernel\"): unable to install packages\nTraceback:\n",
      "1. install.packages(\"IRkernel\")",
      "2. stop(\"unable to install packages\")"
     ]
    }
   ],
   "source": [
    "install.packages('IRkernel')\n",
    "IRkernel::installspec(user = FALSE)  # To install system-wide\n"
   ]
  },
  {
   "cell_type": "code",
   "execution_count": 12,
   "id": "213b3acc-7f38-4878-997c-62d92443e4fd",
   "metadata": {},
   "outputs": [
    {
     "ename": "ERROR",
     "evalue": "Error in library(tidyverse): there is no package called ‘tidyverse’\n",
     "output_type": "error",
     "traceback": [
      "Error in library(tidyverse): there is no package called ‘tidyverse’\nTraceback:\n",
      "1. library(tidyverse)"
     ]
    }
   ],
   "source": [
    "library(tidyverse)"
   ]
  },
  {
   "cell_type": "code",
   "execution_count": null,
   "id": "093f1d9a-f211-456c-9ef1-f67f26a0e0aa",
   "metadata": {},
   "outputs": [],
   "source": []
  },
  {
   "cell_type": "code",
   "execution_count": null,
   "id": "9939773b-92c8-4947-baef-f0ab9658b5b4",
   "metadata": {},
   "outputs": [],
   "source": []
  }
 ],
 "metadata": {
  "kernelspec": {
   "display_name": "R",
   "language": "R",
   "name": "ir"
  },
  "language_info": {
   "codemirror_mode": "r",
   "file_extension": ".r",
   "mimetype": "text/x-r-source",
   "name": "R",
   "pygments_lexer": "r",
   "version": "4.2.3"
  }
 },
 "nbformat": 4,
 "nbformat_minor": 5
}

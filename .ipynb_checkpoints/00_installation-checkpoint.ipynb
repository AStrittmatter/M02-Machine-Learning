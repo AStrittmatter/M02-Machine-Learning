{
 "cells": [
  {
   "cell_type": "markdown",
   "id": "8fd4b420-7394-4860-a401-7d46be819ecb",
   "metadata": {},
   "source": [
    "# Installation of R Packages via JupyterHub\n",
    "\n",
    "Our goal is to download all the relevant R packages for our project. Unfortunately, we cannot do this directly in the R kernel within Jupyter Notebooks. Instead, we have to switch to the Python Kernel to execute these commands. Here's why and how this works:\n",
    "\n",
    "### Why Switch to Python Kernel for `sudo` Commands:\n",
    "\n",
    "In Jupyter Notebooks, the ability to execute certain types of commands, such as those involving `sudo`, is dependent on the kernel in use. A kernel dictates the programming language environment within your notebook.\n",
    "\n",
    "- In a **Python kernel**, you can run shell commands by prefixing them with `!`. This enables the execution of system-level commands, including those that utilize `sudo`, directly within a notebook cell.\n",
    "- The **R kernel** is tailored for executing R language commands and does not interpret shell commands prefixed with `!` in the same way. As a result, running system commands or those involving `sudo` is not directly supported in an R kernel.\n",
    "\n",
    "### If You Were Using R Locally:\n",
    "\n",
    "Installing R packages on a local machine is usually more straightforward because you have direct access to the terminal or command line, allowing you to execute commands without the constraints of a notebook's kernel.\n",
    "\n",
    "To install an R package locally, you would:\n",
    "\n",
    "1. Open an R session in your terminal.\n",
    "2. Use the `install.packages()` function with the desired package name.ired package name. For example, installing the `ggplot2` package would look like this : `install.packages('ggplot2')` "
   ]
  },
  {
   "cell_type": "markdown",
   "id": "0d7ddddc-0623-4a17-94da-91ca09f27b6c",
   "metadata": {},
   "source": [
    "\n",
    "### How We Are Going to Install the Packages\n",
    "\n",
    "To streamline the installation of necessary R packages for our data analysis and visualization projects, we have devised a straightforward approach that leverages the capabilities of both Python and R kernels within Jupyter Notebooks. Here is our plan:\n",
    "\n",
    "1. **In This Notebook (Using the Python Kernel):**\n",
    "   We will utilize the Python kernel's ability to execute shell commands. This allows us to install R packages system-wide by leveraging the `sudo` command, which grants us the necessary permissions to install packages for all users. The command format we will use is as follows:\n",
    "\n"
   ]
  },
  {
   "cell_type": "code",
   "execution_count": 2,
   "id": "84d3ebeb-c671-4cd9-975b-dd40e3e38260",
   "metadata": {},
   "outputs": [
    {
     "name": "stdout",
     "output_type": "stream",
     "text": [
      "trying URL 'http://cran.rstudio.com/src/contrib/IRkernel_1.3.2.tar.gz'\n",
      "Content type 'application/x-gzip' length 45172 bytes (44 KB)\n",
      "==================================================\n",
      "downloaded 44 KB\n",
      "\n",
      "* installing *source* package ‘IRkernel’ ...\n",
      "** package ‘IRkernel’ successfully unpacked and MD5 sums checked\n",
      "** using staged installation\n",
      "** R\n",
      "** inst\n",
      "** byte-compile and prepare package for lazy loading\n",
      "** help\n",
      "*** installing help indices\n",
      "** building package indices\n",
      "** testing if installed package can be loaded from temporary location\n",
      "** testing if installed package can be loaded from final location\n",
      "** testing if installed package keeps a record of temporary installation path\n",
      "* DONE (IRkernel)\n",
      "\n",
      "The downloaded source packages are in\n",
      "\t‘/tmp/Rtmp5cUUUP/downloaded_packages’\n",
      "Updating HTML index of packages in '.Library'\n",
      "Making 'packages.html' ... done\n"
     ]
    }
   ],
   "source": [
    "! sudo Rscript -e \"install.packages('IRkernel', repos='http://cran.rstudio.com/')\"\n",
    "! sudo Rscript -e  \"IRkernel::installspec(user = FALSE)\"\n"
   ]
  },
  {
   "cell_type": "code",
   "execution_count": 3,
   "id": "494d576f-f439-4192-a732-f495d4da96d4",
   "metadata": {},
   "outputs": [
    {
     "name": "stdout",
     "output_type": "stream",
     "text": [
      "\u001b[?25h\u001b[?25h"
     ]
    }
   ],
   "source": [
    "! sudo Rscript -e  \"IRkernel::installspec(user = FALSE)\""
   ]
  },
  {
   "cell_type": "code",
   "execution_count": 4,
   "id": "29466994-4753-461b-9225-4beb4f7b4289",
   "metadata": {},
   "outputs": [
    {
     "name": "stdout",
     "output_type": "stream",
     "text": [
      "also installing the dependencies ‘systemfonts’, ‘textshaping’, ‘ragg’\n",
      "\n",
      "trying URL 'http://cran.rstudio.com/src/contrib/systemfonts_1.0.5.tar.gz'\n",
      "Content type 'application/x-gzip' length 80638 bytes (78 KB)\n",
      "==================================================\n",
      "downloaded 78 KB\n",
      "\n",
      "trying URL 'http://cran.rstudio.com/src/contrib/textshaping_0.3.7.tar.gz'\n",
      "Content type 'application/x-gzip' length 35100 bytes (34 KB)\n",
      "==================================================\n",
      "downloaded 34 KB\n",
      "\n",
      "trying URL 'http://cran.rstudio.com/src/contrib/ragg_1.2.7.tar.gz'\n",
      "Content type 'application/x-gzip' length 425500 bytes (415 KB)\n",
      "==================================================\n",
      "downloaded 415 KB\n",
      "\n",
      "trying URL 'http://cran.rstudio.com/src/contrib/tidyverse_2.0.0.tar.gz'\n",
      "Content type 'application/x-gzip' length 704618 bytes (688 KB)\n",
      "==================================================\n",
      "downloaded 688 KB\n",
      "\n",
      "* installing *source* package ‘systemfonts’ ...\n",
      "** package ‘systemfonts’ successfully unpacked and MD5 sums checked\n",
      "** using staged installation\n",
      "Using PKG_CFLAGS=\n",
      "Using PKG_LIBS=-lfontconfig -lfreetype\n",
      "** libs\n",
      "rm -f systemfonts.so caches.o cpp11.o dev_metrics.o font_matching.o font_registry.o ft_cache.o string_shape.o font_metrics.o font_fallback.o string_metrics.o emoji.o cache_store.o init.o unix/FontManagerLinux.o\n",
      "x86_64-conda-linux-gnu-c++ -std=gnu++14 -I\"/opt/tljh/user/lib/R/include\" -DNDEBUG  -I'/opt/tljh/user/lib/R/library/cpp11/include' -DNDEBUG -D_FORTIFY_SOURCE=2 -O2 -isystem /opt/tljh/user/include -I/opt/tljh/user/include -Wl,-rpath-link,/opt/tljh/user/lib   -fpic  -fvisibility-inlines-hidden -fmessage-length=0 -march=nocona -mtune=haswell -ftree-vectorize -fPIC -fstack-protector-strong -fno-plt -O2 -ffunction-sections -pipe -isystem /opt/tljh/user/include -fdebug-prefix-map=/home/conda/feedstock_root/build_artifacts/r-base-split_1679996176288/work=/usr/local/src/conda/r-base-4.2.3 -fdebug-prefix-map=/opt/tljh/user=/usr/local/src/conda-prefix  -c caches.cpp -o caches.o\n",
      "In file included from \u001b[01m\u001b[Kcaches.h:7\u001b[m\u001b[K,\n",
      "                 from \u001b[01m\u001b[Kcaches.cpp:1\u001b[m\u001b[K:\n",
      "\u001b[01m\u001b[Kft_cache.h:9:10:\u001b[m\u001b[K \u001b[01;31m\u001b[Kfatal error: \u001b[m\u001b[Kft2build.h: No such file or directory\n",
      "    9 | #include \u001b[01;31m\u001b[K<ft2build.h>\u001b[m\u001b[K\n",
      "      |          \u001b[01;31m\u001b[K^~~~~~~~~~~~\u001b[m\u001b[K\n",
      "compilation terminated.\n",
      "make: *** [/opt/tljh/user/lib/R/etc/Makeconf:178: caches.o] Error 1\n",
      "ERROR: compilation failed for package ‘systemfonts’\n",
      "* removing ‘/opt/tljh/user/lib/R/library/systemfonts’\n",
      "ERROR: dependency ‘systemfonts’ is not available for package ‘textshaping’\n",
      "* removing ‘/opt/tljh/user/lib/R/library/textshaping’\n",
      "ERROR: dependencies ‘systemfonts’, ‘textshaping’ are not available for package ‘ragg’\n",
      "* removing ‘/opt/tljh/user/lib/R/library/ragg’\n",
      "ERROR: dependency ‘ragg’ is not available for package ‘tidyverse’\n",
      "* removing ‘/opt/tljh/user/lib/R/library/tidyverse’\n",
      "\n",
      "The downloaded source packages are in\n",
      "\t‘/tmp/RtmpG4G3dH/downloaded_packages’\n",
      "Updating HTML index of packages in '.Library'\n",
      "Making 'packages.html' ... done\n",
      "Warning messages:\n",
      "1: In install.packages(\"tidyverse\", repos = \"http://cran.rstudio.com/\") :\n",
      "  installation of package ‘systemfonts’ had non-zero exit status\n",
      "2: In install.packages(\"tidyverse\", repos = \"http://cran.rstudio.com/\") :\n",
      "  installation of package ‘textshaping’ had non-zero exit status\n",
      "3: In install.packages(\"tidyverse\", repos = \"http://cran.rstudio.com/\") :\n",
      "  installation of package ‘ragg’ had non-zero exit status\n",
      "4: In install.packages(\"tidyverse\", repos = \"http://cran.rstudio.com/\") :\n",
      "  installation of package ‘tidyverse’ had non-zero exit status\n"
     ]
    }
   ],
   "source": [
    "! sudo Rscript -e \"install.packages('tidyverse', repos='http://cran.rstudio.com/')\""
   ]
  },
  {
   "cell_type": "code",
   "execution_count": null,
   "id": "1aa21883-95ef-4282-b857-c89cdd7360b4",
   "metadata": {},
   "outputs": [],
   "source": []
  }
 ],
 "metadata": {
  "kernelspec": {
   "display_name": "Python 3 (ipykernel)",
   "language": "python",
   "name": "python3"
  },
  "language_info": {
   "codemirror_mode": {
    "name": "ipython",
    "version": 3
   },
   "file_extension": ".py",
   "mimetype": "text/x-python",
   "name": "python",
   "nbconvert_exporter": "python",
   "pygments_lexer": "ipython3",
   "version": "3.10.10"
  }
 },
 "nbformat": 4,
 "nbformat_minor": 5
}

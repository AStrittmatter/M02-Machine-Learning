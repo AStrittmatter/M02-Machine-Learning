{
 "cells": [
  {
   "cell_type": "markdown",
   "id": "7ff8fce7-832f-463e-b8f9-84d504ae706b",
   "metadata": {},
   "source": [
    "# First Assignment\r\n",
    "\r\n",
    "In our next R assignment, you'll encounter sections marked with ??? These serve as prompts for you to apply what you've learned by replacing them with the appropriate R code. It's an opportunity to demonstrate your understanding and challenge yourself. Remember, every coder starts somewhere, so don't be discouraged if it seems tough initially. Utilize course materials and R documentation for assistance. I'm here to support you throughout this assignment.\r\n",
    "\r\n",
    "Additionally, as part of the assignment, you'll work with the `mpg` dataset from the tidyverse package. This dataset contains fuel economy data for various cars. To load it into your R environment, simply use the following command:\r\n"
   ]
  },
  {
   "cell_type": "code",
   "execution_count": 1,
   "id": "c2a93ea0-4969-4467-aa02-c207475b2a77",
   "metadata": {},
   "outputs": [
    {
     "name": "stderr",
     "output_type": "stream",
     "text": [
      "── \u001b[1mAttaching core tidyverse packages\u001b[22m ──────────────────────── tidyverse 2.0.0 ──\n",
      "\u001b[32m✔\u001b[39m \u001b[34mdplyr    \u001b[39m 1.1.4     \u001b[32m✔\u001b[39m \u001b[34mreadr    \u001b[39m 2.1.5\n",
      "\u001b[32m✔\u001b[39m \u001b[34mforcats  \u001b[39m 1.0.0     \u001b[32m✔\u001b[39m \u001b[34mstringr  \u001b[39m 1.5.1\n",
      "\u001b[32m✔\u001b[39m \u001b[34mggplot2  \u001b[39m 3.4.4     \u001b[32m✔\u001b[39m \u001b[34mtibble   \u001b[39m 3.2.1\n",
      "\u001b[32m✔\u001b[39m \u001b[34mlubridate\u001b[39m 1.9.3     \u001b[32m✔\u001b[39m \u001b[34mtidyr    \u001b[39m 1.3.1\n",
      "\u001b[32m✔\u001b[39m \u001b[34mpurrr    \u001b[39m 1.0.2     \n",
      "── \u001b[1mConflicts\u001b[22m ────────────────────────────────────────── tidyverse_conflicts() ──\n",
      "\u001b[31m✖\u001b[39m \u001b[34mdplyr\u001b[39m::\u001b[32mfilter()\u001b[39m masks \u001b[34mstats\u001b[39m::filter()\n",
      "\u001b[31m✖\u001b[39m \u001b[34mdplyr\u001b[39m::\u001b[32mlag()\u001b[39m    masks \u001b[34mstats\u001b[39m::lag()\n",
      "\u001b[36mℹ\u001b[39m Use the conflicted package (\u001b[3m\u001b[34m<http://conflicted.r-lib.org/>\u001b[39m\u001b[23m) to force all conflicts to become errors\n"
     ]
    }
   ],
   "source": [
    "library(???)\n"
   ]
  },
  {
   "cell_type": "code",
   "execution_count": 1,
   "id": "9dd7ac7d-36b9-4a96-b751-6504a18e7e91",
   "metadata": {},
   "outputs": [
    {
     "name": "stdout",
     "output_type": "stream",
     "text": [
      "[1] \"\"\n"
     ]
    }
   ],
   "source": [
    "### Check this dataset\n",
    "\n",
    "???"
   ]
  },
  {
   "cell_type": "markdown",
   "id": "f27ea3af-92bc-4330-9a7c-6a84f2344322",
   "metadata": {},
   "source": [
    "## Task 1: Summary\n",
    "\n",
    "Begin by providing a summary of the mpg dataset. Use the ??? function to generate descriptive statistics for the variables in the dataset. This will help you get an overview of the data at hand."
   ]
  },
  {
   "cell_type": "code",
   "execution_count": null,
   "id": "e4ed305e-83fe-4946-86ba-e81fa9566c00",
   "metadata": {},
   "outputs": [],
   "source": [
    "???"
   ]
  },
  {
   "cell_type": "markdown",
   "id": "010d6a7f-688f-461f-b808-4025c079100e",
   "metadata": {},
   "source": [
    "## Task 2: View First 10 Rows\n",
    "\n",
    "Next, take a closer look at the first 10 rows of the dataset. Use the ??? function to display the first few rows. This will give you a glimpse into the structure and contents of the dataset."
   ]
  },
  {
   "cell_type": "code",
   "execution_count": 4,
   "id": "14d13f19-b7bf-45f5-9d75-2c1829e2cf3b",
   "metadata": {},
   "outputs": [
    {
     "data": {
      "text/html": [
       "<table class=\"dataframe\">\n",
       "<caption>A tibble: 1 × 11</caption>\n",
       "<thead>\n",
       "\t<tr><th scope=col>manufacturer</th><th scope=col>model</th><th scope=col>displ</th><th scope=col>year</th><th scope=col>cyl</th><th scope=col>trans</th><th scope=col>drv</th><th scope=col>cty</th><th scope=col>hwy</th><th scope=col>fl</th><th scope=col>class</th></tr>\n",
       "\t<tr><th scope=col>&lt;chr&gt;</th><th scope=col>&lt;chr&gt;</th><th scope=col>&lt;dbl&gt;</th><th scope=col>&lt;int&gt;</th><th scope=col>&lt;int&gt;</th><th scope=col>&lt;chr&gt;</th><th scope=col>&lt;chr&gt;</th><th scope=col>&lt;int&gt;</th><th scope=col>&lt;int&gt;</th><th scope=col>&lt;chr&gt;</th><th scope=col>&lt;chr&gt;</th></tr>\n",
       "</thead>\n",
       "<tbody>\n",
       "\t<tr><td>audi</td><td>a4</td><td>1.8</td><td>1999</td><td>4</td><td>auto(l5)</td><td>f</td><td>18</td><td>29</td><td>p</td><td>compact</td></tr>\n",
       "</tbody>\n",
       "</table>\n"
      ],
      "text/latex": [
       "A tibble: 1 × 11\n",
       "\\begin{tabular}{lllllllllll}\n",
       " manufacturer & model & displ & year & cyl & trans & drv & cty & hwy & fl & class\\\\\n",
       " <chr> & <chr> & <dbl> & <int> & <int> & <chr> & <chr> & <int> & <int> & <chr> & <chr>\\\\\n",
       "\\hline\n",
       "\t audi & a4 & 1.8 & 1999 & 4 & auto(l5) & f & 18 & 29 & p & compact\\\\\n",
       "\\end{tabular}\n"
      ],
      "text/markdown": [
       "\n",
       "A tibble: 1 × 11\n",
       "\n",
       "| manufacturer &lt;chr&gt; | model &lt;chr&gt; | displ &lt;dbl&gt; | year &lt;int&gt; | cyl &lt;int&gt; | trans &lt;chr&gt; | drv &lt;chr&gt; | cty &lt;int&gt; | hwy &lt;int&gt; | fl &lt;chr&gt; | class &lt;chr&gt; |\n",
       "|---|---|---|---|---|---|---|---|---|---|---|\n",
       "| audi | a4 | 1.8 | 1999 | 4 | auto(l5) | f | 18 | 29 | p | compact |\n",
       "\n"
      ],
      "text/plain": [
       "  manufacturer model displ year cyl trans    drv cty hwy fl class  \n",
       "1 audi         a4    1.8   1999 4   auto(l5) f   18  29  p  compact"
      ]
     },
     "metadata": {},
     "output_type": "display_data"
    }
   ],
   "source": [
    "???(???, ???)"
   ]
  },
  {
   "cell_type": "markdown",
   "id": "471e1861-5b34-4c9d-89ef-5ae37f897408",
   "metadata": {},
   "source": [
    "## Task 3: Calculate Fuel Efficiency in Kilometers per Liter (km/l)\n",
    "\n",
    "\n",
    "Use the mutate() function to create a new column named km_per_l in the mpg dataset. Calculate the fuel efficiency in kilometers per liter (km/l) using the formula:\n",
    "\n",
    "Fuel efficiency (km/l) = (City fuel efficiency * 1.60934) / (Highway fuel efficiency * 0.425144)"
   ]
  },
  {
   "cell_type": "code",
   "execution_count": 2,
   "id": "08da90c9-d637-4656-8b55-5d1d5c57119a",
   "metadata": {},
   "outputs": [
    {
     "ename": "ERROR",
     "evalue": "Error in parse(text = x, srcfile = src): <text>:1:12: unexpected SPECIAL\n1: mpg <- ??? %>%\n               ^\n",
     "output_type": "error",
     "traceback": [
      "Error in parse(text = x, srcfile = src): <text>:1:12: unexpected SPECIAL\n1: mpg <- ??? %>%\n               ^\nTraceback:\n"
     ]
    }
   ],
   "source": [
    "mpg <- ??? %>%\n",
    "  ??(km_per_l = (?? * 1.60934) / (hwy * ???))"
   ]
  },
  {
   "cell_type": "markdown",
   "id": "0c084f93-5b0d-4c40-9a13-9ee8c51e25a4",
   "metadata": {},
   "source": [
    "## Task 4: Data Visualization\n",
    "\n",
    "Now it's time to visualize some aspects of the data. Create a scatter plot using the ggplot2 package to visualize the relationship between `Engine Displacement (L)` and `Highway Fuel Efficiency (mpg)`. Add appropriate labels and a title to your plot to ensure clarity."
   ]
  },
  {
   "cell_type": "code",
   "execution_count": null,
   "id": "973a14cd-934a-4b50-b7b9-2f4aace01f14",
   "metadata": {},
   "outputs": [],
   "source": [
    "ggplot(data = mpg, aes(x = ???, y = ???)) +\n",
    "  geom_point() +\n",
    "  labs(x = \"???\", y = \"???\", title = \"???\")"
   ]
  }
 ],
 "metadata": {
  "kernelspec": {
   "display_name": "R",
   "language": "R",
   "name": "ir"
  },
  "language_info": {
   "codemirror_mode": "r",
   "file_extension": ".r",
   "mimetype": "text/x-r-source",
   "name": "R",
   "pygments_lexer": "r",
   "version": "4.1.2"
  }
 },
 "nbformat": 4,
 "nbformat_minor": 5
}

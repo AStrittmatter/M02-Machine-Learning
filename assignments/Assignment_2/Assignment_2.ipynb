{
 "cells": [
  {
   "cell_type": "markdown",
   "id": "e029bc95-d470-4072-843e-3495c39c3eeb",
   "metadata": {},
   "source": [
    "# Task: Predicting Paris House Prices\n",
    "\n",
    "In this homework assignment, you will be working with a dataset aimed at predicting house prices in Paris. Here's a breakdown of the dataset variables:\n",
    "\n",
    "- squareMeters: Represents the area of the house in square meters.\n",
    "- numberOfRooms: Indicates the number of rooms in the house.\n",
    "- hasYard: Binary variable indicating whether the house has a yard (1 for yes, 0 for no).\n",
    "- hasPool: Binary variable indicating whether the house has a pool (1 for yes, 0 for no).\n",
    "- floors: Number of floors in the house.\n",
    "- cityCode: Code representing the city location.\n",
    "- cityPartRange: Represents the range of the city part.\n",
    "- numPrevOwners: Number of previous owners of the house.\n",
    "- made: Year when the house was made.\n",
    "- isNewBuilt: Binary variable indicating whether the house is newly built (1 for yes, 0 for no).\n",
    "- hasStormProtector: Binary variable indicating whether the house has a storm protector (1 for yes, 0 for no).\n",
    "- basement: Binary variable indicating whether the house has a basement (1 for yes, 0 for no).\n",
    "- attic: Binary variable indicating whether the house has an attic (1 for yes, 0 for no).\n",
    "- garage: Binary variable indicating whether the house has a garage (1 for yes, 0 for no).\n",
    "- hasStorageRoom: Binary variable indicating whether the house has a storage room (1 for yes, 0 for no).\n",
    "- hasGuestRoom: Binary variable indicating whether the house has a guest room (1 for yes, 0 for no).\n",
    "- price: The target variable representing the price of the house.\n",
    "\n",
    "For this assignment, you will perform the following tasks using three different regression techniques: Ordinary Least Squares (OLS), Lasso, and Ridge.\n",
    "\n",
    "You will be provided with code snippets for each step of the process, and you will need to fill in the \"???\" with appropriate code to complete the tasks.\n"
   ]
  },
  {
   "cell_type": "markdown",
   "id": "84ad17b4-3e16-4775-b87a-8d02e907d003",
   "metadata": {},
   "source": [
    "### Exercise Overview: Read and split the data\n",
    "\n",
    "In this exercise, you will split the cleaned `house price` dataset into training and test sets for further analysis. This step is crucial for evaluating the performance of machine learning models. Instead of writing repetitive code, we'll use a function stored in a script to streamline the process.\n"
   ]
  },
  {
   "cell_type": "code",
   "execution_count": null,
   "id": "dc6df7ee-5ac6-473a-9dc2-0f16b961e81a",
   "metadata": {
    "vscode": {
     "languageId": "r"
    }
   },
   "outputs": [
    {
     "ename": "ERROR",
     "evalue": "Error in parse(text = x, srcfile = src): <text>:10:5: unexpected assignment\n9: # Call the function to split the data\n10: ??? <-\n        ^\n",
     "output_type": "error",
     "traceback": [
      "Error in parse(text = x, srcfile = src): <text>:10:5: unexpected assignment\n9: # Call the function to split the data\n10: ??? <-\n        ^\nTraceback:\n"
     ]
    }
   ],
   "source": [
    "# Define Path\n",
    "base_path <- \"???\"\n",
    "base_path <- path.expand(base_path)\n",
    "setwd(base_path)\n",
    "\n",
    "\n",
    "\n",
    "# Read the data from the specified folder\n",
    "data <- read.csv(\"self_study_tutorial/scripts_and_data????\")\n",
    "\n",
    "\n",
    "\n",
    "# Read the file and load the functions\n",
    "????(\"/????/r_functions.r\")\n",
    "\n",
    "# Call the function to split the data\n",
    "??? <- split_data(??, ???)\n",
    "\n",
    "# Access the training and test sets from the result\n",
    "train <- ??$train_set\n",
    "test <- ????\n",
    "\n"
   ]
  },
  {
   "cell_type": "markdown",
   "id": "766d6445-cc70-4ffc-a5ab-e1965f3993b7",
   "metadata": {},
   "source": [
    "## Linear Regression\n",
    "\n",
    "In this exercise, you'll utilize the `glmnet` and `dplyr` libraries in R to perform linear regression modeling for predicting house prices using the Ordinary Least Squares (OLS) approach. First, load the necessary libraries. Then, fit a linear regression model (`ols`) to the training dataset (`train`). Next, examine the model summary to evaluate its performance and predictor significance. Subsequently, predict house prices for the test dataset (`test`) using the trained model, storing the results. Calculate the Mean Squared Error (MSE) to gauge prediction accuracy and print it to assess the model's performance. This exercise provides insights into the OLS regression model's effectiveness in predicting house prices from the given dataset."
   ]
  },
  {
   "cell_type": "code",
   "execution_count": null,
   "id": "e6bc9ffe-8684-4114-97ad-5d52f030a77e",
   "metadata": {
    "vscode": {
     "languageId": "r"
    }
   },
   "outputs": [],
   "source": [
    "library(glmnet)\n",
    "library(dplyr)\n",
    "\n",
    "# Fit the linear regression model\n",
    "ols <- ????\n",
    "# Display the summary of the model to understand its performance\n",
    "summary(ols)\n",
    "\n",
    "# Predicting the price for the test dataset\n",
    "ols$predict_outcome <- ???\n",
    "\n",
    "# Calculating the Mean Squared Error (MSE) for our predictions\n",
    "predMSEols <- ????\n",
    "# Print the MSE to the console\n",
    "print(predMSEols)"
   ]
  },
  {
   "cell_type": "markdown",
   "id": "b358a6ab-c03f-4562-b7b6-f1a6925571cf",
   "metadata": {},
   "source": [
    "### Exercise Overview: Lasso Regression Modeling\n",
    "\n",
    "In this exercise, you'll estimate a Lasso regression model using all predictors except the outcome variable. First, utilize the `glmnet` package to fit the Lasso model (`lasso`) using the training dataset (`train`). Then, perform cross-validation to determine the optimal lambda value using the `cv.glmnet` function. By evaluating the Mean Squared Error (MSE) with 5-fold cross-validation, you'll identify the lambda value that yields the best model performance. This exercise aims to showcase the effectiveness of Lasso regression in predicting house prices and selecting relevant predictors from the dataset."
   ]
  },
  {
   "cell_type": "code",
   "execution_count": null,
   "id": "5e3d87cf-88ac-4794-b0e1-7ea1cdaaadee",
   "metadata": {
    "vscode": {
     "languageId": "r"
    }
   },
   "outputs": [],
   "source": [
    "\n",
    "# Estimate a Lasso model using all predictors except the outcome variable\n",
    "lasso <- glmnet(as.matrix(???[, -ncol(???)]), train$price, ????)\n",
    "# Perform cross-validation to find the optimal lambda value\n",
    "lasso.cv <- cv.glmnet(as.matrix(train[, -ncol(train)]), ????"
   ]
  },
  {
   "cell_type": "markdown",
   "id": "bf72b1ac-5fc9-470b-bbb3-26f5e19e07c9",
   "metadata": {},
   "source": [
    "### Exercise Overview: Lasso Coefficient Analysis\n",
    "\n",
    "In this exercise, you'll print the coefficients of the Lasso model (`lasso.cv`) obtained using cross-validation. By specifying the optimal lambda value (`lambda.min`), you'll examine the coefficients representing the importance of each predictor variable in predicting house prices. Additionally, you'll save these coefficients (`coef_lasso`) for later comparison with other regression models. This analysis provides valuable insights into the impact of each predictor on house price predictions and aids in model comparison."
   ]
  },
  {
   "cell_type": "code",
   "execution_count": null,
   "id": "7e175f76-9491-4aff-9bb9-5579558a2903",
   "metadata": {
    "vscode": {
     "languageId": "r"
    }
   },
   "outputs": [],
   "source": [
    "# Print Lasso coefficients\n",
    "print(??? \"lambda.min\"))\n",
    "\n",
    "# Save for later comparison\n",
    "coef_lasso <- ??? s = \"lambda.min\") \n"
   ]
  },
  {
   "cell_type": "markdown",
   "id": "5707cb86-837d-4f0c-ad2f-2da314a05e69",
   "metadata": {},
   "source": [
    "### Exercise Overview: Ridge Regression Modeling\n",
    "\n",
    "In this exercise, you'll perform Ridge regression modeling to predict house prices using all predictors except the outcome variable. First, use the `glmnet` package to fit a Ridge regression model (`ridge`) to the training dataset (`train`). Then, conduct cross-validation to determine the optimal lambda value (`lambda.min`) using the `cv.glmnet` function. By evaluating the Mean Squared Error (MSE) with 5-fold cross-validation and setting `alpha = 0`, you'll identify the lambda value that minimizes the prediction error. This exercise aims to showcase the effectiveness of Ridge regression in predicting house prices and its regularization properties for handling multicollinearity."
   ]
  },
  {
   "cell_type": "code",
   "execution_count": null,
   "id": "0e9e76db-4de9-4ce8-bf9e-0ae9a0e34944",
   "metadata": {
    "vscode": {
     "languageId": "r"
    }
   },
   "outputs": [],
   "source": [
    "\n",
    "ridge <- g???\n",
    "\n",
    "\n",
    "ridge.cv <- ?????\n"
   ]
  },
  {
   "cell_type": "markdown",
   "id": "1d831697-23ea-4414-9754-f912d5d01932",
   "metadata": {},
   "source": [
    "### Exercise Overview: Ridge Coefficient Analysis\n",
    "\n",
    "In this exercise, you'll print the coefficients of the Ridge regression model (`ridge.cv`) obtained using cross-validation. By specifying the optimal lambda value (`lambda.min`), you'll examine the coefficients representing the importance of each predictor variable in predicting house prices. Additionally, you'll save these coefficients (`coef_ridge`) for later comparison with other regression models. This analysis provides valuable insights into the impact of each predictor on house price predictions and aids in model comparison, highlighting Ridge regression's regularization effects."
   ]
  },
  {
   "cell_type": "code",
   "execution_count": null,
   "id": "67328f05-7bc6-472b-a940-cfe3252546ad",
   "metadata": {
    "vscode": {
     "languageId": "r"
    }
   },
   "outputs": [],
   "source": [
    "# Print Ridge coefficients\n",
    "????\n",
    "\n",
    "# Save for later comparison\n",
    "coef_ridge <- ???"
   ]
  },
  {
   "cell_type": "markdown",
   "id": "254172cc-146c-4b3f-b19e-8a94031f79bf",
   "metadata": {},
   "source": [
    "### Exercise Overview: Optimal Lambda Comparison\n",
    "\n",
    "In this exercise, you'll compare the optimal lambda values obtained through cross-validation for Lasso and Ridge regression models. \n",
    "\n",
    "For Lasso regression:\n",
    "- Print the optimal lambda value that minimizes cross-validated Mean Squared Error (MSE) (`lasso.cv$lambda.min`).\n",
    "- Print the optimal lambda value using the one-standard-error rule (`lasso.cv$lambda.1se`).\n",
    "\n",
    "For Ridge regression:\n",
    "- Print the optimal lambda value that minimizes cross-validated MSE (`ridge.cv$lambda.min`).\n",
    "- Print the optimal lambda value using the one-standard-error rule (`ridge.cv$lambda.1se`).\n",
    "\n",
    "By comparing these optimal lambda values, you'll gain insights into the regularization strength chosen for each regression model and their respective impacts on prediction accuracy. This analysis aids in selecting the appropriate regularization parameter for optimal model performance."
   ]
  },
  {
   "cell_type": "code",
   "execution_count": null,
   "id": "8e449496-4838-4531-adc0-9afcd3a6d798",
   "metadata": {
    "vscode": {
     "languageId": "r"
    }
   },
   "outputs": [],
   "source": [
    "# Print the optimal lambda value\n",
    "print(??(\"Optimal lambda that minimizes cross-validated MSE: \", ????))\n",
    "??\"Optimal lambda using one-standard-error-rule: \", lasso.cv$lambda.1se))\n",
    "\n",
    "\n",
    "print(??(\"Optimal lambda that minimizes cross-validated MSE: \", ???))\n",
    "print(?(\"Optimal lambda using one-standard-error-rule: \", ??))\n"
   ]
  },
  {
   "cell_type": "markdown",
   "id": "aff9382a-933d-420e-8dd4-f34c4695bf40",
   "metadata": {},
   "source": [
    "### Exercise Overview: Prediction and MSE Calculation\n",
    "\n",
    "In this exercise, you'll predict house prices using the fitted Lasso and Ridge regression models and calculate the Mean Squared Error (MSE) to evaluate prediction accuracy.\n",
    "\n",
    "For Lasso Regression:\n",
    "- Predict house prices using the fitted Lasso model (`lasso`) with the test dataset.\n",
    "- Calculate the MSE between the actual and predicted house prices.\n",
    "- Print the calculated MSE.\n",
    "\n",
    "For Ridge Regression:\n",
    "- Predict house prices using the fitted Ridge model (`ridge`) with the test dataset.\n",
    "- Calculate the MSE between the actual and predicted house prices.\n",
    "- Print the calculated MSE.\n",
    "\n",
    "By comparing the MSE values for Lasso and Ridge regression models, you'll assess their performance in predicting house prices and determine the effectiveness of regularization in minimizing prediction errors. This analysis provides valuable insights into the predictive power of each regression technique and aids in selecting the optimal model for predicting house prices accurately."
   ]
  },
  {
   "cell_type": "code",
   "execution_count": null,
   "id": "d924dd80-8ef9-4840-9296-45cdca5bf95d",
   "metadata": {
    "vscode": {
     "languageId": "r"
    }
   },
   "outputs": [],
   "source": [
    "\n",
    "\n",
    "\n",
    "# Predict using the fitted Lasso model\n",
    "lasso$predict_outcome <- predict(l???\n",
    "\n",
    "# Calculate the MSE\n",
    "predMSElasso <- mean((????\n",
    "print(paste0(\"MSE: \", predMSElasso))\n",
    "\n",
    "\n",
    "\n",
    "# Predict using the fitted Lasso model\n",
    "ridge$predict_outcome <-????\n",
    "\n",
    "# Calculate the MSE\n",
    "predMSEridge <- m???\n",
    "print(paste0(\"??"
   ]
  },
  {
   "cell_type": "markdown",
   "id": "da04ee16-33bd-402a-8c00-d07db2cbbae2",
   "metadata": {},
   "source": [
    "Compare the OLS as well as the ridge and lasso regression in terms of predictive accuracy."
   ]
  },
  {
   "cell_type": "code",
   "execution_count": null,
   "id": "5e424a6c-0b7d-4456-b856-5d2f1e2f76a4",
   "metadata": {
    "vscode": {
     "languageId": "r"
    }
   },
   "outputs": [],
   "source": [
    "print(??"
   ]
  },
  {
   "cell_type": "code",
   "execution_count": null,
   "id": "0c9517d1-1cce-452d-9db8-24a8e1d30702",
   "metadata": {
    "collapsed": true,
    "jupyter": {
     "outputs_hidden": true
    },
    "vscode": {
     "languageId": "r"
    }
   },
   "outputs": [],
   "source": []
  }
 ],
 "metadata": {
  "kernelspec": {
   "display_name": "R",
   "language": "R",
   "name": "ir"
  },
  "language_info": {
   "codemirror_mode": "r",
   "file_extension": ".r",
   "mimetype": "text/x-r-source",
   "name": "R",
   "pygments_lexer": "r",
   "version": "4.1.2"
  }
 },
 "nbformat": 4,
 "nbformat_minor": 5
}

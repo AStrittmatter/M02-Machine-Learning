{
 "cells": [
  {
   "cell_type": "markdown",
   "id": "46e323c4-5fed-4a96-ac86-525941843afd",
   "metadata": {},
   "source": [
    "\n",
    "\n",
    "# Unsupervised Machine Learning with Paris House Prices\n",
    "\n",
    "In this homework assignment, you will be working with a dataset aimed at predicting house prices in Paris. Here's a breakdown of the dataset variables:\n",
    "\n",
    "- squareMeters: Represents the area of the house in square meters.\n",
    "- numberOfRooms: Indicates the number of rooms in the house.\n",
    "- hasYard: Binary variable indicating whether the house has a yard (1 for yes, 0 for no).\n",
    "- hasPool: Binary variable indicating whether the house has a pool (1 for yes, 0 for no).\n",
    "- floors: Number of floors in the house.\n",
    "- cityCode: Code representing the city location.\n",
    "- cityPartRange: Represents the range of the city part.\n",
    "- numPrevOwners: Number of previous owners of the house.\n",
    "- made: Year when the house was made.\n",
    "- isNewBuilt: Binary variable indicating whether the house is newly built (1 for yes, 0 for no).\n",
    "- hasStormProtector: Binary variable indicating whether the house has a storm protector (1 for yes, 0 for no).\n",
    "- basement: Binary variable indicating whether the house has a basement (1 for yes, 0 for no).\n",
    "- attic: Binary variable indicating whether the house has an attic (1 for yes, 0 for no).\n",
    "- garage: Binary variable indicating whether the house has a garage (1 for yes, 0 for no).\n",
    "- hasStorageRoom: Binary variable indicating whether the house has a storage room (1 for yes, 0 for no).\n",
    "- hasGuestRoom: Binary variable indicating whether the house has a guest room (1 for yes, 0 for no).\n",
    "- price: The target variable representing the price of the house.\n",
    "\n",
    "#### Tutorial Overview:\n",
    "In this tutorial, you will engage with unsupervised machine learning by applying PCA and Clustering to the dataset. Below are the key steps you will undertake, supplemented with code snippets. You are expected to replace the placeholders marked \"???\" with the correct code to complete each task effectively:\n",
    "\n",
    "**Implementing PCA and Clustering**: Learn to apply these powerful techniques to uncover underlying patterns and relationships in successfully."
   ]
  },
  {
   "cell_type": "code",
   "execution_count": 1,
   "id": "9f5cc34e-09a1-4d69-adcb-7ea798fe7145",
   "metadata": {
    "scrolled": true
   },
   "outputs": [],
   "source": [
    "data <- read.csv(\"/home/jupyter-mlcourseuser/M02-Machine-Learning/self_study_tutorial/scripts_and_data/ParisHousing.csv\")"
   ]
  },
  {
   "cell_type": "markdown",
   "id": "81611833-583f-47af-a972-c45f15638f57",
   "metadata": {},
   "source": [
    "\n",
    "## Exercise: Perform Principal Component Analysis (PCA)\n",
    "\n",
    "Write a line of R code to perform PCA using the `prcomp` function on the dataset `Paris Real estates`. Ensure that the data is centered and scaled. Then, write another line of code to determine and print the number of principal components derived from the PCA. Use the variable `pr.out` to store the result of the PCA.\n"
   ]
  },
  {
   "cell_type": "code",
   "execution_count": 2,
   "id": "79b4f883-cc9c-4961-9fe0-c09d891b89f8",
   "metadata": {},
   "outputs": [
    {
     "ename": "ERROR",
     "evalue": "Error in parse(text = x, srcfile = src): <text>:3:19: unexpected symbol\n2: # PCA\n3: pr.out = ??(Paris Real\n                     ^\n",
     "output_type": "error",
     "traceback": [
      "Error in parse(text = x, srcfile = src): <text>:3:19: unexpected symbol\n2: # PCA\n3: pr.out = ??(Paris Real\n                     ^\nTraceback:\n"
     ]
    }
   ],
   "source": [
    "\n",
    "# PCA\n",
    "?? = ??(????, center = TRUE, scale = TRUE)\n",
    "\n",
    "# No of principal components\n",
    "dim(pr.out$??)[2]"
   ]
  },
  {
   "cell_type": "markdown",
   "id": "5c56e61f-626b-40f3-9a54-d95744985c92",
   "metadata": {},
   "source": [
    "\n",
    "### Exercise: Analyze Variance Explained by PCA Components\n",
    "\n",
    "Using the PCA results stored in `pr.out`, calculate the variance explained by each principal component. Assign this calculation to the variable `pr.var`. Next, compute the proportion of the total variance explained by each component and store this in the variable `pve`. Finally, write a line of code to output the proportion of variance explained by the first 10 principal components.\n",
    "\n"
   ]
  },
  {
   "cell_type": "code",
   "execution_count": null,
   "id": "97091520-975f-48ae-b2d9-df96b4c2125d",
   "metadata": {},
   "outputs": [],
   "source": [
    "# variance explained by each component\n",
    "pr.var = pr.out$??^2\n",
    "\n",
    "# Proportion of variance explained\n",
    "???\n",
    "\n",
    "# Print first 10 PC\n",
    "pve[1:10]"
   ]
  },
  {
   "cell_type": "markdown",
   "id": "cce2aa24-6b53-40eb-99ac-5a777edce362",
   "metadata": {},
   "source": [
    "## \r\n",
    "**Exercise: Visualize Variance Explained by PCA Componts**\r\n",
    "\r\n",
    "Create two bar plots using the data calculated in the previous exercises. For the first plot, display the proportion of variance explained by the first 10 principal components. Use appropriate labels for the x-axis and y-axis, and set the y-axis limits from 0 to 1.\r\n",
    "\r\n",
    "For the second plot, display the cumulative proportion of variance explained by the first 10 principal components, again with properly labeled axes and the same y-axis le explained."
   ]
  },
  {
   "cell_type": "code",
   "execution_count": null,
   "id": "355d2748-9966-4bdd-b7d6-7cd4a3cc9e08",
   "metadata": {},
   "outputs": [],
   "source": [
    "# Plot the first 10 PC\n",
    "??(pve[1:10], xlab=\" Principal Component \", ylab=\" Proportion of Variance Explained \", ylim=c(0,1))\n",
    "barplot(??(pve[1:10]), xlab=\" Principal Component \", ylab =\"Cumulative Proportion of Variance Explained \", ylim=c(0,1))"
   ]
  },
  {
   "cell_type": "markdown",
   "id": "5efd6377-ebd3-4dd2-87c1-fb55c4e9cf16",
   "metadata": {},
   "source": [
    "\n",
    "## Exercise: Perform K-Means Clustering\n",
    "\n",
    "Set the seed for random number generation to `11122019` to ensure reproducibility. Then, using the `kmeans` function, perform clustering on the `Paris Real estates` dataset to identify 2 clusters. Use `nstart = 20` to specify the number of random sets for initial cluster centers. Store the clustering output in the variable `km.out`.\n",
    "\n"
   ]
  },
  {
   "cell_type": "code",
   "execution_count": null,
   "id": "66cbf51d-88cf-480e-b326-a099ae2104ab",
   "metadata": {},
   "outputs": [],
   "source": [
    "set.seed(11122019)\n",
    "\n",
    "# K-means clustering with 2 clusters\n",
    "?? = ???(???, 2, nstart = 20)\n",
    "\n",
    "\n"
   ]
  },
  {
   "cell_type": "markdown",
   "id": "ea1c9863-9f9b-4576-8797-f964060f6a96",
   "metadata": {},
   "source": [
    "## Exercise: Determine the Optimal Number of Clusters\n",
    "\n",
    "Initialize a vector `sse` to store the sum of squares error (SSE) for each cluster solution, starting with `Inf` for the first index. For cluster numbers ranging from 2 to 20, perform k-means clustering on the `Paris Real estates` dataset with 20 starts to ensure stability. Store the total within-cluster sum of squares in the `sse` vector for each number of clusters.\n",
    "\n",
    "After completing the clustering, plot the `sse` vector to visualize the SSE for different numbers of clusters. Analyze the plot to determine the optimal number of clusters, typically where a significant decrease in SSE is observed (often referred to as the \"elbow\" in the plot).\n",
    "\n"
   ]
  },
  {
   "cell_type": "code",
   "execution_count": null,
   "id": "b3ddf9d3-d030-4c57-9f53-2333d86c1de7",
   "metadata": {},
   "outputs": [],
   "source": [
    "# How to analyze the optimal number of clusters\n",
    "\n",
    "??\n",
    "sse[1] <- Inf\n",
    "\n",
    "for (?? in c(2:20)) {\n",
    "  ????\n",
    "}\n",
    "\n",
    "plot(sse)\n",
    "# Optimum 4-5 clusters"
   ]
  },
  {
   "cell_type": "markdown",
   "id": "9ff0b1c6-25fe-43e9-b1ae-0b9c06467e5d",
   "metadata": {},
   "source": [
    "\n",
    "\n",
    "## Exercise: Analyze the Impact of the Number of Starts in K-Means Clustering\n",
    "\n",
    "Set the random seed to `3` for reproducibility. First, run k-means clustering on the `Paris Real estates` dataset specifying 6 clusters and `nstart = 1`, then print the total within-cluster sum of squares (SSE) for this configuration. Next, repeat the clustering but with `nstart = 20`, and again print the SSE. Compare the SSEs from these two configurations to assess how the number of random starts (`nstart`) affects the stability and quality of the clustering solution.\n"
   ]
  },
  {
   "cell_type": "code",
   "execution_count": null,
   "id": "573493d5-aaad-45a5-b324-5e8d89403898",
   "metadata": {},
   "outputs": [],
   "source": [
    "# Analyzing how the number of starts work\n",
    "?? (3)\n",
    "print('With nstart = 1')\n",
    "??? = ??? (???,6, nstart = 1)\n",
    "??$tot.withinss\n",
    "\n",
    "??('With nstart = 20')\n",
    "??? =kmeans (Paris Real estates,6, ?? = 20)\n",
    "km.out$???"
   ]
  }
 ],
 "metadata": {
  "kernelspec": {
   "display_name": "R",
   "language": "R",
   "name": "ir"
  },
  "language_info": {
   "codemirror_mode": "r",
   "file_extension": ".r",
   "mimetype": "text/x-r-source",
   "name": "R",
   "pygments_lexer": "r",
   "version": "4.1.2"
  }
 },
 "nbformat": 4,
 "nbformat_minor": 5
}

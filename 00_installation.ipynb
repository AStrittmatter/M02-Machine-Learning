{
 "cells": [
  {
   "cell_type": "markdown",
   "id": "8fd4b420-7394-4860-a401-7d46be819ecb",
   "metadata": {},
   "source": [
    "# Installation of R Packages via JupyterHub\n",
    "\n",
    "Our goal is to download all the relevant R packages for our project. Unfortunately, we cannot do this directly in the R kernel within Jupyter Notebooks. Instead, we have to switch to the Python Kernel to execute these commands. Here's why and how this works:\n",
    "\n",
    "### Why Switch to Python Kernel for `sudo` Commands:\n",
    "\n",
    "In Jupyter Notebooks, the ability to execute certain types of commands, such as those involving `sudo`, is dependent on the kernel in use. A kernel dictates the programming language environment within your notebook.\n",
    "\n",
    "- In a **Python kernel**, you can run shell commands by prefixing them with `!`. This enables the execution of system-level commands, including those that utilize `sudo`, directly within a notebook cell.\n",
    "- The **R kernel** is tailored for executing R language commands and does not interpret shell commands prefixed with `!` in the same way. As a result, running system commands or those involving `sudo` is not directly supported in an R kernel.\n",
    "\n",
    "### If You Were Using R Locally:\n",
    "\n",
    "Installing R packages on a local machine is usually more straightforward because you have direct access to the terminal or command line, allowing you to execute commands without the constraints of a notebook's kernel.\n",
    "\n",
    "To install an R package locally, you would:\n",
    "\n",
    "1. Open an R session in your terminal.\n",
    "2. Use the `install.packages()` function with the desired package name.ired package name. For example, installing the `ggplot2` package would look like this : `install.packages('ggplot2')` "
   ]
  },
  {
   "cell_type": "markdown",
   "id": "0d7ddddc-0623-4a17-94da-91ca09f27b6c",
   "metadata": {},
   "source": [
    "\n",
    "### How We Are Going to Install the Packages\n",
    "\n",
    "To streamline the installation of necessary R packages for our data analysis and visualization projects, we have devised a straightforward approach that leverages the capabilities of both Python and R kernels within Jupyter Notebooks. Here is our plan:\n",
    "\n",
    "1. **In This Notebook (Using the Python Kernel):**\n",
    "   We will utilize the Python kernel's ability to execute shell commands. This allows us to install R packages system-wide by leveraging the `sudo` command, which grants us the necessary permissions to install packages for all users. The command format we will use is as follows:\n",
    "\n"
   ]
  },
  {
   "cell_type": "code",
   "execution_count": 2,
   "id": "84d3ebeb-c671-4cd9-975b-dd40e3e38260",
   "metadata": {},
   "outputs": [
    {
     "name": "stdout",
     "output_type": "stream",
     "text": [
      "trying URL 'http://cran.rstudio.com/src/contrib/IRkernel_1.3.2.tar.gz'\n",
      "Content type 'application/x-gzip' length 45172 bytes (44 KB)\n",
      "==================================================\n",
      "downloaded 44 KB\n",
      "\n",
      "* installing *source* package ‘IRkernel’ ...\n",
      "** package ‘IRkernel’ successfully unpacked and MD5 sums checked\n",
      "** using staged installation\n",
      "** R\n",
      "** inst\n",
      "** byte-compile and prepare package for lazy loading\n",
      "** help\n",
      "*** installing help indices\n",
      "** building package indices\n",
      "** testing if installed package can be loaded from temporary location\n",
      "** testing if installed package can be loaded from final location\n",
      "** testing if installed package keeps a record of temporary installation path\n",
      "* DONE (IRkernel)\n",
      "\n",
      "The downloaded source packages are in\n",
      "\t‘/tmp/Rtmp5cUUUP/downloaded_packages’\n",
      "Updating HTML index of packages in '.Library'\n",
      "Making 'packages.html' ... done\n"
     ]
    }
   ],
   "source": [
    "! sudo Rscript -e \"install.packages('IRkernel', repos='http://cran.rstudio.com/')\"\n",
    "! sudo Rscript -e  \"IRkernel::installspec(user = FALSE)\"\n"
   ]
  },
  {
   "cell_type": "code",
   "execution_count": 3,
   "id": "494d576f-f439-4192-a732-f495d4da96d4",
   "metadata": {},
   "outputs": [
    {
     "name": "stdout",
     "output_type": "stream",
     "text": [
      "\u001b[?25h\u001b[?25h"
     ]
    }
   ],
   "source": [
    "! sudo Rscript -e  \"IRkernel::installspec(user = FALSE)\""
   ]
  },
  {
   "cell_type": "code",
   "execution_count": 7,
   "id": "29466994-4753-461b-9225-4beb4f7b4289",
   "metadata": {},
   "outputs": [
    {
     "name": "stdout",
     "output_type": "stream",
     "text": [
      "trying URL 'http://cran.rstudio.com/src/contrib/dplyr_1.1.4.tar.gz'\n",
      "Content type 'application/x-gzip' length 1207521 bytes (1.2 MB)\n",
      "==================================================\n",
      "downloaded 1.2 MB\n",
      "\n",
      "* installing *source* package ‘dplyr’ ...\n",
      "** package ‘dplyr’ successfully unpacked and MD5 sums checked\n",
      "** using staged installation\n",
      "** libs\n",
      "x86_64-conda-linux-gnu-c++ -std=gnu++14 -I\"/opt/tljh/user/lib/R/include\" -DNDEBUG   -DNDEBUG -D_FORTIFY_SOURCE=2 -O2 -isystem /opt/tljh/user/include -I/opt/tljh/user/include -Wl,-rpath-link,/opt/tljh/user/lib   -fpic  -fvisibility-inlines-hidden -fmessage-length=0 -march=nocona -mtune=haswell -ftree-vectorize -fPIC -fstack-protector-strong -fno-plt -O2 -ffunction-sections -pipe -isystem /opt/tljh/user/include -fdebug-prefix-map=/home/conda/feedstock_root/build_artifacts/r-base-split_1679996176288/work=/usr/local/src/conda/r-base-4.2.3 -fdebug-prefix-map=/opt/tljh/user=/usr/local/src/conda-prefix  -c chop.cpp -o chop.o\n",
      "x86_64-conda-linux-gnu-c++ -std=gnu++14 -I\"/opt/tljh/user/lib/R/include\" -DNDEBUG   -DNDEBUG -D_FORTIFY_SOURCE=2 -O2 -isystem /opt/tljh/user/include -I/opt/tljh/user/include -Wl,-rpath-link,/opt/tljh/user/lib   -fpic  -fvisibility-inlines-hidden -fmessage-length=0 -march=nocona -mtune=haswell -ftree-vectorize -fPIC -fstack-protector-strong -fno-plt -O2 -ffunction-sections -pipe -isystem /opt/tljh/user/include -fdebug-prefix-map=/home/conda/feedstock_root/build_artifacts/r-base-split_1679996176288/work=/usr/local/src/conda/r-base-4.2.3 -fdebug-prefix-map=/opt/tljh/user=/usr/local/src/conda-prefix  -c filter.cpp -o filter.o\n",
      "x86_64-conda-linux-gnu-c++ -std=gnu++14 -I\"/opt/tljh/user/lib/R/include\" -DNDEBUG   -DNDEBUG -D_FORTIFY_SOURCE=2 -O2 -isystem /opt/tljh/user/include -I/opt/tljh/user/include -Wl,-rpath-link,/opt/tljh/user/lib   -fpic  -fvisibility-inlines-hidden -fmessage-length=0 -march=nocona -mtune=haswell -ftree-vectorize -fPIC -fstack-protector-strong -fno-plt -O2 -ffunction-sections -pipe -isystem /opt/tljh/user/include -fdebug-prefix-map=/home/conda/feedstock_root/build_artifacts/r-base-split_1679996176288/work=/usr/local/src/conda/r-base-4.2.3 -fdebug-prefix-map=/opt/tljh/user=/usr/local/src/conda-prefix  -c funs.cpp -o funs.o\n",
      "x86_64-conda-linux-gnu-c++ -std=gnu++14 -I\"/opt/tljh/user/lib/R/include\" -DNDEBUG   -DNDEBUG -D_FORTIFY_SOURCE=2 -O2 -isystem /opt/tljh/user/include -I/opt/tljh/user/include -Wl,-rpath-link,/opt/tljh/user/lib   -fpic  -fvisibility-inlines-hidden -fmessage-length=0 -march=nocona -mtune=haswell -ftree-vectorize -fPIC -fstack-protector-strong -fno-plt -O2 -ffunction-sections -pipe -isystem /opt/tljh/user/include -fdebug-prefix-map=/home/conda/feedstock_root/build_artifacts/r-base-split_1679996176288/work=/usr/local/src/conda/r-base-4.2.3 -fdebug-prefix-map=/opt/tljh/user=/usr/local/src/conda-prefix  -c group_by.cpp -o group_by.o\n",
      "x86_64-conda-linux-gnu-c++ -std=gnu++14 -I\"/opt/tljh/user/lib/R/include\" -DNDEBUG   -DNDEBUG -D_FORTIFY_SOURCE=2 -O2 -isystem /opt/tljh/user/include -I/opt/tljh/user/include -Wl,-rpath-link,/opt/tljh/user/lib   -fpic  -fvisibility-inlines-hidden -fmessage-length=0 -march=nocona -mtune=haswell -ftree-vectorize -fPIC -fstack-protector-strong -fno-plt -O2 -ffunction-sections -pipe -isystem /opt/tljh/user/include -fdebug-prefix-map=/home/conda/feedstock_root/build_artifacts/r-base-split_1679996176288/work=/usr/local/src/conda/r-base-4.2.3 -fdebug-prefix-map=/opt/tljh/user=/usr/local/src/conda-prefix  -c group_data.cpp -o group_data.o\n",
      "x86_64-conda-linux-gnu-c++ -std=gnu++14 -I\"/opt/tljh/user/lib/R/include\" -DNDEBUG   -DNDEBUG -D_FORTIFY_SOURCE=2 -O2 -isystem /opt/tljh/user/include -I/opt/tljh/user/include -Wl,-rpath-link,/opt/tljh/user/lib   -fpic  -fvisibility-inlines-hidden -fmessage-length=0 -march=nocona -mtune=haswell -ftree-vectorize -fPIC -fstack-protector-strong -fno-plt -O2 -ffunction-sections -pipe -isystem /opt/tljh/user/include -fdebug-prefix-map=/home/conda/feedstock_root/build_artifacts/r-base-split_1679996176288/work=/usr/local/src/conda/r-base-4.2.3 -fdebug-prefix-map=/opt/tljh/user=/usr/local/src/conda-prefix  -c imports.cpp -o imports.o\n",
      "x86_64-conda-linux-gnu-c++ -std=gnu++14 -I\"/opt/tljh/user/lib/R/include\" -DNDEBUG   -DNDEBUG -D_FORTIFY_SOURCE=2 -O2 -isystem /opt/tljh/user/include -I/opt/tljh/user/include -Wl,-rpath-link,/opt/tljh/user/lib   -fpic  -fvisibility-inlines-hidden -fmessage-length=0 -march=nocona -mtune=haswell -ftree-vectorize -fPIC -fstack-protector-strong -fno-plt -O2 -ffunction-sections -pipe -isystem /opt/tljh/user/include -fdebug-prefix-map=/home/conda/feedstock_root/build_artifacts/r-base-split_1679996176288/work=/usr/local/src/conda/r-base-4.2.3 -fdebug-prefix-map=/opt/tljh/user=/usr/local/src/conda-prefix  -c init.cpp -o init.o\n",
      "x86_64-conda-linux-gnu-c++ -std=gnu++14 -I\"/opt/tljh/user/lib/R/include\" -DNDEBUG   -DNDEBUG -D_FORTIFY_SOURCE=2 -O2 -isystem /opt/tljh/user/include -I/opt/tljh/user/include -Wl,-rpath-link,/opt/tljh/user/lib   -fpic  -fvisibility-inlines-hidden -fmessage-length=0 -march=nocona -mtune=haswell -ftree-vectorize -fPIC -fstack-protector-strong -fno-plt -O2 -ffunction-sections -pipe -isystem /opt/tljh/user/include -fdebug-prefix-map=/home/conda/feedstock_root/build_artifacts/r-base-split_1679996176288/work=/usr/local/src/conda/r-base-4.2.3 -fdebug-prefix-map=/opt/tljh/user=/usr/local/src/conda-prefix  -c mask.cpp -o mask.o\n",
      "x86_64-conda-linux-gnu-c++ -std=gnu++14 -I\"/opt/tljh/user/lib/R/include\" -DNDEBUG   -DNDEBUG -D_FORTIFY_SOURCE=2 -O2 -isystem /opt/tljh/user/include -I/opt/tljh/user/include -Wl,-rpath-link,/opt/tljh/user/lib   -fpic  -fvisibility-inlines-hidden -fmessage-length=0 -march=nocona -mtune=haswell -ftree-vectorize -fPIC -fstack-protector-strong -fno-plt -O2 -ffunction-sections -pipe -isystem /opt/tljh/user/include -fdebug-prefix-map=/home/conda/feedstock_root/build_artifacts/r-base-split_1679996176288/work=/usr/local/src/conda/r-base-4.2.3 -fdebug-prefix-map=/opt/tljh/user=/usr/local/src/conda-prefix  -c mutate.cpp -o mutate.o\n",
      "x86_64-conda-linux-gnu-c++ -std=gnu++14 -I\"/opt/tljh/user/lib/R/include\" -DNDEBUG   -DNDEBUG -D_FORTIFY_SOURCE=2 -O2 -isystem /opt/tljh/user/include -I/opt/tljh/user/include -Wl,-rpath-link,/opt/tljh/user/lib   -fpic  -fvisibility-inlines-hidden -fmessage-length=0 -march=nocona -mtune=haswell -ftree-vectorize -fPIC -fstack-protector-strong -fno-plt -O2 -ffunction-sections -pipe -isystem /opt/tljh/user/include -fdebug-prefix-map=/home/conda/feedstock_root/build_artifacts/r-base-split_1679996176288/work=/usr/local/src/conda/r-base-4.2.3 -fdebug-prefix-map=/opt/tljh/user=/usr/local/src/conda-prefix  -c reconstruct.cpp -o reconstruct.o\n",
      "x86_64-conda-linux-gnu-c++ -std=gnu++14 -I\"/opt/tljh/user/lib/R/include\" -DNDEBUG   -DNDEBUG -D_FORTIFY_SOURCE=2 -O2 -isystem /opt/tljh/user/include -I/opt/tljh/user/include -Wl,-rpath-link,/opt/tljh/user/lib   -fpic  -fvisibility-inlines-hidden -fmessage-length=0 -march=nocona -mtune=haswell -ftree-vectorize -fPIC -fstack-protector-strong -fno-plt -O2 -ffunction-sections -pipe -isystem /opt/tljh/user/include -fdebug-prefix-map=/home/conda/feedstock_root/build_artifacts/r-base-split_1679996176288/work=/usr/local/src/conda/r-base-4.2.3 -fdebug-prefix-map=/opt/tljh/user=/usr/local/src/conda-prefix  -c slice.cpp -o slice.o\n",
      "x86_64-conda-linux-gnu-c++ -std=gnu++14 -I\"/opt/tljh/user/lib/R/include\" -DNDEBUG   -DNDEBUG -D_FORTIFY_SOURCE=2 -O2 -isystem /opt/tljh/user/include -I/opt/tljh/user/include -Wl,-rpath-link,/opt/tljh/user/lib   -fpic  -fvisibility-inlines-hidden -fmessage-length=0 -march=nocona -mtune=haswell -ftree-vectorize -fPIC -fstack-protector-strong -fno-plt -O2 -ffunction-sections -pipe -isystem /opt/tljh/user/include -fdebug-prefix-map=/home/conda/feedstock_root/build_artifacts/r-base-split_1679996176288/work=/usr/local/src/conda/r-base-4.2.3 -fdebug-prefix-map=/opt/tljh/user=/usr/local/src/conda-prefix  -c summarise.cpp -o summarise.o\n",
      "x86_64-conda-linux-gnu-c++ -std=gnu++14 -shared -L/opt/tljh/user/lib/R/lib -Wl,-O2 -Wl,--sort-common -Wl,--as-needed -Wl,-z,relro -Wl,-z,now -Wl,--disable-new-dtags -Wl,--gc-sections -Wl,--allow-shlib-undefined -Wl,-rpath,/opt/tljh/user/lib -Wl,-rpath-link,/opt/tljh/user/lib -L/opt/tljh/user/lib -o dplyr.so chop.o filter.o funs.o group_by.o group_data.o imports.o init.o mask.o mutate.o reconstruct.o slice.o summarise.o -L/opt/tljh/user/lib/R/lib -lR\n",
      "installing to /opt/tljh/user/lib/R/library/00LOCK-dplyr/00new/dplyr/libs\n",
      "** R\n",
      "** data\n",
      "*** moving datasets to lazyload DB\n",
      "** inst\n",
      "** byte-compile and prepare package for lazy loading\n",
      "** help\n",
      "*** installing help indices\n",
      "*** copying figures\n",
      "** building package indices\n",
      "** installing vignettes\n",
      "** testing if installed package can be loaded from temporary location\n",
      "** checking absolute paths in shared objects and dynamic libraries\n",
      "** testing if installed package can be loaded from final location\n",
      "** testing if installed package keeps a record of temporary installation path\n",
      "* DONE (dplyr)\n",
      "\n",
      "The downloaded source packages are in\n",
      "\t‘/tmp/RtmpOj1IcU/downloaded_packages’\n",
      "Updating HTML index of packages in '.Library'\n",
      "Making 'packages.html' ... done\n"
     ]
    }
   ],
   "source": [
    "! sudo Rscript -e \"install.packages('dplyr', repos='http://cran.rstudio.com/')\""
   ]
  },
  {
   "cell_type": "code",
   "execution_count": null,
   "id": "1aa21883-95ef-4282-b857-c89cdd7360b4",
   "metadata": {},
   "outputs": [],
   "source": []
  }
 ],
 "metadata": {
  "kernelspec": {
   "display_name": "Python 3 (ipykernel)",
   "language": "python",
   "name": "python3"
  },
  "language_info": {
   "codemirror_mode": {
    "name": "ipython",
    "version": 3
   },
   "file_extension": ".py",
   "mimetype": "text/x-python",
   "name": "python",
   "nbconvert_exporter": "python",
   "pygments_lexer": "ipython3",
   "version": "3.10.10"
  }
 },
 "nbformat": 4,
 "nbformat_minor": 5
}

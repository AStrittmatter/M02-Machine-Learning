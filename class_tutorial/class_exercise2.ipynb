{
 "cells": [
  {
   "cell_type": "markdown",
   "id": "a4495163-5a5d-4032-8adb-b27814a92136",
   "metadata": {},
   "source": [
    "## Data Manipulation\n",
    "\n",
    "Now you have learnt the most important skills! So you've already laid the foundations to really become a master in R! Congratulations on that!\n",
    "\n",
    "As a professional, you must know that the world out there is unfortunately not familiar enough with clean data sets. Often data is in a very bad format and we as data scientists spend a lot of time manipulating the data. \n",
    "\n",
    "That's why this tutorial is dedicated to manipulating data! Your challenge is to fill in the missing parts of the code, denoted by `???`, with the appropriate code segments!\n",
    "\n",
    "\n"
   ]
  },
  {
   "cell_type": "code",
   "execution_count": 1,
   "id": "f47ac64a-ce2a-4c23-b4b6-1f4b5f670250",
   "metadata": {},
   "outputs": [
    {
     "ename": "ERROR",
     "evalue": "Error in parse(text = x, srcfile = src): <text>:5:0: unexpected end of input\n3: ## so this task is probably very easy for you now.\n4: ?????\n  ^\n",
     "output_type": "error",
     "traceback": [
      "Error in parse(text = x, srcfile = src): <text>:5:0: unexpected end of input\n3: ## so this task is probably very easy for you now.\n4: ?????\n  ^\nTraceback:\n"
     ]
    }
   ],
   "source": [
    "## Load the required packages. \n",
    "## We continue to work with the Penguin dataset, \n",
    "## so this task is probably very easy for you now.\n",
    "?????"
   ]
  },
  {
   "cell_type": "markdown",
   "id": "e4c67880-667f-474f-b2b5-1742654d46c5",
   "metadata": {},
   "source": [
    "We are familiar with this data set. We now want to know exactly what all the columns are called. Therefore, we need to complete the following function."
   ]
  },
  {
   "cell_type": "code",
   "execution_count": 3,
   "id": "7904678f-5591-42c6-863a-6487c19bb2a1",
   "metadata": {},
   "outputs": [
    {
     "data": {
      "text/html": [
       "<style>\n",
       ".list-inline {list-style: none; margin:0; padding: 0}\n",
       ".list-inline>li {display: inline-block}\n",
       ".list-inline>li:not(:last-child)::after {content: \"\\00b7\"; padding: 0 .5ex}\n",
       "</style>\n",
       "<ol class=list-inline><li>'species'</li><li>'island'</li><li>'bill_length_mm'</li><li>'bill_depth_mm'</li><li>'flipper_length_mm'</li><li>'body_mass_g'</li><li>'sex'</li><li>'year'</li></ol>\n"
      ],
      "text/latex": [
       "\\begin{enumerate*}\n",
       "\\item 'species'\n",
       "\\item 'island'\n",
       "\\item 'bill\\_length\\_mm'\n",
       "\\item 'bill\\_depth\\_mm'\n",
       "\\item 'flipper\\_length\\_mm'\n",
       "\\item 'body\\_mass\\_g'\n",
       "\\item 'sex'\n",
       "\\item 'year'\n",
       "\\end{enumerate*}\n"
      ],
      "text/markdown": [
       "1. 'species'\n",
       "2. 'island'\n",
       "3. 'bill_length_mm'\n",
       "4. 'bill_depth_mm'\n",
       "5. 'flipper_length_mm'\n",
       "6. 'body_mass_g'\n",
       "7. 'sex'\n",
       "8. 'year'\n",
       "\n",
       "\n"
      ],
      "text/plain": [
       "[1] \"species\"           \"island\"            \"bill_length_mm\"   \n",
       "[4] \"bill_depth_mm\"     \"flipper_length_mm\" \"body_mass_g\"      \n",
       "[7] \"sex\"               \"year\"             "
      ]
     },
     "metadata": {},
     "output_type": "display_data"
    }
   ],
   "source": [
    "????(penguins)\n"
   ]
  },
  {
   "cell_type": "markdown",
   "id": "20f39d30-d482-4122-b3c2-95afbee5bea0",
   "metadata": {},
   "source": [
    "We don't need all columns. We are not interested in `'bill_length_mm','bill_depth_mm','flipper_length_mm','body_mass_g'`. Therefore, make the dataset smaller by selecting only the required columns."
   ]
  },
  {
   "cell_type": "code",
   "execution_count": 5,
   "id": "6c0c253d-a799-4cb9-92a8-20cbe8293628",
   "metadata": {},
   "outputs": [],
   "source": [
    "# Selecting specific columns\n",
    "selected_penguins <- ???? %>% ??? (??? , island ,??? ,year,)\n"
   ]
  },
  {
   "cell_type": "markdown",
   "id": "16f5e391-ec36-4c36-b6e6-257168e5fa3f",
   "metadata": {},
   "source": [
    "Did I hear that right? Your dream has always been to visit Biscoe Island? Then today is your lucky day! Because you can now filter this data set for Biscoe!"
   ]
  },
  {
   "cell_type": "code",
   "execution_count": 10,
   "id": "59860dfb-a0f1-40b8-aa1e-d95ffb038a05",
   "metadata": {},
   "outputs": [],
   "source": [
    "# Filtering \n",
    "filtered_selected_penguins <- ?? %>% ???(??? == 'Biscoe' )\n"
   ]
  }
 ],
 "metadata": {
  "kernelspec": {
   "display_name": "R",
   "language": "R",
   "name": "ir"
  },
  "language_info": {
   "codemirror_mode": "r",
   "file_extension": ".r",
   "mimetype": "text/x-r-source",
   "name": "R",
   "pygments_lexer": "r",
   "version": "3.6.3"
  }
 },
 "nbformat": 4,
 "nbformat_minor": 5
}

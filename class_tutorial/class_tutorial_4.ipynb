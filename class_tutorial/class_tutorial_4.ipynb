{
 "cells": [
  {
   "cell_type": "markdown",
   "metadata": {},
   "source": [
    "# Introduction\n",
    "We analyse political data by examining the voting patterns of the 111th US House of Representatives during the years 2009-2011. We use the *rollcall-votes.Rdata* file, which records whether each of the 445 House members voted \"yea\" = 1, \"nay\" = -1, or abstained = 0 on 1,647 different legislative decisions. In addition, the file *rollcall-members.Rdata* enriches our dataset by providing additional details about the members, including their party affiliation (Republican or Democrat) and the US state they represent.\n",
    "\n",
    "This tutorial promises to give you not only the technical skills to manipulate and analyse large datasets, but also insights into political dynamics and voting behaviour. By the end of this tutorial, you will have hands-on experience in data preparation, exploration and advanced analysis using unsupervised ML. nance."
   ]
  },
  {
   "cell_type": "markdown",
   "metadata": {},
   "source": [
    "## Load Data\n",
    "\n",
    "This section of the script is dedicated to loading the essential datasets for our analysis. It retrieves the `rollcall-votes.Rdata` and `rollcall-members.Rdata` files from specified directories, effectively importing the voting records and member details of the 111th US House of Representatives. Upon successful loading, a confirmation message, \"Data loaded,\" is printed to signal that the datasets are ready for use."
   ]
  },
  {
   "cell_type": "code",
   "execution_count": null,
   "metadata": {
    "vscode": {
     "languageId": "r"
    }
   },
   "outputs": [],
   "source": [
    "base_path <- \"~/Github_/M02-Machine-Learning\"\n",
    "base_path <- path.expand(base_path)\n",
    "setwd(base_path)\n"
   ]
  },
  {
   "cell_type": "code",
   "execution_count": null,
   "metadata": {
    "vscode": {
     "languageId": "r"
    }
   },
   "outputs": [],
   "source": [
    "########################  Load Data  ########################\n",
    "\n",
    "### Load data\n",
    "load(\"self_study_tutorial/scripts_and_data/rollcall-votes.Rdata\")\n",
    "load(\"self_study_tutorial/scripts_and_data/rollcall-members.Rdata\")\n",
    "print('Data loaded.')\n",
    "\n",
    "##############################################################"
   ]
  },
  {
   "cell_type": "code",
   "execution_count": null,
   "metadata": {
    "vscode": {
     "languageId": "r"
    }
   },
   "outputs": [],
   "source": [
    "head(members)"
   ]
  },
  {
   "cell_type": "code",
   "execution_count": null,
   "metadata": {
    "vscode": {
     "languageId": "r"
    }
   },
   "outputs": [],
   "source": [
    "head(votes)"
   ]
  },
  {
   "cell_type": "markdown",
   "metadata": {},
   "source": [
    "# Data Exploration\n",
    "\n",
    "This section focuses on analyzing party composition and voting behaviors in the 111th US House of Representatives. We start by displaying counts and proportions of Democrats, Republicans, and one notable politician. Next, we examine voting participation by counting missing votes and visualizing this data with a histogram to analyze absenteeism patterns. Additionally, we count 'yea' and 'nay' votes, plotting these against each other by party to highlight differences in voting behavior across party lines. This exploration helps us understand the dataset's structure and the political dynamics at play."
   ]
  },
  {
   "cell_type": "markdown",
   "metadata": {},
   "source": [
    "**a) How many Democrats and Republicans are in the House? Who has the majority? Report the special case Democrat-Republican separately.**"
   ]
  },
  {
   "cell_type": "code",
   "execution_count": null,
   "metadata": {
    "vscode": {
     "languageId": "r"
    }
   },
   "outputs": [],
   "source": [
    "print('# Counts of Democrats, Republicans and one special politician')\n",
    "table(members$party)\n",
    "\n",
    "print('# Shares of Democrats, Republicans and one special politician')\n",
    "round(table(members$party)/nrow(members),3)"
   ]
  },
  {
   "cell_type": "code",
   "execution_count": null,
   "metadata": {
    "vscode": {
     "languageId": "r"
    }
   },
   "outputs": [],
   "source": [
    "members[members$party == \"DR\",]"
   ]
  },
  {
   "cell_type": "markdown",
   "metadata": {},
   "source": [
    "**b) Generate a variable for the number of votes each politician missed. How many politicians voted in all votings? Plot a histogram of the shares of missed votings with 100 bins.**"
   ]
  },
  {
   "cell_type": "code",
   "execution_count": null,
   "metadata": {
    "vscode": {
     "languageId": "r"
    }
   },
   "outputs": [],
   "source": [
    "# Count missing votings for each politician and plot the counts\n",
    "missings <- rowSums(votes==0)\n",
    "\n",
    "# No. politicians who always voted\n",
    "sum(missings == 0)"
   ]
  },
  {
   "cell_type": "code",
   "execution_count": null,
   "metadata": {
    "vscode": {
     "languageId": "r"
    }
   },
   "outputs": [],
   "source": [
    "# Shares of missing votings\n",
    "s_missings <- missings/(ncol(votes))\n",
    "\n",
    "# Histogram with 100 bins\n",
    "hist(s_missings, breaks = 100)"
   ]
  },
  {
   "cell_type": "markdown",
   "metadata": {},
   "source": [
    "**c) Generate variables for the number of times each politician voted “yea” and “nea”. Make a scatter plot of the number of “nea” and “yea”. Use diﬀerent colors to diﬀerentiate the points in the scatter plot by the party aﬃliation. Can we claim based on these results that the party could be a good predictor for the voting behavior? What information do we lose by aggregation of the votes?**"
   ]
  },
  {
   "cell_type": "code",
   "execution_count": null,
   "metadata": {
    "vscode": {
     "languageId": "r"
    }
   },
   "outputs": [],
   "source": [
    "# Counts - yes and nos\n",
    "yeas <- rowSums(votes[,(1:ncol(votes))]== 1)\n",
    "nays <- rowSums(votes[,(1:ncol(votes))]== -1)\n",
    "\n",
    "# Plots - Party\n",
    "plot(yeas, nays, col = members$party)\n",
    "legend('topleft', legend = levels(members$party), col = 1:3,  pch = 1)"
   ]
  },
  {
   "cell_type": "markdown",
   "metadata": {},
   "source": [
    "# Principal Component Analysis (PCA)"
   ]
  },
  {
   "cell_type": "markdown",
   "metadata": {},
   "source": [
    "**a) Run a principal component analysis on the votes data set. How many principal components are there?**"
   ]
  },
  {
   "cell_type": "code",
   "execution_count": null,
   "metadata": {
    "vscode": {
     "languageId": "r"
    }
   },
   "outputs": [],
   "source": [
    "# PCA\n",
    "pr.out = prcomp(votes , center = TRUE, scale = TRUE)\n",
    "\n",
    "# No of principal components\n",
    "dim(pr.out$rotation)[2]"
   ]
  },
  {
   "cell_type": "markdown",
   "metadata": {},
   "source": [
    "**b) Calculate the proportion of variance explained by each principal component and plot the proportions for the ﬁrst 10 principal components.**"
   ]
  },
  {
   "cell_type": "code",
   "execution_count": null,
   "metadata": {
    "vscode": {
     "languageId": "r"
    }
   },
   "outputs": [],
   "source": [
    "# variance explained by each component\n",
    "pr.var = pr.out$sdev^2\n",
    "\n",
    "# Proportion of variance explained\n",
    "pve=pr.var/sum(pr.var)\n",
    "\n",
    "# Print first 10 PC\n",
    "pve[1:10]"
   ]
  },
  {
   "cell_type": "code",
   "execution_count": null,
   "metadata": {
    "vscode": {
     "languageId": "r"
    }
   },
   "outputs": [],
   "source": [
    "# Plot the first 10 PC\n",
    "barplot(pve[1:10], xlab=\" Principal Component \", ylab=\" Proportion of Variance Explained \", ylim=c(0,1))\n",
    "barplot(cumsum(pve[1:10]), xlab=\" Principal Component \", ylab =\"Cumulative Proportion of Variance Explained \", ylim=c(0,1))"
   ]
  },
  {
   "cell_type": "markdown",
   "metadata": {},
   "source": [
    "**c) Plot the ﬁrst two principal components and use color to diﬀerentiate the observations by the party aﬃliation.**"
   ]
  },
  {
   "cell_type": "code",
   "execution_count": null,
   "metadata": {
    "vscode": {
     "languageId": "r"
    }
   },
   "outputs": [],
   "source": [
    "# Plot the first two principal components, color the party membership\n",
    "plot(pr.out$x[,1], pr.out$x[,2], xlab = \"PC1\", ylab = \"PC2\", col = members$party, main = \"Top two PC directions\")\n",
    "legend('bottomright', legend = levels(members$party), col = 1:3,  pch = 1)"
   ]
  },
  {
   "cell_type": "markdown",
   "metadata": {},
   "source": [
    "**d) With the help of the ﬁrst principal component ﬁnd politicians on the far right (very conservative) and far left (very liberal).**"
   ]
  },
  {
   "cell_type": "code",
   "execution_count": null,
   "metadata": {
    "vscode": {
     "languageId": "r"
    }
   },
   "outputs": [],
   "source": [
    "## Far right (very conservative)\n",
    "head(sort(pr.out$x[,1]))"
   ]
  },
  {
   "cell_type": "code",
   "execution_count": null,
   "metadata": {
    "vscode": {
     "languageId": "r"
    }
   },
   "outputs": [],
   "source": [
    "## Far left (very liberal)\n",
    "head(sort(pr.out$x[,1], decreasing=TRUE))"
   ]
  },
  {
   "cell_type": "markdown",
   "metadata": {},
   "source": [
    "**e) Find the votings which have the most extreme loadings for the second principal component. Analyze the voting behavior in these votings and come up with the interpretation of the second component.**"
   ]
  },
  {
   "cell_type": "code",
   "execution_count": null,
   "metadata": {
    "vscode": {
     "languageId": "r"
    }
   },
   "outputs": [],
   "source": [
    "# PC 2\n",
    "head(sort(pr.out$x[,2]))\n",
    "# No clear pattern based on party and state information"
   ]
  },
  {
   "cell_type": "code",
   "execution_count": null,
   "metadata": {
    "vscode": {
     "languageId": "r"
    }
   },
   "outputs": [],
   "source": [
    "# Look at the largest loadings in PC2 to discern an interpretation.\n",
    "loadings <- pr.out$rotation\n",
    "loadings[order(abs(loadings[,2]), decreasing=TRUE)[1:5],2]"
   ]
  },
  {
   "cell_type": "code",
   "execution_count": null,
   "metadata": {
    "vscode": {
     "languageId": "r"
    }
   },
   "outputs": [],
   "source": [
    "# Analyze voting behavior\n",
    "table(votes[,1146])\n",
    "table(votes[,658])\n",
    "table(votes[,1090])"
   ]
  },
  {
   "cell_type": "code",
   "execution_count": null,
   "metadata": {
    "vscode": {
     "languageId": "r"
    }
   },
   "outputs": [],
   "source": [
    "# Either everyone voted \"yea\" or missed the voting.\n",
    "# These votes all correspond to near-unanimous symbolic action.\n",
    "\n",
    "# Mystery Solved: the second PC is just attendance!\n",
    "head(sort(rowSums(votes==0), decreasing=TRUE))"
   ]
  },
  {
   "cell_type": "markdown",
   "metadata": {},
   "source": [
    "<span style=\"color:red; font-weight:bold; font-size:xx-large;\">\n",
    "# Time for a breakout session \n",
    "</span>\n"
   ]
  },
  {
   "cell_type": "markdown",
   "metadata": {},
   "source": [
    "# Clustering"
   ]
  },
  {
   "cell_type": "markdown",
   "metadata": {},
   "source": [
    "**a) Run a k-means clustering procedure to detect 2 clusters in the data. How many Democrats and Republicans are in each cluster?**"
   ]
  },
  {
   "cell_type": "code",
   "execution_count": null,
   "metadata": {
    "vscode": {
     "languageId": "r"
    }
   },
   "outputs": [],
   "source": [
    "set.seed(11122019)\n",
    "\n",
    "# K-means clustering with 2 clusters\n",
    "km.out = kmeans(votes, 2, nstart = 20)\n",
    "#km.out$cluster\n",
    "# Tabulate party vs cluster\n",
    "table(members$party, km.out$cluster)\n"
   ]
  },
  {
   "cell_type": "code",
   "execution_count": null,
   "metadata": {
    "vscode": {
     "languageId": "r"
    }
   },
   "outputs": [],
   "source": [
    "km.out$cluster"
   ]
  },
  {
   "cell_type": "markdown",
   "metadata": {},
   "source": [
    "**b) Run a k-means clustering procedure for k ∈{2,...,20} and plot the within cluster sum of squared errors. Decide based on the plot what the optimal number of clusters is.**"
   ]
  },
  {
   "cell_type": "code",
   "execution_count": null,
   "metadata": {
    "vscode": {
     "languageId": "r"
    }
   },
   "outputs": [],
   "source": [
    "# How to analyze the optimal number of clusters\n",
    "\n",
    "sse <- c()\n",
    "sse[1] <- Inf\n",
    "\n",
    "for (ind_cl in c(2:20)) {\n",
    "  set.seed(3)\n",
    "  km.out = kmeans (votes, ind_cl, nstart = 20)\n",
    "  sse[ind_cl] = km.out$tot.withinss\n",
    "}\n",
    "\n",
    "plot(sse)\n",
    "# Optimum 4-5 clusters"
   ]
  },
  {
   "cell_type": "markdown",
   "metadata": {},
   "source": [
    "**c) Take the graph with two principal components and use color to visualize the clusters you found in the previous task.**"
   ]
  },
  {
   "cell_type": "code",
   "execution_count": null,
   "metadata": {
    "vscode": {
     "languageId": "r"
    }
   },
   "outputs": [],
   "source": [
    "# Plot the 5 clusters on the PC components graph\n",
    "set.seed(3)\n",
    "km.out = kmeans (votes, 5, nstart = 20)\n",
    "\n",
    "# Plot the first two principal components color the party membership\n",
    "plot(pr.out$x[,1], pr.out$x[,2], xlab = \"PC1\", ylab = \"PC2\", col = km.out$cluster, main = \"Top two PC directions with 5 clusters\")\n",
    "legend('bottomright', legend = c(\"Cluster 1\", \"Cluster 2\", \"Cluster 3\", \"Cluster 4\", \"Cluster 5\"), col = 1:5,  pch = 1)"
   ]
  },
  {
   "cell_type": "markdown",
   "metadata": {},
   "source": [
    "**d) Run a k-means clustering procedure to detect 6 clusters with nstart = 1 and nstart = 20. Print out the within cluster sum of squared errors for both nstart values. What can you say about the importance of nstart on the convergence to the global optimum?**"
   ]
  },
  {
   "cell_type": "code",
   "execution_count": null,
   "metadata": {
    "vscode": {
     "languageId": "r"
    }
   },
   "outputs": [],
   "source": [
    "# Analyzing how the number of starts work\n",
    "set.seed (3)\n",
    "print('With nstart = 1')\n",
    "km.out = kmeans (votes,6, nstart = 1)\n",
    "km.out$tot.withinss\n",
    "\n",
    "print('With nstart = 20')\n",
    "km.out =kmeans (votes,6, nstart = 20)\n",
    "km.out$tot.withinss\n",
    "\n",
    "print('With nstart = 100')\n",
    "km.out =kmeans (votes,6, nstart = 100)\n",
    "km.out$tot.withinss\n",
    "\n",
    "print('With nstart = 500')\n",
    "km.out =kmeans (votes,6, nstart = 500)\n",
    "km.out$tot.withinss\n"
   ]
  },
  {
   "cell_type": "markdown",
   "metadata": {},
   "source": [
    "<span style=\"color:red; font-weight:bold; font-size:xx-large;\">\n",
    "# Time for a breakout session \n",
    "</span>\n"
   ]
  },
  {
   "cell_type": "code",
   "execution_count": null,
   "metadata": {
    "collapsed": true,
    "jupyter": {
     "outputs_hidden": true
    },
    "vscode": {
     "languageId": "r"
    }
   },
   "outputs": [],
   "source": []
  }
 ],
 "metadata": {
  "kernelspec": {
   "display_name": "R",
   "language": "R",
   "name": "ir"
  },
  "language_info": {
   "codemirror_mode": "r",
   "file_extension": ".r",
   "mimetype": "text/x-r-source",
   "name": "R",
   "pygments_lexer": "r",
   "version": "3.6.1"
  }
 },
 "nbformat": 4,
 "nbformat_minor": 4
}

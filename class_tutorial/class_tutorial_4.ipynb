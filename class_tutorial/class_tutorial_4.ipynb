{
 "cells": [
  {
   "cell_type": "markdown",
   "metadata": {},
   "source": [
    "# Introduction\r\n",
    "We analyse political data by examining the voting patterns of the 111th US House of Representatives during the years 2009-2011. We use the *rollcall-votes.Rdata* file, which records whether each of the 445 House members voted \"yea\" = 1, \"nay\" = -1, or abstained = 0 on 1,647 different legislative decisions. In addition, the file *rollcall-members.Rdata* enriches our dataset by providing additional details about the members, including their party affiliation (Republican or Democrat) and the US state they represent.\n",
    "\n",
    "This tutorial promises to give you not only the technical skills to manipulate and analyse large datasets, but also insights into political dynamics and voting behaviour. By the end of this tutorial, you will have hands-on experience in data preparation, exploration and advanced analysis using unsupervised ML. nance."
   ]
  },
  {
   "cell_type": "markdown",
   "metadata": {},
   "source": [
    "## Load Data\r\n",
    "\r\n",
    "This section of the script is dedicated to loading the essential datasets for our analysis. It retrieves the `rollcall-votes.Rdata` and `rollcall-members.Rdata` files from specified directories, effectively importing the voting records and member details of the 111th US House of Representatives. Upon successful loading, a confirmation message, \"Data loaded,\" is printed to signal that the datasets are ready for use."
   ]
  },
  {
   "cell_type": "code",
   "execution_count": 1,
   "metadata": {
    "collapsed": true,
    "jupyter": {
     "outputs_hidden": true
    }
   },
   "outputs": [
    {
     "name": "stdout",
     "output_type": "stream",
     "text": [
      "[1] \"Data loaded.\"\n"
     ]
    }
   ],
   "source": [
    "########################  Load Data  ########################\n",
    "\n",
    "### Load data\n",
    "load(\"/home/jupyter-mlcourseuser/M02-Machine-Learning/self_study_tutorial/scripts_and_data/rollcall-votes.Rdata\")\n",
    "load(\"/home/jupyter-mlcourseuser/M02-Machine-Learning/self_study_tutorial/scripts_and_data/rollcall-members.Rdata\")\n",
    "print('Data loaded.')\n",
    "\n",
    "##############################################################"
   ]
  },
  {
   "cell_type": "code",
   "execution_count": 2,
   "metadata": {
    "collapsed": true,
    "jupyter": {
     "outputs_hidden": true
    }
   },
   "outputs": [
    {
     "data": {
      "text/html": [
       "<table class=\"dataframe\">\n",
       "<caption>A data.frame: 6 × 3</caption>\n",
       "<thead>\n",
       "\t<tr><th></th><th scope=col>member</th><th scope=col>state</th><th scope=col>party</th></tr>\n",
       "\t<tr><th></th><th scope=col>&lt;fct&gt;</th><th scope=col>&lt;fct&gt;</th><th scope=col>&lt;fct&gt;</th></tr>\n",
       "</thead>\n",
       "<tbody>\n",
       "\t<tr><th scope=row>1</th><td>BONNER (R AL-1)    </td><td>AL</td><td>R </td></tr>\n",
       "\t<tr><th scope=row>2</th><td>BRIGHT (D AL-2)    </td><td>AL</td><td>D </td></tr>\n",
       "\t<tr><th scope=row>3</th><td>ROGERS (R AL-3)    </td><td>AL</td><td>R </td></tr>\n",
       "\t<tr><th scope=row>4</th><td>ADERHOLT (R AL-4)  </td><td>AL</td><td>R </td></tr>\n",
       "\t<tr><th scope=row>5</th><td>GRIFFITH (D/R AL-5)</td><td>AL</td><td>DR</td></tr>\n",
       "\t<tr><th scope=row>6</th><td>BACHUS (R AL-6)    </td><td>AL</td><td>R </td></tr>\n",
       "</tbody>\n",
       "</table>\n"
      ],
      "text/latex": [
       "A data.frame: 6 × 3\n",
       "\\begin{tabular}{r|lll}\n",
       "  & member & state & party\\\\\n",
       "  & <fct> & <fct> & <fct>\\\\\n",
       "\\hline\n",
       "\t1 & BONNER (R AL-1)     & AL & R \\\\\n",
       "\t2 & BRIGHT (D AL-2)     & AL & D \\\\\n",
       "\t3 & ROGERS (R AL-3)     & AL & R \\\\\n",
       "\t4 & ADERHOLT (R AL-4)   & AL & R \\\\\n",
       "\t5 & GRIFFITH (D/R AL-5) & AL & DR\\\\\n",
       "\t6 & BACHUS (R AL-6)     & AL & R \\\\\n",
       "\\end{tabular}\n"
      ],
      "text/markdown": [
       "\n",
       "A data.frame: 6 × 3\n",
       "\n",
       "| <!--/--> | member &lt;fct&gt; | state &lt;fct&gt; | party &lt;fct&gt; |\n",
       "|---|---|---|---|\n",
       "| 1 | BONNER (R AL-1)     | AL | R  |\n",
       "| 2 | BRIGHT (D AL-2)     | AL | D  |\n",
       "| 3 | ROGERS (R AL-3)     | AL | R  |\n",
       "| 4 | ADERHOLT (R AL-4)   | AL | R  |\n",
       "| 5 | GRIFFITH (D/R AL-5) | AL | DR |\n",
       "| 6 | BACHUS (R AL-6)     | AL | R  |\n",
       "\n"
      ],
      "text/plain": [
       "  member              state party\n",
       "1 BONNER (R AL-1)     AL    R    \n",
       "2 BRIGHT (D AL-2)     AL    D    \n",
       "3 ROGERS (R AL-3)     AL    R    \n",
       "4 ADERHOLT (R AL-4)   AL    R    \n",
       "5 GRIFFITH (D/R AL-5) AL    DR   \n",
       "6 BACHUS (R AL-6)     AL    R    "
      ]
     },
     "metadata": {},
     "output_type": "display_data"
    }
   ],
   "source": [
    "head(members)"
   ]
  },
  {
   "cell_type": "code",
   "execution_count": 3,
   "metadata": {
    "collapsed": true,
    "jupyter": {
     "outputs_hidden": true
    }
   },
   "outputs": [
    {
     "data": {
      "text/html": [
       "<table class=\"dataframe\">\n",
       "<caption>A data.frame: 6 × 1647</caption>\n",
       "<thead>\n",
       "\t<tr><th></th><th scope=col>Vote.1</th><th scope=col>Vote.2</th><th scope=col>Vote.3</th><th scope=col>Vote.4</th><th scope=col>Vote.5</th><th scope=col>Vote.6</th><th scope=col>Vote.7</th><th scope=col>Vote.8</th><th scope=col>Vote.9</th><th scope=col>Vote.10</th><th scope=col>⋯</th><th scope=col>Vote.1638</th><th scope=col>Vote.1639</th><th scope=col>Vote.1640</th><th scope=col>Vote.1641</th><th scope=col>Vote.1642</th><th scope=col>Vote.1643</th><th scope=col>Vote.1644</th><th scope=col>Vote.1645</th><th scope=col>Vote.1646</th><th scope=col>Vote.1647</th></tr>\n",
       "\t<tr><th></th><th scope=col>&lt;int&gt;</th><th scope=col>&lt;int&gt;</th><th scope=col>&lt;int&gt;</th><th scope=col>&lt;int&gt;</th><th scope=col>&lt;int&gt;</th><th scope=col>&lt;int&gt;</th><th scope=col>&lt;int&gt;</th><th scope=col>&lt;int&gt;</th><th scope=col>&lt;int&gt;</th><th scope=col>&lt;int&gt;</th><th scope=col>⋯</th><th scope=col>&lt;int&gt;</th><th scope=col>&lt;int&gt;</th><th scope=col>&lt;int&gt;</th><th scope=col>&lt;int&gt;</th><th scope=col>&lt;int&gt;</th><th scope=col>&lt;int&gt;</th><th scope=col>&lt;int&gt;</th><th scope=col>&lt;int&gt;</th><th scope=col>&lt;int&gt;</th><th scope=col>&lt;int&gt;</th></tr>\n",
       "</thead>\n",
       "<tbody>\n",
       "\t<tr><th scope=row>BONNER (R AL-1)</th><td>-1</td><td> 1</td><td>-1</td><td> 0</td><td> 0</td><td> 1</td><td>-1</td><td>-1</td><td>1</td><td>1</td><td>⋯</td><td>-1</td><td> 0</td><td>-1</td><td>-1</td><td>-1</td><td>-1</td><td> 0</td><td> 1</td><td>1</td><td> 0</td></tr>\n",
       "\t<tr><th scope=row>BRIGHT (D AL-2)</th><td> 1</td><td>-1</td><td> 1</td><td> 1</td><td> 1</td><td> 1</td><td>-1</td><td>-1</td><td>1</td><td>1</td><td>⋯</td><td> 1</td><td> 1</td><td> 0</td><td> 0</td><td> 0</td><td> 0</td><td> 0</td><td> 0</td><td>0</td><td> 0</td></tr>\n",
       "\t<tr><th scope=row>ROGERS (R AL-3)</th><td>-1</td><td> 1</td><td>-1</td><td>-1</td><td>-1</td><td> 1</td><td>-1</td><td>-1</td><td>1</td><td>1</td><td>⋯</td><td>-1</td><td>-1</td><td>-1</td><td>-1</td><td>-1</td><td> 1</td><td>-1</td><td>-1</td><td>1</td><td> 1</td></tr>\n",
       "\t<tr><th scope=row>ADERHOLT (R AL-4)</th><td>-1</td><td> 1</td><td>-1</td><td>-1</td><td> 1</td><td> 1</td><td>-1</td><td>-1</td><td>1</td><td>1</td><td>⋯</td><td>-1</td><td>-1</td><td>-1</td><td>-1</td><td>-1</td><td>-1</td><td>-1</td><td>-1</td><td>1</td><td> 1</td></tr>\n",
       "\t<tr><th scope=row>GRIFFITH (D/R AL-5)</th><td> 1</td><td>-1</td><td> 1</td><td> 1</td><td> 1</td><td>-1</td><td>-1</td><td>-1</td><td>1</td><td>1</td><td>⋯</td><td> 0</td><td> 0</td><td> 0</td><td> 0</td><td> 0</td><td> 0</td><td> 0</td><td> 0</td><td>0</td><td> 0</td></tr>\n",
       "\t<tr><th scope=row>BACHUS (R AL-6)</th><td>-1</td><td> 1</td><td>-1</td><td> 1</td><td> 1</td><td> 1</td><td>-1</td><td> 0</td><td>1</td><td>1</td><td>⋯</td><td>-1</td><td>-1</td><td>-1</td><td>-1</td><td>-1</td><td>-1</td><td>-1</td><td>-1</td><td>1</td><td>-1</td></tr>\n",
       "</tbody>\n",
       "</table>\n"
      ],
      "text/latex": [
       "A data.frame: 6 × 1647\n",
       "\\begin{tabular}{r|lllllllllllllllllllll}\n",
       "  & Vote.1 & Vote.2 & Vote.3 & Vote.4 & Vote.5 & Vote.6 & Vote.7 & Vote.8 & Vote.9 & Vote.10 & ⋯ & Vote.1638 & Vote.1639 & Vote.1640 & Vote.1641 & Vote.1642 & Vote.1643 & Vote.1644 & Vote.1645 & Vote.1646 & Vote.1647\\\\\n",
       "  & <int> & <int> & <int> & <int> & <int> & <int> & <int> & <int> & <int> & <int> & ⋯ & <int> & <int> & <int> & <int> & <int> & <int> & <int> & <int> & <int> & <int>\\\\\n",
       "\\hline\n",
       "\tBONNER (R AL-1) & -1 &  1 & -1 &  0 &  0 &  1 & -1 & -1 & 1 & 1 & ⋯ & -1 &  0 & -1 & -1 & -1 & -1 &  0 &  1 & 1 &  0\\\\\n",
       "\tBRIGHT (D AL-2) &  1 & -1 &  1 &  1 &  1 &  1 & -1 & -1 & 1 & 1 & ⋯ &  1 &  1 &  0 &  0 &  0 &  0 &  0 &  0 & 0 &  0\\\\\n",
       "\tROGERS (R AL-3) & -1 &  1 & -1 & -1 & -1 &  1 & -1 & -1 & 1 & 1 & ⋯ & -1 & -1 & -1 & -1 & -1 &  1 & -1 & -1 & 1 &  1\\\\\n",
       "\tADERHOLT (R AL-4) & -1 &  1 & -1 & -1 &  1 &  1 & -1 & -1 & 1 & 1 & ⋯ & -1 & -1 & -1 & -1 & -1 & -1 & -1 & -1 & 1 &  1\\\\\n",
       "\tGRIFFITH (D/R AL-5) &  1 & -1 &  1 &  1 &  1 & -1 & -1 & -1 & 1 & 1 & ⋯ &  0 &  0 &  0 &  0 &  0 &  0 &  0 &  0 & 0 &  0\\\\\n",
       "\tBACHUS (R AL-6) & -1 &  1 & -1 &  1 &  1 &  1 & -1 &  0 & 1 & 1 & ⋯ & -1 & -1 & -1 & -1 & -1 & -1 & -1 & -1 & 1 & -1\\\\\n",
       "\\end{tabular}\n"
      ],
      "text/markdown": [
       "\n",
       "A data.frame: 6 × 1647\n",
       "\n",
       "| <!--/--> | Vote.1 &lt;int&gt; | Vote.2 &lt;int&gt; | Vote.3 &lt;int&gt; | Vote.4 &lt;int&gt; | Vote.5 &lt;int&gt; | Vote.6 &lt;int&gt; | Vote.7 &lt;int&gt; | Vote.8 &lt;int&gt; | Vote.9 &lt;int&gt; | Vote.10 &lt;int&gt; | ⋯ ⋯ | Vote.1638 &lt;int&gt; | Vote.1639 &lt;int&gt; | Vote.1640 &lt;int&gt; | Vote.1641 &lt;int&gt; | Vote.1642 &lt;int&gt; | Vote.1643 &lt;int&gt; | Vote.1644 &lt;int&gt; | Vote.1645 &lt;int&gt; | Vote.1646 &lt;int&gt; | Vote.1647 &lt;int&gt; |\n",
       "|---|---|---|---|---|---|---|---|---|---|---|---|---|---|---|---|---|---|---|---|---|---|\n",
       "| BONNER (R AL-1) | -1 |  1 | -1 |  0 |  0 |  1 | -1 | -1 | 1 | 1 | ⋯ | -1 |  0 | -1 | -1 | -1 | -1 |  0 |  1 | 1 |  0 |\n",
       "| BRIGHT (D AL-2) |  1 | -1 |  1 |  1 |  1 |  1 | -1 | -1 | 1 | 1 | ⋯ |  1 |  1 |  0 |  0 |  0 |  0 |  0 |  0 | 0 |  0 |\n",
       "| ROGERS (R AL-3) | -1 |  1 | -1 | -1 | -1 |  1 | -1 | -1 | 1 | 1 | ⋯ | -1 | -1 | -1 | -1 | -1 |  1 | -1 | -1 | 1 |  1 |\n",
       "| ADERHOLT (R AL-4) | -1 |  1 | -1 | -1 |  1 |  1 | -1 | -1 | 1 | 1 | ⋯ | -1 | -1 | -1 | -1 | -1 | -1 | -1 | -1 | 1 |  1 |\n",
       "| GRIFFITH (D/R AL-5) |  1 | -1 |  1 |  1 |  1 | -1 | -1 | -1 | 1 | 1 | ⋯ |  0 |  0 |  0 |  0 |  0 |  0 |  0 |  0 | 0 |  0 |\n",
       "| BACHUS (R AL-6) | -1 |  1 | -1 |  1 |  1 |  1 | -1 |  0 | 1 | 1 | ⋯ | -1 | -1 | -1 | -1 | -1 | -1 | -1 | -1 | 1 | -1 |\n",
       "\n"
      ],
      "text/plain": [
       "                    Vote.1 Vote.2 Vote.3 Vote.4 Vote.5 Vote.6 Vote.7 Vote.8\n",
       "BONNER (R AL-1)     -1      1     -1      0      0      1     -1     -1    \n",
       "BRIGHT (D AL-2)      1     -1      1      1      1      1     -1     -1    \n",
       "ROGERS (R AL-3)     -1      1     -1     -1     -1      1     -1     -1    \n",
       "ADERHOLT (R AL-4)   -1      1     -1     -1      1      1     -1     -1    \n",
       "GRIFFITH (D/R AL-5)  1     -1      1      1      1     -1     -1     -1    \n",
       "BACHUS (R AL-6)     -1      1     -1      1      1      1     -1      0    \n",
       "                    Vote.9 Vote.10 ⋯ Vote.1638 Vote.1639 Vote.1640 Vote.1641\n",
       "BONNER (R AL-1)     1      1       ⋯ -1         0        -1        -1       \n",
       "BRIGHT (D AL-2)     1      1       ⋯  1         1         0         0       \n",
       "ROGERS (R AL-3)     1      1       ⋯ -1        -1        -1        -1       \n",
       "ADERHOLT (R AL-4)   1      1       ⋯ -1        -1        -1        -1       \n",
       "GRIFFITH (D/R AL-5) 1      1       ⋯  0         0         0         0       \n",
       "BACHUS (R AL-6)     1      1       ⋯ -1        -1        -1        -1       \n",
       "                    Vote.1642 Vote.1643 Vote.1644 Vote.1645 Vote.1646 Vote.1647\n",
       "BONNER (R AL-1)     -1        -1         0         1        1          0       \n",
       "BRIGHT (D AL-2)      0         0         0         0        0          0       \n",
       "ROGERS (R AL-3)     -1         1        -1        -1        1          1       \n",
       "ADERHOLT (R AL-4)   -1        -1        -1        -1        1          1       \n",
       "GRIFFITH (D/R AL-5)  0         0         0         0        0          0       \n",
       "BACHUS (R AL-6)     -1        -1        -1        -1        1         -1       "
      ]
     },
     "metadata": {},
     "output_type": "display_data"
    }
   ],
   "source": [
    "head(votes)"
   ]
  },
  {
   "cell_type": "markdown",
   "metadata": {},
   "source": [
    "# Data Exploration\r\n",
    "\r\n",
    "This section focuses on analyzing party composition and voting behaviors in the 111th US House of Representatives. We start by displaying counts and proportions of Democrats, Republicans, and one notable politician. Next, we examine voting participation by counting missing votes and visualizing this data with a histogram to analyze absenteeism patterns. Additionally, we count 'yea' and 'nay' votes, plotting these against each other by party to highlight differences in voting behavior across party lines. This exploration helps us understand the dataset's structure and the political dynamics at play."
   ]
  },
  {
   "cell_type": "markdown",
   "metadata": {},
   "source": [
    "**a) How many Democrats and Republicans are in the House? Who has the majority? Report the special case Democrat-Republican separately.**"
   ]
  },
  {
   "cell_type": "code",
   "execution_count": 4,
   "metadata": {
    "collapsed": true,
    "jupyter": {
     "outputs_hidden": true
    }
   },
   "outputs": [
    {
     "name": "stdout",
     "output_type": "stream",
     "text": [
      "[1] \"# Counts of Democrats, Republicans and one special politician\"\n"
     ]
    },
    {
     "data": {
      "text/plain": [
       "\n",
       "  D  DR   R \n",
       "262   1 182 "
      ]
     },
     "metadata": {},
     "output_type": "display_data"
    },
    {
     "name": "stdout",
     "output_type": "stream",
     "text": [
      "[1] \"# Shares of Democrats, Republicans and one special politician\"\n"
     ]
    },
    {
     "data": {
      "text/plain": [
       "\n",
       "    D    DR     R \n",
       "0.589 0.002 0.409 "
      ]
     },
     "metadata": {},
     "output_type": "display_data"
    }
   ],
   "source": [
    "print('# Counts of Democrats, Republicans and one special politician')\n",
    "table(members$party)\n",
    "\n",
    "print('# Shares of Democrats, Republicans and one special politician')\n",
    "round(table(members$party)/nrow(members),3)"
   ]
  },
  {
   "cell_type": "code",
   "execution_count": 5,
   "metadata": {
    "collapsed": true,
    "jupyter": {
     "outputs_hidden": true
    }
   },
   "outputs": [
    {
     "data": {
      "text/html": [
       "<table class=\"dataframe\">\n",
       "<caption>A data.frame: 1 × 3</caption>\n",
       "<thead>\n",
       "\t<tr><th></th><th scope=col>member</th><th scope=col>state</th><th scope=col>party</th></tr>\n",
       "\t<tr><th></th><th scope=col>&lt;fct&gt;</th><th scope=col>&lt;fct&gt;</th><th scope=col>&lt;fct&gt;</th></tr>\n",
       "</thead>\n",
       "<tbody>\n",
       "\t<tr><th scope=row>5</th><td>GRIFFITH (D/R AL-5)</td><td>AL</td><td>DR</td></tr>\n",
       "</tbody>\n",
       "</table>\n"
      ],
      "text/latex": [
       "A data.frame: 1 × 3\n",
       "\\begin{tabular}{r|lll}\n",
       "  & member & state & party\\\\\n",
       "  & <fct> & <fct> & <fct>\\\\\n",
       "\\hline\n",
       "\t5 & GRIFFITH (D/R AL-5) & AL & DR\\\\\n",
       "\\end{tabular}\n"
      ],
      "text/markdown": [
       "\n",
       "A data.frame: 1 × 3\n",
       "\n",
       "| <!--/--> | member &lt;fct&gt; | state &lt;fct&gt; | party &lt;fct&gt; |\n",
       "|---|---|---|---|\n",
       "| 5 | GRIFFITH (D/R AL-5) | AL | DR |\n",
       "\n"
      ],
      "text/plain": [
       "  member              state party\n",
       "5 GRIFFITH (D/R AL-5) AL    DR   "
      ]
     },
     "metadata": {},
     "output_type": "display_data"
    }
   ],
   "source": [
    "members[members$party == \"DR\",]"
   ]
  },
  {
   "cell_type": "markdown",
   "metadata": {},
   "source": [
    "**b) Generate a variable for the number of votes each politician missed. How many politicians voted in all votings? Plot a histogram of the shares of missed votings with 100 bins.**"
   ]
  },
  {
   "cell_type": "code",
   "execution_count": 6,
   "metadata": {
    "collapsed": true,
    "jupyter": {
     "outputs_hidden": true
    }
   },
   "outputs": [
    {
     "data": {
      "text/html": [
       "3"
      ],
      "text/latex": [
       "3"
      ],
      "text/markdown": [
       "3"
      ],
      "text/plain": [
       "[1] 3"
      ]
     },
     "metadata": {},
     "output_type": "display_data"
    }
   ],
   "source": [
    "# Count missing votings for each politician and plot the counts\n",
    "missings <- rowSums(votes==0)\n",
    "\n",
    "# No. politicians who always voted\n",
    "sum(missings == 0)"
   ]
  },
  {
   "cell_type": "code",
   "execution_count": 7,
   "metadata": {
    "collapsed": true,
    "jupyter": {
     "outputs_hidden": true
    }
   },
   "outputs": [
    {
     "data": {
      "image/png": "[encoded data removed]",
      "text/plain": [
       "Plot with title “Histogram of s_missings”"
      ]
     },
     "metadata": {
      "image/png": {
       "height": 420,
       "width": 420
      }
     },
     "output_type": "display_data"
    }
   ],
   "source": [
    "# Shares of missing votings\n",
    "s_missings <- missings/(ncol(votes))\n",
    "\n",
    "# Histogram with 100 bins\n",
    "hist(s_missings, breaks = 100)"
   ]
  },
  {
   "cell_type": "markdown",
   "metadata": {},
   "source": [
    "**c) Generate variables for the number of times each politician voted “yea” and “nea”. Make a scatter plot of the number of “nea” and “yea”. Use diﬀerent colors to diﬀerentiate the points in the scatter plot by the party aﬃliation. Can we claim based on these results that the party could be a good predictor for the voting behavior? What information do we lose by aggregation of the votes?**"
   ]
  },
  {
   "cell_type": "code",
   "execution_count": 8,
   "metadata": {
    "collapsed": true,
    "jupyter": {
     "outputs_hidden": true
    }
   },
   "outputs": [
    {
     "data": {
      "image/png": "[encoded data removed]",
      "text/plain": [
       "plot without title"
      ]
     },
     "metadata": {
      "image/png": {
       "height": 420,
       "width": 420
      }
     },
     "output_type": "display_data"
    }
   ],
   "source": [
    "# Counts - yes and nos\n",
    "yeas <- rowSums(votes[,(1:ncol(votes))]== 1)\n",
    "nays <- rowSums(votes[,(1:ncol(votes))]== -1)\n",
    "\n",
    "# Plots - Party\n",
    "plot(yeas, nays, col = members$party)\n",
    "legend('topleft', legend = levels(members$party), col = 1:3,  pch = 1)"
   ]
  },
  {
   "cell_type": "markdown",
   "metadata": {},
   "source": [
    "# Principal Component Analysis (PCA)"
   ]
  },
  {
   "cell_type": "markdown",
   "metadata": {},
   "source": [
    "**a) Run a principal component analysis on the votes data set. How many principal components are there?**"
   ]
  },
  {
   "cell_type": "code",
   "execution_count": 9,
   "metadata": {
    "collapsed": true,
    "jupyter": {
     "outputs_hidden": true
    }
   },
   "outputs": [
    {
     "data": {
      "text/html": [
       "445"
      ],
      "text/latex": [
       "445"
      ],
      "text/markdown": [
       "445"
      ],
      "text/plain": [
       "[1] 445"
      ]
     },
     "metadata": {},
     "output_type": "display_data"
    }
   ],
   "source": [
    "# PCA\n",
    "pr.out = prcomp(votes , center = TRUE, scale = TRUE)\n",
    "\n",
    "# No of principal components\n",
    "dim(pr.out$rotation)[2]"
   ]
  },
  {
   "cell_type": "markdown",
   "metadata": {},
   "source": [
    "**b) Calculate the proportion of variance explained by each principal component and plot the proportions for the ﬁrst 10 principal components.**"
   ]
  },
  {
   "cell_type": "code",
   "execution_count": 10,
   "metadata": {
    "collapsed": true,
    "jupyter": {
     "outputs_hidden": true
    }
   },
   "outputs": [
    {
     "data": {
      "text/html": [
       "<style>\n",
       ".list-inline {list-style: none; margin:0; padding: 0}\n",
       ".list-inline>li {display: inline-block}\n",
       ".list-inline>li:not(:last-child)::after {content: \"\\00b7\"; padding: 0 .5ex}\n",
       "</style>\n",
       "<ol class=list-inline><li>0.363766110924996</li><li>0.129597632562363</li><li>0.0335647378324559</li><li>0.0250487586879924</li><li>0.0116263880726069</li><li>0.011107666051759</li><li>0.00885029726682734</li><li>0.0082447721690786</li><li>0.00676532537410094</li><li>0.00648705040909433</li></ol>\n"
      ],
      "text/latex": [
       "\\begin{enumerate*}\n",
       "\\item 0.363766110924996\n",
       "\\item 0.129597632562363\n",
       "\\item 0.0335647378324559\n",
       "\\item 0.0250487586879924\n",
       "\\item 0.0116263880726069\n",
       "\\item 0.011107666051759\n",
       "\\item 0.00885029726682734\n",
       "\\item 0.0082447721690786\n",
       "\\item 0.00676532537410094\n",
       "\\item 0.00648705040909433\n",
       "\\end{enumerate*}\n"
      ],
      "text/markdown": [
       "1. 0.363766110924996\n",
       "2. 0.129597632562363\n",
       "3. 0.0335647378324559\n",
       "4. 0.0250487586879924\n",
       "5. 0.0116263880726069\n",
       "6. 0.011107666051759\n",
       "7. 0.00885029726682734\n",
       "8. 0.0082447721690786\n",
       "9. 0.00676532537410094\n",
       "10. 0.00648705040909433\n",
       "\n",
       "\n"
      ],
      "text/plain": [
       " [1] 0.363766111 0.129597633 0.033564738 0.025048759 0.011626388 0.011107666\n",
       " [7] 0.008850297 0.008244772 0.006765325 0.006487050"
      ]
     },
     "metadata": {},
     "output_type": "display_data"
    }
   ],
   "source": [
    "# variance explained by each component\n",
    "pr.var = pr.out$sdev^2\n",
    "\n",
    "# Proportion of variance explained\n",
    "pve=pr.var/sum(pr.var)\n",
    "\n",
    "# Print first 10 PC\n",
    "pve[1:10]"
   ]
  },
  {
   "cell_type": "code",
   "execution_count": 11,
   "metadata": {
    "collapsed": true,
    "jupyter": {
     "outputs_hidden": true
    }
   },
   "outputs": [
    {
     "data": {
      "image/png": "[encoded data removed]",
      "text/plain": [
       "plot without title"
      ]
     },
     "metadata": {
      "image/png": {
       "height": 420,
       "width": 420
      }
     },
     "output_type": "display_data"
    },
    {
     "data": {
      "image/png": "[encoded data removed]",
      "text/plain": [
       "plot without title"
      ]
     },
     "metadata": {
      "image/png": {
       "height": 420,
       "width": 420
      }
     },
     "output_type": "display_data"
    }
   ],
   "source": [
    "# Plot the first 10 PC\n",
    "barplot(pve[1:10], xlab=\" Principal Component \", ylab=\" Proportion of Variance Explained \", ylim=c(0,1))\n",
    "barplot(cumsum(pve[1:10]), xlab=\" Principal Component \", ylab =\"Cumulative Proportion of Variance Explained \", ylim=c(0,1))"
   ]
  },
  {
   "cell_type": "markdown",
   "metadata": {},
   "source": [
    "**c) Plot the ﬁrst two principal components and use color to diﬀerentiate the observations by the party aﬃliation.**"
   ]
  },
  {
   "cell_type": "code",
   "execution_count": 12,
   "metadata": {
    "collapsed": true,
    "jupyter": {
     "outputs_hidden": true
    }
   },
   "outputs": [
    {
     "data": {
      "image/png": "[encoded data removed]",
      "text/plain": [
       "Plot with title “Top two PC directions”"
      ]
     },
     "metadata": {
      "image/png": {
       "height": 420,
       "width": 420
      }
     },
     "output_type": "display_data"
    }
   ],
   "source": [
    "# Plot the first two principal components, color the party membership\n",
    "plot(pr.out$x[,1], pr.out$x[,2], xlab = \"PC1\", ylab = \"PC2\", col = members$party, main = \"Top two PC directions\")\n",
    "legend('bottomright', legend = levels(members$party), col = 1:3,  pch = 1)"
   ]
  },
  {
   "cell_type": "markdown",
   "metadata": {},
   "source": [
    "**d) With the help of the ﬁrst principal component ﬁnd politicians on the far right (very conservative) and far left (very liberal).**"
   ]
  },
  {
   "cell_type": "code",
   "execution_count": 13,
   "metadata": {
    "collapsed": true,
    "jupyter": {
     "outputs_hidden": true
    }
   },
   "outputs": [
    {
     "data": {
      "text/html": [
       "<style>\n",
       ".dl-inline {width: auto; margin:0; padding: 0}\n",
       ".dl-inline>dt, .dl-inline>dd {float: none; width: auto; display: inline-block}\n",
       ".dl-inline>dt::after {content: \":\\0020\"; padding-right: .5ex}\n",
       ".dl-inline>dt:not(:first-of-type) {padding-left: .5ex}\n",
       "</style><dl class=dl-inline><dt>BROUN (R GA-10)</dt><dd>-39.3739408879416</dd><dt>FLAKE (R AZ-6)</dt><dd>-38.2506713345162</dd><dt>HENSARLIN (R TX-5)</dt><dd>-37.5870597329779</dd><dt>LAMBORN (R CO-5)</dt><dd>-37.3703217908312</dd><dt>FRANKS (R AZ-2)</dt><dd>-37.2284243273723</dd><dt>FOXX (R NC-5)</dt><dd>-37.1170084904362</dd></dl>\n"
      ],
      "text/latex": [
       "\\begin{description*}\n",
       "\\item[BROUN (R GA-10)] -39.3739408879416\n",
       "\\item[FLAKE (R AZ-6)] -38.2506713345162\n",
       "\\item[HENSARLIN (R TX-5)] -37.5870597329779\n",
       "\\item[LAMBORN (R CO-5)] -37.3703217908312\n",
       "\\item[FRANKS (R AZ-2)] -37.2284243273723\n",
       "\\item[FOXX (R NC-5)] -37.1170084904362\n",
       "\\end{description*}\n"
      ],
      "text/markdown": [
       "BROUN (R GA-10)\n",
       ":   -39.3739408879416FLAKE (R AZ-6)\n",
       ":   -38.2506713345162HENSARLIN (R TX-5)\n",
       ":   -37.5870597329779LAMBORN (R CO-5)\n",
       ":   -37.3703217908312FRANKS (R AZ-2)\n",
       ":   -37.2284243273723FOXX (R NC-5)\n",
       ":   -37.1170084904362\n",
       "\n"
      ],
      "text/plain": [
       "   BROUN (R GA-10)     FLAKE (R AZ-6) HENSARLIN (R TX-5)   LAMBORN (R CO-5) \n",
       "         -39.37394          -38.25067          -37.58706          -37.37032 \n",
       "   FRANKS (R AZ-2)      FOXX (R NC-5) \n",
       "         -37.22842          -37.11701 "
      ]
     },
     "metadata": {},
     "output_type": "display_data"
    }
   ],
   "source": [
    "## Far right (very conservative)\n",
    "head(sort(pr.out$x[,1]))"
   ]
  },
  {
   "cell_type": "code",
   "execution_count": 14,
   "metadata": {
    "collapsed": true,
    "jupyter": {
     "outputs_hidden": true
    }
   },
   "outputs": [
    {
     "data": {
      "text/html": [
       "<style>\n",
       ".dl-inline {width: auto; margin:0; padding: 0}\n",
       ".dl-inline>dt, .dl-inline>dd {float: none; width: auto; display: inline-block}\n",
       ".dl-inline>dt::after {content: \":\\0020\"; padding-right: .5ex}\n",
       ".dl-inline>dt:not(:first-of-type) {padding-left: .5ex}\n",
       "</style><dl class=dl-inline><dt>EDWARDS (D MD-4)</dt><dd>25.2915082780819</dd><dt>PRICE (D NC-4)</dt><dd>25.1591151371118</dd><dt>MATSUI (D CA-5)</dt><dd>25.1248117429693</dd><dt>SCHAKOWS (D IL-9)</dt><dd>24.9875446286478</dd><dt>HIRONO (D HI-2)</dt><dd>24.9854652871289</dd><dt>SERRANO (D NY-16)</dt><dd>24.972867617407</dd></dl>\n"
      ],
      "text/latex": [
       "\\begin{description*}\n",
       "\\item[EDWARDS (D MD-4)] 25.2915082780819\n",
       "\\item[PRICE (D NC-4)] 25.1591151371118\n",
       "\\item[MATSUI (D CA-5)] 25.1248117429693\n",
       "\\item[SCHAKOWS (D IL-9)] 24.9875446286478\n",
       "\\item[HIRONO (D HI-2)] 24.9854652871289\n",
       "\\item[SERRANO (D NY-16)] 24.972867617407\n",
       "\\end{description*}\n"
      ],
      "text/markdown": [
       "EDWARDS (D MD-4)\n",
       ":   25.2915082780819PRICE (D NC-4)\n",
       ":   25.1591151371118MATSUI (D CA-5)\n",
       ":   25.1248117429693SCHAKOWS (D IL-9)\n",
       ":   24.9875446286478HIRONO (D HI-2)\n",
       ":   24.9854652871289SERRANO (D NY-16)\n",
       ":   24.972867617407\n",
       "\n"
      ],
      "text/plain": [
       " EDWARDS (D MD-4)    PRICE (D NC-4)   MATSUI (D CA-5) SCHAKOWS (D IL-9) \n",
       "         25.29151          25.15912          25.12481          24.98754 \n",
       "  HIRONO (D HI-2) SERRANO (D NY-16) \n",
       "         24.98547          24.97287 "
      ]
     },
     "metadata": {},
     "output_type": "display_data"
    }
   ],
   "source": [
    "## Far left (very liberal)\n",
    "head(sort(pr.out$x[,1], decreasing=TRUE))"
   ]
  },
  {
   "cell_type": "markdown",
   "metadata": {},
   "source": [
    "**e) Find the votings which have the most extreme loadings for the second principal component. Analyze the voting behavior in these votings and come up with the interpretation of the second component.**"
   ]
  },
  {
   "cell_type": "code",
   "execution_count": 15,
   "metadata": {
    "collapsed": true,
    "jupyter": {
     "outputs_hidden": true
    }
   },
   "outputs": [
    {
     "data": {
      "text/html": [
       "<style>\n",
       ".dl-inline {width: auto; margin:0; padding: 0}\n",
       ".dl-inline>dt, .dl-inline>dd {float: none; width: auto; display: inline-block}\n",
       ".dl-inline>dt::after {content: \":\\0020\"; padding-right: .5ex}\n",
       ".dl-inline>dt:not(:first-of-type) {padding-left: .5ex}\n",
       "</style><dl class=dl-inline><dt>SOLIS (D CA-32)</dt><dd>-88.3135092593957</dd><dt>GILLIBRAND (D NY-20)</dt><dd>-87.5887168745393</dd><dt>PELOSI (D CA-8)</dt><dd>-86.5358556808696</dd><dt>STUTZMAN (R IN-3)</dt><dd>-85.5921731020511</dd><dt>REED (R NY-29)</dt><dd>-85.5363631936198</dd><dt>GRAVES (R GA-9)</dt><dd>-76.4965810795027</dd></dl>\n"
      ],
      "text/latex": [
       "\\begin{description*}\n",
       "\\item[SOLIS (D CA-32)] -88.3135092593957\n",
       "\\item[GILLIBRAND (D NY-20)] -87.5887168745393\n",
       "\\item[PELOSI (D CA-8)] -86.5358556808696\n",
       "\\item[STUTZMAN (R IN-3)] -85.5921731020511\n",
       "\\item[REED (R NY-29)] -85.5363631936198\n",
       "\\item[GRAVES (R GA-9)] -76.4965810795027\n",
       "\\end{description*}\n"
      ],
      "text/markdown": [
       "SOLIS (D CA-32)\n",
       ":   -88.3135092593957GILLIBRAND (D NY-20)\n",
       ":   -87.5887168745393PELOSI (D CA-8)\n",
       ":   -86.5358556808696STUTZMAN (R IN-3)\n",
       ":   -85.5921731020511REED (R NY-29)\n",
       ":   -85.5363631936198GRAVES (R GA-9)\n",
       ":   -76.4965810795027\n",
       "\n"
      ],
      "text/plain": [
       "     SOLIS (D CA-32) GILLIBRAND (D NY-20)      PELOSI (D CA-8) \n",
       "           -88.31351            -87.58872            -86.53586 \n",
       "   STUTZMAN (R IN-3)       REED (R NY-29)      GRAVES (R GA-9) \n",
       "           -85.59217            -85.53636            -76.49658 "
      ]
     },
     "metadata": {},
     "output_type": "display_data"
    }
   ],
   "source": [
    "# PC 2\n",
    "head(sort(pr.out$x[,2]))\n",
    "# No clear pattern based on party and state information"
   ]
  },
  {
   "cell_type": "code",
   "execution_count": 16,
   "metadata": {
    "collapsed": true,
    "jupyter": {
     "outputs_hidden": true
    }
   },
   "outputs": [
    {
     "data": {
      "text/html": [
       "<style>\n",
       ".dl-inline {width: auto; margin:0; padding: 0}\n",
       ".dl-inline>dt, .dl-inline>dd {float: none; width: auto; display: inline-block}\n",
       ".dl-inline>dt::after {content: \":\\0020\"; padding-right: .5ex}\n",
       ".dl-inline>dt:not(:first-of-type) {padding-left: .5ex}\n",
       "</style><dl class=dl-inline><dt>Vote.1146</dt><dd>0.056058623211997</dd><dt>Vote.658</dt><dd>0.0546194670633868</dd><dt>Vote.1090</dt><dd>0.0530080603946946</dd><dt>Vote.1104</dt><dd>0.0516838190839038</dd><dt>Vote.1149</dt><dd>0.0515572859094994</dd></dl>\n"
      ],
      "text/latex": [
       "\\begin{description*}\n",
       "\\item[Vote.1146] 0.056058623211997\n",
       "\\item[Vote.658] 0.0546194670633868\n",
       "\\item[Vote.1090] 0.0530080603946946\n",
       "\\item[Vote.1104] 0.0516838190839038\n",
       "\\item[Vote.1149] 0.0515572859094994\n",
       "\\end{description*}\n"
      ],
      "text/markdown": [
       "Vote.1146\n",
       ":   0.056058623211997Vote.658\n",
       ":   0.0546194670633868Vote.1090\n",
       ":   0.0530080603946946Vote.1104\n",
       ":   0.0516838190839038Vote.1149\n",
       ":   0.0515572859094994\n",
       "\n"
      ],
      "text/plain": [
       " Vote.1146   Vote.658  Vote.1090  Vote.1104  Vote.1149 \n",
       "0.05605862 0.05461947 0.05300806 0.05168382 0.05155729 "
      ]
     },
     "metadata": {},
     "output_type": "display_data"
    }
   ],
   "source": [
    "# Look at the largest loadings in PC2 to discern an interpretation.\n",
    "loadings <- pr.out$rotation\n",
    "loadings[order(abs(loadings[,2]), decreasing=TRUE)[1:5],2]"
   ]
  },
  {
   "cell_type": "code",
   "execution_count": 17,
   "metadata": {
    "collapsed": true,
    "jupyter": {
     "outputs_hidden": true
    }
   },
   "outputs": [
    {
     "data": {
      "text/plain": [
       "\n",
       "  0   1 \n",
       " 16 429 "
      ]
     },
     "metadata": {},
     "output_type": "display_data"
    },
    {
     "data": {
      "text/plain": [
       "\n",
       "  0   1 \n",
       " 13 432 "
      ]
     },
     "metadata": {},
     "output_type": "display_data"
    },
    {
     "data": {
      "text/plain": [
       "\n",
       "  0   1 \n",
       " 22 423 "
      ]
     },
     "metadata": {},
     "output_type": "display_data"
    }
   ],
   "source": [
    "# Analyze voting behavior\n",
    "table(votes[,1146])\n",
    "table(votes[,658])\n",
    "table(votes[,1090])"
   ]
  },
  {
   "cell_type": "code",
   "execution_count": 18,
   "metadata": {
    "collapsed": true,
    "jupyter": {
     "outputs_hidden": true
    }
   },
   "outputs": [
    {
     "data": {
      "text/html": [
       "<style>\n",
       ".dl-inline {width: auto; margin:0; padding: 0}\n",
       ".dl-inline>dt, .dl-inline>dd {float: none; width: auto; display: inline-block}\n",
       ".dl-inline>dt::after {content: \":\\0020\"; padding-right: .5ex}\n",
       ".dl-inline>dt:not(:first-of-type) {padding-left: .5ex}\n",
       "</style><dl class=dl-inline><dt>SOLIS (D CA-32)</dt><dd>1628</dd><dt>GILLIBRAND (D NY-20)</dt><dd>1619</dd><dt>REED (R NY-29)</dt><dd>1562</dd><dt>STUTZMAN (R IN-3)</dt><dd>1557</dd><dt>PELOSI (D CA-8)</dt><dd>1541</dd><dt>GRAVES (R GA-9)</dt><dd>1340</dd></dl>\n"
      ],
      "text/latex": [
       "\\begin{description*}\n",
       "\\item[SOLIS (D CA-32)] 1628\n",
       "\\item[GILLIBRAND (D NY-20)] 1619\n",
       "\\item[REED (R NY-29)] 1562\n",
       "\\item[STUTZMAN (R IN-3)] 1557\n",
       "\\item[PELOSI (D CA-8)] 1541\n",
       "\\item[GRAVES (R GA-9)] 1340\n",
       "\\end{description*}\n"
      ],
      "text/markdown": [
       "SOLIS (D CA-32)\n",
       ":   1628GILLIBRAND (D NY-20)\n",
       ":   1619REED (R NY-29)\n",
       ":   1562STUTZMAN (R IN-3)\n",
       ":   1557PELOSI (D CA-8)\n",
       ":   1541GRAVES (R GA-9)\n",
       ":   1340\n",
       "\n"
      ],
      "text/plain": [
       "     SOLIS (D CA-32) GILLIBRAND (D NY-20)       REED (R NY-29) \n",
       "                1628                 1619                 1562 \n",
       "   STUTZMAN (R IN-3)      PELOSI (D CA-8)      GRAVES (R GA-9) \n",
       "                1557                 1541                 1340 "
      ]
     },
     "metadata": {},
     "output_type": "display_data"
    }
   ],
   "source": [
    "# Either everyone voted \"yea\" or missed the voting.\n",
    "# These votes all correspond to near-unanimous symbolic action.\n",
    "\n",
    "# Mystery Solved: the second PC is just attendance!\n",
    "head(sort(rowSums(votes==0), decreasing=TRUE))"
   ]
  },
  {
   "cell_type": "markdown",
   "metadata": {},
   "source": [
    "<span style=\"color:red; font-weight:bold; font-size:xx-large;\">\n",
    "# Time for a breakout session \n",
    "</span>\n"
   ]
  },
  {
   "cell_type": "markdown",
   "metadata": {},
   "source": [
    "# Clustering"
   ]
  },
  {
   "cell_type": "markdown",
   "metadata": {},
   "source": [
    "**a) Run a k-means clustering procedure to detect 2 clusters in the data. How many Democrats and Republicans are in each cluster?**"
   ]
  },
  {
   "cell_type": "code",
   "execution_count": 23,
   "metadata": {},
   "outputs": [
    {
     "data": {
      "text/plain": [
       "    \n",
       "       1   2\n",
       "  D  258   4\n",
       "  DR   0   1\n",
       "  R    0 182"
      ]
     },
     "metadata": {},
     "output_type": "display_data"
    }
   ],
   "source": [
    "set.seed(11122019)\n",
    "\n",
    "# K-means clustering with 2 clusters\n",
    "km.out = kmeans(votes, 2, nstart = 20)\n",
    "#km.out$cluster\n",
    "# Tabulate party vs cluster\n",
    "table(members$party, km.out$cluster)\n"
   ]
  },
  {
   "cell_type": "code",
   "execution_count": 24,
   "metadata": {},
   "outputs": [
    {
     "data": {
      "text/html": [
       "<style>\n",
       ".dl-inline {width: auto; margin:0; padding: 0}\n",
       ".dl-inline>dt, .dl-inline>dd {float: none; width: auto; display: inline-block}\n",
       ".dl-inline>dt::after {content: \":\\0020\"; padding-right: .5ex}\n",
       ".dl-inline>dt:not(:first-of-type) {padding-left: .5ex}\n",
       "</style><dl class=dl-inline><dt>BONNER (R AL-1)</dt><dd>2</dd><dt>BRIGHT (D AL-2)</dt><dd>2</dd><dt>ROGERS (R AL-3)</dt><dd>2</dd><dt>ADERHOLT (R AL-4)</dt><dd>2</dd><dt>GRIFFITH (D/R AL-5)</dt><dd>2</dd><dt>BACHUS (R AL-6)</dt><dd>2</dd><dt>DAVIS (D AL-7)</dt><dd>1</dd><dt>YOUNG (R AK-1)</dt><dd>2</dd><dt>KIRKPATRICK (D AZ-1)</dt><dd>1</dd><dt>FRANKS (R AZ-2)</dt><dd>2</dd><dt>SHADEGG (R AZ-3)</dt><dd>2</dd><dt>PASTOR (D AZ-4)</dt><dd>1</dd><dt>MITCHELL (D AZ-5)</dt><dd>1</dd><dt>FLAKE (R AZ-6)</dt><dd>2</dd><dt>GRIJALVA (D AZ-7)</dt><dd>1</dd><dt>GIFFORDS (D AZ-8)</dt><dd>1</dd><dt>BERRY (D AR-1)</dt><dd>1</dd><dt>SNYDER (D AR-2)</dt><dd>1</dd><dt>BOOZMAN (R AR-3)</dt><dd>2</dd><dt>ROSS (D AR-4)</dt><dd>1</dd><dt>THOMPSON (D CA-1)</dt><dd>1</dd><dt>HERGER (R CA-2)</dt><dd>2</dd><dt>LUNGREN (R CA-3)</dt><dd>2</dd><dt>MCCLINTOCK (R CA-4)</dt><dd>2</dd><dt>MATSUI (D CA-5)</dt><dd>1</dd><dt>WOOLSEY (D CA-6)</dt><dd>1</dd><dt>MILLER (D CA-7)</dt><dd>1</dd><dt>PELOSI (D CA-8)</dt><dd>1</dd><dt>LEE (D CA-9)</dt><dd>1</dd><dt>TAUSCHER (D CA-10)</dt><dd>1</dd><dt>GARAMENDI (D CA-10)</dt><dd>1</dd><dt>MCNERNEY (D CA-11)</dt><dd>1</dd><dt>SPEIER (D CA-12)</dt><dd>1</dd><dt>STARK (D CA-13)</dt><dd>1</dd><dt>ESHOO (D CA-14)</dt><dd>1</dd><dt>HONDA (D CA-15)</dt><dd>1</dd><dt>LOFGREN (D CA-16)</dt><dd>1</dd><dt>FARR (D CA-17)</dt><dd>1</dd><dt>CARDOZA (D CA-18)</dt><dd>1</dd><dt>RADANOVI (R CA-19)</dt><dd>2</dd><dt>COSTA (D CA-20)</dt><dd>1</dd><dt>NUNES (R CA-21)</dt><dd>2</dd><dt>MCCARTHY (R CA-22)</dt><dd>2</dd><dt>CAPPS (D CA-23)</dt><dd>1</dd><dt>GALLEGLY (R CA-24)</dt><dd>2</dd><dt>MCKEON (R CA-25)</dt><dd>2</dd><dt>DREIER (R CA-26)</dt><dd>2</dd><dt>SHERMAN (D CA-27)</dt><dd>1</dd><dt>BERMAN (D CA-28)</dt><dd>1</dd><dt>SCHIFF (D CA-29)</dt><dd>1</dd><dt>WAXMAN (D CA-30)</dt><dd>1</dd><dt>BECERRA (D CA-31)</dt><dd>1</dd><dt>SOLIS (D CA-32)</dt><dd>2</dd><dt>CHU (D CA-32)</dt><dd>1</dd><dt>WATSON (D CA-33)</dt><dd>1</dd><dt>ROYBAL-A (D CA-34)</dt><dd>1</dd><dt>WATERS (D CA-35)</dt><dd>1</dd><dt>HARMAN (D CA-36)</dt><dd>1</dd><dt>RICHARDSON (D CA-37)</dt><dd>1</dd><dt>NAPOLITA (D CA-38)</dt><dd>1</dd><dt>SANCHEZ (D CA-39)</dt><dd>1</dd><dt>ROYCE (R CA-40)</dt><dd>2</dd><dt>LEWIS (R CA-41)</dt><dd>2</dd><dt>MILLER (R CA-42)</dt><dd>2</dd><dt>BACA (D CA-43)</dt><dd>1</dd><dt>CALVERT (R CA-44)</dt><dd>2</dd><dt>BONO (R CA-45)</dt><dd>2</dd><dt>ROHRABAC (R CA-46)</dt><dd>2</dd><dt>SANCHEZ (D CA-47)</dt><dd>1</dd><dt>CAMPBELL (R CA-48)</dt><dd>2</dd><dt>ISSA (R CA-49)</dt><dd>2</dd><dt>BILBRAY (R CA-50)</dt><dd>2</dd><dt>FILNER (D CA-51)</dt><dd>1</dd><dt>HUNTER (R CA-52)</dt><dd>2</dd><dt>DAVIS (D CA-53)</dt><dd>1</dd><dt>DEGETTE (D CO-1)</dt><dd>1</dd><dt>POLIS (D CO-2)</dt><dd>1</dd><dt>SALAZAR (D CO-3)</dt><dd>1</dd><dt>MARKEY (D CO-4)</dt><dd>1</dd><dt>LAMBORN (R CO-5)</dt><dd>2</dd><dt>COFFMAN (R CO-6)</dt><dd>2</dd><dt>PERLMUTTER (D CO-7)</dt><dd>1</dd><dt>LARSON (D CT-1)</dt><dd>1</dd><dt>COURTNEY (D CT-2)</dt><dd>1</dd><dt>DELAURO (D CT-3)</dt><dd>1</dd><dt>HIMES (D CT-4)</dt><dd>1</dd><dt>MURPHY (D CT-5)</dt><dd>1</dd><dt>CASTLE (R DE-1)</dt><dd>2</dd><dt>MILLER (R FL-1)</dt><dd>2</dd><dt>BOYD (D FL-2)</dt><dd>1</dd><dt>BROWN (D FL-3)</dt><dd>1</dd><dt>CRENSHAW (R FL-4)</dt><dd>2</dd><dt>BROWN-WAI (R FL-5)</dt><dd>2</dd><dt>STEARNS (R FL-6)</dt><dd>2</dd><dt>MICA (R FL-7)</dt><dd>2</dd><dt>GRAYSON (D FL-8)</dt><dd>1</dd><dt>BILIRAKI (R FL-9)</dt><dd>2</dd><dt>YOUNG (R FL-10)</dt><dd>2</dd><dt>CASTOR (D FL-11)</dt><dd>1</dd><dt>PUTNAM (R FL-12)</dt><dd>2</dd><dt>BUCHANAN (R FL-13)</dt><dd>2</dd><dt>MACK (R FL-14)</dt><dd>2</dd><dt>POSEY (R FL-15)</dt><dd>2</dd><dt>ROONEY (R FL-16)</dt><dd>2</dd><dt>MEEK (D FL-17)</dt><dd>1</dd><dt>ROS-LEHT (R FL-18)</dt><dd>2</dd><dt>WEXLER (D FL-19)</dt><dd>1</dd><dt>DEUTCH (D FL-19)</dt><dd>1</dd><dt>WASSERMA (D FL-20)</dt><dd>1</dd><dt>DIAZ-BAL (R FL-21)</dt><dd>2</dd><dt>KLEIN (D FL-22)</dt><dd>1</dd><dt>HASTINGS (D FL-23)</dt><dd>1</dd><dt>KOSMAS (D FL-24)</dt><dd>1</dd><dt>DIAZ-BALA (R FL-25)</dt><dd>2</dd><dt>KINGSTON (R GA-1)</dt><dd>2</dd><dt>BISHOP (D GA-2)</dt><dd>1</dd><dt>WESTMORE (R GA-3)</dt><dd>2</dd><dt>JOHNSON (D GA-4)</dt><dd>1</dd><dt>LEWIS (D GA-5)</dt><dd>1</dd><dt>PRICE (R GA-6)</dt><dd>2</dd><dt>LINDER (R GA-7)</dt><dd>2</dd><dt>MARSHALL (D GA-8)</dt><dd>1</dd><dt>DEAL (R GA-9)</dt><dd>2</dd><dt>GRAVES (R GA-9)</dt><dd>2</dd><dt>BROUN (R GA-10)</dt><dd>2</dd><dt>GINGREY (R GA-11)</dt><dd>2</dd><dt>BARROW (D GA-12)</dt><dd>1</dd><dt>SCOTT (D GA-13)</dt><dd>1</dd><dt>ABERCROM (D HI-1)</dt><dd>1</dd><dt>DJOU (R HI-1)</dt><dd>2</dd><dt>HIRONO (D HI-2)</dt><dd>1</dd><dt>MINNICK (D ID-1)</dt><dd>2</dd><dt>SIMPSON (R ID-2)</dt><dd>2</dd><dt>RUSH (D IL-1)</dt><dd>1</dd><dt>JACKSON (D IL-2)</dt><dd>1</dd><dt>LIPINSKI (D IL-3)</dt><dd>1</dd><dt>GUTIERRE (D IL-4)</dt><dd>1</dd><dt>QUIGLEY (D IL-5)</dt><dd>1</dd><dt>ROSKAM (R IL-6)</dt><dd>2</dd><dt>DAVIS (D IL-7)</dt><dd>1</dd><dt>BEAN (D IL-8)</dt><dd>1</dd><dt>SCHAKOWS (D IL-9)</dt><dd>1</dd><dt>KIRK (R IL-10)</dt><dd>2</dd><dt>HALVORSON (D IL-11)</dt><dd>1</dd><dt>COSTELLO (D IL-12)</dt><dd>1</dd><dt>BIGGERT (R IL-13)</dt><dd>2</dd><dt>FOSTER (D IL-14)</dt><dd>1</dd><dt>JOHNSON (R IL-15)</dt><dd>2</dd><dt>MANZULLO (R IL-16)</dt><dd>2</dd><dt>HARE (D IL-17)</dt><dd>1</dd><dt>SCHOCK (R IL-18)</dt><dd>2</dd><dt>SHIMKUS (R IL-19)</dt><dd>2</dd><dt>VISCLOSK (D IN-1)</dt><dd>1</dd><dt>DONNELLY (D IN-2)</dt><dd>1</dd><dt>SOUDER (R IN-3)</dt><dd>2</dd><dt>STUTZMAN (R IN-3)</dt><dd>2</dd><dt>BUYER (R IN-4)</dt><dd>2</dd><dt>BURTON (R IN-5)</dt><dd>2</dd><dt>PENCE (R IN-6)</dt><dd>2</dd><dt>CARSON (D IN-7)</dt><dd>1</dd><dt>ELLSWORTH (D IN-8)</dt><dd>1</dd><dt>HILL (D IN-9)</dt><dd>1</dd><dt>BRALEY (D IA-1)</dt><dd>1</dd><dt>LOEBSACK (D IA-2)</dt><dd>1</dd><dt>BOSWELL (D IA-3)</dt><dd>1</dd><dt>LATHAM (R IA-4)</dt><dd>2</dd><dt>KING (R IA-5)</dt><dd>2</dd><dt>MORAN (R KS-1)</dt><dd>2</dd><dt>JENKINS (R KS-2)</dt><dd>2</dd><dt>MOORE (D KS-3)</dt><dd>1</dd><dt>TIAHRT (R KS-4)</dt><dd>2</dd><dt>WHITFIEL (R KY-1)</dt><dd>2</dd><dt>GUTHRIE (R KY-2)</dt><dd>2</dd><dt>YARMUTH (D KY-3)</dt><dd>1</dd><dt>DAVIS (R KY-4)</dt><dd>2</dd><dt>ROGERS (R KY-5)</dt><dd>2</dd><dt>CHANDLER (D KY-6)</dt><dd>1</dd><dt>SCALISE (R LA-1)</dt><dd>2</dd><dt>CAO (R LA-2)</dt><dd>2</dd><dt>MELANCON (D LA-3)</dt><dd>1</dd><dt>FLEMING (R LA-4)</dt><dd>2</dd><dt>ALEXANDER (R LA-5)</dt><dd>2</dd><dt>CASSIDY (R LA-6)</dt><dd>2</dd><dt>BOUSTANY (R LA-7)</dt><dd>2</dd><dt>PINGREE (D ME-1)</dt><dd>1</dd><dt>MICHAUD (D ME-2)</dt><dd>1</dd><dt>KRATOVIL (D MD-1)</dt><dd>1</dd><dt>RUPPERSBE (D MD-2)</dt><dd>1</dd><dt>SARBANES (D MD-3)</dt><dd>1</dd><dt>EDWARDS (D MD-4)</dt><dd>1</dd><dt>HOYER (D MD-5)</dt><dd>1</dd><dt>BARTLETT (R MD-6)</dt><dd>2</dd><dt>CUMMINGS (D MD-7)</dt><dd>1</dd><dt>VAN (D MD-8)</dt><dd>1</dd><dt>OLVER (D MA-1)</dt><dd>1</dd><dt>NEAL (D MA-2)</dt><dd>1</dd><dt>MCGOVERN (D MA-3)</dt><dd>1</dd><dt>FRANK (D MA-4)</dt><dd>1</dd><dt>TSONGAS (D MA-5)</dt><dd>1</dd><dt>TIERNEY (D MA-6)</dt><dd>1</dd><dt>MARKEY (D MA-7)</dt><dd>⋯</dd><dt>CAPUANO (D MA-8)</dt><dd>2</dd><dt>LYNCH (D MA-9)</dt><dd>1</dd><dt>DELAHUNT (D MA-10)</dt><dd>1</dd><dt>STUPAK (D MI-1)</dt><dd>1</dd><dt>HOEKSTRA (R MI-2)</dt><dd>1</dd><dt>EHLERS (R MI-3)</dt><dd>2</dd><dt>CAMP (R MI-4)</dt><dd>1</dd><dt>KILDEE (D MI-5)</dt><dd>2</dd><dt>UPTON (R MI-6)</dt><dd>2</dd><dt>SCHAUER (D MI-7)</dt><dd>1</dd><dt>ROGERS (R MI-8)</dt><dd>2</dd><dt>PETERS (D MI-9)</dt><dd>1</dd><dt>MILLER (R MI-10)</dt><dd>1</dd><dt>MCCOTTER (R MI-11)</dt><dd>1</dd><dt>LEVIN (D MI-12)</dt><dd>2</dd><dt>KILPATRI (D MI-13)</dt><dd>1</dd><dt>CONYERS (D MI-14)</dt><dd>1</dd><dt>DINGELL (D MI-15)</dt><dd>1</dd><dt>WALZ (D MN-1)</dt><dd>1</dd><dt>KLINE (R MN-2)</dt><dd>1</dd><dt>PAULSEN (R MN-3)</dt><dd>1</dd><dt>MCCOLLUM (D MN-4)</dt><dd>1</dd><dt>ELLISON (D MN-5)</dt><dd>2</dd><dt>BACHMANN (R MN-6)</dt><dd>1</dd><dt>PETERSON (D MN-7)</dt><dd>1</dd><dt>OBERSTAR (D MN-8)</dt><dd>1</dd><dt>CHILDERS (D MS-1)</dt><dd>1</dd><dt>THOMPSON (D MS-2)</dt><dd>1</dd><dt>HARPER (R MS-3)</dt><dd>1</dd><dt>TAYLOR (D MS-4)</dt><dd>1</dd><dt>CLAY (D MO-1)</dt><dd>1</dd><dt>AKIN (R MO-2)</dt><dd>1</dd><dt>CARNAHAN (D MO-3)</dt><dd>1</dd><dt>SKELTON (D MO-4)</dt><dd>1</dd><dt>CLEAVER (D MO-5)</dt><dd>1</dd><dt>GRAVES (R MO-6)</dt><dd>1</dd><dt>BLUNT (R MO-7)</dt><dd>1</dd><dt>EMERSON (R MO-8)</dt><dd>1</dd><dt>LUETKEMEYER (R MO-9)</dt><dd>1</dd><dt>REHBERG (R MT-1)</dt><dd>2</dd><dt>FORTENBE (R NE-1)</dt><dd>1</dd><dt>TERRY (R NE-2)</dt><dd>1</dd><dt>SMITH (R NE-3)</dt><dd>1</dd><dt>BERKLEY (D NV-1)</dt><dd>2</dd><dt>HELLER (R NV-2)</dt><dd>1</dd><dt>TITUS (D NV-3)</dt><dd>1</dd><dt>SHEA-PORTER (D NH-1)</dt><dd>1</dd><dt>HODES (D NH-2)</dt><dd>2</dd><dt>ANDREWS (D NJ-1)</dt><dd>1</dd><dt>LOBIONDO (R NJ-2)</dt><dd>1</dd><dt>ADLER (D NJ-3)</dt><dd>1</dd><dt>SMITH (R NJ-4)</dt><dd>2</dd><dt>GARRETT (R NJ-5)</dt><dd>1</dd><dt>PALLONE (D NJ-6)</dt><dd>1</dd><dt>LANCE (R NJ-7)</dt><dd>2</dd><dt>PASCRELL (D NJ-8)</dt><dd>1</dd><dt>ROTHMAN (D NJ-9)</dt><dd>2</dd><dt>PAYNE (D NJ-10)</dt><dd>2</dd><dt>FRELINGH (R NJ-11)</dt><dd>1</dd><dt>HOLT (D NJ-12)</dt><dd>1</dd><dt>SIRES (D NJ-13)</dt><dd>2</dd><dt>HEINRICH (D NM-1)</dt><dd>2</dd><dt>TEAGUE (D NM-2)</dt><dd>1</dd><dt>LUJAN (D NM-3)</dt><dd>1</dd><dt>BISHOP (D NY-1)</dt><dd>1</dd><dt>ISRAEL (D NY-2)</dt><dd>1</dd><dt>KING (R NY-3)</dt><dd>1</dd><dt>MCCARTHY (D NY-4)</dt><dd>2</dd><dt>ACKERMAN (D NY-5)</dt><dd>2</dd><dt>MEEKS (D NY-6)</dt><dd>2</dd><dt>CROWLEY (D NY-7)</dt><dd>2</dd><dt>NADLER (D NY-8)</dt><dd>1</dd><dt>WEINER (D NY-9)</dt><dd>2</dd><dt>TOWNS (D NY-10)</dt><dd>2</dd><dt>CLARKE (D NY-11)</dt><dd>1</dd><dt>VELAZQUE (D NY-12)</dt><dd>1</dd><dt>MCMAHON (D NY-13)</dt><dd>1</dd><dt>MALONEY (D NY-14)</dt><dd>2</dd><dt>RANGEL (D NY-15)</dt><dd>1</dd><dt>SERRANO (D NY-16)</dt><dd>2</dd><dt>ENGEL (D NY-17)</dt><dd>1</dd><dt>LOWEY (D NY-18)</dt><dd>1</dd><dt>HALL (D NY-19)</dt><dd>1</dd><dt>GILLIBRAND (D NY-20)</dt><dd>1</dd><dt>MURPHY (D NY-20)</dt><dd>2</dd><dt>TONKO (D NY-21)</dt><dd>1</dd><dt>HINCHEY (D NY-22)</dt><dd>2</dd><dt>MCHUGH (R NY-23)</dt><dd>2</dd><dt>OWENS (D NY-23)</dt><dd>2</dd><dt>ARCURI (D NY-24)</dt><dd>1</dd><dt>MAFFEI (D NY-25)</dt><dd>2</dd><dt>LEE (R NY-26)</dt><dd>1</dd><dt>HIGGINS (D NY-27)</dt><dd>1</dd><dt>SLAUGHTE (D NY-28)</dt><dd>1</dd><dt>MASSA (D NY-29)</dt><dd>1</dd><dt>REED (R NY-29)</dt><dd>1</dd><dt>BUTTERFI (D NC-1)</dt><dd>1</dd><dt>ETHERIDG (D NC-2)</dt><dd>1</dd><dt>JONES (R NC-3)</dt><dd>2</dd><dt>PRICE (D NC-4)</dt><dd>2</dd><dt>FOXX (R NC-5)</dt><dd>1</dd><dt>COBLE (R NC-6)</dt><dd>1</dd><dt>MCINTYRE (D NC-7)</dt><dd>2</dd><dt>KISSELL (D NC-8)</dt><dd>1</dd><dt>MYRICK (R NC-9)</dt><dd>1</dd><dt>MCHENRY (R NC-10)</dt><dd>1</dd><dt>SHULER (D NC-11)</dt><dd>1</dd><dt>WATT (D NC-12)</dt><dd>1</dd><dt>MILLER (D NC-13)</dt><dd>1</dd><dt>POMEROY (D ND-1)</dt><dd>2</dd><dt>DRIEHAUS (D OH-1)</dt><dd>2</dd><dt>SCHMIDT (R OH-2)</dt><dd>1</dd><dt>TURNER (R OH-3)</dt><dd>2</dd><dt>JORDAN (R OH-4)</dt><dd>2</dd><dt>LATTA (R OH-5)</dt><dd>1</dd><dt>WILSON (D OH-6)</dt><dd>1</dd><dt>AUSTRIA (R OH-7)</dt><dd>2</dd><dt>BOEHNER (R OH-8)</dt><dd>2</dd><dt>KAPTUR (D OH-9)</dt><dd>2</dd><dt>KUCINICH (D OH-10)</dt><dd>2</dd><dt>FUDGE (D OH-11)</dt><dd>1</dd><dt>TIBERI (R OH-12)</dt><dd>1</dd><dt>SUTTON (D OH-13)</dt><dd>1</dd><dt>LATOURET (R OH-14)</dt><dd>2</dd><dt>KILROY (D OH-15)</dt><dd>2</dd><dt>BOCCIERI (D OH-16)</dt><dd>2</dd><dt>RYAN (D OH-17)</dt><dd>1</dd><dt>SPACE (D OH-18)</dt><dd>1</dd><dt>SULLIVAN (R OK-1)</dt><dd>1</dd><dt>BOREN (D OK-2)</dt><dd>2</dd><dt>LUCAS (R OK-3)</dt><dd>1</dd><dt>COLE (R OK-4)</dt><dd>1</dd><dt>FALLIN (R OK-5)</dt><dd>2</dd><dt>WU (D OR-1)</dt><dd>2</dd><dt>WALDEN (R OR-2)</dt><dd>2</dd><dt>BLUMENAU (D OR-3)</dt><dd>2</dd><dt>DEFAZIO (D OR-4)</dt><dd>2</dd><dt>SCHRADER (D OR-5)</dt><dd>2</dd><dt>BRADY (D PA-1)</dt><dd>2</dd><dt>FATTAH (D PA-2)</dt><dd>2</dd><dt>DAHLKEMPER (D PA-3)</dt><dd>1</dd><dt>ALTMIRE (D PA-4)</dt><dd>2</dd><dt>THOMPSON (R PA-5)</dt><dd>2</dd><dt>GERLACH (R PA-6)</dt><dd>2</dd><dt>SESTAK (D PA-7)</dt><dd>2</dd><dt>MURPHY (D PA-8)</dt><dd>2</dd><dt>SHUSTER (R PA-9)</dt><dd>1</dd><dt>CARNEY (D PA-10)</dt><dd>1</dd><dt>KANJORSK (D PA-11)</dt><dd>1</dd><dt>MURTHA (D PA-12)</dt><dd>1</dd><dt>CRITZ (D PA-12)</dt><dd>2</dd><dt>SCHWARTZ (D PA-13)</dt><dd>1</dd><dt>DOYLE (D PA-14)</dt><dd>2</dd><dt>DENT (R PA-15)</dt><dd>2</dd><dt>PITTS (R PA-16)</dt><dd>1</dd><dt>HOLDEN (D PA-17)</dt><dd>2</dd><dt>MURPHY (R PA-18)</dt><dd>1</dd><dt>PLATTS (R PA-19)</dt><dd>2</dd><dt>KENNEDY (D RI-1)</dt><dd>1</dd><dt>LANGEVIN (D RI-2)</dt><dd>1</dd><dt>BROWN (R SC-1)</dt><dd>1</dd><dt>WILSON (R SC-2)</dt><dd>1</dd><dt>BARRETT (R SC-3)</dt><dd>2</dd><dt>INGLIS (R SC-4)</dt><dd>2</dd><dt>SPRATT (D SC-5)</dt><dd>2</dd><dt>CLYBURN (D SC-6)</dt><dd>1</dd><dt>HERSETH (D SD-1)</dt><dd>2</dd><dt>ROE (R TN-1)</dt><dd>1</dd><dt>DUNCAN (R TN-2)</dt><dd>2</dd><dt>WAMP (R TN-3)</dt><dd>1</dd><dt>DAVIS (D TN-4)</dt><dd>1</dd><dt>COOPER (D TN-5)</dt><dd>2</dd><dt>GORDON (D TN-6)</dt><dd>1</dd><dt>BLACKBURN (R TN-7)</dt><dd>2</dd><dt>TANNER (D TN-8)</dt><dd>2</dd><dt>COHEN (D TN-9)</dt><dd>1</dd><dt>GOHMERT (R TX-1)</dt><dd>1</dd><dt>POE (R TX-2)</dt><dd>2</dd><dt>JOHNSON (R TX-3)</dt><dd>1</dd><dt>HALL (R TX-4)</dt><dd>1</dd><dt>HENSARLIN (R TX-5)</dt><dd>1</dd><dt>BARTON (R TX-6)</dt><dd>1</dd><dt>CULBERSO (R TX-7)</dt><dd>2</dd><dt>BRADY (R TX-8)</dt><dd>2</dd><dt>GREEN (D TX-9)</dt><dd>1</dd><dt>MCCAUL (R TX-10)</dt><dd>1</dd><dt>CONAWAY (R TX-11)</dt><dd>2</dd><dt>GRANGER (R TX-12)</dt><dd>1</dd><dt>THORNBER (R TX-13)</dt><dd>1</dd><dt>PAUL (R TX-14)</dt><dd>2</dd><dt>HINOJOSA (D TX-15)</dt><dd>1</dd><dt>REYES (D TX-16)</dt><dd>2</dd><dt>EDWARDS (D TX-17)</dt><dd>1</dd><dt>JACKSON- (D TX-18)</dt><dd>1</dd><dt>NEUGEBAUE (R TX-19)</dt><dd>1</dd><dt>GONZALEZ (D TX-20)</dt><dd>2</dd><dt>SMITH (R TX-21)</dt><dd>2</dd><dt>OLSON (R TX-22)</dt><dd>1</dd><dt>RODRIGUEZ (D TX-23)</dt><dd>1</dd><dt>MARCHANT (R TX-24)</dt><dd>2</dd></dl>\n"
      ],
      "text/latex": [
       "\\begin{description*}\n",
       "\\item[BONNER (R AL-1)] 2\n",
       "\\item[BRIGHT (D AL-2)] 2\n",
       "\\item[ROGERS (R AL-3)] 2\n",
       "\\item[ADERHOLT (R AL-4)] 2\n",
       "\\item[GRIFFITH (D/R AL-5)] 2\n",
       "\\item[BACHUS (R AL-6)] 2\n",
       "\\item[DAVIS (D AL-7)] 1\n",
       "\\item[YOUNG (R AK-1)] 2\n",
       "\\item[KIRKPATRICK (D AZ-1)] 1\n",
       "\\item[FRANKS (R AZ-2)] 2\n",
       "\\item[SHADEGG (R AZ-3)] 2\n",
       "\\item[PASTOR (D AZ-4)] 1\n",
       "\\item[MITCHELL (D AZ-5)] 1\n",
       "\\item[FLAKE (R AZ-6)] 2\n",
       "\\item[GRIJALVA (D AZ-7)] 1\n",
       "\\item[GIFFORDS (D AZ-8)] 1\n",
       "\\item[BERRY (D AR-1)] 1\n",
       "\\item[SNYDER (D AR-2)] 1\n",
       "\\item[BOOZMAN (R AR-3)] 2\n",
       "\\item[ROSS (D AR-4)] 1\n",
       "\\item[THOMPSON (D CA-1)] 1\n",
       "\\item[HERGER (R CA-2)] 2\n",
       "\\item[LUNGREN (R CA-3)] 2\n",
       "\\item[MCCLINTOCK (R CA-4)] 2\n",
       "\\item[MATSUI (D CA-5)] 1\n",
       "\\item[WOOLSEY (D CA-6)] 1\n",
       "\\item[MILLER (D CA-7)] 1\n",
       "\\item[PELOSI (D CA-8)] 1\n",
       "\\item[LEE (D CA-9)] 1\n",
       "\\item[TAUSCHER (D CA-10)] 1\n",
       "\\item[GARAMENDI (D CA-10)] 1\n",
       "\\item[MCNERNEY (D CA-11)] 1\n",
       "\\item[SPEIER (D CA-12)] 1\n",
       "\\item[STARK (D CA-13)] 1\n",
       "\\item[ESHOO (D CA-14)] 1\n",
       "\\item[HONDA (D CA-15)] 1\n",
       "\\item[LOFGREN (D CA-16)] 1\n",
       "\\item[FARR (D CA-17)] 1\n",
       "\\item[CARDOZA (D CA-18)] 1\n",
       "\\item[RADANOVI (R CA-19)] 2\n",
       "\\item[COSTA (D CA-20)] 1\n",
       "\\item[NUNES (R CA-21)] 2\n",
       "\\item[MCCARTHY (R CA-22)] 2\n",
       "\\item[CAPPS (D CA-23)] 1\n",
       "\\item[GALLEGLY (R CA-24)] 2\n",
       "\\item[MCKEON (R CA-25)] 2\n",
       "\\item[DREIER (R CA-26)] 2\n",
       "\\item[SHERMAN (D CA-27)] 1\n",
       "\\item[BERMAN (D CA-28)] 1\n",
       "\\item[SCHIFF (D CA-29)] 1\n",
       "\\item[WAXMAN (D CA-30)] 1\n",
       "\\item[BECERRA (D CA-31)] 1\n",
       "\\item[SOLIS (D CA-32)] 2\n",
       "\\item[CHU (D CA-32)] 1\n",
       "\\item[WATSON (D CA-33)] 1\n",
       "\\item[ROYBAL-A (D CA-34)] 1\n",
       "\\item[WATERS (D CA-35)] 1\n",
       "\\item[HARMAN (D CA-36)] 1\n",
       "\\item[RICHARDSON (D CA-37)] 1\n",
       "\\item[NAPOLITA (D CA-38)] 1\n",
       "\\item[SANCHEZ (D CA-39)] 1\n",
       "\\item[ROYCE (R CA-40)] 2\n",
       "\\item[LEWIS (R CA-41)] 2\n",
       "\\item[MILLER (R CA-42)] 2\n",
       "\\item[BACA (D CA-43)] 1\n",
       "\\item[CALVERT (R CA-44)] 2\n",
       "\\item[BONO (R CA-45)] 2\n",
       "\\item[ROHRABAC (R CA-46)] 2\n",
       "\\item[SANCHEZ (D CA-47)] 1\n",
       "\\item[CAMPBELL (R CA-48)] 2\n",
       "\\item[ISSA (R CA-49)] 2\n",
       "\\item[BILBRAY (R CA-50)] 2\n",
       "\\item[FILNER (D CA-51)] 1\n",
       "\\item[HUNTER (R CA-52)] 2\n",
       "\\item[DAVIS (D CA-53)] 1\n",
       "\\item[DEGETTE (D CO-1)] 1\n",
       "\\item[POLIS (D CO-2)] 1\n",
       "\\item[SALAZAR (D CO-3)] 1\n",
       "\\item[MARKEY (D CO-4)] 1\n",
       "\\item[LAMBORN (R CO-5)] 2\n",
       "\\item[COFFMAN (R CO-6)] 2\n",
       "\\item[PERLMUTTER (D CO-7)] 1\n",
       "\\item[LARSON (D CT-1)] 1\n",
       "\\item[COURTNEY (D CT-2)] 1\n",
       "\\item[DELAURO (D CT-3)] 1\n",
       "\\item[HIMES (D CT-4)] 1\n",
       "\\item[MURPHY (D CT-5)] 1\n",
       "\\item[CASTLE (R DE-1)] 2\n",
       "\\item[MILLER (R FL-1)] 2\n",
       "\\item[BOYD (D FL-2)] 1\n",
       "\\item[BROWN (D FL-3)] 1\n",
       "\\item[CRENSHAW (R FL-4)] 2\n",
       "\\item[BROWN-WAI (R FL-5)] 2\n",
       "\\item[STEARNS (R FL-6)] 2\n",
       "\\item[MICA (R FL-7)] 2\n",
       "\\item[GRAYSON (D FL-8)] 1\n",
       "\\item[BILIRAKI (R FL-9)] 2\n",
       "\\item[YOUNG (R FL-10)] 2\n",
       "\\item[CASTOR (D FL-11)] 1\n",
       "\\item[PUTNAM (R FL-12)] 2\n",
       "\\item[BUCHANAN (R FL-13)] 2\n",
       "\\item[MACK (R FL-14)] 2\n",
       "\\item[POSEY (R FL-15)] 2\n",
       "\\item[ROONEY (R FL-16)] 2\n",
       "\\item[MEEK (D FL-17)] 1\n",
       "\\item[ROS-LEHT (R FL-18)] 2\n",
       "\\item[WEXLER (D FL-19)] 1\n",
       "\\item[DEUTCH (D FL-19)] 1\n",
       "\\item[WASSERMA (D FL-20)] 1\n",
       "\\item[DIAZ-BAL (R FL-21)] 2\n",
       "\\item[KLEIN (D FL-22)] 1\n",
       "\\item[HASTINGS (D FL-23)] 1\n",
       "\\item[KOSMAS (D FL-24)] 1\n",
       "\\item[DIAZ-BALA (R FL-25)] 2\n",
       "\\item[KINGSTON (R GA-1)] 2\n",
       "\\item[BISHOP (D GA-2)] 1\n",
       "\\item[WESTMORE (R GA-3)] 2\n",
       "\\item[JOHNSON (D GA-4)] 1\n",
       "\\item[LEWIS (D GA-5)] 1\n",
       "\\item[PRICE (R GA-6)] 2\n",
       "\\item[LINDER (R GA-7)] 2\n",
       "\\item[MARSHALL (D GA-8)] 1\n",
       "\\item[DEAL (R GA-9)] 2\n",
       "\\item[GRAVES (R GA-9)] 2\n",
       "\\item[BROUN (R GA-10)] 2\n",
       "\\item[GINGREY (R GA-11)] 2\n",
       "\\item[BARROW (D GA-12)] 1\n",
       "\\item[SCOTT (D GA-13)] 1\n",
       "\\item[ABERCROM (D HI-1)] 1\n",
       "\\item[DJOU (R HI-1)] 2\n",
       "\\item[HIRONO (D HI-2)] 1\n",
       "\\item[MINNICK (D ID-1)] 2\n",
       "\\item[SIMPSON (R ID-2)] 2\n",
       "\\item[RUSH (D IL-1)] 1\n",
       "\\item[JACKSON (D IL-2)] 1\n",
       "\\item[LIPINSKI (D IL-3)] 1\n",
       "\\item[GUTIERRE (D IL-4)] 1\n",
       "\\item[QUIGLEY (D IL-5)] 1\n",
       "\\item[ROSKAM (R IL-6)] 2\n",
       "\\item[DAVIS (D IL-7)] 1\n",
       "\\item[BEAN (D IL-8)] 1\n",
       "\\item[SCHAKOWS (D IL-9)] 1\n",
       "\\item[KIRK (R IL-10)] 2\n",
       "\\item[HALVORSON (D IL-11)] 1\n",
       "\\item[COSTELLO (D IL-12)] 1\n",
       "\\item[BIGGERT (R IL-13)] 2\n",
       "\\item[FOSTER (D IL-14)] 1\n",
       "\\item[JOHNSON (R IL-15)] 2\n",
       "\\item[MANZULLO (R IL-16)] 2\n",
       "\\item[HARE (D IL-17)] 1\n",
       "\\item[SCHOCK (R IL-18)] 2\n",
       "\\item[SHIMKUS (R IL-19)] 2\n",
       "\\item[VISCLOSK (D IN-1)] 1\n",
       "\\item[DONNELLY (D IN-2)] 1\n",
       "\\item[SOUDER (R IN-3)] 2\n",
       "\\item[STUTZMAN (R IN-3)] 2\n",
       "\\item[BUYER (R IN-4)] 2\n",
       "\\item[BURTON (R IN-5)] 2\n",
       "\\item[PENCE (R IN-6)] 2\n",
       "\\item[CARSON (D IN-7)] 1\n",
       "\\item[ELLSWORTH (D IN-8)] 1\n",
       "\\item[HILL (D IN-9)] 1\n",
       "\\item[BRALEY (D IA-1)] 1\n",
       "\\item[LOEBSACK (D IA-2)] 1\n",
       "\\item[BOSWELL (D IA-3)] 1\n",
       "\\item[LATHAM (R IA-4)] 2\n",
       "\\item[KING (R IA-5)] 2\n",
       "\\item[MORAN (R KS-1)] 2\n",
       "\\item[JENKINS (R KS-2)] 2\n",
       "\\item[MOORE (D KS-3)] 1\n",
       "\\item[TIAHRT (R KS-4)] 2\n",
       "\\item[WHITFIEL (R KY-1)] 2\n",
       "\\item[GUTHRIE (R KY-2)] 2\n",
       "\\item[YARMUTH (D KY-3)] 1\n",
       "\\item[DAVIS (R KY-4)] 2\n",
       "\\item[ROGERS (R KY-5)] 2\n",
       "\\item[CHANDLER (D KY-6)] 1\n",
       "\\item[SCALISE (R LA-1)] 2\n",
       "\\item[CAO (R LA-2)] 2\n",
       "\\item[MELANCON (D LA-3)] 1\n",
       "\\item[FLEMING (R LA-4)] 2\n",
       "\\item[ALEXANDER (R LA-5)] 2\n",
       "\\item[CASSIDY (R LA-6)] 2\n",
       "\\item[BOUSTANY (R LA-7)] 2\n",
       "\\item[PINGREE (D ME-1)] 1\n",
       "\\item[MICHAUD (D ME-2)] 1\n",
       "\\item[KRATOVIL (D MD-1)] 1\n",
       "\\item[RUPPERSBE (D MD-2)] 1\n",
       "\\item[SARBANES (D MD-3)] 1\n",
       "\\item[EDWARDS (D MD-4)] 1\n",
       "\\item[HOYER (D MD-5)] 1\n",
       "\\item[BARTLETT (R MD-6)] 2\n",
       "\\item[CUMMINGS (D MD-7)] 1\n",
       "\\item[VAN (D MD-8)] 1\n",
       "\\item[OLVER (D MA-1)] 1\n",
       "\\item[NEAL (D MA-2)] 1\n",
       "\\item[MCGOVERN (D MA-3)] 1\n",
       "\\item[FRANK (D MA-4)] 1\n",
       "\\item[TSONGAS (D MA-5)] 1\n",
       "\\item[TIERNEY (D MA-6)] 1\n",
       "\\item[MARKEY (D MA-7)] ⋯\n",
       "\\item[CAPUANO (D MA-8)] 2\n",
       "\\item[LYNCH (D MA-9)] 1\n",
       "\\item[DELAHUNT (D MA-10)] 1\n",
       "\\item[STUPAK (D MI-1)] 1\n",
       "\\item[HOEKSTRA (R MI-2)] 1\n",
       "\\item[EHLERS (R MI-3)] 2\n",
       "\\item[CAMP (R MI-4)] 1\n",
       "\\item[KILDEE (D MI-5)] 2\n",
       "\\item[UPTON (R MI-6)] 2\n",
       "\\item[SCHAUER (D MI-7)] 1\n",
       "\\item[ROGERS (R MI-8)] 2\n",
       "\\item[PETERS (D MI-9)] 1\n",
       "\\item[MILLER (R MI-10)] 1\n",
       "\\item[MCCOTTER (R MI-11)] 1\n",
       "\\item[LEVIN (D MI-12)] 2\n",
       "\\item[KILPATRI (D MI-13)] 1\n",
       "\\item[CONYERS (D MI-14)] 1\n",
       "\\item[DINGELL (D MI-15)] 1\n",
       "\\item[WALZ (D MN-1)] 1\n",
       "\\item[KLINE (R MN-2)] 1\n",
       "\\item[PAULSEN (R MN-3)] 1\n",
       "\\item[MCCOLLUM (D MN-4)] 1\n",
       "\\item[ELLISON (D MN-5)] 2\n",
       "\\item[BACHMANN (R MN-6)] 1\n",
       "\\item[PETERSON (D MN-7)] 1\n",
       "\\item[OBERSTAR (D MN-8)] 1\n",
       "\\item[CHILDERS (D MS-1)] 1\n",
       "\\item[THOMPSON (D MS-2)] 1\n",
       "\\item[HARPER (R MS-3)] 1\n",
       "\\item[TAYLOR (D MS-4)] 1\n",
       "\\item[CLAY (D MO-1)] 1\n",
       "\\item[AKIN (R MO-2)] 1\n",
       "\\item[CARNAHAN (D MO-3)] 1\n",
       "\\item[SKELTON (D MO-4)] 1\n",
       "\\item[CLEAVER (D MO-5)] 1\n",
       "\\item[GRAVES (R MO-6)] 1\n",
       "\\item[BLUNT (R MO-7)] 1\n",
       "\\item[EMERSON (R MO-8)] 1\n",
       "\\item[LUETKEMEYER (R MO-9)] 1\n",
       "\\item[REHBERG (R MT-1)] 2\n",
       "\\item[FORTENBE (R NE-1)] 1\n",
       "\\item[TERRY (R NE-2)] 1\n",
       "\\item[SMITH (R NE-3)] 1\n",
       "\\item[BERKLEY (D NV-1)] 2\n",
       "\\item[HELLER (R NV-2)] 1\n",
       "\\item[TITUS (D NV-3)] 1\n",
       "\\item[SHEA-PORTER (D NH-1)] 1\n",
       "\\item[HODES (D NH-2)] 2\n",
       "\\item[ANDREWS (D NJ-1)] 1\n",
       "\\item[LOBIONDO (R NJ-2)] 1\n",
       "\\item[ADLER (D NJ-3)] 1\n",
       "\\item[SMITH (R NJ-4)] 2\n",
       "\\item[GARRETT (R NJ-5)] 1\n",
       "\\item[PALLONE (D NJ-6)] 1\n",
       "\\item[LANCE (R NJ-7)] 2\n",
       "\\item[PASCRELL (D NJ-8)] 1\n",
       "\\item[ROTHMAN (D NJ-9)] 2\n",
       "\\item[PAYNE (D NJ-10)] 2\n",
       "\\item[FRELINGH (R NJ-11)] 1\n",
       "\\item[HOLT (D NJ-12)] 1\n",
       "\\item[SIRES (D NJ-13)] 2\n",
       "\\item[HEINRICH (D NM-1)] 2\n",
       "\\item[TEAGUE (D NM-2)] 1\n",
       "\\item[LUJAN (D NM-3)] 1\n",
       "\\item[BISHOP (D NY-1)] 1\n",
       "\\item[ISRAEL (D NY-2)] 1\n",
       "\\item[KING (R NY-3)] 1\n",
       "\\item[MCCARTHY (D NY-4)] 2\n",
       "\\item[ACKERMAN (D NY-5)] 2\n",
       "\\item[MEEKS (D NY-6)] 2\n",
       "\\item[CROWLEY (D NY-7)] 2\n",
       "\\item[NADLER (D NY-8)] 1\n",
       "\\item[WEINER (D NY-9)] 2\n",
       "\\item[TOWNS (D NY-10)] 2\n",
       "\\item[CLARKE (D NY-11)] 1\n",
       "\\item[VELAZQUE (D NY-12)] 1\n",
       "\\item[MCMAHON (D NY-13)] 1\n",
       "\\item[MALONEY (D NY-14)] 2\n",
       "\\item[RANGEL (D NY-15)] 1\n",
       "\\item[SERRANO (D NY-16)] 2\n",
       "\\item[ENGEL (D NY-17)] 1\n",
       "\\item[LOWEY (D NY-18)] 1\n",
       "\\item[HALL (D NY-19)] 1\n",
       "\\item[GILLIBRAND (D NY-20)] 1\n",
       "\\item[MURPHY (D NY-20)] 2\n",
       "\\item[TONKO (D NY-21)] 1\n",
       "\\item[HINCHEY (D NY-22)] 2\n",
       "\\item[MCHUGH (R NY-23)] 2\n",
       "\\item[OWENS (D NY-23)] 2\n",
       "\\item[ARCURI (D NY-24)] 1\n",
       "\\item[MAFFEI (D NY-25)] 2\n",
       "\\item[LEE (R NY-26)] 1\n",
       "\\item[HIGGINS (D NY-27)] 1\n",
       "\\item[SLAUGHTE (D NY-28)] 1\n",
       "\\item[MASSA (D NY-29)] 1\n",
       "\\item[REED (R NY-29)] 1\n",
       "\\item[BUTTERFI (D NC-1)] 1\n",
       "\\item[ETHERIDG (D NC-2)] 1\n",
       "\\item[JONES (R NC-3)] 2\n",
       "\\item[PRICE (D NC-4)] 2\n",
       "\\item[FOXX (R NC-5)] 1\n",
       "\\item[COBLE (R NC-6)] 1\n",
       "\\item[MCINTYRE (D NC-7)] 2\n",
       "\\item[KISSELL (D NC-8)] 1\n",
       "\\item[MYRICK (R NC-9)] 1\n",
       "\\item[MCHENRY (R NC-10)] 1\n",
       "\\item[SHULER (D NC-11)] 1\n",
       "\\item[WATT (D NC-12)] 1\n",
       "\\item[MILLER (D NC-13)] 1\n",
       "\\item[POMEROY (D ND-1)] 2\n",
       "\\item[DRIEHAUS (D OH-1)] 2\n",
       "\\item[SCHMIDT (R OH-2)] 1\n",
       "\\item[TURNER (R OH-3)] 2\n",
       "\\item[JORDAN (R OH-4)] 2\n",
       "\\item[LATTA (R OH-5)] 1\n",
       "\\item[WILSON (D OH-6)] 1\n",
       "\\item[AUSTRIA (R OH-7)] 2\n",
       "\\item[BOEHNER (R OH-8)] 2\n",
       "\\item[KAPTUR (D OH-9)] 2\n",
       "\\item[KUCINICH (D OH-10)] 2\n",
       "\\item[FUDGE (D OH-11)] 1\n",
       "\\item[TIBERI (R OH-12)] 1\n",
       "\\item[SUTTON (D OH-13)] 1\n",
       "\\item[LATOURET (R OH-14)] 2\n",
       "\\item[KILROY (D OH-15)] 2\n",
       "\\item[BOCCIERI (D OH-16)] 2\n",
       "\\item[RYAN (D OH-17)] 1\n",
       "\\item[SPACE (D OH-18)] 1\n",
       "\\item[SULLIVAN (R OK-1)] 1\n",
       "\\item[BOREN (D OK-2)] 2\n",
       "\\item[LUCAS (R OK-3)] 1\n",
       "\\item[COLE (R OK-4)] 1\n",
       "\\item[FALLIN (R OK-5)] 2\n",
       "\\item[WU (D OR-1)] 2\n",
       "\\item[WALDEN (R OR-2)] 2\n",
       "\\item[BLUMENAU (D OR-3)] 2\n",
       "\\item[DEFAZIO (D OR-4)] 2\n",
       "\\item[SCHRADER (D OR-5)] 2\n",
       "\\item[BRADY (D PA-1)] 2\n",
       "\\item[FATTAH (D PA-2)] 2\n",
       "\\item[DAHLKEMPER (D PA-3)] 1\n",
       "\\item[ALTMIRE (D PA-4)] 2\n",
       "\\item[THOMPSON (R PA-5)] 2\n",
       "\\item[GERLACH (R PA-6)] 2\n",
       "\\item[SESTAK (D PA-7)] 2\n",
       "\\item[MURPHY (D PA-8)] 2\n",
       "\\item[SHUSTER (R PA-9)] 1\n",
       "\\item[CARNEY (D PA-10)] 1\n",
       "\\item[KANJORSK (D PA-11)] 1\n",
       "\\item[MURTHA (D PA-12)] 1\n",
       "\\item[CRITZ (D PA-12)] 2\n",
       "\\item[SCHWARTZ (D PA-13)] 1\n",
       "\\item[DOYLE (D PA-14)] 2\n",
       "\\item[DENT (R PA-15)] 2\n",
       "\\item[PITTS (R PA-16)] 1\n",
       "\\item[HOLDEN (D PA-17)] 2\n",
       "\\item[MURPHY (R PA-18)] 1\n",
       "\\item[PLATTS (R PA-19)] 2\n",
       "\\item[KENNEDY (D RI-1)] 1\n",
       "\\item[LANGEVIN (D RI-2)] 1\n",
       "\\item[BROWN (R SC-1)] 1\n",
       "\\item[WILSON (R SC-2)] 1\n",
       "\\item[BARRETT (R SC-3)] 2\n",
       "\\item[INGLIS (R SC-4)] 2\n",
       "\\item[SPRATT (D SC-5)] 2\n",
       "\\item[CLYBURN (D SC-6)] 1\n",
       "\\item[HERSETH (D SD-1)] 2\n",
       "\\item[ROE (R TN-1)] 1\n",
       "\\item[DUNCAN (R TN-2)] 2\n",
       "\\item[WAMP (R TN-3)] 1\n",
       "\\item[DAVIS (D TN-4)] 1\n",
       "\\item[COOPER (D TN-5)] 2\n",
       "\\item[GORDON (D TN-6)] 1\n",
       "\\item[BLACKBURN (R TN-7)] 2\n",
       "\\item[TANNER (D TN-8)] 2\n",
       "\\item[COHEN (D TN-9)] 1\n",
       "\\item[GOHMERT (R TX-1)] 1\n",
       "\\item[POE (R TX-2)] 2\n",
       "\\item[JOHNSON (R TX-3)] 1\n",
       "\\item[HALL (R TX-4)] 1\n",
       "\\item[HENSARLIN (R TX-5)] 1\n",
       "\\item[BARTON (R TX-6)] 1\n",
       "\\item[CULBERSO (R TX-7)] 2\n",
       "\\item[BRADY (R TX-8)] 2\n",
       "\\item[GREEN (D TX-9)] 1\n",
       "\\item[MCCAUL (R TX-10)] 1\n",
       "\\item[CONAWAY (R TX-11)] 2\n",
       "\\item[GRANGER (R TX-12)] 1\n",
       "\\item[THORNBER (R TX-13)] 1\n",
       "\\item[PAUL (R TX-14)] 2\n",
       "\\item[HINOJOSA (D TX-15)] 1\n",
       "\\item[REYES (D TX-16)] 2\n",
       "\\item[EDWARDS (D TX-17)] 1\n",
       "\\item[JACKSON- (D TX-18)] 1\n",
       "\\item[NEUGEBAUE (R TX-19)] 1\n",
       "\\item[GONZALEZ (D TX-20)] 2\n",
       "\\item[SMITH (R TX-21)] 2\n",
       "\\item[OLSON (R TX-22)] 1\n",
       "\\item[RODRIGUEZ (D TX-23)] 1\n",
       "\\item[MARCHANT (R TX-24)] 2\n",
       "\\end{description*}\n"
      ],
      "text/markdown": [
       "BONNER (R AL-1)\n",
       ":   2BRIGHT (D AL-2)\n",
       ":   2ROGERS (R AL-3)\n",
       ":   2ADERHOLT (R AL-4)\n",
       ":   2GRIFFITH (D/R AL-5)\n",
       ":   2BACHUS (R AL-6)\n",
       ":   2DAVIS (D AL-7)\n",
       ":   1YOUNG (R AK-1)\n",
       ":   2KIRKPATRICK (D AZ-1)\n",
       ":   1FRANKS (R AZ-2)\n",
       ":   2SHADEGG (R AZ-3)\n",
       ":   2PASTOR (D AZ-4)\n",
       ":   1MITCHELL (D AZ-5)\n",
       ":   1FLAKE (R AZ-6)\n",
       ":   2GRIJALVA (D AZ-7)\n",
       ":   1GIFFORDS (D AZ-8)\n",
       ":   1BERRY (D AR-1)\n",
       ":   1SNYDER (D AR-2)\n",
       ":   1BOOZMAN (R AR-3)\n",
       ":   2ROSS (D AR-4)\n",
       ":   1THOMPSON (D CA-1)\n",
       ":   1HERGER (R CA-2)\n",
       ":   2LUNGREN (R CA-3)\n",
       ":   2MCCLINTOCK (R CA-4)\n",
       ":   2MATSUI (D CA-5)\n",
       ":   1WOOLSEY (D CA-6)\n",
       ":   1MILLER (D CA-7)\n",
       ":   1PELOSI (D CA-8)\n",
       ":   1LEE (D CA-9)\n",
       ":   1TAUSCHER (D CA-10)\n",
       ":   1GARAMENDI (D CA-10)\n",
       ":   1MCNERNEY (D CA-11)\n",
       ":   1SPEIER (D CA-12)\n",
       ":   1STARK (D CA-13)\n",
       ":   1ESHOO (D CA-14)\n",
       ":   1HONDA (D CA-15)\n",
       ":   1LOFGREN (D CA-16)\n",
       ":   1FARR (D CA-17)\n",
       ":   1CARDOZA (D CA-18)\n",
       ":   1RADANOVI (R CA-19)\n",
       ":   2COSTA (D CA-20)\n",
       ":   1NUNES (R CA-21)\n",
       ":   2MCCARTHY (R CA-22)\n",
       ":   2CAPPS (D CA-23)\n",
       ":   1GALLEGLY (R CA-24)\n",
       ":   2MCKEON (R CA-25)\n",
       ":   2DREIER (R CA-26)\n",
       ":   2SHERMAN (D CA-27)\n",
       ":   1BERMAN (D CA-28)\n",
       ":   1SCHIFF (D CA-29)\n",
       ":   1WAXMAN (D CA-30)\n",
       ":   1BECERRA (D CA-31)\n",
       ":   1SOLIS (D CA-32)\n",
       ":   2CHU (D CA-32)\n",
       ":   1WATSON (D CA-33)\n",
       ":   1ROYBAL-A (D CA-34)\n",
       ":   1WATERS (D CA-35)\n",
       ":   1HARMAN (D CA-36)\n",
       ":   1RICHARDSON (D CA-37)\n",
       ":   1NAPOLITA (D CA-38)\n",
       ":   1SANCHEZ (D CA-39)\n",
       ":   1ROYCE (R CA-40)\n",
       ":   2LEWIS (R CA-41)\n",
       ":   2MILLER (R CA-42)\n",
       ":   2BACA (D CA-43)\n",
       ":   1CALVERT (R CA-44)\n",
       ":   2BONO (R CA-45)\n",
       ":   2ROHRABAC (R CA-46)\n",
       ":   2SANCHEZ (D CA-47)\n",
       ":   1CAMPBELL (R CA-48)\n",
       ":   2ISSA (R CA-49)\n",
       ":   2BILBRAY (R CA-50)\n",
       ":   2FILNER (D CA-51)\n",
       ":   1HUNTER (R CA-52)\n",
       ":   2DAVIS (D CA-53)\n",
       ":   1DEGETTE (D CO-1)\n",
       ":   1POLIS (D CO-2)\n",
       ":   1SALAZAR (D CO-3)\n",
       ":   1MARKEY (D CO-4)\n",
       ":   1LAMBORN (R CO-5)\n",
       ":   2COFFMAN (R CO-6)\n",
       ":   2PERLMUTTER (D CO-7)\n",
       ":   1LARSON (D CT-1)\n",
       ":   1COURTNEY (D CT-2)\n",
       ":   1DELAURO (D CT-3)\n",
       ":   1HIMES (D CT-4)\n",
       ":   1MURPHY (D CT-5)\n",
       ":   1CASTLE (R DE-1)\n",
       ":   2MILLER (R FL-1)\n",
       ":   2BOYD (D FL-2)\n",
       ":   1BROWN (D FL-3)\n",
       ":   1CRENSHAW (R FL-4)\n",
       ":   2BROWN-WAI (R FL-5)\n",
       ":   2STEARNS (R FL-6)\n",
       ":   2MICA (R FL-7)\n",
       ":   2GRAYSON (D FL-8)\n",
       ":   1BILIRAKI (R FL-9)\n",
       ":   2YOUNG (R FL-10)\n",
       ":   2CASTOR (D FL-11)\n",
       ":   1PUTNAM (R FL-12)\n",
       ":   2BUCHANAN (R FL-13)\n",
       ":   2MACK (R FL-14)\n",
       ":   2POSEY (R FL-15)\n",
       ":   2ROONEY (R FL-16)\n",
       ":   2MEEK (D FL-17)\n",
       ":   1ROS-LEHT (R FL-18)\n",
       ":   2WEXLER (D FL-19)\n",
       ":   1DEUTCH (D FL-19)\n",
       ":   1WASSERMA (D FL-20)\n",
       ":   1DIAZ-BAL (R FL-21)\n",
       ":   2KLEIN (D FL-22)\n",
       ":   1HASTINGS (D FL-23)\n",
       ":   1KOSMAS (D FL-24)\n",
       ":   1DIAZ-BALA (R FL-25)\n",
       ":   2KINGSTON (R GA-1)\n",
       ":   2BISHOP (D GA-2)\n",
       ":   1WESTMORE (R GA-3)\n",
       ":   2JOHNSON (D GA-4)\n",
       ":   1LEWIS (D GA-5)\n",
       ":   1PRICE (R GA-6)\n",
       ":   2LINDER (R GA-7)\n",
       ":   2MARSHALL (D GA-8)\n",
       ":   1DEAL (R GA-9)\n",
       ":   2GRAVES (R GA-9)\n",
       ":   2BROUN (R GA-10)\n",
       ":   2GINGREY (R GA-11)\n",
       ":   2BARROW (D GA-12)\n",
       ":   1SCOTT (D GA-13)\n",
       ":   1ABERCROM (D HI-1)\n",
       ":   1DJOU (R HI-1)\n",
       ":   2HIRONO (D HI-2)\n",
       ":   1MINNICK (D ID-1)\n",
       ":   2SIMPSON (R ID-2)\n",
       ":   2RUSH (D IL-1)\n",
       ":   1JACKSON (D IL-2)\n",
       ":   1LIPINSKI (D IL-3)\n",
       ":   1GUTIERRE (D IL-4)\n",
       ":   1QUIGLEY (D IL-5)\n",
       ":   1ROSKAM (R IL-6)\n",
       ":   2DAVIS (D IL-7)\n",
       ":   1BEAN (D IL-8)\n",
       ":   1SCHAKOWS (D IL-9)\n",
       ":   1KIRK (R IL-10)\n",
       ":   2HALVORSON (D IL-11)\n",
       ":   1COSTELLO (D IL-12)\n",
       ":   1BIGGERT (R IL-13)\n",
       ":   2FOSTER (D IL-14)\n",
       ":   1JOHNSON (R IL-15)\n",
       ":   2MANZULLO (R IL-16)\n",
       ":   2HARE (D IL-17)\n",
       ":   1SCHOCK (R IL-18)\n",
       ":   2SHIMKUS (R IL-19)\n",
       ":   2VISCLOSK (D IN-1)\n",
       ":   1DONNELLY (D IN-2)\n",
       ":   1SOUDER (R IN-3)\n",
       ":   2STUTZMAN (R IN-3)\n",
       ":   2BUYER (R IN-4)\n",
       ":   2BURTON (R IN-5)\n",
       ":   2PENCE (R IN-6)\n",
       ":   2CARSON (D IN-7)\n",
       ":   1ELLSWORTH (D IN-8)\n",
       ":   1HILL (D IN-9)\n",
       ":   1BRALEY (D IA-1)\n",
       ":   1LOEBSACK (D IA-2)\n",
       ":   1BOSWELL (D IA-3)\n",
       ":   1LATHAM (R IA-4)\n",
       ":   2KING (R IA-5)\n",
       ":   2MORAN (R KS-1)\n",
       ":   2JENKINS (R KS-2)\n",
       ":   2MOORE (D KS-3)\n",
       ":   1TIAHRT (R KS-4)\n",
       ":   2WHITFIEL (R KY-1)\n",
       ":   2GUTHRIE (R KY-2)\n",
       ":   2YARMUTH (D KY-3)\n",
       ":   1DAVIS (R KY-4)\n",
       ":   2ROGERS (R KY-5)\n",
       ":   2CHANDLER (D KY-6)\n",
       ":   1SCALISE (R LA-1)\n",
       ":   2CAO (R LA-2)\n",
       ":   2MELANCON (D LA-3)\n",
       ":   1FLEMING (R LA-4)\n",
       ":   2ALEXANDER (R LA-5)\n",
       ":   2CASSIDY (R LA-6)\n",
       ":   2BOUSTANY (R LA-7)\n",
       ":   2PINGREE (D ME-1)\n",
       ":   1MICHAUD (D ME-2)\n",
       ":   1KRATOVIL (D MD-1)\n",
       ":   1RUPPERSBE (D MD-2)\n",
       ":   1SARBANES (D MD-3)\n",
       ":   1EDWARDS (D MD-4)\n",
       ":   1HOYER (D MD-5)\n",
       ":   1BARTLETT (R MD-6)\n",
       ":   2CUMMINGS (D MD-7)\n",
       ":   1VAN (D MD-8)\n",
       ":   1OLVER (D MA-1)\n",
       ":   1NEAL (D MA-2)\n",
       ":   1MCGOVERN (D MA-3)\n",
       ":   1FRANK (D MA-4)\n",
       ":   1TSONGAS (D MA-5)\n",
       ":   1TIERNEY (D MA-6)\n",
       ":   1MARKEY (D MA-7)\n",
       ":   ⋯CAPUANO (D MA-8)\n",
       ":   2LYNCH (D MA-9)\n",
       ":   1DELAHUNT (D MA-10)\n",
       ":   1STUPAK (D MI-1)\n",
       ":   1HOEKSTRA (R MI-2)\n",
       ":   1EHLERS (R MI-3)\n",
       ":   2CAMP (R MI-4)\n",
       ":   1KILDEE (D MI-5)\n",
       ":   2UPTON (R MI-6)\n",
       ":   2SCHAUER (D MI-7)\n",
       ":   1ROGERS (R MI-8)\n",
       ":   2PETERS (D MI-9)\n",
       ":   1MILLER (R MI-10)\n",
       ":   1MCCOTTER (R MI-11)\n",
       ":   1LEVIN (D MI-12)\n",
       ":   2KILPATRI (D MI-13)\n",
       ":   1CONYERS (D MI-14)\n",
       ":   1DINGELL (D MI-15)\n",
       ":   1WALZ (D MN-1)\n",
       ":   1KLINE (R MN-2)\n",
       ":   1PAULSEN (R MN-3)\n",
       ":   1MCCOLLUM (D MN-4)\n",
       ":   1ELLISON (D MN-5)\n",
       ":   2BACHMANN (R MN-6)\n",
       ":   1PETERSON (D MN-7)\n",
       ":   1OBERSTAR (D MN-8)\n",
       ":   1CHILDERS (D MS-1)\n",
       ":   1THOMPSON (D MS-2)\n",
       ":   1HARPER (R MS-3)\n",
       ":   1TAYLOR (D MS-4)\n",
       ":   1CLAY (D MO-1)\n",
       ":   1AKIN (R MO-2)\n",
       ":   1CARNAHAN (D MO-3)\n",
       ":   1SKELTON (D MO-4)\n",
       ":   1CLEAVER (D MO-5)\n",
       ":   1GRAVES (R MO-6)\n",
       ":   1BLUNT (R MO-7)\n",
       ":   1EMERSON (R MO-8)\n",
       ":   1LUETKEMEYER (R MO-9)\n",
       ":   1REHBERG (R MT-1)\n",
       ":   2FORTENBE (R NE-1)\n",
       ":   1TERRY (R NE-2)\n",
       ":   1SMITH (R NE-3)\n",
       ":   1BERKLEY (D NV-1)\n",
       ":   2HELLER (R NV-2)\n",
       ":   1TITUS (D NV-3)\n",
       ":   1SHEA-PORTER (D NH-1)\n",
       ":   1HODES (D NH-2)\n",
       ":   2ANDREWS (D NJ-1)\n",
       ":   1LOBIONDO (R NJ-2)\n",
       ":   1ADLER (D NJ-3)\n",
       ":   1SMITH (R NJ-4)\n",
       ":   2GARRETT (R NJ-5)\n",
       ":   1PALLONE (D NJ-6)\n",
       ":   1LANCE (R NJ-7)\n",
       ":   2PASCRELL (D NJ-8)\n",
       ":   1ROTHMAN (D NJ-9)\n",
       ":   2PAYNE (D NJ-10)\n",
       ":   2FRELINGH (R NJ-11)\n",
       ":   1HOLT (D NJ-12)\n",
       ":   1SIRES (D NJ-13)\n",
       ":   2HEINRICH (D NM-1)\n",
       ":   2TEAGUE (D NM-2)\n",
       ":   1LUJAN (D NM-3)\n",
       ":   1BISHOP (D NY-1)\n",
       ":   1ISRAEL (D NY-2)\n",
       ":   1KING (R NY-3)\n",
       ":   1MCCARTHY (D NY-4)\n",
       ":   2ACKERMAN (D NY-5)\n",
       ":   2MEEKS (D NY-6)\n",
       ":   2CROWLEY (D NY-7)\n",
       ":   2NADLER (D NY-8)\n",
       ":   1WEINER (D NY-9)\n",
       ":   2TOWNS (D NY-10)\n",
       ":   2CLARKE (D NY-11)\n",
       ":   1VELAZQUE (D NY-12)\n",
       ":   1MCMAHON (D NY-13)\n",
       ":   1MALONEY (D NY-14)\n",
       ":   2RANGEL (D NY-15)\n",
       ":   1SERRANO (D NY-16)\n",
       ":   2ENGEL (D NY-17)\n",
       ":   1LOWEY (D NY-18)\n",
       ":   1HALL (D NY-19)\n",
       ":   1GILLIBRAND (D NY-20)\n",
       ":   1MURPHY (D NY-20)\n",
       ":   2TONKO (D NY-21)\n",
       ":   1HINCHEY (D NY-22)\n",
       ":   2MCHUGH (R NY-23)\n",
       ":   2OWENS (D NY-23)\n",
       ":   2ARCURI (D NY-24)\n",
       ":   1MAFFEI (D NY-25)\n",
       ":   2LEE (R NY-26)\n",
       ":   1HIGGINS (D NY-27)\n",
       ":   1SLAUGHTE (D NY-28)\n",
       ":   1MASSA (D NY-29)\n",
       ":   1REED (R NY-29)\n",
       ":   1BUTTERFI (D NC-1)\n",
       ":   1ETHERIDG (D NC-2)\n",
       ":   1JONES (R NC-3)\n",
       ":   2PRICE (D NC-4)\n",
       ":   2FOXX (R NC-5)\n",
       ":   1COBLE (R NC-6)\n",
       ":   1MCINTYRE (D NC-7)\n",
       ":   2KISSELL (D NC-8)\n",
       ":   1MYRICK (R NC-9)\n",
       ":   1MCHENRY (R NC-10)\n",
       ":   1SHULER (D NC-11)\n",
       ":   1WATT (D NC-12)\n",
       ":   1MILLER (D NC-13)\n",
       ":   1POMEROY (D ND-1)\n",
       ":   2DRIEHAUS (D OH-1)\n",
       ":   2SCHMIDT (R OH-2)\n",
       ":   1TURNER (R OH-3)\n",
       ":   2JORDAN (R OH-4)\n",
       ":   2LATTA (R OH-5)\n",
       ":   1WILSON (D OH-6)\n",
       ":   1AUSTRIA (R OH-7)\n",
       ":   2BOEHNER (R OH-8)\n",
       ":   2KAPTUR (D OH-9)\n",
       ":   2KUCINICH (D OH-10)\n",
       ":   2FUDGE (D OH-11)\n",
       ":   1TIBERI (R OH-12)\n",
       ":   1SUTTON (D OH-13)\n",
       ":   1LATOURET (R OH-14)\n",
       ":   2KILROY (D OH-15)\n",
       ":   2BOCCIERI (D OH-16)\n",
       ":   2RYAN (D OH-17)\n",
       ":   1SPACE (D OH-18)\n",
       ":   1SULLIVAN (R OK-1)\n",
       ":   1BOREN (D OK-2)\n",
       ":   2LUCAS (R OK-3)\n",
       ":   1COLE (R OK-4)\n",
       ":   1FALLIN (R OK-5)\n",
       ":   2WU (D OR-1)\n",
       ":   2WALDEN (R OR-2)\n",
       ":   2BLUMENAU (D OR-3)\n",
       ":   2DEFAZIO (D OR-4)\n",
       ":   2SCHRADER (D OR-5)\n",
       ":   2BRADY (D PA-1)\n",
       ":   2FATTAH (D PA-2)\n",
       ":   2DAHLKEMPER (D PA-3)\n",
       ":   1ALTMIRE (D PA-4)\n",
       ":   2THOMPSON (R PA-5)\n",
       ":   2GERLACH (R PA-6)\n",
       ":   2SESTAK (D PA-7)\n",
       ":   2MURPHY (D PA-8)\n",
       ":   2SHUSTER (R PA-9)\n",
       ":   1CARNEY (D PA-10)\n",
       ":   1KANJORSK (D PA-11)\n",
       ":   1MURTHA (D PA-12)\n",
       ":   1CRITZ (D PA-12)\n",
       ":   2SCHWARTZ (D PA-13)\n",
       ":   1DOYLE (D PA-14)\n",
       ":   2DENT (R PA-15)\n",
       ":   2PITTS (R PA-16)\n",
       ":   1HOLDEN (D PA-17)\n",
       ":   2MURPHY (R PA-18)\n",
       ":   1PLATTS (R PA-19)\n",
       ":   2KENNEDY (D RI-1)\n",
       ":   1LANGEVIN (D RI-2)\n",
       ":   1BROWN (R SC-1)\n",
       ":   1WILSON (R SC-2)\n",
       ":   1BARRETT (R SC-3)\n",
       ":   2INGLIS (R SC-4)\n",
       ":   2SPRATT (D SC-5)\n",
       ":   2CLYBURN (D SC-6)\n",
       ":   1HERSETH (D SD-1)\n",
       ":   2ROE (R TN-1)\n",
       ":   1DUNCAN (R TN-2)\n",
       ":   2WAMP (R TN-3)\n",
       ":   1DAVIS (D TN-4)\n",
       ":   1COOPER (D TN-5)\n",
       ":   2GORDON (D TN-6)\n",
       ":   1BLACKBURN (R TN-7)\n",
       ":   2TANNER (D TN-8)\n",
       ":   2COHEN (D TN-9)\n",
       ":   1GOHMERT (R TX-1)\n",
       ":   1POE (R TX-2)\n",
       ":   2JOHNSON (R TX-3)\n",
       ":   1HALL (R TX-4)\n",
       ":   1HENSARLIN (R TX-5)\n",
       ":   1BARTON (R TX-6)\n",
       ":   1CULBERSO (R TX-7)\n",
       ":   2BRADY (R TX-8)\n",
       ":   2GREEN (D TX-9)\n",
       ":   1MCCAUL (R TX-10)\n",
       ":   1CONAWAY (R TX-11)\n",
       ":   2GRANGER (R TX-12)\n",
       ":   1THORNBER (R TX-13)\n",
       ":   1PAUL (R TX-14)\n",
       ":   2HINOJOSA (D TX-15)\n",
       ":   1REYES (D TX-16)\n",
       ":   2EDWARDS (D TX-17)\n",
       ":   1JACKSON- (D TX-18)\n",
       ":   1NEUGEBAUE (R TX-19)\n",
       ":   1GONZALEZ (D TX-20)\n",
       ":   2SMITH (R TX-21)\n",
       ":   2OLSON (R TX-22)\n",
       ":   1RODRIGUEZ (D TX-23)\n",
       ":   1MARCHANT (R TX-24)\n",
       ":   2\n",
       "\n"
      ],
      "text/plain": [
       "     BONNER (R AL-1)      BRIGHT (D AL-2)      ROGERS (R AL-3) \n",
       "                   2                    2                    2 \n",
       "   ADERHOLT (R AL-4)  GRIFFITH (D/R AL-5)      BACHUS (R AL-6) \n",
       "                   2                    2                    2 \n",
       "      DAVIS (D AL-7)       YOUNG (R AK-1) KIRKPATRICK (D AZ-1) \n",
       "                   1                    2                    1 \n",
       "     FRANKS (R AZ-2)     SHADEGG (R AZ-3)      PASTOR (D AZ-4) \n",
       "                   2                    2                    1 \n",
       "   MITCHELL (D AZ-5)       FLAKE (R AZ-6)    GRIJALVA (D AZ-7) \n",
       "                   1                    2                    1 \n",
       "   GIFFORDS (D AZ-8)       BERRY (D AR-1)      SNYDER (D AR-2) \n",
       "                   1                    1                    1 \n",
       "    BOOZMAN (R AR-3)        ROSS (D AR-4)    THOMPSON (D CA-1) \n",
       "                   2                    1                    1 \n",
       "     HERGER (R CA-2)     LUNGREN (R CA-3)  MCCLINTOCK (R CA-4) \n",
       "                   2                    2                    2 \n",
       "     MATSUI (D CA-5)     WOOLSEY (D CA-6)      MILLER (D CA-7) \n",
       "                   1                    1                    1 \n",
       "     PELOSI (D CA-8)         LEE (D CA-9)   TAUSCHER (D CA-10) \n",
       "                   1                    1                    1 \n",
       " GARAMENDI (D CA-10)   MCNERNEY (D CA-11)     SPEIER (D CA-12) \n",
       "                   1                    1                    1 \n",
       "     STARK (D CA-13)      ESHOO (D CA-14)      HONDA (D CA-15) \n",
       "                   1                    1                    1 \n",
       "   LOFGREN (D CA-16)       FARR (D CA-17)    CARDOZA (D CA-18) \n",
       "                   1                    1                    1 \n",
       "  RADANOVI (R CA-19)      COSTA (D CA-20)      NUNES (R CA-21) \n",
       "                   2                    1                    2 \n",
       "  MCCARTHY (R CA-22)      CAPPS (D CA-23)   GALLEGLY (R CA-24) \n",
       "                   2                    1                    2 \n",
       "    MCKEON (R CA-25)     DREIER (R CA-26)    SHERMAN (D CA-27) \n",
       "                   2                    2                    1 \n",
       "    BERMAN (D CA-28)     SCHIFF (D CA-29)     WAXMAN (D CA-30) \n",
       "                   1                    1                    1 \n",
       "   BECERRA (D CA-31)      SOLIS (D CA-32)        CHU (D CA-32) \n",
       "                   1                    2                    1 \n",
       "    WATSON (D CA-33)   ROYBAL-A (D CA-34)     WATERS (D CA-35) \n",
       "                   1                    1                    1 \n",
       "    HARMAN (D CA-36) RICHARDSON (D CA-37)   NAPOLITA (D CA-38) \n",
       "                   1                    1                    1 \n",
       "   SANCHEZ (D CA-39)      ROYCE (R CA-40)      LEWIS (R CA-41) \n",
       "                   1                    2                    2 \n",
       "    MILLER (R CA-42)       BACA (D CA-43)    CALVERT (R CA-44) \n",
       "                   2                    1                    2 \n",
       "      BONO (R CA-45)   ROHRABAC (R CA-46)    SANCHEZ (D CA-47) \n",
       "                   2                    2                    1 \n",
       "  CAMPBELL (R CA-48)       ISSA (R CA-49)    BILBRAY (R CA-50) \n",
       "                   2                    2                    2 \n",
       "    FILNER (D CA-51)     HUNTER (R CA-52)      DAVIS (D CA-53) \n",
       "                   1                    2                    1 \n",
       "    DEGETTE (D CO-1)       POLIS (D CO-2)     SALAZAR (D CO-3) \n",
       "                   1                    1                    1 \n",
       "     MARKEY (D CO-4)     LAMBORN (R CO-5)     COFFMAN (R CO-6) \n",
       "                   1                    2                    2 \n",
       " PERLMUTTER (D CO-7)      LARSON (D CT-1)    COURTNEY (D CT-2) \n",
       "                   1                    1                    1 \n",
       "    DELAURO (D CT-3)       HIMES (D CT-4)      MURPHY (D CT-5) \n",
       "                   1                    1                    1 \n",
       "     CASTLE (R DE-1)      MILLER (R FL-1)        BOYD (D FL-2) \n",
       "                   2                    2                    1 \n",
       "      BROWN (D FL-3)    CRENSHAW (R FL-4)   BROWN-WAI (R FL-5) \n",
       "                   1                    2                    2 \n",
       "    STEARNS (R FL-6)        MICA (R FL-7)     GRAYSON (D FL-8) \n",
       "                   2                    2                    1 \n",
       "   BILIRAKI (R FL-9)      YOUNG (R FL-10)     CASTOR (D FL-11) \n",
       "                   2                    2                    1 \n",
       "    PUTNAM (R FL-12)   BUCHANAN (R FL-13)       MACK (R FL-14) \n",
       "                   2                    2                    2 \n",
       "     POSEY (R FL-15)     ROONEY (R FL-16)       MEEK (D FL-17) \n",
       "                   2                    2                    1 \n",
       "  ROS-LEHT (R FL-18)     WEXLER (D FL-19)     DEUTCH (D FL-19) \n",
       "                   2                    1                    1 \n",
       "  WASSERMA (D FL-20)   DIAZ-BAL (R FL-21)      KLEIN (D FL-22) \n",
       "                   1                    2                    1 \n",
       "  HASTINGS (D FL-23)     KOSMAS (D FL-24)  DIAZ-BALA (R FL-25) \n",
       "                   1                    1                    2 \n",
       "   KINGSTON (R GA-1)      BISHOP (D GA-2)    WESTMORE (R GA-3) \n",
       "                   2                    1                    2 \n",
       "    JOHNSON (D GA-4)       LEWIS (D GA-5)       PRICE (R GA-6) \n",
       "                   1                    1                    2 \n",
       "     LINDER (R GA-7)    MARSHALL (D GA-8)        DEAL (R GA-9) \n",
       "                   2                    1                    2 \n",
       "     GRAVES (R GA-9)      BROUN (R GA-10)    GINGREY (R GA-11) \n",
       "                   2                    2                    2 \n",
       "    BARROW (D GA-12)      SCOTT (D GA-13)    ABERCROM (D HI-1) \n",
       "                   1                    1                    1 \n",
       "       DJOU (R HI-1)      HIRONO (D HI-2)     MINNICK (D ID-1) \n",
       "                   2                    1                    2 \n",
       "    SIMPSON (R ID-2)        RUSH (D IL-1)     JACKSON (D IL-2) \n",
       "                   2                    1                    1 \n",
       "   LIPINSKI (D IL-3)    GUTIERRE (D IL-4)     QUIGLEY (D IL-5) \n",
       "                   1                    1                    1 \n",
       "     ROSKAM (R IL-6)       DAVIS (D IL-7)        BEAN (D IL-8) \n",
       "                   2                    1                    1 \n",
       "   SCHAKOWS (D IL-9)       KIRK (R IL-10)  HALVORSON (D IL-11) \n",
       "                   1                    2                    1 \n",
       "  COSTELLO (D IL-12)    BIGGERT (R IL-13)     FOSTER (D IL-14) \n",
       "                   1                    2                    1 \n",
       "   JOHNSON (R IL-15)   MANZULLO (R IL-16)       HARE (D IL-17) \n",
       "                   2                    2                    1 \n",
       "    SCHOCK (R IL-18)    SHIMKUS (R IL-19)    VISCLOSK (D IN-1) \n",
       "                   2                    2                    1 \n",
       "   DONNELLY (D IN-2)      SOUDER (R IN-3)    STUTZMAN (R IN-3) \n",
       "                   1                    2                    2 \n",
       "      BUYER (R IN-4)      BURTON (R IN-5)       PENCE (R IN-6) \n",
       "                   2                    2                    2 \n",
       "     CARSON (D IN-7)   ELLSWORTH (D IN-8)        HILL (D IN-9) \n",
       "                   1                    1                    1 \n",
       "     BRALEY (D IA-1)    LOEBSACK (D IA-2)     BOSWELL (D IA-3) \n",
       "                   1                    1                    1 \n",
       "     LATHAM (R IA-4)        KING (R IA-5)       MORAN (R KS-1) \n",
       "                   2                    2                    2 \n",
       "    JENKINS (R KS-2)       MOORE (D KS-3)      TIAHRT (R KS-4) \n",
       "                   2                    1                    2 \n",
       "   WHITFIEL (R KY-1)     GUTHRIE (R KY-2)     YARMUTH (D KY-3) \n",
       "                   2                    2                    1 \n",
       "      DAVIS (R KY-4)      ROGERS (R KY-5)    CHANDLER (D KY-6) \n",
       "                   2                    2                    1 \n",
       "    SCALISE (R LA-1)         CAO (R LA-2)    MELANCON (D LA-3) \n",
       "                   2                    2                    1 \n",
       "    FLEMING (R LA-4)   ALEXANDER (R LA-5)     CASSIDY (R LA-6) \n",
       "                   2                    2                    2 \n",
       "   BOUSTANY (R LA-7)     PINGREE (D ME-1)     MICHAUD (D ME-2) \n",
       "                   2                    1                    1 \n",
       "   KRATOVIL (D MD-1)   RUPPERSBE (D MD-2)    SARBANES (D MD-3) \n",
       "                   1                    1                    1 \n",
       "    EDWARDS (D MD-4)       HOYER (D MD-5)    BARTLETT (R MD-6) \n",
       "                   1                    1                    2 \n",
       "   CUMMINGS (D MD-7)         VAN (D MD-8)       OLVER (D MA-1) \n",
       "                   1                    1                    1 \n",
       "       NEAL (D MA-2)    MCGOVERN (D MA-3)       FRANK (D MA-4) \n",
       "                   1                    1                    1 \n",
       "    TSONGAS (D MA-5)     TIERNEY (D MA-6)      MARKEY (D MA-7) \n",
       "                   1                    1                    1 \n",
       "    CAPUANO (D MA-8)       LYNCH (D MA-9)   DELAHUNT (D MA-10) \n",
       "                   1                    1                    1 \n",
       "     STUPAK (D MI-1)    HOEKSTRA (R MI-2)      EHLERS (R MI-3) \n",
       "                   1                    2                    2 \n",
       "       CAMP (R MI-4)      KILDEE (D MI-5)       UPTON (R MI-6) \n",
       "                   2                    1                    2 \n",
       "    SCHAUER (D MI-7)      ROGERS (R MI-8)      PETERS (D MI-9) \n",
       "                   1                    2                    1 \n",
       "    MILLER (R MI-10)   MCCOTTER (R MI-11)      LEVIN (D MI-12) \n",
       "                   2                    2                    1 \n",
       "  KILPATRI (D MI-13)    CONYERS (D MI-14)    DINGELL (D MI-15) \n",
       "                   1                    1                    1 \n",
       "       WALZ (D MN-1)       KLINE (R MN-2)     PAULSEN (R MN-3) \n",
       "                   1                    2                    2 \n",
       "   MCCOLLUM (D MN-4)     ELLISON (D MN-5)    BACHMANN (R MN-6) \n",
       "                   1                    1                    2 \n",
       "   PETERSON (D MN-7)    OBERSTAR (D MN-8)    CHILDERS (D MS-1) \n",
       "                   1                    1                    1 \n",
       "   THOMPSON (D MS-2)      HARPER (R MS-3)      TAYLOR (D MS-4) \n",
       "                   1                    2                    1 \n",
       "       CLAY (D MO-1)        AKIN (R MO-2)    CARNAHAN (D MO-3) \n",
       "                   1                    2                    1 \n",
       "    SKELTON (D MO-4)     CLEAVER (D MO-5)      GRAVES (R MO-6) \n",
       "                   1                    1                    2 \n",
       "      BLUNT (R MO-7)     EMERSON (R MO-8) LUETKEMEYER (R MO-9) \n",
       "                   2                    2                    2 \n",
       "    REHBERG (R MT-1)    FORTENBE (R NE-1)       TERRY (R NE-2) \n",
       "                   2                    2                    2 \n",
       "      SMITH (R NE-3)     BERKLEY (D NV-1)      HELLER (R NV-2) \n",
       "                   2                    1                    2 \n",
       "      TITUS (D NV-3) SHEA-PORTER (D NH-1)       HODES (D NH-2) \n",
       "                   1                    1                    1 \n",
       "    ANDREWS (D NJ-1)    LOBIONDO (R NJ-2)       ADLER (D NJ-3) \n",
       "                   1                    2                    1 \n",
       "      SMITH (R NJ-4)     GARRETT (R NJ-5)     PALLONE (D NJ-6) \n",
       "                   2                    2                    1 \n",
       "      LANCE (R NJ-7)    PASCRELL (D NJ-8)     ROTHMAN (D NJ-9) \n",
       "                   2                    1                    1 \n",
       "     PAYNE (D NJ-10)   FRELINGH (R NJ-11)       HOLT (D NJ-12) \n",
       "                   1                    2                    1 \n",
       "     SIRES (D NJ-13)    HEINRICH (D NM-1)      TEAGUE (D NM-2) \n",
       "                   1                    1                    1 \n",
       "      LUJAN (D NM-3)      BISHOP (D NY-1)      ISRAEL (D NY-2) \n",
       "                   1                    1                    1 \n",
       "       KING (R NY-3)    MCCARTHY (D NY-4)    ACKERMAN (D NY-5) \n",
       "                   2                    1                    1 \n",
       "      MEEKS (D NY-6)     CROWLEY (D NY-7)      NADLER (D NY-8) \n",
       "                   1                    1                    1 \n",
       "     WEINER (D NY-9)      TOWNS (D NY-10)     CLARKE (D NY-11) \n",
       "                   1                    1                    1 \n",
       "  VELAZQUE (D NY-12)    MCMAHON (D NY-13)    MALONEY (D NY-14) \n",
       "                   1                    1                    1 \n",
       "    RANGEL (D NY-15)    SERRANO (D NY-16)      ENGEL (D NY-17) \n",
       "                   1                    1                    1 \n",
       "     LOWEY (D NY-18)       HALL (D NY-19) GILLIBRAND (D NY-20) \n",
       "                   1                    1                    2 \n",
       "    MURPHY (D NY-20)      TONKO (D NY-21)    HINCHEY (D NY-22) \n",
       "                   1                    1                    1 \n",
       "    MCHUGH (R NY-23)      OWENS (D NY-23)     ARCURI (D NY-24) \n",
       "                   2                    1                    1 \n",
       "    MAFFEI (D NY-25)        LEE (R NY-26)    HIGGINS (D NY-27) \n",
       "                   1                    2                    1 \n",
       "  SLAUGHTE (D NY-28)      MASSA (D NY-29)       REED (R NY-29) \n",
       "                   1                    1                    2 \n",
       "   BUTTERFI (D NC-1)    ETHERIDG (D NC-2)       JONES (R NC-3) \n",
       "                   1                    1                    2 \n",
       "      PRICE (D NC-4)        FOXX (R NC-5)       COBLE (R NC-6) \n",
       "                   1                    2                    2 \n",
       "   MCINTYRE (D NC-7)     KISSELL (D NC-8)      MYRICK (R NC-9) \n",
       "                   1                    1                    2 \n",
       "   MCHENRY (R NC-10)     SHULER (D NC-11)       WATT (D NC-12) \n",
       "                   2                    1                    1 \n",
       "    MILLER (D NC-13)     POMEROY (D ND-1)    DRIEHAUS (D OH-1) \n",
       "                   1                    1                    1 \n",
       "    SCHMIDT (R OH-2)      TURNER (R OH-3)      JORDAN (R OH-4) \n",
       "                   2                    2                    2 \n",
       "      LATTA (R OH-5)      WILSON (D OH-6)     AUSTRIA (R OH-7) \n",
       "                   2                    1                    2 \n",
       "    BOEHNER (R OH-8)      KAPTUR (D OH-9)   KUCINICH (D OH-10) \n",
       "                   2                    1                    1 \n",
       "     FUDGE (D OH-11)     TIBERI (R OH-12)     SUTTON (D OH-13) \n",
       "                   1                    2                    1 \n",
       "  LATOURET (R OH-14)     KILROY (D OH-15)   BOCCIERI (D OH-16) \n",
       "                   2                    1                    1 \n",
       "      RYAN (D OH-17)      SPACE (D OH-18)    SULLIVAN (R OK-1) \n",
       "                   1                    1                    2 \n",
       "      BOREN (D OK-2)       LUCAS (R OK-3)        COLE (R OK-4) \n",
       "                   1                    2                    2 \n",
       "     FALLIN (R OK-5)          WU (D OR-1)      WALDEN (R OR-2) \n",
       "                   2                    1                    2 \n",
       "   BLUMENAU (D OR-3)     DEFAZIO (D OR-4)    SCHRADER (D OR-5) \n",
       "                   1                    1                    1 \n",
       "      BRADY (D PA-1)      FATTAH (D PA-2)  DAHLKEMPER (D PA-3) \n",
       "                   1                    1                    1 \n",
       "    ALTMIRE (D PA-4)    THOMPSON (R PA-5)     GERLACH (R PA-6) \n",
       "                   1                    2                    2 \n",
       "     SESTAK (D PA-7)      MURPHY (D PA-8)     SHUSTER (R PA-9) \n",
       "                   1                    1                    2 \n",
       "    CARNEY (D PA-10)   KANJORSK (D PA-11)     MURTHA (D PA-12) \n",
       "                   1                    1                    1 \n",
       "     CRITZ (D PA-12)   SCHWARTZ (D PA-13)      DOYLE (D PA-14) \n",
       "                   1                    1                    1 \n",
       "      DENT (R PA-15)      PITTS (R PA-16)     HOLDEN (D PA-17) \n",
       "                   2                    2                    1 \n",
       "    MURPHY (R PA-18)     PLATTS (R PA-19)     KENNEDY (D RI-1) \n",
       "                   2                    2                    1 \n",
       "   LANGEVIN (D RI-2)       BROWN (R SC-1)      WILSON (R SC-2) \n",
       "                   1                    2                    2 \n",
       "    BARRETT (R SC-3)      INGLIS (R SC-4)      SPRATT (D SC-5) \n",
       "                   2                    2                    1 \n",
       "    CLYBURN (D SC-6)     HERSETH (D SD-1)         ROE (R TN-1) \n",
       "                   1                    1                    2 \n",
       "     DUNCAN (R TN-2)        WAMP (R TN-3)       DAVIS (D TN-4) \n",
       "                   2                    2                    1 \n",
       "     COOPER (D TN-5)      GORDON (D TN-6)   BLACKBURN (R TN-7) \n",
       "                   1                    1                    2 \n",
       "     TANNER (D TN-8)       COHEN (D TN-9)     GOHMERT (R TX-1) \n",
       "                   1                    1                    2 \n",
       "        POE (R TX-2)     JOHNSON (R TX-3)        HALL (R TX-4) \n",
       "                   2                    2                    2 \n",
       "  HENSARLIN (R TX-5)      BARTON (R TX-6)    CULBERSO (R TX-7) \n",
       "                   2                    2                    2 \n",
       "      BRADY (R TX-8)       GREEN (D TX-9)     MCCAUL (R TX-10) \n",
       "                   2                    1                    2 \n",
       "   CONAWAY (R TX-11)    GRANGER (R TX-12)   THORNBER (R TX-13) \n",
       "                   2                    2                    2 \n",
       "      PAUL (R TX-14)   HINOJOSA (D TX-15)      REYES (D TX-16) \n",
       "                   2                    1                    1 \n",
       "   EDWARDS (D TX-17)   JACKSON- (D TX-18)  NEUGEBAUE (R TX-19) \n",
       "                   1                    1                    2 \n",
       "  GONZALEZ (D TX-20)      SMITH (R TX-21)      OLSON (R TX-22) \n",
       "                   1                    2                    2 \n",
       " RODRIGUEZ (D TX-23)   MARCHANT (R TX-24)    DOGGETT (D TX-25) \n",
       "                   1                    2                    1 \n",
       "   BURGESS (R TX-26)      ORTIZ (D TX-27)    CUELLAR (D TX-28) \n",
       "                   2                    1                    1 \n",
       "     GREEN (D TX-29)    JOHNSON (D TX-30)     CARTER (R TX-31) \n",
       "                   1                    1                    2 \n",
       "  SESSIONS (R TX-32)      BISHOP (R UT-1)    MATHESON (D UT-2) \n",
       "                   2                    2                    1 \n",
       "   CHAFFETZ (R UT-3)       WELCH (D VT-1)     WITTMAN (R VA-1) \n",
       "                   2                    1                    2 \n",
       "        NYE (D VA-2)       SCOTT (D VA-3)      FORBES (R VA-4) \n",
       "                   1                    1                    2 \n",
       "  PERRIELLO (D VA-5)    GOODLATT (R VA-6)      CANTOR (R VA-7) \n",
       "                   1                    2                    2 \n",
       "      MORAN (D VA-8)     BOUCHER (D VA-9)       WOLF (R VA-10) \n",
       "                   1                    1                    2 \n",
       "  CONNOLLY (D VA-11)      INSLEE (D WA-1)      LARSEN (D WA-2) \n",
       "                   1                    1                    1 \n",
       "      BAIRD (D WA-3)    HASTINGS (R WA-4)    MCMORRIS (R WA-5) \n",
       "                   1                    2                    2 \n",
       "      DICKS (D WA-6)    MCDERMOT (D WA-7)    REICHERT (R WA-8) \n",
       "                   1                    1                    2 \n",
       "      SMITH (D WA-9)    MOLLOHAN (D WV-1)      CAPITO (R WV-2) \n",
       "                   1                    1                    2 \n",
       "     RAHALL (D WV-3)        RYAN (R WI-1)     BALDWIN (D WI-2) \n",
       "                   1                    2                    1 \n",
       "       KIND (D WI-3)       MOORE (D WI-4)    SENSENBR (R WI-5) \n",
       "                   1                    1                    2 \n",
       "      PETRI (R WI-6)        OBEY (D WI-7)       KAGEN (D WI-8) \n",
       "                   2                    1                    1 \n",
       "     LUMMIS (R WY-1) \n",
       "                   2 "
      ]
     },
     "metadata": {},
     "output_type": "display_data"
    }
   ],
   "source": [
    "km.out$cluster"
   ]
  },
  {
   "cell_type": "markdown",
   "metadata": {},
   "source": [
    "**b) Run a k-means clustering procedure for k ∈{2,...,20} and plot the within cluster sum of squared errors. Decide based on the plot what the optimal number of clusters is.**"
   ]
  },
  {
   "cell_type": "code",
   "execution_count": 25,
   "metadata": {},
   "outputs": [
    {
     "data": {
      "image/png": "[encoded data removed]",
      "text/plain": [
       "plot without title"
      ]
     },
     "metadata": {
      "image/png": {
       "height": 420,
       "width": 420
      }
     },
     "output_type": "display_data"
    }
   ],
   "source": [
    "# How to analyze the optimal number of clusters\n",
    "\n",
    "sse <- c()\n",
    "sse[1] <- Inf\n",
    "\n",
    "for (ind_cl in c(2:20)) {\n",
    "  set.seed(3)\n",
    "  km.out = kmeans (votes, ind_cl, nstart = 20)\n",
    "  sse[ind_cl] = km.out$tot.withinss\n",
    "}\n",
    "\n",
    "plot(sse)\n",
    "# Optimum 4-5 clusters"
   ]
  },
  {
   "cell_type": "markdown",
   "metadata": {},
   "source": [
    "**c) Take the graph with two principal components and use color to visualize the clusters you found in the previous task.**"
   ]
  },
  {
   "cell_type": "code",
   "execution_count": 29,
   "metadata": {},
   "outputs": [
    {
     "data": {
      "image/png": "[encoded data removed]",
      "text/plain": [
       "Plot with title “Top two PC directions with 5 clusters”"
      ]
     },
     "metadata": {
      "image/png": {
       "height": 420,
       "width": 420
      }
     },
     "output_type": "display_data"
    }
   ],
   "source": [
    "# Plot the 5 clusters on the PC components graph\n",
    "set.seed(3)\n",
    "km.out = kmeans (votes, 5, nstart = 20)\n",
    "\n",
    "# Plot the first two principal components color the party membership\n",
    "plot(pr.out$x[,1], pr.out$x[,2], xlab = \"PC1\", ylab = \"PC2\", col = km.out$cluster, main = \"Top two PC directions with 5 clusters\")\n",
    "legend('bottomright', legend = c(\"Cluster 1\", \"Cluster 2\", \"Cluster 3\", \"Cluster 4\", \"Cluster 5\"), col = 1:5,  pch = 1)"
   ]
  },
  {
   "cell_type": "markdown",
   "metadata": {},
   "source": [
    "**d) Run a k-means clustering procedure to detect 6 clusters with nstart = 1 and nstart = 20. Print out the within cluster sum of squared errors for both nstart values. What can you say about the importance of nstart on the convergence to the global optimum?**"
   ]
  },
  {
   "cell_type": "code",
   "execution_count": 30,
   "metadata": {},
   "outputs": [
    {
     "name": "stdout",
     "output_type": "stream",
     "text": [
      "[1] \"With nstart = 1\"\n"
     ]
    },
    {
     "data": {
      "text/html": [
       "124967.279701017"
      ],
      "text/latex": [
       "124967.279701017"
      ],
      "text/markdown": [
       "124967.279701017"
      ],
      "text/plain": [
       "[1] 124967.3"
      ]
     },
     "metadata": {},
     "output_type": "display_data"
    },
    {
     "name": "stdout",
     "output_type": "stream",
     "text": [
      "[1] \"With nstart = 20\"\n"
     ]
    },
    {
     "data": {
      "text/html": [
       "117465.425374689"
      ],
      "text/latex": [
       "117465.425374689"
      ],
      "text/markdown": [
       "117465.425374689"
      ],
      "text/plain": [
       "[1] 117465.4"
      ]
     },
     "metadata": {},
     "output_type": "display_data"
    },
    {
     "name": "stdout",
     "output_type": "stream",
     "text": [
      "[1] \"With nstart = 100\"\n"
     ]
    },
    {
     "data": {
      "text/html": [
       "117446.605626949"
      ],
      "text/latex": [
       "117446.605626949"
      ],
      "text/markdown": [
       "117446.605626949"
      ],
      "text/plain": [
       "[1] 117446.6"
      ]
     },
     "metadata": {},
     "output_type": "display_data"
    },
    {
     "name": "stdout",
     "output_type": "stream",
     "text": [
      "[1] \"With nstart = 500\"\n"
     ]
    },
    {
     "data": {
      "text/html": [
       "117446.605626949"
      ],
      "text/latex": [
       "117446.605626949"
      ],
      "text/markdown": [
       "117446.605626949"
      ],
      "text/plain": [
       "[1] 117446.6"
      ]
     },
     "metadata": {},
     "output_type": "display_data"
    }
   ],
   "source": [
    "# Analyzing how the number of starts work\n",
    "set.seed (3)\n",
    "print('With nstart = 1')\n",
    "km.out = kmeans (votes,6, nstart = 1)\n",
    "km.out$tot.withinss\n",
    "\n",
    "print('With nstart = 20')\n",
    "km.out =kmeans (votes,6, nstart = 20)\n",
    "km.out$tot.withinss\n",
    "\n",
    "print('With nstart = 100')\n",
    "km.out =kmeans (votes,6, nstart = 100)\n",
    "km.out$tot.withinss\n",
    "\n",
    "print('With nstart = 500')\n",
    "km.out =kmeans (votes,6, nstart = 500)\n",
    "km.out$tot.withinss\n"
   ]
  },
  {
   "cell_type": "markdown",
   "metadata": {},
   "source": [
    "<span style=\"color:red; font-weight:bold; font-size:xx-large;\">\n",
    "# Time for a breakout session \n",
    "</span>\n"
   ]
  },
  {
   "cell_type": "code",
   "execution_count": null,
   "metadata": {
    "collapsed": true,
    "jupyter": {
     "outputs_hidden": true
    }
   },
   "outputs": [],
   "source": []
  }
 ],
 "metadata": {
  "kernelspec": {
   "display_name": "R",
   "language": "R",
   "name": "ir"
  },
  "language_info": {
   "codemirror_mode": "r",
   "file_extension": ".r",
   "mimetype": "text/x-r-source",
   "name": "R",
   "pygments_lexer": "r",
   "version": "3.6.3"
  }
 },
 "nbformat": 4,
 "nbformat_minor": 4
}

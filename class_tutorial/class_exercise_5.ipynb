{
 "cells": [
  {
   "cell_type": "markdown",
   "id": "9988c43d-7c7f-4426-b2d9-9b6bbca26a41",
   "metadata": {},
   "source": [
    "# Embarking on a Practical R Exercise Adventure\r\n",
    "\r\n",
    "Welcome to today's R exercise session! This is your chance to apply your newfound knowledge and skills in R to real-world problems. Throughout this exercise, you'll tackle challenges, experiment with data, and hone your analytical abilities. Think of it as a journey – one where you'll encounter obstacles, make discoveries, and emerge with a deeper understanding of R and its applications.\r\n",
    "\r\n",
    "As you navigate through the exercises, remember to embrace the process. Don't be afraid to try new things, make mistakes, and learn from them. Each step you take brings you closer to mastery, so keep pushing forward and exploring the possibilities. Your persistence and dedication will undoubtedly pay off, both in your academic pursuits and future endeavors.\r\n",
    "\r\n",
    "So, let's embark on this journey together and see where it takes us. Get ready to unleash the power of R and uncover valuable insights from the data. Enjoy the adventure, and remember, you've got this!\r\n",
    "\r\n",
    "### Task:\r\n",
    "In this exercise, you'll dive into a series of R tasks designed to challenge your skills and reinforce your understanding of the language. Your mission is to fill in the missing code snippets (???) where indicated and complete each task.\r\n",
    "\r\n",
    "### Submission:\r\n",
    "Fill in the missing code snippets (???) provided in the Markdown format below to complete the exercise.\r\n"
   ]
  },
  {
   "cell_type": "markdown",
   "id": "671a2204-ed4c-4d9b-9177-d4fbe4858e55",
   "metadata": {},
   "source": [
    "## Exercise Overview: Preparing Data\n",
    "\n",
    "Prepare the `Hitters` dataset for analysis, focusing on predicting the number of assists made by players. Your goal is to clean the dataset and ensure it's ready for analysis.\n",
    "\n",
    "To begin, load the `ISLR` library and access the `Hitters` dataset. Remove any rows with missing values (NA) and prepare a predictors matrix (`X`) without an intercept term. Convert this matrix to a dataframe named `data`. Next, append the assists column from the original dataset to the `data` dataframe. Remove the unnecessary `NewLeague` column and any remaining rows with missing values.\n",
    "\n",
    "Complete the ??? task by filling in the missing code snippets to ensure the dataset is clean and ready for further analysis.\n"
   ]
  },
  {
   "cell_type": "code",
   "execution_count": 1,
   "id": "1273fe3d-63e0-4516-80b6-a477528cb586",
   "metadata": {},
   "outputs": [],
   "source": [
    "# Load the ISLR library\n",
    "library(???)\n",
    "\n",
    "# Access the Hitters dataset\n",
    "data(????)\n",
    "\n",
    "# Remove rows with NA values to ensure clean data\n",
    "HittersClean <- na.omit(Hitters)\n",
    "\n",
    "# Prepare the predictors matrix without intercept\n",
    "X <- model.matrix(??? ~ . - 1, data = HittersClean) # Preparing predictors\n",
    "\n",
    "# Convert the matrix to a dataframe\n",
    "data <- as.data.frame(X)\n",
    "\n",
    "# Append the assist as outcome variable\n",
    "data$????? <- HittersClean$???\n",
    "\n",
    "\n",
    "# Remove row names\n",
    "\n",
    "rownames(data) <- NULL\n",
    "\n",
    "# Now 'data' is a dataframe that includes both predictors and the outcome variable\n",
    "\n",
    "data = as.data.frame(data)\n",
    "\n",
    "# Remove the NewLeague column\n",
    "data <- data[, !names(data) %in% \"NewLeague\"]\n",
    "\n",
    "# Remove rows with missing values\n",
    "data <- na.omit(data)\n",
    "\n"
   ]
  },
  {
   "cell_type": "markdown",
   "id": "a8520782-3941-4b99-8c56-bee06c7cfa26",
   "metadata": {},
   "source": [
    "### Exercise Overview: Splitting Data\r\n",
    "\r\n",
    "In this exercise, you will split the cleaned `Hitters` dataset into training and test sets for further analysis. This step is crucial for evaluating the performance of machine learning models.\r\n",
    "\r\n",
    "To begin, set the seed for reproducibility using `set.seed(123)`. Then, calculate the size of the training set based on a split ratio of 0.8. Next, randomly sample row indices to create the training set, ensuring that it comprises 80% of the data. The remaining rows will form the test se sets.\r\n"
   ]
  },
  {
   "cell_type": "code",
   "execution_count": 2,
   "id": "f361e1b3-dbf7-4ee8-8458-6d8cf049caae",
   "metadata": {},
   "outputs": [],
   "source": [
    "\n",
    "# Set the seed for reproducibility\n",
    "??????\n",
    "\n",
    "# Calculate the size of the training set\n",
    "??? = 0.8\n",
    "training_size <- ?????\n",
    "\n",
    "# Randomly sample row indices for the training set\n",
    "training_indices <- sample(???? size = training_size)\n",
    "\n",
    "# Create ???\n",
    "\n",
    "# Create the test set\n",
    "test <-????"
   ]
  },
  {
   "cell_type": "markdown",
   "id": "36c31040-c258-4e6f-abcf-7bde21077109",
   "metadata": {},
   "source": [
    "### Exercise Overview: OLS\n",
    "\n",
    "In this exercise, you will perform Ordinary Least Squares (OLS) regression to predict the `assist` variable in the given dataset. You will then evaluate the performance of the model by calculating the Mean Squared Error (MSE) and printing it to the console.\n",
    "\n",
    "1. **Fit OLS Regression Model:**\n",
    "   - Use the `lm()` function to fit a linear regression model to predict `assist` using all available predictors.\n",
    "\n",
    "2. **Evaluate Model Performance:**\n",
    "   - Display the summary of the OLS model to understand its performance.\n",
    "   - Predict the `assist` values for the test dataset using the fitted OLS model.\n",
    "   - Calculate the Mean Squared Error (MSE) for the predictions.\n",
    "   - Print the MSE value to the console."
   ]
  },
  {
   "cell_type": "code",
   "execution_count": 3,
   "id": "47cd6c61-8a3e-41de-8c0c-8409fc450deb",
   "metadata": {},
   "outputs": [
    {
     "name": "stderr",
     "output_type": "stream",
     "text": [
      "Loading required package: Matrix\n",
      "\n",
      "Loaded glmnet 4.1-8\n",
      "\n",
      "\n",
      "Attaching package: ‘dplyr’\n",
      "\n",
      "\n",
      "The following objects are masked from ‘package:stats’:\n",
      "\n",
      "    filter, lag\n",
      "\n",
      "\n",
      "The following objects are masked from ‘package:base’:\n",
      "\n",
      "    intersect, setdiff, setequal, union\n",
      "\n",
      "\n"
     ]
    },
    {
     "data": {
      "text/plain": [
       "\n",
       "Call:\n",
       "lm(formula = salary ~ ., data = train)\n",
       "\n",
       "Residuals:\n",
       "    Min      1Q  Median      3Q     Max \n",
       "-753.89 -173.98  -11.87  159.32 1815.62 \n",
       "\n",
       "Coefficients: (1 not defined because of singularities)\n",
       "              Estimate Std. Error t value Pr(>|t|)   \n",
       "(Intercept)  214.09783  124.12599   1.725  0.08618 . \n",
       "AtBat         -1.68499    0.75317  -2.237  0.02644 * \n",
       "Hits           5.06495    2.89376   1.750  0.08168 . \n",
       "HmRun         -2.68840    6.86520  -0.392  0.69579   \n",
       "Runs          -0.95353    3.41442  -0.279  0.78034   \n",
       "RBI            1.41046    3.00406   0.470  0.63924   \n",
       "Walks          6.35620    2.11308   3.008  0.00299 **\n",
       "Years        -13.14742   14.12616  -0.931  0.35318   \n",
       "CAtBat        -0.25953    0.15700  -1.653  0.09996 . \n",
       "CHits          0.65158    0.80755   0.807  0.42076   \n",
       "CHmRun         1.29483    1.86077   0.696  0.48737   \n",
       "CRuns          1.25425    0.89170   1.407  0.16119   \n",
       "CRBI           0.46318    0.84092   0.551  0.58242   \n",
       "CWalks        -0.68669    0.39171  -1.753  0.08121 . \n",
       "LeagueA       -6.62438   91.91248  -0.072  0.94262   \n",
       "LeagueN             NA         NA      NA       NA   \n",
       "DivisionW   -120.30537   45.33765  -2.654  0.00864 **\n",
       "PutOuts        0.19444    0.08678   2.240  0.02622 * \n",
       "Assists        0.51924    0.25194   2.061  0.04067 * \n",
       "Errors        -7.33195    4.88072  -1.502  0.13470   \n",
       "NewLeagueN    61.30716   91.82558   0.668  0.50517   \n",
       "---\n",
       "Signif. codes:  0 ‘***’ 0.001 ‘**’ 0.01 ‘*’ 0.05 ‘.’ 0.1 ‘ ’ 1\n",
       "\n",
       "Residual standard error: 311.7 on 190 degrees of freedom\n",
       "Multiple R-squared:  0.6014,\tAdjusted R-squared:  0.5616 \n",
       "F-statistic: 15.09 on 19 and 190 DF,  p-value: < 2.2e-16\n"
      ]
     },
     "metadata": {},
     "output_type": "display_data"
    },
    {
     "name": "stderr",
     "output_type": "stream",
     "text": [
      "Warning message in predict.lm(ols, newdata = test):\n",
      "“prediction from a rank-deficient fit may be misleading”\n"
     ]
    },
    {
     "name": "stdout",
     "output_type": "stream",
     "text": [
      "[1] 138149.8\n"
     ]
    }
   ],
   "source": [
    "library(glmnet)\n",
    "library(dplyr)\n",
    "\n",
    "# Fit the linear regression model\n",
    "ols <- lm(???? ~ ., data = train)\n",
    "# Display the summary of the model to understand its performance\n",
    "summary(ols)\n",
    "\n",
    "# Predicting the assist for the test dataset\n",
    "ols$predict_outcome <- ???\n",
    "\n",
    "# Calculating the Mean Squared Error (MSE) for our predictions\n",
    "??? <- mean((test$?? - ols$predict_outcome)^2)\n",
    "# Print the MSE to the console\n",
    "print(predMSEols)"
   ]
  },
  {
   "cell_type": "markdown",
   "id": "a942cda9-dd39-45ee-83d5-a385e370c3fa",
   "metadata": {},
   "source": [
    "### Exercise Overview: Lasso and Ridge Regression\n",
    "\n",
    "In this exercise, you will estimate Lasso and Ridge regression models to predict the `assist` variable using all available predictors except the outcome variable in the training dataset. You will also perform cross-validation to find the optimal lambda value for each model.\n",
    "\n",
    "1. **Lasso Model:**\n",
    "   - Estimate a Lasso model using all predictors except the outcome variable (`assist`) in the `train` dataset.\n",
    "   - Perform cross-validation to find the optimal lambda value for the Lasso model.\n",
    "\n",
    "2. **Ridge Model:**\n",
    "   - Estimate a Ridge model using all predictors except the outcome variable (`assist`) in the `train` dataset.\n",
    "   - Perform cross-validation to find the optimal lambda value for the Ridge model.\n",
    "\n",
    "Complete the ??? task by filling in the missing co"
   ]
  },
  {
   "cell_type": "code",
   "execution_count": 8,
   "id": "dfca9485-9f0e-412a-9daa-fa224a5a9098",
   "metadata": {},
   "outputs": [
    {
     "ename": "ERROR",
     "evalue": "Error in parse(text = x, srcfile = src): <text>:2:46: unexpected ','\n1: # Estimate a Lasso model using all predictors except the outcome variable\n2: lasso <- ???(as.matrix(train[, -ncol(train)]),\n                                                ^\n",
     "output_type": "error",
     "traceback": [
      "Error in parse(text = x, srcfile = src): <text>:2:46: unexpected ','\n1: # Estimate a Lasso model using all predictors except the outcome variable\n2: lasso <- ???(as.matrix(train[, -ncol(train)]),\n                                                ^\nTraceback:\n"
     ]
    }
   ],
   "source": [
    "# Estimate a Lasso model using all predictors except the outcome variable\n",
    "lasso <- ???(as.matrix(train[, -ncol(train)]), train$???, alpha = ???)\n",
    "\n",
    "# Perform cross-validation to find the optimal lambda value\n",
    "lasso.cv <- cv.glmnet(as.matrix(train[, -ncol(train)]), train$????, type.measure = \"mse\", nfolds = 5, alpha = 1)\n",
    "\n",
    "\n",
    "\n",
    "ridge <- glmnet(as.matrix(train[, -ncol(train)]), train$????, alpha = ???)\n",
    "# Cross-validate the Ridge model \n",
    "ridge.cv <- cv.glmnet(as.matrix(train[, -ncol(train)]), train$????, type.measure = \"mse\", nfolds = 5, alpha = 0)"
   ]
  },
  {
   "cell_type": "code",
   "execution_count": 5,
   "id": "af9da60d-d63c-4751-82a1-83242cf34194",
   "metadata": {},
   "outputs": [
    {
     "name": "stdout",
     "output_type": "stream",
     "text": [
      "[1] \"MSE: 130313.877940595\"\n"
     ]
    }
   ],
   "source": [
    "\n",
    "\n",
    "# Predict using the fitted Lasso model\n",
    "lasso$predict_outcome <- predict(lasso, newx = as.matrix(test[, -ncol(test)]), s = lasso.cv$lambda.min)\n",
    "\n",
    "# Calculate the MSE\n",
    "predMSElasso <- mean((t????? - lasso$predict_outcome)^2)\n",
    "print(paste0(\"MSE: \", predMSElasso))\n",
    "\n"
   ]
  },
  {
   "cell_type": "code",
   "execution_count": 6,
   "id": "bc51d166-0fcf-424d-a21e-b9033910a0df",
   "metadata": {},
   "outputs": [
    {
     "name": "stdout",
     "output_type": "stream",
     "text": [
      "[1] \"MSE: 132630.476586086\"\n"
     ]
    }
   ],
   "source": [
    "# Predict using the fitted Lasso model\n",
    "ridge$predict_outcome <- predict(ridge, newx = as.matrix(test[, -ncol(test)]), s = ridge.cv$lambda.min)\n",
    "\n",
    "# Calculate the MSE\n",
    "???? - ridge$predict_outcome )^2)\n",
    "print(paste0(\"MSE: \", predMSEridge))"
   ]
  },
  {
   "cell_type": "markdown",
   "id": "b20e3048-69cb-4f2f-b8b7-e55adf953301",
   "metadata": {},
   "source": [
    "### Exercise Overview: Comparing\n",
    "\n",
    "In this exercise, you will compare the Mean Squared Error (MSE) values obtained from three different regression models: Ordinary Least Squares (OLS), Lasso, and Ridge regression. Additionally, you will determine which model is most suitable based on their respective MSE values.\n",
    "\n",
    "1. **Comparing MSE:**\n",
    "   - Print the MSE values obtained from the OLS, Lasso, and Ridge regression models.\n",
    "\n",
    "2. **Selecting the Best Model:**\n",
    "   - Based on the MSE values, determine which regression model is most appropriate for predicting the `assist` variable in the given dataset.\n",
    "\n",
    "Complete the ??? task by filling in the"
   ]
  },
  {
   "cell_type": "code",
   "execution_count": 7,
   "id": "9ae54b7b-b5f8-4dda-b000-7c5feba399e2",
   "metadata": {},
   "outputs": [
    {
     "name": "stdout",
     "output_type": "stream",
     "text": [
      "[1] 138149.8 130313.9 132630.5\n"
     ]
    }
   ],
   "source": [
    "????"
   ]
  },
  {
   "cell_type": "code",
   "execution_count": null,
   "id": "95a4a066-adbe-4838-841d-6273504c1bd5",
   "metadata": {},
   "outputs": [],
   "source": []
  }
 ],
 "metadata": {
  "kernelspec": {
   "display_name": "R",
   "language": "R",
   "name": "ir"
  },
  "language_info": {
   "codemirror_mode": "r",
   "file_extension": ".r",
   "mimetype": "text/x-r-source",
   "name": "R",
   "pygments_lexer": "r",
   "version": "3.6.3"
  }
 },
 "nbformat": 4,
 "nbformat_minor": 5
}

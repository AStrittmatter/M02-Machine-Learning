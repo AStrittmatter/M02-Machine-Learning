{
 "cells": [
  {
   "cell_type": "markdown",
   "id": "89784125-5fa9-4918-89b8-69a1148f1624",
   "metadata": {},
   "source": [
    "<span style=\"color:red; font-weight:bold; font-size:xx-large;\">\n",
    "# Breakout session 2 of the class tutorial 2\n",
    "</span>\n"
   ]
  },
  {
   "cell_type": "markdown",
   "id": "9988c43d-7c7f-4426-b2d9-9b6bbca26a41",
   "metadata": {},
   "source": [
    "# Embarking on a Practical R Exercise Adventure\n",
    "\n",
    "Welcome to today's R exercise session! This is your chance to apply your newfound knowledge and skills in R to real-world problems. Throughout this exercise, you'll tackle challenges, experiment with data, and hone your analytical abilities. Think of it as a journey – one where you'll encounter obstacles, make discoveries, and emerge with a deeper understanding of R and its applications.\n",
    "\n",
    "As you navigate through the exercises, remember to embrace the process. Don't be afraid to try new things, make mistakes, and learn from them. Each step you take brings you closer to mastery, so keep pushing forward and exploring the possibilities. Your persistence and dedication will undoubtedly pay off, both in your academic pursuits and future endeavors.\n",
    "\n",
    "So, let's embark on this journey together and see where it takes us. Get ready to unleash the power of R and uncover valuable insights from the data. Enjoy the adventure, and remember, you've got this!\n",
    "\n",
    "### Task:\n",
    "In this exercise, you'll dive into a series of R tasks designed to challenge your skills and reinforce your understanding of the language. Your mission is to fill in the missing code snippets (???) where indicated and complete each task.\n",
    "\n",
    "### Submission:\n",
    "Fill in the missing code snippets (???) provided in the Markdown format below to complete the exercise.\n"
   ]
  },
  {
   "cell_type": "markdown",
   "id": "671a2204-ed4c-4d9b-9177-d4fbe4858e55",
   "metadata": {},
   "source": [
    "## Exercise Overview: Preparing Data\n",
    "\n",
    "Prepare the `Hitters` dataset for analysis, focusing on predicting the number of salarys made by players. Your goal is to clean the dataset and ensure it's ready for analysis.\n",
    "\n",
    "To begin, load the `ISLR` library and access the `Hitters` dataset. This time we are working with all the data.  Remove any rows with missing values (NA) and prepare a predictors matrix (`X`) without an intercept term. Convert this matrix to a dataframe named `data`. Next, append the salarys column from the original dataset to the `data` dataframe. Remove the unnecessary `NewLeague` column and any remaining rows with missing values.\n",
    "\n",
    "Complete the ??? task by filling in the missing code snippets to ensure the dataset is clean and ready for further analysis.\n"
   ]
  },
  {
   "cell_type": "code",
   "execution_count": null,
   "id": "1273fe3d-63e0-4516-80b6-a477528cb586",
   "metadata": {
    "vscode": {
     "languageId": "r"
    }
   },
   "outputs": [],
   "source": [
    "# Load the ISLR library\n",
    "library(ISLR)\n",
    "\n",
    "# Access the Hitters dataset\n",
    "???(Hitters)\n",
    "\n",
    "# Remove rows with NA values to ensure clean data\n",
    "HittersClean <- na.omit(???)\n",
    "\n",
    "# Prepare the predictors matrix without intercept\n",
    "X <- model.matrix(Salary ~ . - 1, data = HittersClean) # Preparing predictors\n",
    "\n",
    "# Convert the matrix to a dataframe\n",
    "data <- as.data.frame(X)\n",
    "\n",
    "# Append the Salary as outcome variable\n",
    "data$salary <- ????$Salary\n",
    "\n",
    "# Remove row names\n",
    "rownames(data) <- NULL\n",
    "\n",
    "# Now 'data' is a dataframe that includes both predictors and the outcome variable\n",
    "\n",
    "??? = as.data.frame(data)\n",
    "\n",
    "# Remove career statistics variables\n",
    "???? <- c(\"??\", \"CHits\", \"CHmRun\", \"CRuns\", \"CRBI\", \"CWalks\") # ????????????????? do we really need this here? hust hust read the exercise :==) \n",
    "data <- data[, !names(data) %in% career_stats]\n",
    "\n",
    "# Remove the NewLeague column (This you can remove for sure)\n",
    "data <- data[, !names(data) %in% \"NewLeague\"]\n",
    "\n",
    "# Remove rows with missing values\n",
    "data <- na.omit(data)\n"
   ]
  },
  {
   "cell_type": "markdown",
   "id": "a8520782-3941-4b99-8c56-bee06c7cfa26",
   "metadata": {},
   "source": [
    "### Exercise Overview: Splitting Data\n",
    "\n",
    "In this exercise, you will split the cleaned `Hitters` dataset into training and test sets for further analysis. This step is crucial for evaluating the performance of machine learning models.But this time we get to see the benefits of functions in action. Instead of writing the code over and over and over again... We'll use the function we've already saved in a script. Now we just need to make sure we use the right arguments. If you're not sure which arguments you need to read in, take a quick look at the script.ts.\n"
   ]
  },
  {
   "cell_type": "code",
   "execution_count": null,
   "id": "2fd44fcf-1b98-4a5e-bbd3-dce7ecc4b407",
   "metadata": {
    "vscode": {
     "languageId": "r"
    }
   },
   "outputs": [],
   "source": [
    "\n",
    "\n",
    "\n",
    "# Read the file and load the functions\n",
    "source(\"/home/jupyter-mlcourseuser/M02-Machine-Learning/self_study_tutorial/scripts_and_data/r_functions.r\")\n",
    "\n",
    "# Call the function to split the data\n",
    "split_result <- split_data(??, ???)\n",
    "\n",
    "# Access the training and test sets from the result\n",
    "train <- split_result$???\n",
    "test <- split_result$???\n"
   ]
  },
  {
   "cell_type": "markdown",
   "id": "36c31040-c258-4e6f-abcf-7bde21077109",
   "metadata": {},
   "source": [
    "### Exercise Overview: OLS\n",
    "\n",
    "In this exercise, you will perform Ordinary Least Squares (OLS) regression to predict the `salary` variable in the given dataset. You will then evaluate the performance of the model by calculating the Mean Squared Error (MSE) and printing it to the console.\n",
    "\n",
    "1. **Fit OLS Regression Model:**\n",
    "   - Use the `lm()` function to fit a linear regression model to predict `salary` using all available predictors.\n",
    "\n",
    "2. **Evaluate Model Performance:**\n",
    "   - Display the summary of the OLS model to understand its performance.\n",
    "   - Predict the `salary` values for the test dataset using the fitted OLS model.\n",
    "   - Calculate the Mean Squared Error (MSE) for the predictions.\n",
    "   - Print the MSE value to the console."
   ]
  },
  {
   "cell_type": "code",
   "execution_count": null,
   "id": "47cd6c61-8a3e-41de-8c0c-8409fc450deb",
   "metadata": {
    "vscode": {
     "languageId": "r"
    }
   },
   "outputs": [],
   "source": [
    "library(glmnet)\n",
    "library(dplyr)\n",
    "\n",
    "# Fit the linear regression model\n",
    "ols <- lm(???? ~ ., data = train)\n",
    "# Display the summary of the model to understand its performance\n",
    "summary(ols)\n",
    "\n",
    "# Predicting the salary for the test dataset\n",
    "ols$predict_outcome <- ???\n",
    "\n",
    "# Calculating the Mean Squared Error (MSE) for our predictions\n",
    "??? <- mean((test$?? - ols$predict_outcome)^2)\n",
    "# Print the MSE to the console\n",
    "print(predMSEols)"
   ]
  },
  {
   "cell_type": "markdown",
   "id": "a942cda9-dd39-45ee-83d5-a385e370c3fa",
   "metadata": {},
   "source": [
    "# Exercise Overview: Lasso and Ridge Regression\n",
    "\n",
    "In this exercise, you will estimate Lasso and Ridge regression models to predict the `salary` variable using all available predictors except the outcome variable in the training dataset. You will also perform cross-validation to find the optimal lambda value for each model.\n",
    "\n",
    "1. **Lasso Model:**\n",
    "   - Estimate a Lasso model using all predictors except the outcome variable (`salary`) in the `train` dataset.\n",
    "   - Perform cross-validation to find the optimal lambda value for the Lasso model.\n",
    "\n",
    "2. **Ridge Model:**\n",
    "   - Estimate a Ridge model using all predictors except the outcome variable (`salary`) in the `train` dataset.\n",
    "   - Perform cross-validation to find the optimal lambda value for the Ridge model.\n",
    "\n",
    "Complete the ??? task by filling in the missing co"
   ]
  },
  {
   "cell_type": "markdown",
   "id": "91925e7f-1ae9-40ff-a5cb-1036d0c21d85",
   "metadata": {},
   "source": [
    "first create a lasso regression. Pretty easy huh?"
   ]
  },
  {
   "cell_type": "code",
   "execution_count": null,
   "id": "dfca9485-9f0e-412a-9daa-fa224a5a9098",
   "metadata": {
    "vscode": {
     "languageId": "r"
    }
   },
   "outputs": [],
   "source": [
    "# Estimate a Lasso model using all predictors except the outcome variable\n",
    "lasso <- ???(as.matrix(train[, -ncol(train)]), train$???, alpha = ???)\n",
    "\n"
   ]
  },
  {
   "cell_type": "markdown",
   "id": "e6c9cca8-4d86-4ae3-ac83-f8acb851fd57",
   "metadata": {},
   "source": [
    "A picture says more than 100 words. Create a picture story. And explain how we should interpret it?"
   ]
  },
  {
   "cell_type": "code",
   "execution_count": null,
   "id": "ab7e345d-5694-4641-98fd-377c0875e8b2",
   "metadata": {
    "vscode": {
     "languageId": "r"
    }
   },
   "outputs": [],
   "source": [
    "\n",
    "???(??, xvar = \"lambda\", label = TRUE)"
   ]
  },
  {
   "cell_type": "markdown",
   "id": "b4dbcc91-8622-42a5-a8fa-0d88800fcfb8",
   "metadata": {},
   "source": [
    "Perform cross-validation on the dataset, utilizing the lasso.cv function with appropriate parameters including the data matrix, target variable, type of measurement, number of folds, and alpha value to determine the optimal lambda value for regularization"
   ]
  },
  {
   "cell_type": "code",
   "execution_count": null,
   "id": "73db6475-9be8-4a0c-8a0c-f219f856a29b",
   "metadata": {
    "vscode": {
     "languageId": "r"
    }
   },
   "outputs": [],
   "source": [
    "# Perform cross-validation to find the optimal lambda value\n",
    "lasso.cv <- ???(as.matrix(train[, -ncol(train)]), train$????, type.measure = \"??\", nfolds = ??, alpha = ????)"
   ]
  },
  {
   "cell_type": "markdown",
   "id": "fe6d39ba-a1ac-4457-b5fe-e06a338658ae",
   "metadata": {},
   "source": [
    "<span style=\"color:red; font-weight:bold; font-size:xx-large;\">\n",
    "# Breakout session 3 of the class tutorial 2\n",
    "</span>\n"
   ]
  },
  {
   "cell_type": "markdown",
   "id": "296ece8f-ad99-4afa-b81d-792bb8a25d77",
   "metadata": {},
   "source": [
    "\n",
    "Fill in the missing parts of the code snippet below to cross-validate the Ridge model:\n",
    "\n",
    "Replace `????` with:\n",
    "\n",
    "1. The appropriate response variable for the training set.\n",
    "2. The number of folds for cross-validation.\n",
    "3. The value of alpha for the Ridge model.\n",
    "\n",
    "Remember to consider the data structure and characteristics when completing this exercise."
   ]
  },
  {
   "cell_type": "code",
   "execution_count": null,
   "id": "6e16d3d2-a1e5-4ecd-9754-f5a0555b6d6b",
   "metadata": {
    "vscode": {
     "languageId": "r"
    }
   },
   "outputs": [],
   "source": [
    "\n",
    "\n",
    "\n",
    "# Cross-validate the Ridge model \n",
    "ridge.cv <- cv.glmnet(as.matrix(train[, -ncol(train)]), train$????, type.measure = \"mse\", nfolds = 5, alpha = ????)"
   ]
  },
  {
   "cell_type": "markdown",
   "id": "8bcc28e4-856f-4946-b30f-09c2635389a8",
   "metadata": {},
   "source": [
    "# Evaluating Model Performance on Test Sample\n",
    "\n",
    "Now that you already have a test sample, it's time to assess how well our cross-validated Lasso and Ridge models perform on this unseen data.\n",
    "\n",
    "Here's what you can do:\n",
    "\n",
    "1. **Apply the Models**: Utilize the trained Lasso and Ridge models to make predictions on the test sample.\n",
    "\n",
    "2. **Evaluate Predictions**: Compare the predicted values generated by the models with the actual values of the response variable in the test sample.\n",
    "\n",
    "3. **Performance Assessment**: Calculate relevant performance metrics such as Mean Squared Error (MSE)\n",
    "\n"
   ]
  },
  {
   "cell_type": "code",
   "execution_count": null,
   "id": "af9da60d-d63c-4751-82a1-83242cf34194",
   "metadata": {
    "vscode": {
     "languageId": "r"
    }
   },
   "outputs": [],
   "source": [
    "\n",
    "\n",
    "# Predict using the fitted Lasso model\n",
    "lasso$predict_outcome <- predict(lasso, newx = as.matrix(test[, -???]), s = ???)\n",
    "\n",
    "# Calculate the MSE\n",
    "predMSElasso <- mean((t????? - lasso$???)^2)\n",
    "print(paste0(\"???: \", predMSElasso))\n",
    "\n"
   ]
  },
  {
   "cell_type": "code",
   "execution_count": null,
   "id": "bc51d166-0fcf-424d-a21e-b9033910a0df",
   "metadata": {
    "vscode": {
     "languageId": "r"
    }
   },
   "outputs": [],
   "source": [
    "# Predict using the fitted Lasso model\n",
    "????$predict_outcome <- ????(ridge, newx = as.matrix(test[, -ncol(test)]), s = ???)\n",
    "\n",
    "# Calculate the MSE\n",
    "???? - ridge$predict_outcome )^2)\n",
    "print(paste0(\"MSE: \", predMSEridge))"
   ]
  },
  {
   "cell_type": "markdown",
   "id": "b20e3048-69cb-4f2f-b8b7-e55adf953301",
   "metadata": {},
   "source": [
    "### Exercise Overview: Comparing\n",
    "\n",
    "In this exercise, you will compare the Mean Squared Error (MSE) values obtained from three different regression models: Ordinary Least Squares (OLS), Lasso, and Ridge regression. Additionally, you will determine which model is most suitable based on their respective MSE values.\n",
    "\n",
    "1. **Comparing MSE:**\n",
    "   - Print the MSE values obtained from the OLS, Lasso, and Ridge regression models.\n",
    "\n",
    "2. **Selecting the Best Model:**\n",
    "   - Based on the MSE values, determine which regression model is most appropriate for predicting the `salary` variable in the given dataset.\n",
    "\n",
    "Complete the ??? task by filling in the"
   ]
  },
  {
   "cell_type": "code",
   "execution_count": null,
   "id": "9ae54b7b-b5f8-4dda-b000-7c5feba399e2",
   "metadata": {
    "vscode": {
     "languageId": "r"
    }
   },
   "outputs": [],
   "source": [
    "????"
   ]
  }
 ],
 "metadata": {
  "kernelspec": {
   "display_name": "R",
   "language": "R",
   "name": "ir"
  },
  "language_info": {
   "codemirror_mode": "r",
   "file_extension": ".r",
   "mimetype": "text/x-r-source",
   "name": "R",
   "pygments_lexer": "r",
   "version": "4.1.2"
  }
 },
 "nbformat": 4,
 "nbformat_minor": 5
}

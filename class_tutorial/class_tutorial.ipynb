{
 "cells": [
  {
   "cell_type": "markdown",
   "id": "bbe63280-d4bb-4eca-b3f5-fcd78f347071",
   "metadata": {},
   "source": [
    "##  Loading Essential Packages\n",
    "\n",
    "\n",
    "We start by loading the `tidyverse` package, a collection of R packages designed for data science, offering functionalities for data manipulation, visualization, and analysis. Following that, we import the `nycflights13` package, which provides access to the `flights` dataset. This dataset includes detailed information about flights departing from New York City in the year 2013, serving as a valuable resource for data analysis and exploration tasks."
   ]
  },
  {
   "cell_type": "code",
   "execution_count": 7,
   "id": "aae9c9fa-e511-4a51-a5d5-711c2a77919f",
   "metadata": {},
   "outputs": [],
   "source": [
    "# Load the tidyverse package, a collection of R packages for data science\n",
    "library(tidyverse)\n",
    "\n",
    "# Load the nycflights13 package, which includes the flights dataset\n",
    "library(nycflights13)\n",
    "\n",
    "\n"
   ]
  },
  {
   "cell_type": "markdown",
   "id": "e86963de-ff42-49da-8e8a-d8e9a14e26e1",
   "metadata": {},
   "source": [
    "### View Dataset Structure:\n",
    "\n",
    "Use glimpse() to get a compact display of the dataset's structure, including columns and their data types. This function provides a quick overview, showing you each column's name, data type (e.g., integer, double, character), and some example values."
   ]
  },
  {
   "cell_type": "code",
   "execution_count": 3,
   "id": "7c1b0550-05a4-4226-a2fd-7679a77abdb0",
   "metadata": {},
   "outputs": [
    {
     "name": "stdout",
     "output_type": "stream",
     "text": [
      "Rows: 336,776\n",
      "Columns: 19\n",
      "$ year           \u001b[3m\u001b[90m<int>\u001b[39m\u001b[23m 2013, 2013, 2013, 2013, 2013, 2013, 2013, 2013, 2013, 2…\n",
      "$ month          \u001b[3m\u001b[90m<int>\u001b[39m\u001b[23m 1, 1, 1, 1, 1, 1, 1, 1, 1, 1, 1, 1, 1, 1, 1, 1, 1, 1, 1…\n",
      "$ day            \u001b[3m\u001b[90m<int>\u001b[39m\u001b[23m 1, 1, 1, 1, 1, 1, 1, 1, 1, 1, 1, 1, 1, 1, 1, 1, 1, 1, 1…\n",
      "$ dep_time       \u001b[3m\u001b[90m<int>\u001b[39m\u001b[23m 517, 533, 542, 544, 554, 554, 555, 557, 557, 558, 558, …\n",
      "$ sched_dep_time \u001b[3m\u001b[90m<int>\u001b[39m\u001b[23m 515, 529, 540, 545, 600, 558, 600, 600, 600, 600, 600, …\n",
      "$ dep_delay      \u001b[3m\u001b[90m<dbl>\u001b[39m\u001b[23m 2, 4, 2, -1, -6, -4, -5, -3, -3, -2, -2, -2, -2, -2, -1…\n",
      "$ arr_time       \u001b[3m\u001b[90m<int>\u001b[39m\u001b[23m 830, 850, 923, 1004, 812, 740, 913, 709, 838, 753, 849,…\n",
      "$ sched_arr_time \u001b[3m\u001b[90m<int>\u001b[39m\u001b[23m 819, 830, 850, 1022, 837, 728, 854, 723, 846, 745, 851,…\n",
      "$ arr_delay      \u001b[3m\u001b[90m<dbl>\u001b[39m\u001b[23m 11, 20, 33, -18, -25, 12, 19, -14, -8, 8, -2, -3, 7, -1…\n",
      "$ carrier        \u001b[3m\u001b[90m<chr>\u001b[39m\u001b[23m \"UA\", \"UA\", \"AA\", \"B6\", \"DL\", \"UA\", \"B6\", \"EV\", \"B6\", \"…\n",
      "$ flight         \u001b[3m\u001b[90m<int>\u001b[39m\u001b[23m 1545, 1714, 1141, 725, 461, 1696, 507, 5708, 79, 301, 4…\n",
      "$ tailnum        \u001b[3m\u001b[90m<chr>\u001b[39m\u001b[23m \"N14228\", \"N24211\", \"N619AA\", \"N804JB\", \"N668DN\", \"N394…\n",
      "$ origin         \u001b[3m\u001b[90m<chr>\u001b[39m\u001b[23m \"EWR\", \"LGA\", \"JFK\", \"JFK\", \"LGA\", \"EWR\", \"EWR\", \"LGA\",…\n",
      "$ dest           \u001b[3m\u001b[90m<chr>\u001b[39m\u001b[23m \"IAH\", \"IAH\", \"MIA\", \"BQN\", \"ATL\", \"ORD\", \"FLL\", \"IAD\",…\n",
      "$ air_time       \u001b[3m\u001b[90m<dbl>\u001b[39m\u001b[23m 227, 227, 160, 183, 116, 150, 158, 53, 140, 138, 149, 1…\n",
      "$ distance       \u001b[3m\u001b[90m<dbl>\u001b[39m\u001b[23m 1400, 1416, 1089, 1576, 762, 719, 1065, 229, 944, 733, …\n",
      "$ hour           \u001b[3m\u001b[90m<dbl>\u001b[39m\u001b[23m 5, 5, 5, 5, 6, 5, 6, 6, 6, 6, 6, 6, 6, 6, 6, 5, 6, 6, 6…\n",
      "$ minute         \u001b[3m\u001b[90m<dbl>\u001b[39m\u001b[23m 15, 29, 40, 45, 0, 58, 0, 0, 0, 0, 0, 0, 0, 0, 0, 59, 0…\n",
      "$ time_hour      \u001b[3m\u001b[90m<dttm>\u001b[39m\u001b[23m 2013-01-01 05:00:00, 2013-01-01 05:00:00, 2013-01-01 0…\n"
     ]
    }
   ],
   "source": [
    "glimpse(flights)\n"
   ]
  },
  {
   "cell_type": "markdown",
   "id": "878ccb35-3640-4d0e-a890-2103adda31c7",
   "metadata": {},
   "source": [
    "### Dataset Summary\n",
    "\n",
    "The summary() function generates summary statistics for each column in the dataset, such as Min, Mean, Max for numeric variables, and Frequency for factors.This summary is crucial for identifying potential anomalies (like extreme values) and understanding the distribution of data."
   ]
  },
  {
   "cell_type": "code",
   "execution_count": 4,
   "id": "95f945a3-3e52-4572-8350-77692dbdba08",
   "metadata": {},
   "outputs": [
    {
     "data": {
      "text/plain": [
       "      year          month             day           dep_time    sched_dep_time\n",
       " Min.   :2013   Min.   : 1.000   Min.   : 1.00   Min.   :   1   Min.   : 106  \n",
       " 1st Qu.:2013   1st Qu.: 4.000   1st Qu.: 8.00   1st Qu.: 907   1st Qu.: 906  \n",
       " Median :2013   Median : 7.000   Median :16.00   Median :1401   Median :1359  \n",
       " Mean   :2013   Mean   : 6.549   Mean   :15.71   Mean   :1349   Mean   :1344  \n",
       " 3rd Qu.:2013   3rd Qu.:10.000   3rd Qu.:23.00   3rd Qu.:1744   3rd Qu.:1729  \n",
       " Max.   :2013   Max.   :12.000   Max.   :31.00   Max.   :2400   Max.   :2359  \n",
       "                                                 NA's   :8255                 \n",
       "   dep_delay          arr_time    sched_arr_time   arr_delay       \n",
       " Min.   : -43.00   Min.   :   1   Min.   :   1   Min.   : -86.000  \n",
       " 1st Qu.:  -5.00   1st Qu.:1104   1st Qu.:1124   1st Qu.: -17.000  \n",
       " Median :  -2.00   Median :1535   Median :1556   Median :  -5.000  \n",
       " Mean   :  12.64   Mean   :1502   Mean   :1536   Mean   :   6.895  \n",
       " 3rd Qu.:  11.00   3rd Qu.:1940   3rd Qu.:1945   3rd Qu.:  14.000  \n",
       " Max.   :1301.00   Max.   :2400   Max.   :2359   Max.   :1272.000  \n",
       " NA's   :8255      NA's   :8713                  NA's   :9430      \n",
       "   carrier              flight       tailnum             origin         \n",
       " Length:336776      Min.   :   1   Length:336776      Length:336776     \n",
       " Class :character   1st Qu.: 553   Class :character   Class :character  \n",
       " Mode  :character   Median :1496   Mode  :character   Mode  :character  \n",
       "                    Mean   :1972                                        \n",
       "                    3rd Qu.:3465                                        \n",
       "                    Max.   :8500                                        \n",
       "                                                                        \n",
       "     dest              air_time        distance         hour      \n",
       " Length:336776      Min.   : 20.0   Min.   :  17   Min.   : 1.00  \n",
       " Class :character   1st Qu.: 82.0   1st Qu.: 502   1st Qu.: 9.00  \n",
       " Mode  :character   Median :129.0   Median : 872   Median :13.00  \n",
       "                    Mean   :150.7   Mean   :1040   Mean   :13.18  \n",
       "                    3rd Qu.:192.0   3rd Qu.:1389   3rd Qu.:17.00  \n",
       "                    Max.   :695.0   Max.   :4983   Max.   :23.00  \n",
       "                    NA's   :9430                                  \n",
       "     minute        time_hour                  \n",
       " Min.   : 0.00   Min.   :2013-01-01 05:00:00  \n",
       " 1st Qu.: 8.00   1st Qu.:2013-04-04 13:00:00  \n",
       " Median :29.00   Median :2013-07-03 10:00:00  \n",
       " Mean   :26.23   Mean   :2013-07-03 05:22:54  \n",
       " 3rd Qu.:44.00   3rd Qu.:2013-10-01 07:00:00  \n",
       " Max.   :59.00   Max.   :2013-12-31 23:00:00  \n",
       "                                              "
      ]
     },
     "metadata": {},
     "output_type": "display_data"
    }
   ],
   "source": [
    "summary(flights)"
   ]
  },
  {
   "cell_type": "markdown",
   "id": "56911608-fd0c-4025-b07e-48730751fe3d",
   "metadata": {},
   "source": [
    "### Column Names\n",
    "Listing all column names can help in quickly identifying which variables are available for analysis."
   ]
  },
  {
   "cell_type": "code",
   "execution_count": 5,
   "id": "d0fcfe75-a0e7-426a-920d-c6b8ff864552",
   "metadata": {},
   "outputs": [
    {
     "data": {
      "text/html": [
       "<style>\n",
       ".list-inline {list-style: none; margin:0; padding: 0}\n",
       ".list-inline>li {display: inline-block}\n",
       ".list-inline>li:not(:last-child)::after {content: \"\\00b7\"; padding: 0 .5ex}\n",
       "</style>\n",
       "<ol class=list-inline><li>'year'</li><li>'month'</li><li>'day'</li><li>'dep_time'</li><li>'sched_dep_time'</li><li>'dep_delay'</li><li>'arr_time'</li><li>'sched_arr_time'</li><li>'arr_delay'</li><li>'carrier'</li><li>'flight'</li><li>'tailnum'</li><li>'origin'</li><li>'dest'</li><li>'air_time'</li><li>'distance'</li><li>'hour'</li><li>'minute'</li><li>'time_hour'</li></ol>\n"
      ],
      "text/latex": [
       "\\begin{enumerate*}\n",
       "\\item 'year'\n",
       "\\item 'month'\n",
       "\\item 'day'\n",
       "\\item 'dep\\_time'\n",
       "\\item 'sched\\_dep\\_time'\n",
       "\\item 'dep\\_delay'\n",
       "\\item 'arr\\_time'\n",
       "\\item 'sched\\_arr\\_time'\n",
       "\\item 'arr\\_delay'\n",
       "\\item 'carrier'\n",
       "\\item 'flight'\n",
       "\\item 'tailnum'\n",
       "\\item 'origin'\n",
       "\\item 'dest'\n",
       "\\item 'air\\_time'\n",
       "\\item 'distance'\n",
       "\\item 'hour'\n",
       "\\item 'minute'\n",
       "\\item 'time\\_hour'\n",
       "\\end{enumerate*}\n"
      ],
      "text/markdown": [
       "1. 'year'\n",
       "2. 'month'\n",
       "3. 'day'\n",
       "4. 'dep_time'\n",
       "5. 'sched_dep_time'\n",
       "6. 'dep_delay'\n",
       "7. 'arr_time'\n",
       "8. 'sched_arr_time'\n",
       "9. 'arr_delay'\n",
       "10. 'carrier'\n",
       "11. 'flight'\n",
       "12. 'tailnum'\n",
       "13. 'origin'\n",
       "14. 'dest'\n",
       "15. 'air_time'\n",
       "16. 'distance'\n",
       "17. 'hour'\n",
       "18. 'minute'\n",
       "19. 'time_hour'\n",
       "\n",
       "\n"
      ],
      "text/plain": [
       " [1] \"year\"           \"month\"          \"day\"            \"dep_time\"      \n",
       " [5] \"sched_dep_time\" \"dep_delay\"      \"arr_time\"       \"sched_arr_time\"\n",
       " [9] \"arr_delay\"      \"carrier\"        \"flight\"         \"tailnum\"       \n",
       "[13] \"origin\"         \"dest\"           \"air_time\"       \"distance\"      \n",
       "[17] \"hour\"           \"minute\"         \"time_hour\"     "
      ]
     },
     "metadata": {},
     "output_type": "display_data"
    }
   ],
   "source": [
    "colnames(flights)\n"
   ]
  },
  {
   "cell_type": "markdown",
   "id": "8eb036bc-592b-4595-a23c-51916ae9f24d",
   "metadata": {},
   "source": [
    "## Data Manipulation with Tidyverse/dplyr \n",
    "\n",
    "The tidyverse, particularly the dplyr package, offers a more intuitive syntax for data manipulation through a set of functions that work seamlessly with data frames and tibbles."
   ]
  },
  {
   "cell_type": "markdown",
   "id": "1e5cf504-e0f2-4523-8354-e829cffa9f14",
   "metadata": {},
   "source": [
    "\n",
    "This code uses the dplyr package's filter function to select flights from the flights dataset that occurred on January 1s"
   ]
  },
  {
   "cell_type": "code",
   "execution_count": 6,
   "id": "f07be9a8-e159-489c-85ee-206746befe52",
   "metadata": {},
   "outputs": [],
   "source": [
    "# Filtering for flights on January 1st\n",
    "filtered_flights <- flights %>% filter(month == 1, day == 1)\n"
   ]
  },
  {
   "cell_type": "markdown",
   "id": "8ecc56d9-4e5f-43a2-a73e-c74178b6605a",
   "metadata": {},
   "source": [
    "The %>% symbol is known as the pipe operator.\n",
    "It is a key feature of the tidyverse. The pipe operator allows you to pass the result of one expression as the first argument to the next expression, facilitating a readable and intuitive workflow.\n",
    "It enables chaining of functions in a way that is easier to read and write compared to nesting function calls"
   ]
  },
  {
   "cell_type": "markdown",
   "id": "2b527c52-0c5e-45f3-9c82-391a88a6904e",
   "metadata": {},
   "source": [
    "In this step, we're refining our dataset to focus on essential information by selecting specific columns from the `flights` dataset. We use the `select` function from the `dplyr` package (part of the `tidyverse`) to extract only the columns for the year of the flight (`flight_year`), the month, the day, and the gain in altitude (`gain`). This operation results in a new dataset, `selected_flights`, which contains just the information we're interested in analyzing further."
   ]
  },
  {
   "cell_type": "code",
   "execution_count": null,
   "id": "a6d03cdd-5183-4b8c-899b-628ed511b055",
   "metadata": {},
   "outputs": [],
   "source": [
    "# Selecting specific columns\n",
    "selected_flights <- flights %>% select(flight_year, month, day, gain)\n"
   ]
  },
  {
   "cell_type": "markdown",
   "id": "6b4d8443-ee26-4089-9e61-f23c1a060cd3",
   "metadata": {},
   "source": [
    "# Data Visualization\n",
    "\n",
    "In this tutorial, we'll compare visualization techniques between base R and the `tidyverse`, specifically focusing on `ggplot2`. We'll start with base R to understand foundational plotting capabilities, highlighting their simplicity but also limitations in customization and complexity. Then, we'll transition to `ggplot2`, showcasing its enhanced flexibility, aesthetic options, and ability to handle layered information more effectively. This comparison aims to demonstrate the evolution from basic to advanced visualization techniques, underscoring the power of `ggplot2` within the `tidyverse` for sophisticated data analysis and presentation."
   ]
  },
  {
   "cell_type": "markdown",
   "id": "202d91c1-3a68-4bbd-9363-a2e6489206f3",
   "metadata": {},
   "source": [
    "### Scatter Plot for Departure vs. Arrival Delays\n",
    "\n",
    "This scatter plot shows the relationship between departure and arrival delays.\n",
    "Limitation: Hard to layer more information or perform grouping by another variable, such as carrier."
   ]
  },
  {
   "cell_type": "code",
   "execution_count": 9,
   "id": "5d9bdf7e-f92c-4db9-91cc-57f8d20fc68c",
   "metadata": {},
   "outputs": [
    {
     "data": {
      "image/png": "[encoded data removed]",
      "text/plain": [
       "Plot with title “Departure vs. Arrival Delays”"
      ]
     },
     "metadata": {
      "image/png": {
       "height": 420,
       "width": 420
      }
     },
     "output_type": "display_data"
    }
   ],
   "source": [
    "plot(flights$dep_delay, flights$arr_delay, xlab = \"Departure Delay (minutes)\", ylab = \"Arrival Delay (minutes)\", main = \"Departure vs. Arrival Delays\")\n"
   ]
  },
  {
   "cell_type": "markdown",
   "id": "3a3e4fb8-0145-44aa-8241-680932d3ce57",
   "metadata": {},
   "source": [
    "## Transition to ggplot2\n",
    "\n",
    "After demonstrating the basics with R's base plotting system, you can highlight its limitations, especially in terms of flexibility, ease of customization, and aesthetic appeal. This sets the stage for introducing ggplot2, a powerful library that allows for creating complex and multi-layered graphics with clearer syntax and enhanced visual appeal"
   ]
  },
  {
   "cell_type": "code",
   "execution_count": null,
   "id": "1ad88368-da9e-4f4f-ba13-47e3e2460cd7",
   "metadata": {},
   "outputs": [
    {
     "name": "stderr",
     "output_type": "stream",
     "text": [
      "Warning message:\n",
      "“\u001b[1m\u001b[22mRemoved 9430 rows containing missing values (`geom_point()`).”\n"
     ]
    }
   ],
   "source": [
    "ggplot(data = flights, aes(x = dep_delay, y = arr_delay)) +\n",
    "  geom_point(alpha = 0.2) +\n",
    "  labs(title = \"Departure vs. Arrival Delays\", x = \"Departure Delay (min)\", y = \"Arrival Delay (min)\")\n"
   ]
  },
  {
   "cell_type": "code",
   "execution_count": null,
   "id": "407d1b81-a1ab-4a7c-a49d-8903441abaa4",
   "metadata": {},
   "outputs": [],
   "source": []
  }
 ],
 "metadata": {
  "kernelspec": {
   "display_name": "R",
   "language": "R",
   "name": "ir"
  },
  "language_info": {
   "codemirror_mode": "r",
   "file_extension": ".r",
   "mimetype": "text/x-r-source",
   "name": "R",
   "pygments_lexer": "r",
   "version": "3.6.3"
  }
 },
 "nbformat": 4,
 "nbformat_minor": 5
}

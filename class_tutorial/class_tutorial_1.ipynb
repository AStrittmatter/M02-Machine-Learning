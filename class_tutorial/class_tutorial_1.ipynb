{
 "cells": [
  {
   "cell_type": "markdown",
   "id": "dc10ea97-1063-4852-9686-535cbbb5b610",
   "metadata": {},
   "source": [
    "# Unlocking Potential with R: A Journey for All\n",
    "\n",
    "Embarking on the journey to learn R marks the beginning of an empowering adventure in the world of data science. R, with its vast applications in data analysis, visualization, and statistical modeling, opens up a universe of possibilities for analyzing complex datasets and making informed decisions. The beauty of R lies in its accessibility; it's designed to be approachable for beginners yet powerful enough for seasoned analysts.\n",
    "\n",
    "As we step into this learning path, it's crucial to recognize that R is more than just a programming language; it's a gateway to unlocking the stories hidden within data. Whether you're aiming to advance your career, undertake academic research, or explore data-driven projects, R provides the tools to bring your ideas to life."
   ]
  },
  {
   "cell_type": "markdown",
   "id": "bbe63280-d4bb-4eca-b3f5-fcd78f347071",
   "metadata": {},
   "source": [
    "##  Loading Essential Packages\n",
    "\n",
    "\n",
    "We start by loading the `tidyverse` package, a collection of R packages designed for data science, offering functionalities for data manipulation, visualization, and analysis. Following that, we import the `nycflights13` package, which provides access to the `flights` dataset. This dataset includes detailed information about flights departing from New York City in the year 2013, serving as a valuable resource for data analysis and exploration tasks."
   ]
  },
  {
   "cell_type": "code",
   "execution_count": null,
   "id": "aae9c9fa-e511-4a51-a5d5-711c2a77919f",
   "metadata": {
    "vscode": {
     "languageId": "r"
    }
   },
   "outputs": [],
   "source": [
    "# Load the tidyverse package, a collection of R packages for data science\n",
    "library(tidyverse)\n",
    "\n",
    "# Load the nycflights13 package, which includes the flights dataset\n",
    "library(nycflights13)"
   ]
  },
  {
   "cell_type": "markdown",
   "id": "e86963de-ff42-49da-8e8a-d8e9a14e26e1",
   "metadata": {},
   "source": [
    "### View Dataset Structure:\n",
    "\n",
    "Use glimpse() to get a compact display of the dataset's structure, including columns and their data types. This function provides a quick overview, showing you each column's name, data type (e.g., integer, double, character), and some example values."
   ]
  },
  {
   "cell_type": "code",
   "execution_count": null,
   "id": "7c1b0550-05a4-4226-a2fd-7679a77abdb0",
   "metadata": {
    "vscode": {
     "languageId": "r"
    }
   },
   "outputs": [],
   "source": [
    "glimpse(flights)\n"
   ]
  },
  {
   "cell_type": "markdown",
   "id": "878ccb35-3640-4d0e-a890-2103adda31c7",
   "metadata": {},
   "source": [
    "### Dataset Summary\n",
    "\n",
    "The summary() function generates summary statistics for each column in the dataset, such as Min, Mean, Max for numeric variables, and Frequency for factors.This summary is crucial for identifying potential anomalies (like extreme values) and understanding the distribution of data."
   ]
  },
  {
   "cell_type": "code",
   "execution_count": null,
   "id": "95f945a3-3e52-4572-8350-77692dbdba08",
   "metadata": {
    "vscode": {
     "languageId": "r"
    }
   },
   "outputs": [],
   "source": [
    "summary(flights)"
   ]
  },
  {
   "cell_type": "markdown",
   "id": "56911608-fd0c-4025-b07e-48730751fe3d",
   "metadata": {},
   "source": [
    "### Column Names\n",
    "Listing all column names can help in quickly identifying which variables are available for analysis."
   ]
  },
  {
   "cell_type": "code",
   "execution_count": null,
   "id": "d0fcfe75-a0e7-426a-920d-c6b8ff864552",
   "metadata": {
    "vscode": {
     "languageId": "r"
    }
   },
   "outputs": [],
   "source": [
    "colnames(flights)\n"
   ]
  },
  {
   "cell_type": "markdown",
   "id": "8eb036bc-592b-4595-a23c-51916ae9f24d",
   "metadata": {},
   "source": [
    "## Data Manipulation with Tidyverse/dplyr \n",
    "\n",
    "The tidyverse, particularly the dplyr package, offers a more intuitive syntax for data manipulation through a set of functions that work seamlessly with data frames and tibbles."
   ]
  },
  {
   "cell_type": "markdown",
   "id": "1e5cf504-e0f2-4523-8354-e829cffa9f14",
   "metadata": {},
   "source": [
    "\n",
    "This code uses the dplyr package's filter function to select flights from the flights dataset that occurred on January 1s"
   ]
  },
  {
   "cell_type": "code",
   "execution_count": null,
   "id": "f07be9a8-e159-489c-85ee-206746befe52",
   "metadata": {
    "vscode": {
     "languageId": "r"
    }
   },
   "outputs": [],
   "source": [
    "# Filtering for flights on January 1st\n",
    "filtered_flights <- flights %>% filter(month == 1, day == 1)\n"
   ]
  },
  {
   "cell_type": "markdown",
   "id": "8ecc56d9-4e5f-43a2-a73e-c74178b6605a",
   "metadata": {},
   "source": [
    "The %>% symbol is known as the pipe operator.\n",
    "It is a key feature of the tidyverse. The pipe operator allows you to pass the result of one expression as the first argument to the next expression, facilitating a readable and intuitive workflow.\n",
    "It enables chaining of functions in a way that is easier to read and write compared to nesting function calls"
   ]
  },
  {
   "cell_type": "markdown",
   "id": "2b527c52-0c5e-45f3-9c82-391a88a6904e",
   "metadata": {},
   "source": [
    "In this step, we're refining our dataset to focus on essential information by selecting specific columns from the `flights` dataset. We use the `select` function from the `dplyr` package (part of the `tidyverse`) to extract only the columns for the year of the flight (`year`), the month, the day. This operation results in a new dataset, `selected_flights`, which contains just the information we're interested in analyzing further."
   ]
  },
  {
   "cell_type": "code",
   "execution_count": null,
   "id": "a6d03cdd-5183-4b8c-899b-628ed511b055",
   "metadata": {
    "vscode": {
     "languageId": "r"
    }
   },
   "outputs": [],
   "source": [
    "# Selecting specific columns\n",
    "selected_flights <- flights %>% select(year, month, day)\n",
    "\n"
   ]
  },
  {
   "cell_type": "markdown",
   "id": "6b4d8443-ee26-4089-9e61-f23c1a060cd3",
   "metadata": {},
   "source": [
    "# Data Visualization\n",
    "\n",
    "We'll compare visualization techniques between base R and the `tidyverse`, specifically focusing on `ggplot2`. We'll start with base R to understand foundational plotting capabilities, highlighting their simplicity but also limitations in customization and complexity. Then, we'll transition to `ggplot2`, showcasing its enhanced flexibility, aesthetic options, and ability to handle layered information more effectively. This comparison aims to demonstrate the evolution from basic to advanced visualization techniques, underscoring the power of `ggplot2` within the `tidyverse` for sophisticated data analysis and presentation."
   ]
  },
  {
   "cell_type": "markdown",
   "id": "202d91c1-3a68-4bbd-9363-a2e6489206f3",
   "metadata": {},
   "source": [
    "### Scatter Plot for Departure vs. Arrival Delays\n",
    "\n",
    "This scatter plot shows the relationship between departure and arrival delays.\n",
    "Limitation: Hard to layer more information or perform grouping by another variable, such as carrier."
   ]
  },
  {
   "cell_type": "code",
   "execution_count": null,
   "id": "5d9bdf7e-f92c-4db9-91cc-57f8d20fc68c",
   "metadata": {
    "vscode": {
     "languageId": "r"
    }
   },
   "outputs": [],
   "source": [
    "plot(flights$dep_delay, flights$arr_delay, xlab = \"Departure Delay (minutes)\", ylab = \"Arrival Delay (minutes)\", main = \"Departure vs. Arrival Delays\")\n"
   ]
  },
  {
   "cell_type": "markdown",
   "id": "3a3e4fb8-0145-44aa-8241-680932d3ce57",
   "metadata": {},
   "source": [
    "## Transition to ggplot2\n",
    "\n",
    "After demonstrating the basics with R's base plotting system, you can highlight its limitations, especially in terms of flexibility, ease of customization, and aesthetic appeal. This sets the stage for introducing ggplot2, a powerful library that allows for creating complex and multi-layered graphics with clearer syntax and enhanced visual appeal"
   ]
  },
  {
   "cell_type": "code",
   "execution_count": null,
   "id": "1ad88368-da9e-4f4f-ba13-47e3e2460cd7",
   "metadata": {
    "vscode": {
     "languageId": "r"
    }
   },
   "outputs": [],
   "source": [
    "ggplot(data = flights, aes(x = dep_delay, y = arr_delay)) +\n",
    "  geom_point(alpha = 0.2) +\n",
    "  labs(title = \"Departure vs. Arrival Delays\", x = \"Departure Delay (min)\", y = \"Arrival Delay (min)\")\n"
   ]
  }
 ],
 "metadata": {
  "kernelspec": {
   "display_name": "R",
   "language": "R",
   "name": "ir"
  },
  "language_info": {
   "codemirror_mode": "r",
   "file_extension": ".r",
   "mimetype": "text/x-r-source",
   "name": "R",
   "pygments_lexer": "r",
   "version": "3.6.1"
  }
 },
 "nbformat": 4,
 "nbformat_minor": 5
}

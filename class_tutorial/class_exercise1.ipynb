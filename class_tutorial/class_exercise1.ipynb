{
 "cells": [
  {
   "cell_type": "markdown",
   "id": "d8b2498a-c073-4993-90e9-c4bf7544b5f7",
   "metadata": {},
   "source": [
    "# A Practical Journey through R Exercises\n",
    "\n",
    "As you dive into the exercises in your Jupyter Notebook, remember that this is your chance to put what you've learned from the R tutorial into practice. These exercises are designed to challenge you, test your understanding, and help you become more comfortable with R, especially with the `tidyverse` universe. You'll be manipulating data, creating visualizations, and analyzing real-world information – skills that are invaluable in both your academic journey and future career. Take this opportunity to explore, make mistakes, and learn from them. This is where the real learning happens, and I'm excited to see the innovative ways you'll use R to uncover insights from the data. Good luck, and remember, persistence is key!"
   ]
  },
  {
   "cell_type": "markdown",
   "id": "e63178c4-a225-4cb8-9ffc-95a8dad74dc7",
   "metadata": {},
   "source": [
    "# Exercises in the field of data manipulation \n",
    "\n",
    "You will now tackle the most essential R tasks in this notebook. This time, we are working with a different dataset, namely the penguin dataset from `palmerpenguins`. You might wonder, why penguins? Because penguins are cute!\r\n",
    "\r\n",
    "Before we can work with this data, we need to first load this dataset. Additionally, it would be helpful if we load the Tidyverse tool. Below is an incomplete code. How should you adjust the dataset so that we can load our required package Your challenge is to fill in the missing parts of the code, denoted by `???`, with the appropriate code segments!s?"
   ]
  },
  {
   "cell_type": "code",
   "execution_count": 1,
   "id": "6f5bba73-8ac3-4f3b-99b3-28e4cf40679b",
   "metadata": {},
   "outputs": [
    {
     "name": "stderr",
     "output_type": "stream",
     "text": [
      "── \u001b[1mAttaching core tidyverse packages\u001b[22m ──────────────────────── tidyverse 2.0.0 ──\n",
      "\u001b[32m✔\u001b[39m \u001b[34mdplyr    \u001b[39m 1.1.4     \u001b[32m✔\u001b[39m \u001b[34mreadr    \u001b[39m 2.1.5\n",
      "\u001b[32m✔\u001b[39m \u001b[34mforcats  \u001b[39m 1.0.0     \u001b[32m✔\u001b[39m \u001b[34mstringr  \u001b[39m 1.5.1\n",
      "\u001b[32m✔\u001b[39m \u001b[34mggplot2  \u001b[39m 3.4.4     \u001b[32m✔\u001b[39m \u001b[34mtibble   \u001b[39m 3.2.1\n",
      "\u001b[32m✔\u001b[39m \u001b[34mlubridate\u001b[39m 1.9.3     \u001b[32m✔\u001b[39m \u001b[34mtidyr    \u001b[39m 1.3.1\n",
      "\u001b[32m✔\u001b[39m \u001b[34mpurrr    \u001b[39m 1.0.2     \n",
      "── \u001b[1mConflicts\u001b[22m ────────────────────────────────────────── tidyverse_conflicts() ──\n",
      "\u001b[31m✖\u001b[39m \u001b[34mdplyr\u001b[39m::\u001b[32mfilter()\u001b[39m masks \u001b[34mstats\u001b[39m::filter()\n",
      "\u001b[31m✖\u001b[39m \u001b[34mdplyr\u001b[39m::\u001b[32mlag()\u001b[39m    masks \u001b[34mstats\u001b[39m::lag()\n",
      "\u001b[36mℹ\u001b[39m Use the conflicted package (\u001b[3m\u001b[34m<http://conflicted.r-lib.org/>\u001b[39m\u001b[23m) to force all conflicts to become errors\n"
     ]
    }
   ],
   "source": [
    "# Load the tidyverse package, a collection of R packages for data science\n",
    "???(tidyverse)\n",
    "\n",
    "# Load the palmerpenguins package, which includes the palmerpenguins dataset\n",
    "???(palmerpenguins)\n",
    "\n",
    "\n"
   ]
  },
  {
   "cell_type": "markdown",
   "id": "77e5f8fb-1818-405d-a9ea-fdc38e7c3f0c",
   "metadata": {},
   "source": [
    "Now you can view the data set by simply importing the penguins object."
   ]
  },
  {
   "cell_type": "code",
   "execution_count": 1,
   "id": "83387592-dfa8-47c2-a067-e6cade4b6fcb",
   "metadata": {},
   "outputs": [
    {
     "name": "stdout",
     "output_type": "stream",
     "text": [
      "[1] \" \"\n"
     ]
    }
   ],
   "source": [
    "penguins"
   ]
  },
  {
   "cell_type": "markdown",
   "id": "b60f357c-2833-49e3-b13f-fa66e583019a",
   "metadata": {},
   "source": [
    "You have probably noticed that reading the data like this is a bit of a pain. We only want a **glimpse** of the data. So think about how you can see just a **glimpse** of the data.\n",
    "\n",
    "To see a **glimpse** of the data in R, you can use the `glimpse()` function from the `dplyr` package, which is part of the `tidyverse`.\n"
   ]
  },
  {
   "cell_type": "code",
   "execution_count": null,
   "id": "738e9e3b-957f-4635-af97-a12b44978674",
   "metadata": {},
   "outputs": [],
   "source": [
    "???penguins)"
   ]
  },
  {
   "cell_type": "markdown",
   "id": "4bc6e986-b2c2-425f-b4e7-3313202a2be5",
   "metadata": {},
   "source": [
    "We also want to gain an insight into the data. A summary of the values would be an excellent way of doing this. How does that work again?"
   ]
  },
  {
   "cell_type": "code",
   "execution_count": null,
   "id": "80e7d32c-ba89-4073-aa45-4469d4ec01d7",
   "metadata": {},
   "outputs": [],
   "source": [
    "???"
   ]
  }
 ],
 "metadata": {
  "kernelspec": {
   "display_name": "R",
   "language": "R",
   "name": "ir"
  },
  "language_info": {
   "codemirror_mode": "r",
   "file_extension": ".r",
   "mimetype": "text/x-r-source",
   "name": "R",
   "pygments_lexer": "r",
   "version": "4.1.2"
  }
 },
 "nbformat": 4,
 "nbformat_minor": 5
}

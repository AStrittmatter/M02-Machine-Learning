{
 "cells": [
  {
   "cell_type": "markdown",
   "id": "3bd57867-535e-459b-80c7-9db60e5c4acd",
   "metadata": {},
   "source": [
    "<span style=\"color:red; font-weight:bold; font-size:xx-large;\">\n",
    "# Breakout session 1 of the class tutorial 2\n",
    "</span>\n"
   ]
  },
  {
   "cell_type": "markdown",
   "id": "3ea4c4e4-3d7e-4cab-b63c-b800d69f8158",
   "metadata": {},
   "source": [
    "# Understanding Functions and Data Splitting in R for Machine Learning\n",
    "\n",
    "In this tutorial, we will delve into the basics of creating functions in R and the importance of splitting data into training and testing sets for machine learning projects. Functions in R are a powerful way to encapsulate and reuse your code, making your data analysis workflow more efficient and understandable. Additionally, splitting your dataset is a critical step in evaluating the performance of your machine learning models. Again, your challenge is to fill in the missing parts of the code, denoted by `???`, with the appropriate code segments!\n",
    "\n",
    "\n",
    "\n"
   ]
  },
  {
   "cell_type": "code",
   "execution_count": 1,
   "id": "b2ded606-6c90-4855-878b-4a24629c486e",
   "metadata": {},
   "outputs": [],
   "source": [
    "split_data <- function(data, split_ratio = 0.8) {\n",
    "  # Splitting the data into train and test sets\n",
    "  set.seed(123) # For reproducibility\n",
    "  training_sample <- sample(nrow(data), size = floor(nrow(data) * split_ratio))\n",
    "  train_set <- data[training_sample, ]\n",
    "  test_set <- data[-training_sample, ]\n",
    "  \n",
    "  # Return a list containing the train and test datasets\n",
    "  return(list(train_set = train_set, test_set = test_set))\n",
    "}\n"
   ]
  },
  {
   "cell_type": "markdown",
   "id": "b99788ec-a94c-47de-ba42-29a18a2ca17c",
   "metadata": {},
   "source": [
    "Exercise: Create a Multiply Function\r\n",
    "Now, it's your turn to create a function. Write a function named multiply_numbers that takes two arguments and returns their product. The structure of the function is given below, fill in the missing piece:"
   ]
  },
  {
   "cell_type": "code",
   "execution_count": null,
   "id": "6a4a981d-2061-4ebf-9656-68550f7a7731",
   "metadata": {},
   "outputs": [],
   "source": [
    "multiply_numbers <- function(???, ???) {\n",
    "  result <- ??? * ???\n",
    "  return(result)\n",
    "}\n",
    "\n",
    "???multiply_numbers???"
   ]
  },
  {
   "cell_type": "code",
   "execution_count": null,
   "id": "65239dd5-f859-49ac-8113-0a2bc534ca10",
   "metadata": {},
   "outputs": [],
   "source": [
    "multiply_numbers(???,???)"
   ]
  },
  {
   "cell_type": "markdown",
   "id": "e7245c4f-0bb0-4040-928e-2bf338471a69",
   "metadata": {},
   "source": [
    "## Exercise: Implement a Data Splitting Function\r\n",
    "\r\n",
    "Now, let's apply what you've learned by implementing your own data splitting function. This function should take a dataset and a split ratio as inputs, then return a list containing the training and testing sets. Fill in the missing parts:\r\n"
   ]
  },
  {
   "cell_type": "code",
   "execution_count": null,
   "id": "f8ad01ad-eb13-4121-b579-5de563dd53e1",
   "metadata": {},
   "outputs": [],
   "source": [
    "\n",
    "split_data <- function(?????, ???? = 0.8) {\n",
    "  # Splitting the data into train and test sets\n",
    "  set.seed(???) # For reproducibility\n",
    "  training_sample <- sample(nrow(data), size = floor(nrow(data) * split_ratio))\n",
    "  train_set <- data[???, ]\n",
    "  test_set <- data[-????, ]\n",
    "  \n",
    "  # Return a list containing the train and test datasets\n",
    "  return(list(train_set = ????, test_set = ????))\n",
    "}\n"
   ]
  },
  {
   "cell_type": "code",
   "execution_count": 3,
   "id": "e81b2bc5-db8a-489d-87ac-67c33bcf2c6c",
   "metadata": {},
   "outputs": [],
   "source": [
    "# Try this function out by loading this data\n",
    "data = load(\"/home/jupyter-mlcourseuser/M02-Machine-Learning/self_study_tutorial/scripts_and_data/student-mat-train.Rdata\")\n",
    "\n",
    "\n"
   ]
  },
  {
   "cell_type": "code",
   "execution_count": 11,
   "id": "8e693ef9-aac4-4874-b632-176601a521ba",
   "metadata": {},
   "outputs": [
    {
     "ename": "ERROR",
     "evalue": "Error in eval(expr, envir, enclos): object 'coffeeleaflet' not found\n",
     "output_type": "error",
     "traceback": [
      "Error in eval(expr, envir, enclos): object 'coffeeleaflet' not found\nTraceback:\n"
     ]
    }
   ],
   "source": [
    "split_data(????)"
   ]
  },
  {
   "cell_type": "code",
   "execution_count": null,
   "id": "ca00c660-1025-4958-bf5e-b49276601050",
   "metadata": {},
   "outputs": [],
   "source": []
  }
 ],
 "metadata": {
  "kernelspec": {
   "display_name": "R",
   "language": "R",
   "name": "ir"
  },
  "language_info": {
   "codemirror_mode": "r",
   "file_extension": ".r",
   "mimetype": "text/x-r-source",
   "name": "R",
   "pygments_lexer": "r",
   "version": "3.6.3"
  }
 },
 "nbformat": 4,
 "nbformat_minor": 5
}

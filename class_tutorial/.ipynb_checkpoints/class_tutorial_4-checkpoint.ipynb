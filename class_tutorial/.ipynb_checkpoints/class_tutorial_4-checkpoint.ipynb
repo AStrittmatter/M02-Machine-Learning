{
 "cells": [
  {
   "cell_type": "markdown",
   "metadata": {},
   "source": [
    "# Introduction\r\n",
    "\r\n",
    "In this comprehensive guide, we will delve into the captivating realm of political data analysis by examining the voting patterns from the 111th US House of Representatives during the years 2009-2011. This exercise involves the intriguing task of analyzing roll call votes—recorded votes where each member's vote is documented. \r\n",
    "\r\n",
    "You'll learn to leverage the power of the *rollcall-votes.Rdata* file, which chronicles whether each of the 445 House members voted \"yea\" = 1, \"nay\" = -1, or abstained = 0, across 1,647 different legislative decisions. Furthermore, the *rollcall-members.Rdata* file enriches our dataset by providing additional details about the members, including their party affiliation (Republican or Democrat) and the US state they represent.\r\n",
    "\r\n",
    "This tutorial promises not only to teach you the technical skills needed to manipulate and analyze large datasets but also to offer insights into the political dynamics and voting behaviors within one of the most pivotal legislative periods in recent history. By the end of this tutorial, you will have hands-on experience in data preparation, exploration, and advanced analysis using statistical models. You’ll be equipped to predict voting outcomes based on historical data and explore the implications of party affiliation and state representation on legislative decisions. Through this exercise, you'll gain a robust understanding of both the technical and contextual elements of data science in political analysis, a vital skill set for anyone interested in the intersection of data and governance."
   ]
  },
  {
   "cell_type": "markdown",
   "metadata": {},
   "source": [
    "## Load Data\r\n",
    "\r\n",
    "This section of the script is dedicated to loading the essential datasets for our analysis. It retrieves the `rollcall-votes.Rdata` and `rollcall-members.Rdata` files from specified directories, effectively importing the voting records and member details of the 111th US House of Representatives. Upon successful loading, a confirmation message, \"Data loaded,\" is printed to signal that the datasets are ready for use."
   ]
  },
  {
   "cell_type": "code",
   "execution_count": 1,
   "metadata": {},
   "outputs": [
    {
     "name": "stdout",
     "output_type": "stream",
     "text": [
      "[1] \"Data loaded.\"\n"
     ]
    }
   ],
   "source": [
    "########################  Load Data  ########################\n",
    "\n",
    "### Load data\n",
    "load(\"/home/jupyter-mlcourseuser/M02-Machine-Learning/self_study_tutorial/scripts_and_data/rollcall-votes.Rdata\")\n",
    "load(\"/home/jupyter-mlcourseuser/M02-Machine-Learning/self_study_tutorial/scripts_and_data/rollcall-members.Rdata\")\n",
    "print('Data loaded.')\n",
    "\n",
    "##############################################################"
   ]
  },
  {
   "cell_type": "markdown",
   "metadata": {},
   "source": [
    "# Data Exploration\r\n",
    "\r\n",
    "This section focuses on analyzing party composition and voting behaviors in the 111th US House of Representatives. We start by displaying counts and proportions of Democrats, Republicans, and one notable politician. Next, we examine voting participation by counting missing votes and visualizing this data with a histogram to analyze absenteeism patterns. Additionally, we count 'yea' and 'nay' votes, plotting these against each other by party to highlight differences in voting behavior across party lines. This exploration helps us understand the dataset's structure and the political dynamics at play."
   ]
  },
  {
   "cell_type": "markdown",
   "metadata": {},
   "source": [
    "**a) How many Democrats and Republicans are in the House? Who has the majority? Report the special case Democrat-Republican separately.**"
   ]
  },
  {
   "cell_type": "code",
   "execution_count": 2,
   "metadata": {},
   "outputs": [
    {
     "name": "stdout",
     "output_type": "stream",
     "text": [
      "[1] \"# Counts of Democrats, Republicans and one special politician\"\n"
     ]
    },
    {
     "data": {
      "text/plain": [
       "\n",
       "  D  DR   R \n",
       "262   1 182 "
      ]
     },
     "metadata": {},
     "output_type": "display_data"
    },
    {
     "name": "stdout",
     "output_type": "stream",
     "text": [
      "[1] \"# Shares of Democrats, Republicans and one special politician\"\n"
     ]
    },
    {
     "data": {
      "text/plain": [
       "\n",
       "    D    DR     R \n",
       "0.589 0.002 0.409 "
      ]
     },
     "metadata": {},
     "output_type": "display_data"
    }
   ],
   "source": [
    "print('# Counts of Democrats, Republicans and one special politician')\n",
    "table(members$party)\n",
    "\n",
    "print('# Shares of Democrats, Republicans and one special politician')\n",
    "round(table(members$party)/nrow(members),3)"
   ]
  },
  {
   "cell_type": "markdown",
   "metadata": {},
   "source": [
    "**b) Generate a variable for the number of votes each politician missed. How many politicians voted in all votings? Plot a histogram of the shares of missed votings with 100 bins.**"
   ]
  },
  {
   "cell_type": "code",
   "execution_count": 3,
   "metadata": {},
   "outputs": [
    {
     "data": {
      "text/html": [
       "3"
      ],
      "text/latex": [
       "3"
      ],
      "text/markdown": [
       "3"
      ],
      "text/plain": [
       "[1] 3"
      ]
     },
     "metadata": {},
     "output_type": "display_data"
    }
   ],
   "source": [
    "# Count missing votings for each politician and plot the counts\n",
    "missings <- rowSums(votes==0)\n",
    "\n",
    "# No. politicians who always voted\n",
    "sum(missings == 0)"
   ]
  },
  {
   "cell_type": "code",
   "execution_count": 4,
   "metadata": {},
   "outputs": [
    {
     "data": {
      "image/png": "[encoded data removed]",
      "text/plain": [
       "Plot with title \"Histogram of s_missings\""
      ]
     },
     "metadata": {},
     "output_type": "display_data"
    }
   ],
   "source": [
    "# Shares of missing votings\n",
    "s_missings <- missings/(ncol(votes))\n",
    "\n",
    "# Histogram with 100 bins\n",
    "hist(s_missings, breaks = 100)"
   ]
  },
  {
   "cell_type": "markdown",
   "metadata": {},
   "source": [
    "**c) Generate variables for the number of times each politician voted “yea” and “nea”. Make a scatter plot of the number of “nea” and “yea”. Use diﬀerent colors to diﬀerentiate the points in the scatter plot by the party aﬃliation. Can we claim based on these results that the party could be a good predictor for the voting behavior? What information do we lose by aggregation of the votes?**"
   ]
  },
  {
   "cell_type": "code",
   "execution_count": 5,
   "metadata": {},
   "outputs": [
    {
     "data": {
      "image/png": "[encoded data removed]",
      "text/plain": [
       "plot without title"
      ]
     },
     "metadata": {},
     "output_type": "display_data"
    }
   ],
   "source": [
    "# Counts - yes and nos\n",
    "yeas <- rowSums(votes[,(1:ncol(votes))]== 1)\n",
    "nays <- rowSums(votes[,(1:ncol(votes))]== -1)\n",
    "\n",
    "# Plots - Party\n",
    "plot(yeas, nays, col = members$party)\n",
    "legend('topleft', legend = levels(members$party), col = 1:3,  pch = 1)"
   ]
  },
  {
   "cell_type": "markdown",
   "metadata": {},
   "source": [
    "# Principal Component Analysis (PCA)"
   ]
  },
  {
   "cell_type": "markdown",
   "metadata": {},
   "source": [
    "**a) Run a principal component analysis on the votes data set. How many principal components are there?**"
   ]
  },
  {
   "cell_type": "code",
   "execution_count": 15,
   "metadata": {},
   "outputs": [
    {
     "data": {
      "text/html": [
       "445"
      ],
      "text/latex": [
       "445"
      ],
      "text/markdown": [
       "445"
      ],
      "text/plain": [
       "[1] 445"
      ]
     },
     "metadata": {},
     "output_type": "display_data"
    }
   ],
   "source": [
    "# PCA\n",
    "pr.out = prcomp(votes , center = TRUE, scale = TRUE)\n",
    "\n",
    "# No of principal components\n",
    "dim(pr.out$rotation)[2]"
   ]
  },
  {
   "cell_type": "markdown",
   "metadata": {},
   "source": [
    "**b) Calculate the proportion of variance explained by each principal component and plot the proportions for the ﬁrst 10 principal components.**"
   ]
  },
  {
   "cell_type": "code",
   "execution_count": 16,
   "metadata": {},
   "outputs": [
    {
     "data": {
      "text/html": [
       "<style>\n",
       ".list-inline {list-style: none; margin:0; padding: 0}\n",
       ".list-inline>li {display: inline-block}\n",
       ".list-inline>li:not(:last-child)::after {content: \"\\00b7\"; padding: 0 .5ex}\n",
       "</style>\n",
       "<ol class=list-inline><li>0.363766110924996</li><li>0.129597632562363</li><li>0.0335647378324559</li><li>0.0250487586879924</li><li>0.0116263880726069</li><li>0.011107666051759</li><li>0.00885029726682734</li><li>0.0082447721690786</li><li>0.00676532537410094</li><li>0.00648705040909433</li></ol>\n"
      ],
      "text/latex": [
       "\\begin{enumerate*}\n",
       "\\item 0.363766110924996\n",
       "\\item 0.129597632562363\n",
       "\\item 0.0335647378324559\n",
       "\\item 0.0250487586879924\n",
       "\\item 0.0116263880726069\n",
       "\\item 0.011107666051759\n",
       "\\item 0.00885029726682734\n",
       "\\item 0.0082447721690786\n",
       "\\item 0.00676532537410094\n",
       "\\item 0.00648705040909433\n",
       "\\end{enumerate*}\n"
      ],
      "text/markdown": [
       "1. 0.363766110924996\n",
       "2. 0.129597632562363\n",
       "3. 0.0335647378324559\n",
       "4. 0.0250487586879924\n",
       "5. 0.0116263880726069\n",
       "6. 0.011107666051759\n",
       "7. 0.00885029726682734\n",
       "8. 0.0082447721690786\n",
       "9. 0.00676532537410094\n",
       "10. 0.00648705040909433\n",
       "\n",
       "\n"
      ],
      "text/plain": [
       " [1] 0.363766111 0.129597633 0.033564738 0.025048759 0.011626388 0.011107666\n",
       " [7] 0.008850297 0.008244772 0.006765325 0.006487050"
      ]
     },
     "metadata": {},
     "output_type": "display_data"
    }
   ],
   "source": [
    "# variance explained by each component\n",
    "pr.var = pr.out$sdev^2\n",
    "\n",
    "# Proportion of variance explained\n",
    "pve=pr.var/sum(pr.var)\n",
    "\n",
    "# Print first 10 PC\n",
    "pve[1:10]"
   ]
  },
  {
   "cell_type": "code",
   "execution_count": 8,
   "metadata": {},
   "outputs": [
    {
     "data": {
      "image/png": "[encoded data removed]",
      "text/plain": [
       "plot without title"
      ]
     },
     "metadata": {},
     "output_type": "display_data"
    },
    {
     "data": {
      "image/png": "[encoded data removed]",
      "text/plain": [
       "plot without title"
      ]
     },
     "metadata": {},
     "output_type": "display_data"
    }
   ],
   "source": [
    "# Plot the first 10 PC\n",
    "barplot(pve[1:10], xlab=\" Principal Component \", ylab=\" Proportion of Variance Explained \", ylim=c(0,1))\n",
    "barplot(cumsum(pve[1:10]), xlab=\" Principal Component \", ylab =\"Cumulative Proportion of Variance Explained \", ylim=c(0,1))"
   ]
  },
  {
   "cell_type": "markdown",
   "metadata": {},
   "source": [
    "**c) Plot the ﬁrst two principal components and use color to diﬀerentiate the observations by the party aﬃliation.**"
   ]
  },
  {
   "cell_type": "code",
   "execution_count": 9,
   "metadata": {},
   "outputs": [
    {
     "data": {
      "image/png": "[encoded data removed]",
      "text/plain": [
       "Plot with title \"Top two PC directions\""
      ]
     },
     "metadata": {},
     "output_type": "display_data"
    }
   ],
   "source": [
    "# Plot the first two principal components, color the party membership\n",
    "plot(pr.out$x[,1], pr.out$x[,2], xlab = \"PC1\", ylab = \"PC2\", col = members$party, main = \"Top two PC directions\")\n",
    "legend('bottomright', legend = levels(members$party), col = 1:3,  pch = 1)"
   ]
  },
  {
   "cell_type": "markdown",
   "metadata": {},
   "source": [
    "**d) With the help of the ﬁrst principal component ﬁnd politicians on the far right (very conservative) and far left (very liberal).**"
   ]
  },
  {
   "cell_type": "code",
   "execution_count": 10,
   "metadata": {},
   "outputs": [
    {
     "data": {
      "text/html": [
       "<dl class=dl-horizontal>\n",
       "\t<dt>BROUN (R GA-10)</dt>\n",
       "\t\t<dd>-39.3739408879417</dd>\n",
       "\t<dt>FLAKE (R AZ-6)</dt>\n",
       "\t\t<dd>-38.2506713345163</dd>\n",
       "\t<dt>HENSARLIN (R TX-5)</dt>\n",
       "\t\t<dd>-37.587059732978</dd>\n",
       "\t<dt>LAMBORN (R CO-5)</dt>\n",
       "\t\t<dd>-37.3703217908313</dd>\n",
       "\t<dt>FRANKS (R AZ-2)</dt>\n",
       "\t\t<dd>-37.2284243273724</dd>\n",
       "\t<dt>FOXX (R NC-5)</dt>\n",
       "\t\t<dd>-37.1170084904363</dd>\n",
       "</dl>\n"
      ],
      "text/latex": [
       "\\begin{description*}\n",
       "\\item[BROUN (R GA-10)] -39.3739408879417\n",
       "\\item[FLAKE (R AZ-6)] -38.2506713345163\n",
       "\\item[HENSARLIN (R TX-5)] -37.587059732978\n",
       "\\item[LAMBORN (R CO-5)] -37.3703217908313\n",
       "\\item[FRANKS (R AZ-2)] -37.2284243273724\n",
       "\\item[FOXX (R NC-5)] -37.1170084904363\n",
       "\\end{description*}\n"
      ],
      "text/markdown": [
       "BROUN (R GA-10)\n",
       ":   -39.3739408879417FLAKE (R AZ-6)\n",
       ":   -38.2506713345163HENSARLIN (R TX-5)\n",
       ":   -37.587059732978LAMBORN (R CO-5)\n",
       ":   -37.3703217908313FRANKS (R AZ-2)\n",
       ":   -37.2284243273724FOXX (R NC-5)\n",
       ":   -37.1170084904363\n",
       "\n"
      ],
      "text/plain": [
       "   BROUN (R GA-10)     FLAKE (R AZ-6) HENSARLIN (R TX-5)   LAMBORN (R CO-5) \n",
       "         -39.37394          -38.25067          -37.58706          -37.37032 \n",
       "   FRANKS (R AZ-2)      FOXX (R NC-5) \n",
       "         -37.22842          -37.11701 "
      ]
     },
     "metadata": {},
     "output_type": "display_data"
    }
   ],
   "source": [
    "## Far right (very conservative)\n",
    "head(sort(pr.out$x[,1]))"
   ]
  },
  {
   "cell_type": "code",
   "execution_count": 11,
   "metadata": {},
   "outputs": [
    {
     "data": {
      "text/html": [
       "<dl class=dl-horizontal>\n",
       "\t<dt>EDWARDS (D MD-4)</dt>\n",
       "\t\t<dd>25.2915082780819</dd>\n",
       "\t<dt>PRICE (D NC-4)</dt>\n",
       "\t\t<dd>25.1591151371117</dd>\n",
       "\t<dt>MATSUI (D CA-5)</dt>\n",
       "\t\t<dd>25.1248117429693</dd>\n",
       "\t<dt>SCHAKOWS (D IL-9)</dt>\n",
       "\t\t<dd>24.9875446286478</dd>\n",
       "\t<dt>HIRONO (D HI-2)</dt>\n",
       "\t\t<dd>24.9854652871289</dd>\n",
       "\t<dt>SERRANO (D NY-16)</dt>\n",
       "\t\t<dd>24.972867617407</dd>\n",
       "</dl>\n"
      ],
      "text/latex": [
       "\\begin{description*}\n",
       "\\item[EDWARDS (D MD-4)] 25.2915082780819\n",
       "\\item[PRICE (D NC-4)] 25.1591151371117\n",
       "\\item[MATSUI (D CA-5)] 25.1248117429693\n",
       "\\item[SCHAKOWS (D IL-9)] 24.9875446286478\n",
       "\\item[HIRONO (D HI-2)] 24.9854652871289\n",
       "\\item[SERRANO (D NY-16)] 24.972867617407\n",
       "\\end{description*}\n"
      ],
      "text/markdown": [
       "EDWARDS (D MD-4)\n",
       ":   25.2915082780819PRICE (D NC-4)\n",
       ":   25.1591151371117MATSUI (D CA-5)\n",
       ":   25.1248117429693SCHAKOWS (D IL-9)\n",
       ":   24.9875446286478HIRONO (D HI-2)\n",
       ":   24.9854652871289SERRANO (D NY-16)\n",
       ":   24.972867617407\n",
       "\n"
      ],
      "text/plain": [
       " EDWARDS (D MD-4)    PRICE (D NC-4)   MATSUI (D CA-5) SCHAKOWS (D IL-9) \n",
       "         25.29151          25.15912          25.12481          24.98754 \n",
       "  HIRONO (D HI-2) SERRANO (D NY-16) \n",
       "         24.98547          24.97287 "
      ]
     },
     "metadata": {},
     "output_type": "display_data"
    }
   ],
   "source": [
    "## Far left (very liberal)\n",
    "head(sort(pr.out$x[,1], decreasing=TRUE))"
   ]
  },
  {
   "cell_type": "markdown",
   "metadata": {},
   "source": [
    "**e) Find the votings which have the most extreme loadings for the second principal component. Analyze the voting behavior in these votings and come up with the interpretation of the second component.**"
   ]
  },
  {
   "cell_type": "code",
   "execution_count": 12,
   "metadata": {},
   "outputs": [
    {
     "data": {
      "text/html": [
       "<dl class=dl-horizontal>\n",
       "\t<dt>SOLIS (D CA-32)</dt>\n",
       "\t\t<dd>-88.3135092593956</dd>\n",
       "\t<dt>GILLIBRAND (D NY-20)</dt>\n",
       "\t\t<dd>-87.5887168745393</dd>\n",
       "\t<dt>PELOSI (D CA-8)</dt>\n",
       "\t\t<dd>-86.5358556808695</dd>\n",
       "\t<dt>STUTZMAN (R IN-3)</dt>\n",
       "\t\t<dd>-85.592173102051</dd>\n",
       "\t<dt>REED (R NY-29)</dt>\n",
       "\t\t<dd>-85.5363631936198</dd>\n",
       "\t<dt>GRAVES (R GA-9)</dt>\n",
       "\t\t<dd>-76.4965810795027</dd>\n",
       "</dl>\n"
      ],
      "text/latex": [
       "\\begin{description*}\n",
       "\\item[SOLIS (D CA-32)] -88.3135092593956\n",
       "\\item[GILLIBRAND (D NY-20)] -87.5887168745393\n",
       "\\item[PELOSI (D CA-8)] -86.5358556808695\n",
       "\\item[STUTZMAN (R IN-3)] -85.592173102051\n",
       "\\item[REED (R NY-29)] -85.5363631936198\n",
       "\\item[GRAVES (R GA-9)] -76.4965810795027\n",
       "\\end{description*}\n"
      ],
      "text/markdown": [
       "SOLIS (D CA-32)\n",
       ":   -88.3135092593956GILLIBRAND (D NY-20)\n",
       ":   -87.5887168745393PELOSI (D CA-8)\n",
       ":   -86.5358556808695STUTZMAN (R IN-3)\n",
       ":   -85.592173102051REED (R NY-29)\n",
       ":   -85.5363631936198GRAVES (R GA-9)\n",
       ":   -76.4965810795027\n",
       "\n"
      ],
      "text/plain": [
       "     SOLIS (D CA-32) GILLIBRAND (D NY-20)      PELOSI (D CA-8) \n",
       "           -88.31351            -87.58872            -86.53586 \n",
       "   STUTZMAN (R IN-3)       REED (R NY-29)      GRAVES (R GA-9) \n",
       "           -85.59217            -85.53636            -76.49658 "
      ]
     },
     "metadata": {},
     "output_type": "display_data"
    }
   ],
   "source": [
    "# PC 2\n",
    "head(sort(pr.out$x[,2]))\n",
    "# No clear pattern based on party and state information"
   ]
  },
  {
   "cell_type": "code",
   "execution_count": 13,
   "metadata": {},
   "outputs": [
    {
     "data": {
      "text/html": [
       "<dl class=dl-horizontal>\n",
       "\t<dt>Vote.1146</dt>\n",
       "\t\t<dd>0.0560586232119969</dd>\n",
       "\t<dt>Vote.658</dt>\n",
       "\t\t<dd>0.0546194670633868</dd>\n",
       "\t<dt>Vote.1090</dt>\n",
       "\t\t<dd>0.0530080603946947</dd>\n",
       "\t<dt>Vote.1104</dt>\n",
       "\t\t<dd>0.0516838190839037</dd>\n",
       "\t<dt>Vote.1149</dt>\n",
       "\t\t<dd>0.0515572859094995</dd>\n",
       "</dl>\n"
      ],
      "text/latex": [
       "\\begin{description*}\n",
       "\\item[Vote.1146] 0.0560586232119969\n",
       "\\item[Vote.658] 0.0546194670633868\n",
       "\\item[Vote.1090] 0.0530080603946947\n",
       "\\item[Vote.1104] 0.0516838190839037\n",
       "\\item[Vote.1149] 0.0515572859094995\n",
       "\\end{description*}\n"
      ],
      "text/markdown": [
       "Vote.1146\n",
       ":   0.0560586232119969Vote.658\n",
       ":   0.0546194670633868Vote.1090\n",
       ":   0.0530080603946947Vote.1104\n",
       ":   0.0516838190839037Vote.1149\n",
       ":   0.0515572859094995\n",
       "\n"
      ],
      "text/plain": [
       " Vote.1146   Vote.658  Vote.1090  Vote.1104  Vote.1149 \n",
       "0.05605862 0.05461947 0.05300806 0.05168382 0.05155729 "
      ]
     },
     "metadata": {},
     "output_type": "display_data"
    }
   ],
   "source": [
    "# Look at the largest loadings in PC2 to discern an interpretation.\n",
    "loadings <- pr.out$rotation\n",
    "loadings[order(abs(loadings[,2]), decreasing=TRUE)[1:5],2]"
   ]
  },
  {
   "cell_type": "code",
   "execution_count": 14,
   "metadata": {},
   "outputs": [
    {
     "data": {
      "text/plain": [
       "\n",
       "  0   1 \n",
       " 16 429 "
      ]
     },
     "metadata": {},
     "output_type": "display_data"
    },
    {
     "data": {
      "text/plain": [
       "\n",
       "  0   1 \n",
       " 13 432 "
      ]
     },
     "metadata": {},
     "output_type": "display_data"
    },
    {
     "data": {
      "text/plain": [
       "\n",
       "  0   1 \n",
       " 22 423 "
      ]
     },
     "metadata": {},
     "output_type": "display_data"
    }
   ],
   "source": [
    "# Analyze voting behavior\n",
    "table(votes[,1146])\n",
    "table(votes[,658])\n",
    "table(votes[,1090])"
   ]
  },
  {
   "cell_type": "code",
   "execution_count": 15,
   "metadata": {},
   "outputs": [
    {
     "data": {
      "text/html": [
       "<dl class=dl-horizontal>\n",
       "\t<dt>SOLIS (D CA-32)</dt>\n",
       "\t\t<dd>1628</dd>\n",
       "\t<dt>GILLIBRAND (D NY-20)</dt>\n",
       "\t\t<dd>1619</dd>\n",
       "\t<dt>REED (R NY-29)</dt>\n",
       "\t\t<dd>1562</dd>\n",
       "\t<dt>STUTZMAN (R IN-3)</dt>\n",
       "\t\t<dd>1557</dd>\n",
       "\t<dt>PELOSI (D CA-8)</dt>\n",
       "\t\t<dd>1541</dd>\n",
       "\t<dt>GRAVES (R GA-9)</dt>\n",
       "\t\t<dd>1340</dd>\n",
       "</dl>\n"
      ],
      "text/latex": [
       "\\begin{description*}\n",
       "\\item[SOLIS (D CA-32)] 1628\n",
       "\\item[GILLIBRAND (D NY-20)] 1619\n",
       "\\item[REED (R NY-29)] 1562\n",
       "\\item[STUTZMAN (R IN-3)] 1557\n",
       "\\item[PELOSI (D CA-8)] 1541\n",
       "\\item[GRAVES (R GA-9)] 1340\n",
       "\\end{description*}\n"
      ],
      "text/markdown": [
       "SOLIS (D CA-32)\n",
       ":   1628GILLIBRAND (D NY-20)\n",
       ":   1619REED (R NY-29)\n",
       ":   1562STUTZMAN (R IN-3)\n",
       ":   1557PELOSI (D CA-8)\n",
       ":   1541GRAVES (R GA-9)\n",
       ":   1340\n",
       "\n"
      ],
      "text/plain": [
       "     SOLIS (D CA-32) GILLIBRAND (D NY-20)       REED (R NY-29) \n",
       "                1628                 1619                 1562 \n",
       "   STUTZMAN (R IN-3)      PELOSI (D CA-8)      GRAVES (R GA-9) \n",
       "                1557                 1541                 1340 "
      ]
     },
     "metadata": {},
     "output_type": "display_data"
    }
   ],
   "source": [
    "# Either everyone voted \"yea\" or missed the voting.\n",
    "# These votes all correspond to near-unanimous symbolic action.\n",
    "\n",
    "# Mystery Solved: the second PC is just attendance!\n",
    "head(sort(rowSums(votes==0), decreasing=TRUE))"
   ]
  },
  {
   "cell_type": "markdown",
   "metadata": {},
   "source": [
    "<span style=\"color:red; font-weight:bold; font-size:xx-large;\">\n",
    "# Time for a breakout session \n",
    "</span>\n"
   ]
  },
  {
   "cell_type": "markdown",
   "metadata": {},
   "source": [
    "# Clustering"
   ]
  },
  {
   "cell_type": "markdown",
   "metadata": {},
   "source": [
    "**a) Run a k-means clustering procedure to detect 2 clusters in the data. How many Democrats and Republicans are in each cluster?**"
   ]
  },
  {
   "cell_type": "code",
   "execution_count": 14,
   "metadata": {},
   "outputs": [
    {
     "data": {
      "text/plain": [
       "    \n",
       "       1   2\n",
       "  D  258   4\n",
       "  DR   0   1\n",
       "  R    0 182"
      ]
     },
     "metadata": {},
     "output_type": "display_data"
    }
   ],
   "source": [
    "set.seed(11122019)\n",
    "\n",
    "# K-means clustering with 2 clusters\n",
    "km.out = kmeans(votes, 2, nstart = 20)\n",
    "#km.out$cluster\n",
    "# Tabulate party vs cluster\n",
    "table(members$party, km.out$cluster)\n",
    "\n"
   ]
  },
  {
   "cell_type": "markdown",
   "metadata": {},
   "source": [
    "**b) Run a k-means clustering procedure for k ∈{2,...,20} and plot the within cluster sum of squared errors. Decide based on the plot what the optimal number of clusters is.**"
   ]
  },
  {
   "cell_type": "code",
   "execution_count": 5,
   "metadata": {},
   "outputs": [
    {
     "data": {
      "image/png": "[encoded data removed]",
      "text/plain": [
       "plot without title"
      ]
     },
     "metadata": {
      "image/png": {
       "height": 420,
       "width": 420
      }
     },
     "output_type": "display_data"
    }
   ],
   "source": [
    "# How to analyze the optimal number of clusters\n",
    "\n",
    "sse <- c()\n",
    "sse[1] <- Inf\n",
    "\n",
    "for (ind_cl in c(2:20)) {\n",
    "  set.seed(3)\n",
    "  km.out = kmeans (votes, ind_cl, nstart = 20)\n",
    "  sse[ind_cl] = km.out$tot.withinss\n",
    "}\n",
    "\n",
    "plot(sse)\n",
    "# Optimum 4-5 clusters"
   ]
  },
  {
   "cell_type": "markdown",
   "metadata": {},
   "source": [
    "**c) Take the graph with two principal components and use color to visualize the clusters you found in the previous task.**"
   ]
  },
  {
   "cell_type": "code",
   "execution_count": 19,
   "metadata": {},
   "outputs": [
    {
     "data": {
      "image/png": "[encoded data removed]",
      "text/plain": [
       "Plot with title \"Top two PC directions with 5 clusters\""
      ]
     },
     "metadata": {},
     "output_type": "display_data"
    }
   ],
   "source": [
    "# Plot the 5 clusters on the PC components graph\n",
    "set.seed(3)\n",
    "km.out = kmeans (votes, 5, nstart = 20)\n",
    "\n",
    "# Plot the first two principal components color the party membership\n",
    "plot(pr.out$x[,1], pr.out$x[,2], xlab = \"PC1\", ylab = \"PC2\", col = km.out$cluster, main = \"Top two PC directions with 5 clusters\")\n",
    "legend('bottomright', legend = c(\"Cluster 1\", \"Cluster 2\", \"Cluster 3\", \"Cluster 4\", \"Cluster 5\"), col = 1:5,  pch = 1)"
   ]
  },
  {
   "cell_type": "markdown",
   "metadata": {},
   "source": [
    "**d) Run a k-means clustering procedure to detect 6 clusters with nstart = 1 and nstart = 20. Print out the within cluster sum of squared errors for both nstart values. What can you say about the importance of nstart on the convergence to the global optimum?**"
   ]
  },
  {
   "cell_type": "code",
   "execution_count": 12,
   "metadata": {},
   "outputs": [
    {
     "name": "stdout",
     "output_type": "stream",
     "text": [
      "[1] \"With nstart = 1\"\n"
     ]
    },
    {
     "data": {
      "text/html": [
       "124967.279701017"
      ],
      "text/latex": [
       "124967.279701017"
      ],
      "text/markdown": [
       "124967.279701017"
      ],
      "text/plain": [
       "[1] 124967.3"
      ]
     },
     "metadata": {},
     "output_type": "display_data"
    },
    {
     "name": "stdout",
     "output_type": "stream",
     "text": [
      "[1] \"With nstart = 20\"\n"
     ]
    },
    {
     "data": {
      "text/html": [
       "117465.425374689"
      ],
      "text/latex": [
       "117465.425374689"
      ],
      "text/markdown": [
       "117465.425374689"
      ],
      "text/plain": [
       "[1] 117465.4"
      ]
     },
     "metadata": {},
     "output_type": "display_data"
    }
   ],
   "source": [
    "# Analyzing how the number of starts work\n",
    "set.seed (3)\n",
    "print('With nstart = 1')\n",
    "km.out = kmeans (votes,6, nstart = 1)\n",
    "km.out$tot.withinss\n",
    "\n",
    "print('With nstart = 20')\n",
    "km.out =kmeans (votes,6, nstart = 20)\n",
    "km.out$tot.withinss"
   ]
  },
  {
   "cell_type": "markdown",
   "metadata": {},
   "source": [
    "<span style=\"color:red; font-weight:bold; font-size:xx-large;\">\n",
    "# Time for a breakout session \n",
    "</span>\n"
   ]
  },
  {
   "cell_type": "code",
   "execution_count": null,
   "metadata": {},
   "outputs": [],
   "source": []
  }
 ],
 "metadata": {
  "kernelspec": {
   "display_name": "R",
   "language": "R",
   "name": "ir"
  },
  "language_info": {
   "codemirror_mode": "r",
   "file_extension": ".r",
   "mimetype": "text/x-r-source",
   "name": "R",
   "pygments_lexer": "r",
   "version": "3.6.3"
  }
 },
 "nbformat": 4,
 "nbformat_minor": 4
}

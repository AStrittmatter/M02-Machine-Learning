{
 "cells": [
  {
   "cell_type": "markdown",
   "metadata": {},
   "source": [
    "   # Post-Double-Selection Procedure"
   ]
  },
  {
   "cell_type": "markdown",
   "metadata": {},
   "source": [
    "Author: [Anthony Strittmatter](https://www.anthonystrittmatter.com/)"
   ]
  },
  {
   "cell_type": "markdown",
   "metadata": {},
   "source": [
    "The Job Corps is the largest U.S. labor market program targeting disadvantaged youths. It  provides  academic, vocational, and  social training, as well as health care counseling and job search assistance, for an average duration of eight to nine months. Mathematica Policy Research carried out a randomized experiment with the Job Corps. About 60% of the experimental participants were randomly selected to receive an offer to participatein the Job Corps. Out of these, 73% joined the Job Corps program and actually started to participate after an average duration of 1.4 months. The remaining experimental \n",
    "participants were assigned to the control group. Control group members were not eligible for the Job Corps programs for three years following randomization (approximately 1% participated anyway).\n",
    "\n",
    "We estimate the effects of actually participating in the Job Corps on earnings fours years after the randomization. The experimental Job Corps data job_corps.csv contains 10'516 observations.\n",
    "\n",
    "**Variable list :** \n",
    "\n",
    "* **EARNY4**: Earnings per week in Year 4\n",
    "* **assignment**: Dummy for randomized offer to join Job Corps\n",
    "* **participation**: Dummy for actual participation in Job Corps\n",
    "* **female**: Dummy for females\n",
    "* **age1**: Aged between 16-17 years\n",
    "* **age2**: Aged between 18-19 years\n",
    "* **age3**: Aged between 20-24 years\n",
    "* **ed_06**: 0-6 months education program in last year prior experiment\n",
    "* **ed_612**: 6-12 months education program in last year pror experiment\n",
    "* **hs_ged**: High school or GED credential (general educational development test)\n",
    "* **white**: Dummy for white ethnicity\n",
    "* **black**: Dummy for African-American ethnicity\n",
    "* **hisp**: Dummy for Hispanic ethnicity\n",
    "* **oth_eth**: Dummy for other ethnicity\n",
    "* **haschld**: Dummy for parents\n",
    "* **livespou**: Lives with spouse or partner\n",
    "* **everwork**: Ever had job for two weeks or more\n",
    "* **yr_work**: Worked in year prior to random assignment\n",
    "* **currjob**: Has job at random assignment\n",
    "* **job0_3**: Below 3 months employed in last year\n",
    "* **job3_9**: 3-9 months employed in last year\n",
    "* **job9_12**: 9-12 months employed in last year\n",
    "* **earn1**: Yearly earnings less than \\$1'000 prior experiment \n",
    "* **earn2**: Yearly earnings \\$1'000-5'000 prior experiment \n",
    "* **earn3**: Yearly earnings \\$5'000-10'000 prior experiment \n",
    "* **earn4**: Yearly earnings above \\$10'000 prior experiment \n",
    "* **badhlth**: Dummy for bad health\n",
    "* **welf_kid**: Family on welfare when growing up\n",
    "* **got_fs**: Received food stamps in last year\n",
    "* **publich**: Public or rent-subsidized housing\n",
    "* **got_afdc**: Received AFDC (aid for families with dependent children) in last year\n",
    "* **harduse**: Used hard drugs in last year\n",
    "* **potuse**: Smoked marijuana in last year\n",
    "* **evarrst**: Ever arrested dummy\n",
    "* **pmsa**: Lives in PMSA (primary metropolitan statistical area)\n",
    "* **msa**: Lives in MSA (metropolitan statistical area)\n",
    "\n",
    "Load the data \"job_corps.csv\". If not already installed, install the packages *hdm*, *glmnet*, *tidyverse*, *caret*, *lmtest*, *sandwich*, and *fBasics*.\n",
    "\n",
    "Draw a random subsample of 3'000 observations. We need a smaller data set in this tutorial, because otherwise the computation time on the server would be too long. In reality you would use the entire data.\n",
    " "
   ]
  },
  {
   "cell_type": "markdown",
   "metadata": {},
   "source": [
    "# Load Packages and the Data"
   ]
  },
  {
   "cell_type": "code",
   "execution_count": 1,
   "metadata": {
    "collapsed": true,
    "jupyter": {
     "outputs_hidden": true
    }
   },
   "outputs": [
    {
     "name": "stderr",
     "output_type": "stream",
     "text": [
      "── \u001b[1mAttaching core tidyverse packages\u001b[22m ──────────────────────── tidyverse 2.0.0 ──\n",
      "\u001b[32m✔\u001b[39m \u001b[34mdplyr    \u001b[39m 1.1.4     \u001b[32m✔\u001b[39m \u001b[34mreadr    \u001b[39m 2.1.5\n",
      "\u001b[32m✔\u001b[39m \u001b[34mforcats  \u001b[39m 1.0.0     \u001b[32m✔\u001b[39m \u001b[34mstringr  \u001b[39m 1.5.1\n",
      "\u001b[32m✔\u001b[39m \u001b[34mggplot2  \u001b[39m 3.4.4     \u001b[32m✔\u001b[39m \u001b[34mtibble   \u001b[39m 3.2.1\n",
      "\u001b[32m✔\u001b[39m \u001b[34mlubridate\u001b[39m 1.9.3     \u001b[32m✔\u001b[39m \u001b[34mtidyr    \u001b[39m 1.3.1\n",
      "\u001b[32m✔\u001b[39m \u001b[34mpurrr    \u001b[39m 1.0.2     \n",
      "── \u001b[1mConflicts\u001b[22m ────────────────────────────────────────── tidyverse_conflicts() ──\n",
      "\u001b[31m✖\u001b[39m \u001b[34mdplyr\u001b[39m::\u001b[32mfilter()\u001b[39m masks \u001b[34mstats\u001b[39m::filter()\n",
      "\u001b[31m✖\u001b[39m \u001b[34mdplyr\u001b[39m::\u001b[32mlag()\u001b[39m    masks \u001b[34mstats\u001b[39m::lag()\n",
      "\u001b[36mℹ\u001b[39m Use the conflicted package (\u001b[3m\u001b[34m<http://conflicted.r-lib.org/>\u001b[39m\u001b[23m) to force all conflicts to become errors\n",
      "Loading required package: lattice\n",
      "\n",
      "\n",
      "Attaching package: ‘caret’\n",
      "\n",
      "\n",
      "The following object is masked from ‘package:purrr’:\n",
      "\n",
      "    lift\n",
      "\n",
      "\n",
      "Loading required package: zoo\n",
      "\n",
      "\n",
      "Attaching package: ‘zoo’\n",
      "\n",
      "\n",
      "The following objects are masked from ‘package:base’:\n",
      "\n",
      "    as.Date, as.Date.numeric\n",
      "\n",
      "\n",
      "Loading required package: Matrix\n",
      "\n",
      "\n",
      "Attaching package: ‘Matrix’\n",
      "\n",
      "\n",
      "The following objects are masked from ‘package:tidyr’:\n",
      "\n",
      "    expand, pack, unpack\n",
      "\n",
      "\n",
      "Loaded glmnet 4.1-8\n",
      "\n"
     ]
    },
    {
     "name": "stdout",
     "output_type": "stream",
     "text": [
      "[1] \"All packages successfully installed and loaded.\"\n",
      "[1] \"Data successfully loaded.\"\n"
     ]
    }
   ],
   "source": [
    "##############################################################################\n",
    "########################  Load Packages and the Data  ########################\n",
    "##############################################################################\n",
    "\n",
    "### Load the packages  \n",
    "library(fBasics)     # use for descriptive statistics\n",
    "library(tidyverse)   # use for handling data\n",
    "library(caret)       # use for handling data\n",
    "library(lmtest)      # use for heteroscedasticity robust standard errors\n",
    "library(sandwich)    # use for heteroscedasticity robust standard errors\n",
    "library(hdm)         # use for Lasso and Post-Double-Selection\n",
    "library(glmnet)      # use for lasso and Elastic Net regularized Generalized Linear Models\n",
    "options(warn=-1)     # supress warnings\n",
    "\n",
    "print('All packages successfully installed and loaded.')\n",
    "\n",
    "### Load the Data\n",
    "set.seed(12345678) \n",
    "df <- read.csv(\"/home/jupyter-mlcourseuser/M02-Machine-Learning/self_study_tutorial/scripts_and_data/job_corps.csv\",header=TRUE, sep=\",\") # load data from csv-file\n",
    "df <- df[sample(c(1:nrow(df)), size=3000, replace =F),] # Select a random subsample of 3000 observations\n",
    "print('Data successfully loaded.')\n",
    "\n",
    "##############################################################################"
   ]
  },
  {
   "cell_type": "markdown",
   "metadata": {},
   "source": [
    "# Descriptive Statistics"
   ]
  },
  {
   "cell_type": "code",
   "execution_count": 2,
   "metadata": {
    "collapsed": true,
    "jupyter": {
     "outputs_hidden": true
    }
   },
   "outputs": [
    {
     "name": "stdout",
     "output_type": "stream",
     "text": [
      "                Mean  Stdev Minimum Maximum nobs\n",
      "EARNY4        207.42 205.42       0 2357.74 3000\n",
      "assignment      0.60   0.49       0    1.00 3000\n",
      "participation   0.44   0.50       0    1.00 3000\n",
      "female          0.43   0.49       0    1.00 3000\n",
      "age_1           0.41   0.49       0    1.00 3000\n",
      "age_2           0.32   0.46       0    1.00 3000\n",
      "age_3           0.28   0.45       0    1.00 3000\n",
      "ed0_6           0.26   0.44       0    1.00 3000\n",
      "ed6_12          0.37   0.48       0    1.00 3000\n",
      "hs_ged          0.25   0.43       0    1.00 3000\n",
      "white           0.26   0.44       0    1.00 3000\n",
      "black           0.49   0.50       0    1.00 3000\n",
      "hisp            0.17   0.38       0    1.00 3000\n",
      "oth_eth         0.07   0.26       0    1.00 3000\n",
      "haschld         0.21   0.40       0    1.00 3000\n",
      "livespou        0.07   0.25       0    1.00 3000\n",
      "everwork        0.80   0.40       0    1.00 3000\n",
      "yr_work         0.64   0.48       0    1.00 3000\n",
      "currjob         0.20   0.40       0    1.00 3000\n",
      "job0_3          0.22   0.42       0    1.00 3000\n",
      "job3_9          0.29   0.45       0    1.00 3000\n",
      "job9_12         0.21   0.41       0    1.00 3000\n",
      "earn1           0.11   0.31       0    1.00 3000\n",
      "earn2           0.27   0.44       0    1.00 3000\n",
      "earn3           0.14   0.34       0    1.00 3000\n",
      "earn4           0.07   0.25       0    1.00 3000\n",
      "badhlth         0.13   0.34       0    1.00 3000\n",
      "welf_kid        0.20   0.40       0    1.00 3000\n",
      "got_fs          0.44   0.50       0    1.00 3000\n",
      "publich         0.22   0.42       0    1.00 3000\n",
      "got_afdc        0.32   0.46       0    1.00 3000\n",
      "harduse         0.06   0.23       0    1.00 3000\n",
      "potuse          0.25   0.43       0    1.00 3000\n",
      "evarrst         0.24   0.43       0    1.00 3000\n",
      "pmsa            0.33   0.47       0    1.00 3000\n",
      "msa             0.46   0.50       0    1.00 3000\n"
     ]
    }
   ],
   "source": [
    "##############################################################################\n",
    "########################  Descriptive Statistics  ############################\n",
    "##############################################################################\n",
    "\n",
    "## Table with Descriptive Statistics \n",
    "desc <- fBasics::basicStats(df) %>% t() %>% as.data.frame() %>% \n",
    "          select(Mean, Stdev, Minimum, Maximum, nobs)\n",
    "print(round(desc, digits=2))\n",
    "\n",
    "##############################################################################"
   ]
  },
  {
   "cell_type": "markdown",
   "metadata": {},
   "source": [
    "There are no missings (see last column *nobs*). All variables (excluding earnings) are binary dummies."
   ]
  },
  {
   "cell_type": "markdown",
   "metadata": {},
   "source": [
    "# Univariate OLS Regression"
   ]
  },
  {
   "cell_type": "markdown",
   "metadata": {},
   "source": [
    "We want to estimate the causal effect of participation in Job Corps on earnings. For this purpose, we estimate the univariate linear regression model,\n",
    "\n",
    "\\begin{equation*}\n",
    "EARNY4 = \\gamma + \\delta \\cdot participation +u.\n",
    "\\end{equation*}\n",
    "\n",
    "**Questions:**\n",
    "\n",
    "1. How large is the effect of participation in Job Corps on earnings?\n",
    "2. What is the main assumtpion we have to make to interprete this effect in a causal way?\n",
    "3. How credible is the identifying assumption in this application?\n",
    "4. Can we improve the credibility of the identification strategy using observable exogeneous charactersitics $X$?"
   ]
  },
  {
   "cell_type": "code",
   "execution_count": 3,
   "metadata": {
    "collapsed": true,
    "jupyter": {
     "outputs_hidden": true
    }
   },
   "outputs": [
    {
     "data": {
      "text/plain": [
       "\n",
       "Call:\n",
       "lm(formula = EARNY4 ~ participation, data = df)\n",
       "\n",
       "Residuals:\n",
       "    Min      1Q  Median      3Q     Max \n",
       "-214.40 -175.29  -26.27   98.82 2155.83 \n",
       "\n",
       "Coefficients:\n",
       "              Estimate Std. Error t value Pr(>|t|)    \n",
       "(Intercept)    201.904      5.018  40.239   <2e-16 ***\n",
       "participation   12.497      7.550   1.655    0.098 .  \n",
       "---\n",
       "Signif. codes:  0 ‘***’ 0.001 ‘**’ 0.01 ‘*’ 0.05 ‘.’ 0.1 ‘ ’ 1\n",
       "\n",
       "Residual standard error: 205.4 on 2998 degrees of freedom\n",
       "Multiple R-squared:  0.000913,\tAdjusted R-squared:  0.0005798 \n",
       "F-statistic:  2.74 on 1 and 2998 DF,  p-value: 0.09799\n"
      ]
     },
     "metadata": {},
     "output_type": "display_data"
    },
    {
     "name": "stdout",
     "output_type": "stream",
     "text": [
      "  Estimate Std. Error   Pr(>|t|) \n",
      "     12.50       7.55       0.10 \n"
     ]
    }
   ],
   "source": [
    "#########################################################################\n",
    "########################  Univariate OLS Regression #####################\n",
    "#########################################################################\n",
    "\n",
    "## Univariate OLS\n",
    "ols1 <- lm(EARNY4 ~ participation, data = df)\n",
    "summary(ols1)\n",
    "\n",
    "## Store results\n",
    "results <- as.matrix(coef(summary(ols1))[2, c(\"Estimate\", \"Std. Error\", \"Pr(>|t|)\")])\n",
    "\n",
    "# Prepare matrix to store results\n",
    "res <- matrix(NA,nrow=3,ncol=5)\n",
    "colnames(res) <- c(\"Univariate OLS\", \"Multivariate OLS1\", \"Multivariate OLS2\",\n",
    "                   \"Multivariate OLS3\", \"Multivariate OLS4\")\n",
    "rownames(res) <- rownames(results)\n",
    "res[,1] <- results\n",
    "\n",
    "print(round(res[,1], digits=2))\n",
    "\n",
    "########################################################################"
   ]
  },
  {
   "cell_type": "markdown",
   "metadata": {},
   "source": [
    "**Answers:**\n",
    "\n",
    "1. The estimation results suggest that participation in Job Corps increased weekly earnings by 12.50 Dollars four years after the experiment.\n",
    "2. The main identifying assumptions is the error term $u$ is independent of $participation$, $E[u|participation =1] = E[u|participation =0]$. Additionally, we have to impose the stable unit treatment valua assumption (SUTVA) and common support. The SUTVA excludes spillover and general equilibrium effects. The common support assumption can be tested and is valid in this application. Having said this, both assumptions are not the focus of this tutorial.\n",
    "3. The offer to participate in Job Corps was randomized in the experiment. However, actual participation was not randomized. Individuals could self-select based on preferences or expected returns to training into participation in the Job Corps program. This could create selection bias. Accordingly, the main identifying assumption is not credible. For example, those individuals with good labor market persectives could be over-represented among the participants. This could lead to a negative selection bias,  if the effect of participation is negatively corrleated with labor market perspectives.\n",
    "4. We could increase the credibility of the identification strategy by conditioning on exogeneous confounders $X$. This are observable characteristics which have a joint impact on earnings and the probability to participate in the Job Corps program. We could relax the aformentioned independence assumption to $E[u|participation =1,X] = E[u|participation =0,X]$."
   ]
  },
  {
   "cell_type": "markdown",
   "metadata": {},
   "source": [
    "# Multivariate OLS Regression"
   ]
  },
  {
   "cell_type": "markdown",
   "metadata": {},
   "source": [
    "Now we estimate the multivariate linear regression model,\n",
    "\n",
    "\\begin{equation*}\n",
    "EARNY4 = \\gamma + \\delta \\cdot participation + \\beta \\cdot X + u.\n",
    "\\end{equation*}\n",
    "\n",
    "The main identifying assumption $E[u|participation =1,X] = E[u|participation =0,X]$ is weaker than for the univariate model. But we have to assume additionally effect homogeneity, i.e., the effect of participation in Job Corps on earnings is equal for all individuals. We could relax this assumption by including interaction terms between $participation$ and $X$, but this would make the model more complicated and difficult to interpret."
   ]
  },
  {
   "cell_type": "markdown",
   "metadata": {},
   "source": [
    "### QUESTION: HOW TO SELECT THE CONTROL VARIABLES $X$?\n",
    "\n"
   ]
  },
  {
   "cell_type": "markdown",
   "metadata": {},
   "source": [
    "Ideas to select control variables:\n",
    "\n",
    "1. Standardized differences\n",
    "2. Domain knowledge\n",
    "3. Kitchen sink"
   ]
  },
  {
   "cell_type": "markdown",
   "metadata": {},
   "source": [
    "**Idea 1 (Standardized Differences):** Compare the difference in the observable characteristics between the groups of participants and non-participants. Characteristics which differ greatly between the two groups appear to be important control variables."
   ]
  },
  {
   "cell_type": "code",
   "execution_count": 4,
   "metadata": {
    "collapsed": true,
    "jupyter": {
     "outputs_hidden": true
    }
   },
   "outputs": [
    {
     "name": "stdout",
     "output_type": "stream",
     "text": [
      "         D=1 Mean D=1 Std.Dev. D=0 Mean D=0 Std.Dev. Std.Diff.\n",
      "female       0.45         0.50     0.41         0.49      7.19\n",
      "age_1        0.44         0.50     0.38         0.49     11.82\n",
      "age_2        0.31         0.46     0.32         0.47      3.28\n",
      "age_3        0.26         0.44     0.30         0.46      9.58\n",
      "ed0_6        0.24         0.43     0.27         0.44      6.50\n",
      "ed6_12       0.39         0.49     0.35         0.48      8.71\n",
      "hs_ged       0.23         0.42     0.27         0.44      7.42\n",
      "white        0.26         0.44     0.27         0.44      3.45\n",
      "black        0.50         0.50     0.48         0.50      4.04\n",
      "hisp         0.17         0.37     0.18         0.38      2.85\n",
      "oth_eth      0.08         0.27     0.07         0.26      2.22\n",
      "haschld      0.20         0.40     0.21         0.41      4.82\n",
      "livespou     0.05         0.22     0.08         0.27     11.38\n",
      "everwork     0.79         0.41     0.81         0.39      4.60\n",
      "yr_work      0.63         0.48     0.65         0.48      4.72\n",
      "currjob      0.20         0.40     0.20         0.40      1.01\n",
      "job0_3       0.22         0.42     0.22         0.41      0.24\n",
      "job3_9       0.29         0.46     0.29         0.45      1.18\n",
      "job9_12      0.19         0.40     0.23         0.42      8.03\n",
      "earn1        0.11         0.31     0.11         0.32      1.92\n",
      "earn2        0.28         0.45     0.26         0.44      5.01\n",
      "earn3        0.13         0.33     0.14         0.35      3.92\n",
      "earn4        0.05         0.23     0.07         0.26      8.26\n",
      "badhlth      0.13         0.34     0.14         0.34      2.60\n",
      "welf_kid     0.21         0.41     0.19         0.39      6.25\n",
      "got_fs       0.44         0.50     0.44         0.50      0.21\n",
      "publich      0.25         0.43     0.20         0.40     10.71\n",
      "got_afdc     0.33         0.47     0.31         0.46      4.86\n",
      "harduse      0.06         0.23     0.06         0.24      1.65\n",
      "potuse       0.26         0.44     0.24         0.43      3.76\n",
      "evarrst      0.23         0.42     0.25         0.43      5.36\n",
      "pmsa         0.32         0.47     0.34         0.47      4.33\n",
      "msa          0.46         0.50     0.46         0.50      1.25\n"
     ]
    }
   ],
   "source": [
    "########################################################################\n",
    "########################  Standardized Differences #####################\n",
    "########################################################################\n",
    "\n",
    "## Means and standard deviations for the participants (D=1)\n",
    "desc_1 <- fBasics::basicStats(df[df$participation==1,]) %>% t() %>% as.data.frame() %>% select(Mean, Stdev)\n",
    "\n",
    "## Means and standard deviations for the non-participants (D=0)\n",
    "desc_0 <- fBasics::basicStats(df[df$participation==0,]) %>% t() %>% as.data.frame() %>% select(Mean, Stdev)\n",
    "\n",
    "# Make table and add standardized differences\n",
    "desc <- cbind(desc_1[-c(1:3),],desc_0[-c(1:3),], \n",
    "        100*abs(desc_1[-c(1:3),1]-desc_0[-c(1:3),1])/sqrt(0.5*(desc_1[-c(1:3),2]^2+desc_0[-c(1:3),2]^2)))\n",
    "colnames(desc) <- c(\"D=1 Mean\", \"D=1 Std.Dev.\", \"D=0 Mean\", \"D=0 Std.Dev.\", \"Std.Diff.\")\n",
    "print(round(desc, digits=2))\n",
    "\n",
    "########################################################################"
   ]
  },
  {
   "cell_type": "markdown",
   "metadata": {},
   "source": [
    "The standardized differences ($SD$) are defined as\n",
    "\n",
    "$SD = 100 \\displaystyle \\cdot \\frac{|\\bar{X}_1 - \\bar{X}_0|}{\\sqrt{1/2 \\cdot (\\sigma_{X1}^2+\\sigma_{X0}^2)}}$\n",
    "\n",
    "where $\\bar{X}_1$ and $\\bar{X}_0$ are the means and $\\sigma_{X1}$ and $\\sigma_{X0}$ the standard deviations in the groups of participants and non-participants, respectively. Large standardized differences indicate a large inbalance between the characteristics of participants and non-participants.\n",
    "\n",
    "\n",
    "We observe that older people, individuals who live with their spouse are less likely to participate in Job Corps. Living in a public or rent-subsidized appartment is associated with a higher participation probability. Accordingly, this might be important confounders. "
   ]
  },
  {
   "cell_type": "code",
   "execution_count": 5,
   "metadata": {
    "collapsed": true,
    "jupyter": {
     "outputs_hidden": true
    }
   },
   "outputs": [
    {
     "data": {
      "text/plain": [
       "\n",
       "Call:\n",
       "lm(formula = EARNY4 ~ participation + age_1 + age_3 + livespou + \n",
       "    publich, data = df)\n",
       "\n",
       "Residuals:\n",
       "    Min      1Q  Median      3Q     Max \n",
       "-255.82 -162.07  -22.83   96.51 2145.45 \n",
       "\n",
       "Coefficients:\n",
       "              Estimate Std. Error t value Pr(>|t|)    \n",
       "(Intercept)    212.288      7.682  27.635  < 2e-16 ***\n",
       "participation   16.291      7.521   2.166  0.03039 *  \n",
       "age_1          -21.148      8.869  -2.384  0.01717 *  \n",
       "age_3           27.240      9.703   2.807  0.00503 ** \n",
       "livespou       -19.751     15.122  -1.306  0.19161    \n",
       "publich        -43.720      8.949  -4.885 1.09e-06 ***\n",
       "---\n",
       "Signif. codes:  0 ‘***’ 0.001 ‘**’ 0.01 ‘*’ 0.05 ‘.’ 0.1 ‘ ’ 1\n",
       "\n",
       "Residual standard error: 203.7 on 2994 degrees of freedom\n",
       "Multiple R-squared:  0.01822,\tAdjusted R-squared:  0.01658 \n",
       "F-statistic: 11.11 on 5 and 2994 DF,  p-value: 1.253e-10\n"
      ]
     },
     "metadata": {},
     "output_type": "display_data"
    },
    {
     "name": "stdout",
     "output_type": "stream",
     "text": [
      "           Univariate OLS Multivariate OLS1\n",
      "Estimate            12.50             16.29\n",
      "Std. Error           7.55              7.52\n",
      "Pr(>|t|)             0.10              0.03\n",
      "[1] \"Relative change in the estimated effect: 30.4%\"\n"
     ]
    }
   ],
   "source": [
    "#########################################################################\n",
    "########################  Multivariate OLS Regression ###################\n",
    "#########################################################################\n",
    "\n",
    "## Multivariate OLS\n",
    "ols2 <- lm(EARNY4 ~ participation + age_1 + age_3 + livespou + publich, data = df)\n",
    "summary(ols2)\n",
    "# Question: Why do we omit age_2?\n",
    "\n",
    "## Store results\n",
    "results <- as.matrix(coef(summary(ols2))[2, c(\"Estimate\", \"Std. Error\", \"Pr(>|t|)\")])\n",
    "res[,2] <- results\n",
    "print(round(res[,c(1:2)], digits=2))\n",
    "\n",
    "## Relative change in the estimated effect\n",
    "print(paste0(\"Relative change in the estimated effect: \",round(100*(res[1,2]-res[1,1])/res[1,1], digits=1),\"%\"))\n",
    "\n",
    "########################################################################"
   ]
  },
  {
   "cell_type": "markdown",
   "metadata": {},
   "source": [
    "When controlling for age, living together with spouse, and public/subsidized housing, the estimated effect increases by 30\\%. Participation in Job Corps increases earnings by 16.29 Dollars."
   ]
  },
  {
   "cell_type": "markdown",
   "metadata": {},
   "source": [
    "**Idea 2 (Domain Knowledge):** We can select the control variables $X$ using economic theory, domain knowledge, or intuition. For example, Job Corp participants usually live on a campus during the program participation. Accordingly, parents might have a lower participation probability, because it is difficult to live together with a child on the campus. Furthermore, the effect of having a child (*haschld*) on the participation probability might might be differential for mothers and fathers. Accrodingly, the interaction between gender and children (*haschld*female*) might be relevant as well.\n",
    "\n",
    "Please specify an alternative model specification below (replace *???*):"
   ]
  },
  {
   "cell_type": "code",
   "execution_count": 6,
   "metadata": {
    "collapsed": true,
    "jupyter": {
     "outputs_hidden": true
    }
   },
   "outputs": [
    {
     "data": {
      "text/plain": [
       "\n",
       "Call:\n",
       "lm(formula = EARNY4 ~ participation + age_1 + age_3 + haschld * \n",
       "    female + livespou + publich, data = df)\n",
       "\n",
       "Residuals:\n",
       "    Min      1Q  Median      3Q     Max \n",
       "-293.97 -146.53  -23.17   94.00 2130.05 \n",
       "\n",
       "Coefficients:\n",
       "               Estimate Std. Error t value Pr(>|t|)    \n",
       "(Intercept)     243.084      8.269  29.399  < 2e-16 ***\n",
       "participation    19.161      7.410   2.586  0.00976 ** \n",
       "age_1           -26.722      8.772  -3.046  0.00234 ** \n",
       "age_3            31.725      9.717   3.265  0.00111 ** \n",
       "haschld         -15.397     16.685  -0.923  0.35617    \n",
       "female          -71.551      8.625  -8.296  < 2e-16 ***\n",
       "livespou         -6.716     15.375  -0.437  0.66226    \n",
       "publich         -37.487      8.845  -4.238 2.32e-05 ***\n",
       "haschld:female    3.083     19.978   0.154  0.87735    \n",
       "---\n",
       "Signif. codes:  0 ‘***’ 0.001 ‘**’ 0.01 ‘*’ 0.05 ‘.’ 0.1 ‘ ’ 1\n",
       "\n",
       "Residual standard error: 200.5 on 2991 degrees of freedom\n",
       "Multiple R-squared:  0.04991,\tAdjusted R-squared:  0.04736 \n",
       "F-statistic: 19.64 on 8 and 2991 DF,  p-value: < 2.2e-16\n"
      ]
     },
     "metadata": {},
     "output_type": "display_data"
    },
    {
     "name": "stdout",
     "output_type": "stream",
     "text": [
      "           Univariate OLS Multivariate OLS1 Multivariate OLS2\n",
      "Estimate            12.50             16.29             19.16\n",
      "Std. Error           7.55              7.52              7.41\n",
      "Pr(>|t|)             0.10              0.03              0.01\n",
      "[1] \"Relative change in the estimated effect: 17.6%\"\n"
     ]
    }
   ],
   "source": [
    "#########################################################################\n",
    "\n",
    "## Multivariate OLS\n",
    "ols3 <- lm(EARNY4 ~ participation + age_1 + age_3 + haschld*female + livespou  + publich, data = df)\n",
    "summary(ols3)\n",
    "\n",
    "## Store results\n",
    "results <- as.matrix(coef(summary(ols3))[2, c(\"Estimate\", \"Std. Error\", \"Pr(>|t|)\")])\n",
    "res[,3] <- results\n",
    "print(round(res[,c(1:3)], digits=2))\n",
    "\n",
    "## Relative change in the estimated effect\n",
    "print(paste0(\"Relative change in the estimated effect: \",round(100*(res[1,3]-res[1,2])/res[1,2], digits=1),\"%\"))\n",
    "\n",
    "########################################################################"
   ]
  },
  {
   "cell_type": "markdown",
   "metadata": {},
   "source": [
    "The estimated effect of participation on earnings increases by 17.6\\% to 19.16 Dollars."
   ]
  },
  {
   "cell_type": "markdown",
   "metadata": {},
   "source": [
    "**Idea 3 (Kitchen Sink):** Based on our previous results, we could argue that it is best to control for everything available (brute force). This includes all exogeneous baseline characteristics as well as interaction terms.\n",
    "\n",
    "We generate all possible interaction terms. We merge the baseline characteristics and interaction terms. Afterwards, we eliminate interaction terms with a correlation above 0.8 to avoid multicolinearity problems. "
   ]
  },
  {
   "cell_type": "code",
   "execution_count": 7,
   "metadata": {
    "collapsed": true,
    "jupyter": {
     "outputs_hidden": true
    }
   },
   "outputs": [
    {
     "name": "stdout",
     "output_type": "stream",
     "text": [
      "[1] \"Maximm number of interaction terms: 465\"\n",
      "[1] \"Total number of control variables: 420\"\n"
     ]
    }
   ],
   "source": [
    "###############################################################################\n",
    "\n",
    "## Generate first-order interactions between all control variables\n",
    "interactions <- t(apply(df[,-c(1,2,3,6,11)], 1, combn, 2, prod))\n",
    "colnames(interactions) <- paste(\"Inter.V\", combn(1:ncol(df[,-c(1,2,3,6,11)]), 2, paste, collapse=\"V\"), sep=\"\")\n",
    "print(paste0(\"Maximm number of interaction terms: \", ncol(interactions)))\n",
    "\n",
    "## Merge basline characteristics with interaction terms\n",
    "df_merge <- as.data.frame(cbind(df[,-c(1,2,3,6,11)], interactions))\n",
    "\n",
    "## Eliminate collinear variables\n",
    "df2 = cor(df_merge)\n",
    "df2[is.na(df2)] <- 1\n",
    "hc = findCorrelation(df2, cutoff=0.8) # putt any value as a \"cutoff\" \n",
    "hc = sort(hc)\n",
    "df_int = cbind(df[,c(1,3)],df_merge[,-c(hc)])\n",
    "print(paste0(\"Total number of control variables: \", ncol(df_int)-2))\n",
    "\n",
    "###############################################################################"
   ]
  },
  {
   "cell_type": "markdown",
   "metadata": {},
   "source": [
    "Now we estimate a linear OLS regression with all possible baseline characteristics and interaction terms."
   ]
  },
  {
   "cell_type": "code",
   "execution_count": 8,
   "metadata": {
    "collapsed": true,
    "jupyter": {
     "outputs_hidden": true
    }
   },
   "outputs": [
    {
     "name": "stdout",
     "output_type": "stream",
     "text": [
      "           Univariate OLS Multivariate OLS1 Multivariate OLS2 Multivariate OLS3\n",
      "Estimate            12.50             16.29             19.16             23.75\n",
      "Std. Error           7.55              7.52              7.41              7.56\n",
      "Pr(>|t|)             0.10              0.03              0.01              0.00\n",
      "[1] \"Relative change in the estimated effect: 24%\"\n"
     ]
    }
   ],
   "source": [
    "###############################################################################\n",
    "\n",
    "## Multivariate OLS with all baseline characteristics and interaction terms\n",
    "ols4 <- lm(EARNY4 ~ ., data = df_int)\n",
    "\n",
    "## Store results\n",
    "results <- as.matrix(coef(summary(ols4))[2, c(\"Estimate\", \"Std. Error\", \"Pr(>|t|)\")])\n",
    "res[,4] <- results\n",
    "print(round(res[,c(1:4)], digits=2))\n",
    "\n",
    "## Relative change in the estimated effect\n",
    "print(paste0(\"Relative change in the estimated effect: \",round(100*(res[1,4]-res[1,3])/res[1,3], digits=1),\"%\"))\n",
    "\n",
    "########################################################################"
   ]
  },
  {
   "cell_type": "markdown",
   "metadata": {},
   "source": [
    "The estimated effect of Job Corp participation on earnings increases by another 24\\% to 23.75 Dollars. Compared to the univariate OLS results, the effect increases by 90\\%."
   ]
  },
  {
   "cell_type": "markdown",
   "metadata": {},
   "source": [
    "To bring it to an extreme, we generate now 1'000 random variables and add them to the model. We know that the estimated effect should not change when we add these variables, because they are independent of the participation decision and earnings."
   ]
  },
  {
   "cell_type": "markdown",
   "metadata": {},
   "source": [
    "First we generate the random variables, which are for simplicity all standard normal distributed. Then we merge the baseline characteristics, interaction terms, and random variables."
   ]
  },
  {
   "cell_type": "code",
   "execution_count": 9,
   "metadata": {
    "collapsed": true,
    "jupyter": {
     "outputs_hidden": true
    }
   },
   "outputs": [
    {
     "name": "stdout",
     "output_type": "stream",
     "text": [
      "[1] \"Total number of control variables: 1420\"\n"
     ]
    }
   ],
   "source": [
    "###############################################################################\n",
    "\n",
    "# Set starting value for replicability \n",
    "set.seed(123456) \n",
    "\n",
    "# Specify number of random variables\n",
    "cols <- 1000\n",
    "\n",
    "# Generate random variables\n",
    "redundant_x <- matrix(rnorm(nrow(df_int)*cols), nrow = nrow(df_int)) # We draw from a random standard normal distribution\n",
    "colnames(redundant_x) <- paste(\"Rand.\", 1:cols, sep=\"\")\n",
    "\n",
    "# Merge random variables with baseline characteritics and interaction terms\n",
    "df_rand <- as.data.frame(cbind(df_int, redundant_x))\n",
    "print(paste0(\"Total number of control variables: \", ncol(df_rand)-2))\n",
    "\n",
    "###############################################################################"
   ]
  },
  {
   "cell_type": "markdown",
   "metadata": {},
   "source": [
    "We estimate a multivariate OLS regression that controls for all baseline characteristics, interaction terms, and radom variables."
   ]
  },
  {
   "cell_type": "code",
   "execution_count": 10,
   "metadata": {
    "collapsed": true,
    "jupyter": {
     "outputs_hidden": true
    }
   },
   "outputs": [
    {
     "name": "stdout",
     "output_type": "stream",
     "text": [
      "           Univariate OLS Multivariate OLS1 Multivariate OLS2 Multivariate OLS3\n",
      "Estimate            12.50             16.29             19.16             23.75\n",
      "Std. Error           7.55              7.52              7.41              7.56\n",
      "Pr(>|t|)             0.10              0.03              0.01              0.00\n",
      "           Multivariate OLS4\n",
      "Estimate               20.03\n",
      "Std. Error              9.72\n",
      "Pr(>|t|)                0.04\n",
      "[1] \"Relative change in the estimated effect: -15.7%\"\n"
     ]
    }
   ],
   "source": [
    "###############################################################################\n",
    "\n",
    "## Multivariate OLS with all baseline characteristics, interaction terms, and random variables\n",
    "ols5 <- lm(EARNY4 ~ ., data = df_rand)\n",
    "\n",
    "## Store results\n",
    "results <- as.matrix(coef(summary(ols5))[2, c(\"Estimate\", \"Std. Error\", \"Pr(>|t|)\")])\n",
    "res[,5] <- results\n",
    "print(round(res, digits=2))\n",
    "\n",
    "## Relative change in the estimated effect\n",
    "print(paste0(\"Relative change in the estimated effect: \",round(100*(res[1,5]-res[1,4])/res[1,4], digits=1),\"%\"))\n",
    "\n",
    "########################################################################"
   ]
  },
  {
   "cell_type": "markdown",
   "metadata": {},
   "source": [
    "Adding these randomly generated variables to the model should not affect the estimated effect at all, because the randomly generated variables are no confounders by construction. However, the effect size decreases by 15.7\\% and the standard errors increase by almost 30\\%."
   ]
  },
  {
   "cell_type": "markdown",
   "metadata": {},
   "source": [
    "**Exercise:** Play around with the seed and check how the estimated effects change."
   ]
  },
  {
   "cell_type": "markdown",
   "metadata": {},
   "source": [
    "**Conclusions:**\n",
    "\n",
    "- Adding relevant confounders increases the credibility of the identifying strategy.\n",
    "- However, it is difficult to determine the relevant control variables. Often economic theory is ambiguous and gives no clear guidance.\n",
    "- Particularly, it is difficult to identify the relvant interaction terms.\n",
    "- Seemingly, an attractive approach is to use a kitchen sink regression. But this approach can lead to inprecise estimates, which might lead to larger finite sample biases than omitted variables.\n",
    "- We face a trade-off between bias (too parsimonious model) and variance (too flexible model and redundant control variables)."
   ]
  },
  {
   "cell_type": "markdown",
   "metadata": {},
   "source": [
    "# Post-Double-Selection Procedure"
   ]
  },
  {
   "cell_type": "markdown",
   "metadata": {},
   "source": [
    "The **post-double-selection (PDS) procedure** of [Belloni, Chernozhukov, and Hansen (2014)](https://academic.oup.com/restud/article-abstract/81/2/608/1523757?redirectedFrom=fulltext) has three steps:\n",
    "\n",
    "1. Estimate the earnings equation $EARNY4 = \\gamma_1 + \\beta_1 \\cdot X + \\varepsilon$, excluding the participantion dummy, with Lasso.\n",
    "2. Estimate the participation probability $participation = \\gamma_2 + \\beta_2 \\cdot X + v$ with Lasso.\n",
    "3. Denote the union of all characteristics with non-zero coefficients in either $\\beta_1$ or $\\beta_2$ by $\\tilde{X}$. Estimate the Post-Lasso model \n",
    "\\begin{equation*}\n",
    "EARNY4 = \\gamma + \\delta \\cdot participation + \\beta \\cdot \\tilde{X} + u\n",
    "\\end{equation*}\n",
    "with OLS."
   ]
  },
  {
   "cell_type": "markdown",
   "metadata": {},
   "source": [
    "### Short Recap Lasso"
   ]
  },
  {
   "cell_type": "markdown",
   "metadata": {},
   "source": [
    "The Lasso objective function is\n",
    "\n",
    "\\begin{equation*}\n",
    "\\min_{\\beta} \\left\\{ \\sum_{i=1}^{N} \\left( Y_i-  \\gamma -\\sum_{j=1}^{p}X_{ij}\\beta_j \\right)^2 + \\lambda \\sum_{j=1}^{p} | \\beta_j| \\right\\},\n",
    "\\end{equation*}\n",
    "where $p$ are the number of observable characteristics. The Lasso minimizes the sum of squared residuals, subject to a penalty on the absolute size of the coefficients $\\beta_j$. The penalty term $\\lambda \\geq 0$ enables to regulate the degree of penalization. When $\\lambda=0$, there is no penalization and the Lasso and OLS estimates are similar. When $\\lambda>0$, some coefficients are shrunken towards zero and eventually approach zero excatly. When $\\lambda$ is very large, all coefficients are zero, excluding the constant $\\gamma$. The constant term is not penalized. When the coefficient $\\beta_j$ is zero, this is equivalent to omit the corresponding characterstic $X_j$ from the model. Accordingly, the Lasso is a model selection device. \n",
    "\n",
    "An important tuning parameter is the penalty term $\\lambda$. We consider two alternative ways of specifying the $\\lambda$. We can use a cross-validation procedure the specify the optimal penalty term. We partition the sample into $k$ equally large folds and specify a grit of possible $\\lambda$ values (typically equispaced on a log-scale). We estimate the Lasso for a specific $\\lambda$ value in $k-1$ folds and extrapolate the fitted values to the retained fold. Then we calculate the model quality in the retained fold (e.g. using the MSE). We repeat this procedure k-times while alternating the retained fold. We calculate the average model quality across all folds. Then we repeat this procedure for all $\\lambda$ values on the grit. Finally, we select the $\\lambda$ value with the best average model quality. [Chetverikov, Liao, and Chernozhukov (2020)](https://arxiv.org/abs/1605.02214) provide the theoretical justification for the validty of this procedure.\n"
   ]
  },
  {
   "cell_type": "markdown",
   "metadata": {},
   "source": [
    "### Estimation Procedure"
   ]
  },
  {
   "cell_type": "markdown",
   "metadata": {},
   "source": [
    "**Step 1:** Earnings Equation"
   ]
  },
  {
   "cell_type": "markdown",
   "metadata": {},
   "source": [
    "We specify the optimal $\\lambda$ value using a cross-validation procedure. For this purpose, we use the *glmnet* package.\n",
    "\n",
    "First, we select the relevant variables in the earnings equation."
   ]
  },
  {
   "cell_type": "code",
   "execution_count": 11,
   "metadata": {
    "collapsed": true,
    "jupyter": {
     "outputs_hidden": true
    }
   },
   "outputs": [
    {
     "data": {
      "image/png": "[encoded data removed]",
      "text/plain": [
       "plot without title"
      ]
     },
     "metadata": {
      "image/png": {
       "height": 420,
       "width": 420
      }
     },
     "output_type": "display_data"
    }
   ],
   "source": [
    "####################################################################\n",
    "################# Cross-Validated Lasso ############################\n",
    "####################################################################\n",
    "\n",
    "set.seed(123456789) # Starting value\n",
    "\n",
    "# Cross-validated Lasso in earnings equation\n",
    "lasso_earn <- cv.glmnet(as.matrix(df[,c(4:ncol(df))]), as.matrix(df$EARNY4), \n",
    "                        alpha=1, nfolds = 10, type.measure = 'mse', standardize = TRUE)\n",
    "# alpha =1 is Lasso, alpha = 0 is Ridgde\n",
    "# nfolds - number of cross-validation folds\n",
    "# type.measure - measure for model accuracy\n",
    "\n",
    "plot(lasso_earn)\n",
    "\n",
    "####################################################################"
   ]
  },
  {
   "cell_type": "markdown",
   "metadata": {},
   "source": [
    "Plot the Lasso coefficients."
   ]
  },
  {
   "cell_type": "code",
   "execution_count": 12,
   "metadata": {
    "collapsed": true,
    "jupyter": {
     "outputs_hidden": true
    }
   },
   "outputs": [
    {
     "data": {
      "text/plain": [
       "34 x 1 sparse Matrix of class \"dgCMatrix\"\n",
       "                    s1\n",
       "(Intercept) 200.365748\n",
       "female      -34.581865\n",
       "age_1         .       \n",
       "age_2         .       \n",
       "age_3         .       \n",
       "ed0_6         .       \n",
       "ed6_12        .       \n",
       "hs_ged       14.663394\n",
       "white         9.032856\n",
       "black       -17.730485\n",
       "hisp          .       \n",
       "oth_eth       .       \n",
       "haschld       .       \n",
       "livespou      .       \n",
       "everwork      .       \n",
       "yr_work      28.031802\n",
       "currjob       4.373223\n",
       "job0_3        .       \n",
       "job3_9        .       \n",
       "job9_12      21.113283\n",
       "earn1         .       \n",
       "earn2         .       \n",
       "earn3         .       \n",
       "earn4        16.195548\n",
       "badhlth       .       \n",
       "welf_kid      .       \n",
       "got_fs        .       \n",
       "publich       .       \n",
       "got_afdc      .       \n",
       "harduse       .       \n",
       "potuse        .       \n",
       "evarrst       .       \n",
       "pmsa          .       \n",
       "msa           .       "
      ]
     },
     "metadata": {},
     "output_type": "display_data"
    }
   ],
   "source": [
    "####################################################################\n",
    "\n",
    "# Plot Lasso coefficients\n",
    "coef(lasso_earn,s = lasso_earn$lambda.1se) \n",
    "# $lambda.min - Lambda that minimizes cross-validated MSE\n",
    "# $lambda.1se - Lambda of 1 standard error rule\n",
    "\n",
    "####################################################################"
   ]
  },
  {
   "cell_type": "markdown",
   "metadata": {},
   "source": []
  },
  {
   "cell_type": "code",
   "execution_count": 13,
   "metadata": {
    "collapsed": true,
    "jupyter": {
     "outputs_hidden": true
    }
   },
   "outputs": [
    {
     "name": "stdout",
     "output_type": "stream",
     "text": [
      "[1] \"Number of Selected Variables Earnings Equation: 8\"\n",
      "[1] \"Selected Variables:\"\n",
      "[1] \"female\"  \"hs_ged\"  \"white\"   \"black\"   \"yr_work\" \"currjob\" \"job9_12\"\n",
      "[8] \"earn4\"  \n"
     ]
    }
   ],
   "source": [
    "####################################################################\n",
    "\n",
    "# Select covariates with non-zero coefficients\n",
    "coef <- predict(lasso_earn,s = lasso_earn$lambda.1se, type = \"nonzero\") #\n",
    "colnames <- colnames(df[,c(4:ncol(df))])\n",
    "n1 <- colnames[unlist(coef)]\n",
    "print(paste0(\"Number of Selected Variables Earnings Equation: \",length(n1)))\n",
    "print(\"Selected Variables:\")\n",
    "print(n1)\n",
    "\n",
    "####################################################################"
   ]
  },
  {
   "cell_type": "markdown",
   "metadata": {},
   "source": [
    "**Step 2:** Participation Equation"
   ]
  },
  {
   "cell_type": "markdown",
   "metadata": {},
   "source": [
    "Second, select the relevant variables in the participation equation using a cross-validated Lasso."
   ]
  },
  {
   "cell_type": "code",
   "execution_count": 14,
   "metadata": {
    "collapsed": true,
    "jupyter": {
     "outputs_hidden": true
    }
   },
   "outputs": [
    {
     "data": {
      "image/png": "[encoded data removed]",
      "text/plain": [
       "plot without title"
      ]
     },
     "metadata": {
      "image/png": {
       "height": 420,
       "width": 420
      }
     },
     "output_type": "display_data"
    }
   ],
   "source": [
    "####################################################################\n",
    "\n",
    "set.seed(123456789) # Starting value\n",
    "\n",
    "# Cross-validated Lasso in participation equation\n",
    "lasso_part <- cv.glmnet(as.matrix(df[,c(4:ncol(df))]), as.matrix(df$participation), \n",
    "                        alpha=1, nfolds = 10, type.measure = 'mse', standardize = TRUE)\n",
    "plot(lasso_part)\n",
    "\n",
    "####################################################################"
   ]
  },
  {
   "cell_type": "markdown",
   "metadata": {},
   "source": [
    "Select the covariates with non-zero coefficients."
   ]
  },
  {
   "cell_type": "code",
   "execution_count": 15,
   "metadata": {
    "collapsed": true,
    "jupyter": {
     "outputs_hidden": true
    }
   },
   "outputs": [
    {
     "name": "stdout",
     "output_type": "stream",
     "text": [
      "[1] \"Number of Selected Variables Participation Equation: 0\"\n",
      "[1] \"Selected Variables:\"\n",
      "character(0)\n"
     ]
    }
   ],
   "source": [
    "####################################################################\n",
    "\n",
    "# Select covariates with non-zero coefficients\n",
    "coef <- predict(lasso_part,s = lasso_part$lambda.1se, type = \"nonzero\") #\n",
    "colnames <- colnames(df[,c(4:ncol(df))])\n",
    "n2 <- colnames[unlist(coef)]\n",
    "print(paste0(\"Number of Selected Variables Participation Equation: \",length(n2)))\n",
    "print(\"Selected Variables:\")\n",
    "print(n2)\n",
    "\n",
    "####################################################################"
   ]
  },
  {
   "cell_type": "markdown",
   "metadata": {},
   "source": [
    "**Step 3:** Post Lasso Model"
   ]
  },
  {
   "cell_type": "markdown",
   "metadata": {},
   "source": [
    "Third, take the union of variables with non-zero coefficients in either the earnings or participation equation. Estimate the effect of participation on earning controlling for the union of selected variables."
   ]
  },
  {
   "cell_type": "code",
   "execution_count": 16,
   "metadata": {
    "collapsed": true,
    "jupyter": {
     "outputs_hidden": true
    }
   },
   "outputs": [
    {
     "data": {
      "text/plain": [
       "\n",
       "Call:\n",
       "lm(formula = linear, data = df)\n",
       "\n",
       "Residuals:\n",
       "    Min      1Q  Median      3Q     Max \n",
       "-402.15 -140.55  -23.44   93.79 2048.84 \n",
       "\n",
       "Coefficients:\n",
       "              Estimate Std. Error t value Pr(>|t|)    \n",
       "(Intercept)    186.581      9.807  19.026  < 2e-16 ***\n",
       "participation   20.563      7.171   2.867  0.00417 ** \n",
       "female         -65.979      7.358  -8.967  < 2e-16 ***\n",
       "hs_ged          49.112      8.383   5.859 5.17e-09 ***\n",
       "white           19.951     10.082   1.979  0.04792 *  \n",
       "black          -37.752      8.773  -4.303 1.74e-05 ***\n",
       "yr_work         40.269      8.411   4.788 1.77e-06 ***\n",
       "currjob         24.190      9.945   2.433  0.01505 *  \n",
       "job9_12         31.757     10.449   3.039  0.00239 ** \n",
       "earn4           50.290     15.884   3.166  0.00156 ** \n",
       "---\n",
       "Signif. codes:  0 ‘***’ 0.001 ‘**’ 0.01 ‘*’ 0.05 ‘.’ 0.1 ‘ ’ 1\n",
       "\n",
       "Residual standard error: 194.6 on 2990 degrees of freedom\n",
       "Multiple R-squared:  0.1055,\tAdjusted R-squared:  0.1028 \n",
       "F-statistic:  39.2 on 9 and 2990 DF,  p-value: < 2.2e-16\n"
      ]
     },
     "metadata": {},
     "output_type": "display_data"
    }
   ],
   "source": [
    "###############################################################################\n",
    "# Post-Lasso Model\n",
    "###############################################################################\n",
    "\n",
    "# Take union of selected covariates\n",
    "selected_covariates <- c(\"participation\", unique(c(n1, n2)))\n",
    "\n",
    "# Setup the formula of the linear regression model\n",
    "sumx <- paste(selected_covariates, collapse = \" + \")  \n",
    "linear <- paste(\"EARNY4\",paste(sumx, sep=\" + \"), sep=\" ~ \")\n",
    "linear <- as.formula(linear)\n",
    "\n",
    "# Post-Lasso OLS regression\n",
    "ols <- lm(linear, data = df)\n",
    "summary(ols)\n",
    "\n",
    "###############################################################################"
   ]
  },
  {
   "cell_type": "markdown",
   "metadata": {},
   "source": [
    "**Additional Exercises:**\n",
    "\n",
    "1. Estimate the effect of participation on earnings using the one-standard-error rule to select the relevant charateristics with the Lasso.\n",
    "2. Estimate the effect of participation on earnings using five instead of ten folds for the cross-validation procedure."
   ]
  },
  {
   "cell_type": "markdown",
   "metadata": {},
   "source": [
    "# <span style=\"color:red\"> *Breakout Room*"
   ]
  },
  {
   "cell_type": "markdown",
   "metadata": {},
   "source": [
    "**Exercise:** Apply the post-double selection procedure using all covariates, including the randomly generated variables."
   ]
  },
  {
   "cell_type": "markdown",
   "metadata": {},
   "source": [
    "**Step 1:** Earning equation"
   ]
  },
  {
   "cell_type": "code",
   "execution_count": 22,
   "metadata": {
    "collapsed": true,
    "jupyter": {
     "outputs_hidden": true
    }
   },
   "outputs": [
    {
     "ename": "ERROR",
     "evalue": "Error in parse(text = x, srcfile = src): <text>:9:28: unexpected ')'\n8: lasso_earn <- cv.glmnet(as.matrix(df_rand[,c(3:ncol(df_rand))]), as.matrix(df$EARNY4), \n9:                         ???)\n                              ^\n",
     "output_type": "error",
     "traceback": [
      "Error in parse(text = x, srcfile = src): <text>:9:28: unexpected ')'\n8: lasso_earn <- cv.glmnet(as.matrix(df_rand[,c(3:ncol(df_rand))]), as.matrix(df$EARNY4), \n9:                         ???)\n                              ^\nTraceback:\n"
     ]
    }
   ],
   "source": [
    "####################################################################\n",
    "################# Cross-Validated Lasso ############################\n",
    "####################################################################\n",
    "\n",
    "set.seed(123456789) # Starting value\n",
    "\n",
    "# Cross-validated Lasso in earnings equation\n",
    "lasso_earn <- cv.glmnet(as.matrix(df_rand[,c(3:ncol(df_rand))]), as.matrix(df$EARNY4), \n",
    "                        ???)\n",
    "\n",
    "plot(lasso_earn)\n",
    "\n",
    "# Select covariates with non-zero coefficients\n",
    "coef <- predict(???,s = lasso_earn$lambda.min, type = \"nonzero\") #\n",
    "colnames <- colnames(df_rand[,c(3:ncol(df_rand))])\n",
    "n1 <- colnames[unlist(coef)]\n",
    "print(paste0(\"Number of Selected Variables Earnings Equation: \",length(n1)))\n",
    "print(\"Selected Variables:\")\n",
    "print(n1)\n",
    "\n",
    "####################################################################"
   ]
  },
  {
   "cell_type": "markdown",
   "metadata": {},
   "source": [
    "**Step 2:** Participation equation"
   ]
  },
  {
   "cell_type": "code",
   "execution_count": 21,
   "metadata": {
    "collapsed": true,
    "jupyter": {
     "outputs_hidden": true
    }
   },
   "outputs": [
    {
     "ename": "ERROR",
     "evalue": "Error in parse(text = x, srcfile = src): <text>:7:28: unexpected ')'\n6: lasso_part <- cv.glmnet(as.matrix(df_rand[,c(3:ncol(df_rand))]), as.matrix(df$participation), \n7:                         ???)\n                              ^\n",
     "output_type": "error",
     "traceback": [
      "Error in parse(text = x, srcfile = src): <text>:7:28: unexpected ')'\n6: lasso_part <- cv.glmnet(as.matrix(df_rand[,c(3:ncol(df_rand))]), as.matrix(df$participation), \n7:                         ???)\n                              ^\nTraceback:\n"
     ]
    }
   ],
   "source": [
    "####################################################################\n",
    "\n",
    "set.seed(123456789) # Starting value\n",
    "\n",
    "# Cross-validated Lasso in participation equation\n",
    "lasso_part <- cv.glmnet(as.matrix(df_rand[,c(3:ncol(df_rand))]), as.matrix(df$participation), \n",
    "                        ???)\n",
    "plot(lasso_part)\n",
    "\n",
    "# Select covariates with non-zero coefficients\n",
    "coef <- predict(???,s = lasso_part$lambda.min, type = \"nonzero\") #\n",
    "colnames <- colnames(df_rand[,c(3:ncol(df_rand))])\n",
    "n2 <- colnames[unlist(coef)]\n",
    "print(paste0(\"Number of Selected Variables Participation Equation: \",length(n2)))\n",
    "print(\"Selected Variables:\")\n",
    "print(n2)\n",
    "\n",
    "####################################################################"
   ]
  },
  {
   "cell_type": "markdown",
   "metadata": {},
   "source": [
    "**Step 3:** Post-Lasso model"
   ]
  },
  {
   "cell_type": "code",
   "execution_count": 20,
   "metadata": {
    "collapsed": true,
    "jupyter": {
     "outputs_hidden": true
    }
   },
   "outputs": [
    {
     "ename": "ERROR",
     "evalue": "Error in parse(text = x, srcfile = src): <text>:14:14: unexpected ','\n13: # Post-Lasso OLS regression\n14: ols <- lm(???,\n                 ^\n",
     "output_type": "error",
     "traceback": [
      "Error in parse(text = x, srcfile = src): <text>:14:14: unexpected ','\n13: # Post-Lasso OLS regression\n14: ols <- lm(???,\n                 ^\nTraceback:\n"
     ]
    }
   ],
   "source": [
    "###############################################################################\n",
    "# Post-Lasso Model\n",
    "###############################################################################\n",
    "\n",
    "# Take union of selected covariates\n",
    "selected_covariates <- c(\"participation\", unique(c(n1, n2)))\n",
    "\n",
    "# Setup the formula of the linear regression model\n",
    "sumx <- paste(selected_covariates, collapse = \" + \")  \n",
    "linear <- paste(\"EARNY4\",paste(sumx, sep=\" + \"), sep=\" ~ \")\n",
    "linear <- as.formula(linear)\n",
    "\n",
    "# Post-Lasso OLS regression\n",
    "ols <- lm(???, data = df_rand)\n",
    "summary(ols)\n",
    "\n",
    "###############################################################################"
   ]
  },
  {
   "cell_type": "code",
   "execution_count": null,
   "metadata": {
    "collapsed": true,
    "jupyter": {
     "outputs_hidden": true
    }
   },
   "outputs": [],
   "source": []
  }
 ],
 "metadata": {
  "kernelspec": {
   "display_name": "R",
   "language": "R",
   "name": "ir"
  },
  "language_info": {
   "codemirror_mode": "r",
   "file_extension": ".r",
   "mimetype": "text/x-r-source",
   "name": "R",
   "pygments_lexer": "r",
   "version": "3.6.3"
  }
 },
 "nbformat": 4,
 "nbformat_minor": 4
}

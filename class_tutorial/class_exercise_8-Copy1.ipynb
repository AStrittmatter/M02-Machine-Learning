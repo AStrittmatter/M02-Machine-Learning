{
 "cells": [
  {
   "cell_type": "markdown",
   "id": "46e323c4-5fed-4a96-ac86-525941843afd",
   "metadata": {},
   "source": [
    "# The Hitters Dataset for Unsupervised Machine Learning Exploration\n",
    "\n",
    "#### Background:\n",
    "The 'Hitters' dataset from the 'ISLR' library is a comprehensive collection of Major League Baseball player performance metrics paired with their salary data. This dataset can be used to analyse and predict player salaries based on various performance metrics.\n",
    "\n",
    "#### Objective:\n",
    "The primary aim is to apply unsupervised machine learning analysis, with an emphasis on techniques such as Principal Component Analysis (PCA) and clustering. \n",
    "\n",
    "#### Tutorial Overview:\n",
    "In this tutorial, you will engage with unsupervised machine learning by applying PCA and Clustering to the dataset. Below are the key steps you will undertake, supplemented with code snippets. You are expected to replace the placeholders marked \"???\" with the correct code to complete each task effectively:\n",
    "\n",
    "**Implementing PCA and Clustering**: Learn to apply these powerful techniques to uncover underlying patterns and relationships in successfully."
   ]
  },
  {
   "cell_type": "markdown",
   "id": "6008219c-8da2-4b5b-a555-0b6e1a390f02",
   "metadata": {},
   "source": [
    "<span style=\"color:red; font-weight:bold; font-size:xx-large;\">\n",
    "# Tutorial Part 1\n",
    "</span>\n"
   ]
  },
  {
   "cell_type": "markdown",
   "id": "fb21d63c-9838-495f-b4d5-15bc997c86f3",
   "metadata": {},
   "source": [
    "### Quick Exercise: Data Preparation Essentials\r\n",
    "\r\n",
    "Consider the following questions about preparing data for unsupervised learning techniques like PCA and Clustering, and relate your answers to the provided R code snippet below:\r\n",
    "\r\n",
    "1. **Data Structure**: What format should the dataset be in for these techniques?\r\n",
    "2. **Outcome Variable**: Is the outcome variable necessary in unsupervised learning?\r\n",
    "3. **Data Types**: Can both numerical and categorical/text data be used as is?\r\n",
    "\r\n",
    "Reflect on these points briefly, with reference to the operations performed in the R code snippet provided, where the `Hitters` dataset is accessed, cleaned, and modified for numerical data suitability."
   ]
  },
  {
   "cell_type": "code",
   "execution_count": 3,
   "id": "9f5cc34e-09a1-4d69-adcb-7ea798fe7145",
   "metadata": {
    "scrolled": true
   },
   "outputs": [],
   "source": [
    "### Load the ISLR library\n",
    "library(ISLR)\n",
    "library(dplyr)\n",
    "library(tidyverse)\n",
    "\n",
    "# Access the Hitters dataset\n",
    "data(Hitters)\n",
    "\n",
    "# Remove rows with NA values to ensure clean data\n",
    "HittersClean <- na.omit(Hitters)\n",
    "# Convert NewLeague to numeric where 'A' might be 1 and 'N' might be 0\n",
    "HittersClean$NewLeague <- as.numeric(factor(HittersClean$NewLeague, levels = c(\"A\", \"N\")))\n",
    "\n",
    "HittersClean <- HittersClean %>% select_if(is.numeric)\n",
    "\n",
    "\n",
    "rownames(HittersClean) <- NULL\n",
    "HittersClean$Salary <- NULL"
   ]
  },
  {
   "cell_type": "markdown",
   "id": "81611833-583f-47af-a972-c45f15638f57",
   "metadata": {},
   "source": [
    "\n",
    "## Exercise: Perform Principal Component Analysis (PCA)\n",
    "\n",
    "Write a line of R code to perform PCA using the `prcomp` function on the dataset `HittersClean`. Ensure that the data is centered and scaled. Then, write another line of code to determine and print the number of principal components derived from the PCA. Use the variable `pr.out` to store the result of the PCA.\n"
   ]
  },
  {
   "cell_type": "code",
   "execution_count": 1,
   "id": "79b4f883-cc9c-4961-9fe0-c09d891b89f8",
   "metadata": {},
   "outputs": [
    {
     "ename": "ERROR",
     "evalue": "Error in parse(text = x, srcfile = src): <text>:3:26: unexpected ','\n2: # PCA\n3: pr.out = ??(HittersClean ,\n                            ^\n",
     "output_type": "error",
     "traceback": [
      "Error in parse(text = x, srcfile = src): <text>:3:26: unexpected ','\n2: # PCA\n3: pr.out = ??(HittersClean ,\n                            ^\nTraceback:\n"
     ]
    }
   ],
   "source": [
    "\n",
    "# PCA\n",
    "pr.out = ??(HittersClean , center = TRUE, scale = TRUE)\n",
    "\n",
    "# No of principal components\n",
    "dim(pr.out$??)[2]"
   ]
  },
  {
   "cell_type": "markdown",
   "id": "5c56e61f-626b-40f3-9a54-d95744985c92",
   "metadata": {},
   "source": [
    "\n",
    "## Exercise: Analyze Variance Explained by PCA Components\n",
    "\n",
    "Using the PCA results stored in `pr.out`, calculate the variance explained by each principal component. Assign this calculation to the variable `pr.var`. Next, compute the proportion of the total variance explained by each component and store this in the variable `pve`. Finally, write a line of code to output the proportion of variance explained by the first 10 principal components.\n",
    "\n"
   ]
  },
  {
   "cell_type": "code",
   "execution_count": 4,
   "id": "97091520-975f-48ae-b2d9-df96b4c2125d",
   "metadata": {},
   "outputs": [
    {
     "ename": "ERROR",
     "evalue": "Error in parse(text = x, srcfile = src): <text>:2:17: unexpected '?'\n1: # variance explained by each component\n2: pr.var = pr.out$?\n                   ^\n",
     "output_type": "error",
     "traceback": [
      "Error in parse(text = x, srcfile = src): <text>:2:17: unexpected '?'\n1: # variance explained by each component\n2: pr.var = pr.out$?\n                   ^\nTraceback:\n"
     ]
    }
   ],
   "source": [
    "# variance explained by each component\n",
    "pr.var = pr.out$??^2\n",
    "\n",
    "# Proportion of variance explained\n",
    "pve=??/sum(pr.var)\n",
    "\n",
    "# Print first 10 PC\n",
    "pve[1:10]"
   ]
  },
  {
   "cell_type": "markdown",
   "id": "cce2aa24-6b53-40eb-99ac-5a777edce362",
   "metadata": {},
   "source": [
    "## *Exercise: Visualize Variance Explained by PCA Compont*\r\n",
    "\r\n",
    "Create two bar plots using the data calculated in the previous exercises. For the first plot, display the proportion of variance explained by the first 10 principal components. Use appropriate labels for the x-axis and y-axis, and set the y-axis limits from 0 to 1.\r\n",
    "\r\n",
    "For the second plot, display the cumulative proportion of variance explained by the first 10 principal components, again with properly labeled axes and the same y-axis le explained."
   ]
  },
  {
   "cell_type": "code",
   "execution_count": 9,
   "id": "355d2748-9966-4bdd-b7d6-7cd4a3cc9e08",
   "metadata": {},
   "outputs": [
    {
     "data": {
      "image/png": "[encoded data removed]",
      "text/plain": [
       "plot without title"
      ]
     },
     "metadata": {
      "image/png": {
       "height": 420,
       "width": 420
      }
     },
     "output_type": "display_data"
    },
    {
     "data": {
      "image/png": "[encoded data removed]",
      "text/plain": [
       "plot without title"
      ]
     },
     "metadata": {
      "image/png": {
       "height": 420,
       "width": 420
      }
     },
     "output_type": "display_data"
    }
   ],
   "source": [
    "# Plot the first 10 PC\n",
    "??(pve[1:10], xlab=\" Principal Component \", ylab=\" Proportion of Variance Explained \", ylim=c(0,1))\n",
    "barplot(??(pve[1:10]), xlab=\" Principal Component \", ylab =\"Cumulative Proportion of Variance Explained \", ylim=c(0,1))"
   ]
  },
  {
   "cell_type": "markdown",
   "id": "a6b3997a-1c0a-4c01-9517-621723e526f0",
   "metadata": {},
   "source": [
    "\n",
    "## Exercise: Plot the Scores of the First Two Principal Components\n",
    "\n",
    "Using the PCA results stored in `pr.out`, create a scatter plot of the first two principal components. Label the x-axis as \"PC1\" and the y-axis as \"PC2\". Color the points based on the `NewLeague` variable from the `HittersClean` dataset. Add a title \"Top two PC directions\" to the plot.\n",
    "\n"
   ]
  },
  {
   "cell_type": "code",
   "execution_count": 5,
   "id": "9fdf6785-f01e-4a6e-b9b0-867b222bb501",
   "metadata": {},
   "outputs": [
    {
     "ename": "ERROR",
     "evalue": "Error in parse(text = x, srcfile = src): <text>:2:17: unexpected ','\n1: \n2: ???(pr.out$x[,1],\n                   ^\n",
     "output_type": "error",
     "traceback": [
      "Error in parse(text = x, srcfile = src): <text>:2:17: unexpected ','\n1: \n2: ???(pr.out$x[,1],\n                   ^\nTraceback:\n"
     ]
    }
   ],
   "source": [
    "\n",
    "???(pr.out$x[,1], pr.out$x[,2], xlab = \"PC1\", ylab = \"PC2\", col = ???$NewLeague, main = \"Top two PC directions\")\n"
   ]
  },
  {
   "cell_type": "markdown",
   "id": "fb0ff35e-3693-4c41-a961-6eba788fc8cd",
   "metadata": {},
   "source": [
    "<span style=\"color:red; font-weight:bold; font-size:xx-large;\">\n",
    "# Tutorial Part 2\n",
    "</span>\n"
   ]
  },
  {
   "cell_type": "markdown",
   "id": "5efd6377-ebd3-4dd2-87c1-fb55c4e9cf16",
   "metadata": {},
   "source": [
    "\n",
    "## Exercise: Perform K-Means Clustering\n",
    "\n",
    "Set the seed for random number generation to `11122019` to ensure reproducibility. Then, using the `kmeans` function, perform clustering on the `HittersClean` dataset to identify 2 clusters. Use `nstart = 20` to specify the number of random sets for initial cluster centers. Store the clustering output in the variable `km.out`.\n",
    "\n"
   ]
  },
  {
   "cell_type": "code",
   "execution_count": 12,
   "id": "66cbf51d-88cf-480e-b326-a099ae2104ab",
   "metadata": {},
   "outputs": [],
   "source": [
    "set.seed(11122019)\n",
    "\n",
    "# K-means clustering with 2 clusters\n",
    "km.out = ???(???, 2, nstart = 20)\n",
    "\n",
    "\n"
   ]
  },
  {
   "cell_type": "markdown",
   "id": "ea1c9863-9f9b-4576-8797-f964060f6a96",
   "metadata": {},
   "source": [
    "## Exercise: Determine the Optimal Number of Clusters\n",
    "\n",
    "Initialize a vector `sse` to store the sum of squares error (SSE) for each cluster solution, starting with `Inf` for the first index. For cluster numbers ranging from 2 to 20, perform k-means clustering on the `HittersClean` dataset with 20 starts to ensure stability. Store the total within-cluster sum of squares in the `sse` vector for each number of clusters.\n",
    "\n",
    "After completing the clustering, plot the `sse` vector to visualize the SSE for different numbers of clusters. Analyze the plot to determine the optimal number of clusters, typically where a significant decrease in SSE is observed (often referred to as the \"elbow\" in the plot).\n",
    "\n"
   ]
  },
  {
   "cell_type": "code",
   "execution_count": 13,
   "id": "b3ddf9d3-d030-4c57-9f53-2333d86c1de7",
   "metadata": {},
   "outputs": [
    {
     "data": {
      "image/png": "[encoded data removed]",
      "text/plain": [
       "plot without title"
      ]
     },
     "metadata": {
      "image/png": {
       "height": 420,
       "width": 420
      }
     },
     "output_type": "display_data"
    }
   ],
   "source": [
    "# How to analyze the optimal number of clusters\n",
    "\n",
    "sse <- c()\n",
    "sse[1] <- Inf\n",
    "\n",
    "for (?? in c(2:20)) {\n",
    "  set.seed(3)\n",
    "  ?? = kmeans (??, ind_cl, ?? = ??)\n",
    "  sse[ind_cl] = ??$tot.withinss\n",
    "}\n",
    "\n",
    "plot(sse)\n",
    "# Optimum 4-5 clusters"
   ]
  },
  {
   "cell_type": "markdown",
   "id": "9ff0b1c6-25fe-43e9-b1ae-0b9c06467e5d",
   "metadata": {},
   "source": [
    "\n",
    "\n",
    "## Exercise: Analyze the Impact of the Number of Starts in K-Means Clustering\n",
    "\n",
    "Set the random seed to `3` for reproducibility. First, run k-means clustering on the `HittersClean` dataset specifying 6 clusters and `nstart = 1`, then print the total within-cluster sum of squares (SSE) for this configuration. Next, repeat the clustering but with `nstart = 20`, and again print the SSE. Compare the SSEs from these two configurations to assess how the number of random starts (`nstart`) affects the stability and quality of the clustering solution.\n"
   ]
  },
  {
   "cell_type": "code",
   "execution_count": 14,
   "id": "573493d5-aaad-45a5-b324-5e8d89403898",
   "metadata": {},
   "outputs": [
    {
     "name": "stdout",
     "output_type": "stream",
     "text": [
      "[1] \"With nstart = 1\"\n"
     ]
    },
    {
     "data": {
      "text/html": [
       "114398085.457145"
      ],
      "text/latex": [
       "114398085.457145"
      ],
      "text/markdown": [
       "114398085.457145"
      ],
      "text/plain": [
       "[1] 114398085"
      ]
     },
     "metadata": {},
     "output_type": "display_data"
    },
    {
     "name": "stdout",
     "output_type": "stream",
     "text": [
      "[1] \"With nstart = 20\"\n"
     ]
    },
    {
     "data": {
      "text/html": [
       "100767697.172766"
      ],
      "text/latex": [
       "100767697.172766"
      ],
      "text/markdown": [
       "100767697.172766"
      ],
      "text/plain": [
       "[1] 100767697"
      ]
     },
     "metadata": {},
     "output_type": "display_data"
    }
   ],
   "source": [
    "# Analyzing how the number of starts work\n",
    "set.seed (3)\n",
    "print('With nstart = 1')\n",
    "km.out = ??? (???,6, nstart = 1)\n",
    "km.out$tot.withinss\n",
    "\n",
    "??('With nstart = 20')\n",
    "??? =kmeans (HittersClean,6, ?? = 20)\n",
    "km.out$???"
   ]
  }
 ],
 "metadata": {
  "kernelspec": {
   "display_name": "R",
   "language": "R",
   "name": "ir"
  },
  "language_info": {
   "codemirror_mode": "r",
   "file_extension": ".r",
   "mimetype": "text/x-r-source",
   "name": "R",
   "pygments_lexer": "r",
   "version": "3.6.3"
  }
 },
 "nbformat": 4,
 "nbformat_minor": 5
}

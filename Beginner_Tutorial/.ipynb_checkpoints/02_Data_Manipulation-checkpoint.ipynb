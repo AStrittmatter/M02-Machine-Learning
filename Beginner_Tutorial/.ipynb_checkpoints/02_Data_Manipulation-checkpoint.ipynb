{
 "cells": [
  {
   "cell_type": "markdown",
   "id": "1bf52692-8c55-41cc-b0ed-5abb4ee11671",
   "metadata": {},
   "source": [
    "# Mastering Data Manipulation in R: A Comprehensive Guide from Base R to Tidyverse\n",
    "\n",
    "\r\n",
    "Data manipulation is a crucial aspect of data science, allowing you to clean, transform, and prepare data for analysis. In R, data manipulation can be approached through various packages, with the most common being R Base and tidyverse (particularly dplyr). Here, we'll delve into examples of common data manipulation tasks using both approache\n",
    "s"
   ]
  },
  {
   "cell_type": "code",
   "execution_count": 2,
   "id": "4680790f-d2ec-4c23-9f4d-9b6fb24314d6",
   "metadata": {},
   "outputs": [
    {
     "name": "stderr",
     "output_type": "stream",
     "text": [
      "── \u001b[1mAttaching core tidyverse packages\u001b[22m ──────────────────────── tidyverse 2.0.0 ──\n",
      "\u001b[32m✔\u001b[39m \u001b[34mdplyr    \u001b[39m 1.1.4     \u001b[32m✔\u001b[39m \u001b[34mreadr    \u001b[39m 2.1.5\n",
      "\u001b[32m✔\u001b[39m \u001b[34mforcats  \u001b[39m 1.0.0     \u001b[32m✔\u001b[39m \u001b[34mstringr  \u001b[39m 1.5.1\n",
      "\u001b[32m✔\u001b[39m \u001b[34mggplot2  \u001b[39m 3.4.4     \u001b[32m✔\u001b[39m \u001b[34mtibble   \u001b[39m 3.2.1\n",
      "\u001b[32m✔\u001b[39m \u001b[34mlubridate\u001b[39m 1.9.3     \u001b[32m✔\u001b[39m \u001b[34mtidyr    \u001b[39m 1.3.1\n",
      "\u001b[32m✔\u001b[39m \u001b[34mpurrr    \u001b[39m 1.0.2     \n",
      "── \u001b[1mConflicts\u001b[22m ────────────────────────────────────────── tidyverse_conflicts() ──\n",
      "\u001b[31m✖\u001b[39m \u001b[34mdplyr\u001b[39m::\u001b[32mfilter()\u001b[39m masks \u001b[34mstats\u001b[39m::filter()\n",
      "\u001b[31m✖\u001b[39m \u001b[34mdplyr\u001b[39m::\u001b[32mlag()\u001b[39m    masks \u001b[34mstats\u001b[39m::lag()\n",
      "\u001b[36mℹ\u001b[39m Use the conflicted package (\u001b[3m\u001b[34m<http://conflicted.r-lib.org/>\u001b[39m\u001b[23m) to force all conflicts to become errors\n"
     ]
    }
   ],
   "source": [
    "# Load the tidyverse package, a collection of R packages for data science\n",
    "library(tidyverse)\n",
    "\n",
    "# Load the nycflights13 package, which includes the flights dataset\n",
    "library(nycflights13)\n"
   ]
  },
  {
   "cell_type": "markdown",
   "id": "284aa497-0ac1-4f49-82e1-4af71519d49f",
   "metadata": {},
   "source": [
    "## R Base Approach\n",
    "\n",
    "R Base functions are part of the standard R environment, requiring no additional packages for basic data manipulation tasks. Here's how you can perform common tasks with R Base:"
   ]
  },
  {
   "cell_type": "markdown",
   "id": "6c4a6592-c8ef-407a-a004-b41f3d4e1732",
   "metadata": {},
   "source": [
    "This code filters the `flights` dataset for flights on January 1st using the `subset` function, combining conditions with the `&` operator. It demonstrates conditional filtering and how to preview the filtered data with `head(subset_flights)`, showing the importance of data manipulation and exploration.\n"
   ]
  },
  {
   "cell_type": "code",
   "execution_count": 7,
   "id": "487d2566-7752-403a-baa8-2d8b994c188f",
   "metadata": {},
   "outputs": [],
   "source": [
    "# Filtering for flights on January 1st\n",
    "subset_flights <- subset(flights, month == 1 & day == 1)\n"
   ]
  },
  {
   "cell_type": "markdown",
   "id": "8d589c43-e722-4c10-b843-f3c243676079",
   "metadata": {},
   "source": [
    "This code renames the column 'year' to 'flight_year' in the flights dataset"
   ]
  },
  {
   "cell_type": "code",
   "execution_count": null,
   "id": "432fc688-e8d0-478e-991b-406cbd71ddb6",
   "metadata": {},
   "outputs": [],
   "source": [
    "# Renaming 'year' to 'flight_year'\n",
    "names(flights)[names(flights) == \"year\"] <- \"flight_year\""
   ]
  },
  {
   "cell_type": "markdown",
   "id": "84a5abb0-cbb0-4583-9458-2849252d8244",
   "metadata": {},
   "source": [
    "\n",
    "This code adds a new column gain to the flights dataset to calculate the minutes gained by subtracting the actual departure time from the scheduled departure time"
   ]
  },
  {
   "cell_type": "code",
   "execution_count": null,
   "id": "035b84fa-d552-45f4-b35a-7d19cb08cbc4",
   "metadata": {},
   "outputs": [],
   "source": [
    "# Adding a new column 'gain' to indicate minutes gained (scheduled dep - actual dep)\n",
    "flights$gain <- flights$sched_dep_time - flights$dep_time\n"
   ]
  },
  {
   "cell_type": "markdown",
   "id": "6f0bcaca-2f00-4916-b903-fae0ed16450a",
   "metadata": {},
   "source": [
    "This code selects only the columns `flight_year`, `month`, `day`, and `gain` from the `flights` dataset and stores the result in `selected_flights`. It shows how to subset data by columns, essential for focusing analysis on relevant variables."
   ]
  },
  {
   "cell_type": "code",
   "execution_count": null,
   "id": "5872478f-0311-4e83-a2c8-278937498e3e",
   "metadata": {},
   "outputs": [],
   "source": [
    "# Selecting only year, month, day, and gain\n",
    "selected_flights <- flights[c(\"flight_year\", \"month\", \"day\", \"gain\")]\n"
   ]
  },
  {
   "cell_type": "markdown",
   "id": "77c639f1-7f2e-4cc4-80cb-c03e0ea4d588",
   "metadata": {},
   "source": [
    "This code calculates the average departure delay for each carrier in the `flights` dataset using the `aggregate` function. It demonstrates grouping data by a specific variable (`carrier`) and applying a function (`mean`) to each group, while also handling missing values (`na.rm = TRUE`). This is key for summarizing data to identify patterns or differences among groups."
   ]
  },
  {
   "cell_type": "code",
   "execution_count": null,
   "id": "84a2227f-361f-46e0-bb39-484bb20c05bd",
   "metadata": {},
   "outputs": [],
   "source": [
    "# Calculating average departure delay by carrier using aggregate\n",
    "avg_delay_by_carrier_base <- aggregate(dep_delay ~ carrier, data = flights, FUN = mean, na.rm = TRUE)\n"
   ]
  },
  {
   "cell_type": "markdown",
   "id": "f5597872-f4de-46cd-900c-64581d0e877d",
   "metadata": {},
   "source": [
    "This code calculates the mean of the first 5 numeric columns for each row in the `flights` dataset using the `apply` function. It illustrates the use of `apply` to perform row-wise operations (`1` specifies rows) and how to handle missing values with `na.rm = TRUE`, teaching efficient data summarization techniques."
   ]
  },
  {
   "cell_type": "code",
   "execution_count": null,
   "id": "8d678079-c21e-4d5a-b5df-44dd51e40bec",
   "metadata": {},
   "outputs": [],
   "source": [
    "# Calculate the mean of the first 5 numeric columns across all rows\n",
    "apply(flights[, 1:5], 1, mean, na.rm = TRUE)\n"
   ]
  },
  {
   "cell_type": "markdown",
   "id": "7796b28b-8959-4f57-b3ec-eac571ad40a5",
   "metadata": {},
   "source": [
    "## Tidyverse/dplyr Approach\r\n",
    "\n",
    "The tidyverse, particularly the dplyr package, offers a more intuitive syntax for data manipulation through a set of functions that work seamlessly with data frames and tibbles."
   ]
  },
  {
   "cell_type": "markdown",
   "id": "f64f0f71-9774-424c-a5e6-3e2aa963b791",
   "metadata": {},
   "source": [
    "\n",
    "This code uses the dplyr package's filter function to select flights from the flights dataset that occurred on January 1s"
   ]
  },
  {
   "cell_type": "code",
   "execution_count": 5,
   "id": "93b77d0f-d6f7-400a-af81-f5e4d3c4ecdc",
   "metadata": {},
   "outputs": [],
   "source": [
    "# Filtering for flights on January 1st\n",
    "filtered_flights <- flights %>% filter(month == 1, day == 1)\n"
   ]
  },
  {
   "cell_type": "markdown",
   "id": "45ecfb3b-7cb5-4cbe-9238-ae65bf46275d",
   "metadata": {},
   "source": [
    "The %>% symbol is known as the pipe operator.\r\n",
    "It is a key feature of the tidyverse, introduced by the magrittr package and widely used in dplyr and other tidyverse packages.\r\n",
    "The pipe operator allows you to pass the result of one expression as the first argument to the next expression, facilitating a readable and intuitive workflow.\r\n",
    "It enables chaining of functions in a way that is easier to read and write compared to nesting function calls"
   ]
  },
  {
   "cell_type": "code",
   "execution_count": null,
   "id": "4c1fa826-66d4-490e-8bc0-49215172b82a",
   "metadata": {},
   "outputs": [],
   "source": [
    "# Renaming 'year' to 'flight_year'\n",
    "renamed_flights <- flights %>% rename(flight_year = year)\n"
   ]
  },
  {
   "cell_type": "code",
   "execution_count": null,
   "id": "dd8d1eec-3033-4e3e-bbc6-9e73116c0035",
   "metadata": {},
   "outputs": [],
   "source": [
    "# Adding a new column 'gain'\n",
    "flights <- flights %>% mutate(gain = sched_dep_time - dep_time)\n"
   ]
  },
  {
   "cell_type": "code",
   "execution_count": null,
   "id": "fc8f2275-ce6f-4df6-96fd-c9d5a4edb7b4",
   "metadata": {},
   "outputs": [],
   "source": [
    "# Selecting specific columns\n",
    "selected_flights <- flights %>% select(flight_year, month, day, gain)\n"
   ]
  },
  {
   "cell_type": "markdown",
   "id": "d528c8f9-89c6-43e7-a057-e213f0312e02",
   "metadata": {},
   "source": [
    "This code calculates the average departure delay by carrier in the `flights` dataset using `dplyr` functions. It demonstrates chaining operations with the `%>%` operator, grouping data by `carrier` with `group_by`, and then calculating the mean departure delay for each group using `summarize`. The `na.rm = TRUE` argument excludes missing values from the calculation. This method is crucial for analyzing and understanding the performance of different carriers, providing insights into delays. The `print` function is used to display the results, emphasizing the importance of presenting summarized data for analysis or reporting."
   ]
  },
  {
   "cell_type": "code",
   "execution_count": 3,
   "id": "cc934a78-faa5-4d37-af11-b09bbd5b5454",
   "metadata": {},
   "outputs": [
    {
     "name": "stdout",
     "output_type": "stream",
     "text": [
      "\u001b[90m# A tibble: 16 × 2\u001b[39m\n",
      "   carrier avg_dep_delay\n",
      "   \u001b[3m\u001b[90m<chr>\u001b[39m\u001b[23m           \u001b[3m\u001b[90m<dbl>\u001b[39m\u001b[23m\n",
      "\u001b[90m 1\u001b[39m 9E              16.7 \n",
      "\u001b[90m 2\u001b[39m AA               8.59\n",
      "\u001b[90m 3\u001b[39m AS               5.80\n",
      "\u001b[90m 4\u001b[39m B6              13.0 \n",
      "\u001b[90m 5\u001b[39m DL               9.26\n",
      "\u001b[90m 6\u001b[39m EV              20.0 \n",
      "\u001b[90m 7\u001b[39m F9              20.2 \n",
      "\u001b[90m 8\u001b[39m FL              18.7 \n",
      "\u001b[90m 9\u001b[39m HA               4.90\n",
      "\u001b[90m10\u001b[39m MQ              10.6 \n",
      "\u001b[90m11\u001b[39m OO              12.6 \n",
      "\u001b[90m12\u001b[39m UA              12.1 \n",
      "\u001b[90m13\u001b[39m US               3.78\n",
      "\u001b[90m14\u001b[39m VX              12.9 \n",
      "\u001b[90m15\u001b[39m WN              17.7 \n",
      "\u001b[90m16\u001b[39m YV              19.0 \n"
     ]
    }
   ],
   "source": [
    "# Calculating average departure delay by carrier\n",
    "avg_delay_by_carrier <- flights %>%\n",
    "  group_by(carrier) %>%\n",
    "  summarize(avg_dep_delay = mean(dep_delay, na.rm = TRUE))\n",
    "\n",
    "print(avg_delay_by_carrier)"
   ]
  },
  {
   "cell_type": "code",
   "execution_count": null,
   "id": "c9e65a6c-eb0d-4a14-b343-b10447470cbc",
   "metadata": {},
   "outputs": [],
   "source": []
  }
 ],
 "metadata": {
  "kernelspec": {
   "display_name": "R",
   "language": "R",
   "name": "ir"
  },
  "language_info": {
   "codemirror_mode": "r",
   "file_extension": ".r",
   "mimetype": "text/x-r-source",
   "name": "R",
   "pygments_lexer": "r",
   "version": "3.6.3"
  }
 },
 "nbformat": 4,
 "nbformat_minor": 5
}
